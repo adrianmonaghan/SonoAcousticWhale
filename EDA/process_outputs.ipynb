{
 "cells": [
  {
   "cell_type": "code",
   "execution_count": 2,
   "id": "initial_id",
   "metadata": {
    "collapsed": true,
    "ExecuteTime": {
     "end_time": "2024-04-04T16:52:48.711949800Z",
     "start_time": "2024-04-04T16:52:47.537454300Z"
    }
   },
   "outputs": [],
   "source": [
    "import pandas as pd\n",
    "import numpy as np\n",
    "import matplotlib.pyplot as plt\n",
    "import os\n",
    "import shutil\n",
    "from pathlib import Path"
   ]
  },
  {
   "cell_type": "code",
   "outputs": [],
   "source": [
    "for root, dirs, files in os.walk(\"D:/SonarData/Spectrograms/more2\"):\n",
    "    root = root.replace(\"\\\\\", \"/\")\n",
    "    classification = root.split(\"/\")[-1]\n",
    "    for file in files:\n",
    "        if file.endswith('.png'):\n",
    "            Path(f\"D:/SonarData/flat_spectrograms/{classification}\").mkdir(parents=True, exist_ok=True)\n",
    "            shutil.copyfile(f\"{root}/{file}\", f\"D:/SonarData/flat_spectrograms/{classification}/{file}\")"
   ],
   "metadata": {
    "collapsed": false,
    "ExecuteTime": {
     "end_time": "2024-04-04T16:53:41.167761600Z",
     "start_time": "2024-04-04T16:52:49.465089Z"
    }
   },
   "id": "55897e2fa82ce9f3",
   "execution_count": 3
  },
  {
   "cell_type": "code",
   "outputs": [],
   "source": [
    "downloaded_files = os.listdir(\"D:/SonarData/flat\")\n",
    "with open(\"file_manifest.txt\", \"a\") as f:\n",
    "    f.writelines([i+\"\\n\" for i in downloaded_files])"
   ],
   "metadata": {
    "collapsed": false,
    "ExecuteTime": {
     "end_time": "2024-04-04T16:53:53.571574300Z",
     "start_time": "2024-04-04T16:53:53.550634900Z"
    }
   },
   "id": "b7ccfcbf33ffdc82",
   "execution_count": 4
  },
  {
   "cell_type": "code",
   "outputs": [],
   "source": [],
   "metadata": {
    "collapsed": false
   },
   "id": "61b234d9e951c878"
  }
 ],
 "metadata": {
  "kernelspec": {
   "display_name": "Python 3",
   "language": "python",
   "name": "python3"
  },
  "language_info": {
   "codemirror_mode": {
    "name": "ipython",
    "version": 2
   },
   "file_extension": ".py",
   "mimetype": "text/x-python",
   "name": "python",
   "nbconvert_exporter": "python",
   "pygments_lexer": "ipython2",
   "version": "2.7.6"
  }
 },
 "nbformat": 4,
 "nbformat_minor": 5
}
