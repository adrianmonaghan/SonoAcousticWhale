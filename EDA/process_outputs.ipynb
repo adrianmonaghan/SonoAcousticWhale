{
 "cells": [
  {
   "cell_type": "code",
   "execution_count": 2,
   "id": "initial_id",
   "metadata": {
    "ExecuteTime": {
     "end_time": "2024-04-04T16:52:48.711949800Z",
     "start_time": "2024-04-04T16:52:47.537454300Z"
    }
   },
   "outputs": [],
   "source": [
    "import pandas as pd\n",
    "import numpy as np\n",
    "import matplotlib.pyplot as plt\n",
    "import os\n",
    "import shutil\n",
    "from pathlib import Path"
   ]
  },
  {
   "cell_type": "code",
   "execution_count": 3,
   "id": "55897e2fa82ce9f3",
   "metadata": {
    "ExecuteTime": {
     "end_time": "2024-04-04T16:53:41.167761600Z",
     "start_time": "2024-04-04T16:52:49.465089Z"
    },
    "collapsed": false,
    "jupyter": {
     "outputs_hidden": false
    }
   },
   "outputs": [],
   "source": [
    "for root, dirs, files in os.walk(\"D:/SonarData/Spectrograms/more3\"):\n",
    "    root = root.replace(\"\\\\\", \"/\")\n",
    "    classification = root.split(\"/\")[-1]\n",
    "    for file in files:\n",
    "        if file.endswith('.png'):\n",
    "            Path(f\"D:/SonarData/flat_spectrograms/{classification}\").mkdir(parents=True, exist_ok=True)\n",
    "            shutil.copyfile(f\"{root}/{file}\", f\"D:/SonarData/flat_spectrograms/{classification}/{file}\")"
   ]
  },
  {
   "cell_type": "code",
   "execution_count": 4,
   "id": "b7ccfcbf33ffdc82",
   "metadata": {
    "ExecuteTime": {
     "end_time": "2024-04-04T16:53:53.571574300Z",
     "start_time": "2024-04-04T16:53:53.550634900Z"
    },
    "collapsed": false,
    "jupyter": {
     "outputs_hidden": false
    }
   },
   "outputs": [],
   "source": [
    "downloaded_files = os.listdir(\"D:/SonarData/flat\")\n",
    "with open(\"file_manifest.txt\", \"a\") as f:\n",
    "    f.writelines([i+\"\\n\" for i in downloaded_files])"
   ]
  },
  {
   "cell_type": "code",
   "execution_count": null,
   "id": "61b234d9e951c878",
   "metadata": {
    "collapsed": false,
    "jupyter": {
     "outputs_hidden": false
    }
   },
   "outputs": [],
   "source": []
  }
 ],
 "metadata": {
  "kernelspec": {
   "display_name": "Python 3 (ipykernel)",
   "language": "python",
   "name": "python3"
  },
  "language_info": {
   "codemirror_mode": {
    "name": "ipython",
    "version": 3
   },
   "file_extension": ".py",
   "mimetype": "text/x-python",
   "name": "python",
   "nbconvert_exporter": "python",
   "pygments_lexer": "ipython3",
   "version": "3.10.13"
  }
 },
 "nbformat": 4,
 "nbformat_minor": 5
}
