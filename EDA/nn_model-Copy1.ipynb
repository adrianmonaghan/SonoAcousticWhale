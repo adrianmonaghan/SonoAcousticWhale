{
 "cells": [
  {
   "cell_type": "code",
   "execution_count": 1,
   "metadata": {
    "ExecuteTime": {
     "end_time": "2024-04-02T19:04:14.942345Z",
     "start_time": "2024-04-02T19:04:11.693844Z"
    },
    "colab": {
     "base_uri": "https://localhost:8080/"
    },
    "id": "kcsHiWcPZ8A1",
    "outputId": "034c86ce-5e8d-4a9e-c122-351466f50a92",
    "scrolled": true
   },
   "outputs": [],
   "source": [
    "import numpy as np\n",
    "import torch\n",
    "from torch import nn\n",
    "import torchvision\n",
    "from torchvision import transforms\n",
    "from torchvision.datasets import ImageFolder\n",
    "from torchvision.transforms import ToTensor\n",
    "from torchvision.models import resnet18\n",
    "import time\n",
    "# ! pip install git+https://github.com/davidbau/baukit\n",
    "# ! pip install torchinfo tqdm matplotlib\n",
    "# ! unzip -q flat_spectrograms.zip\n",
    "# ! unzip -q train_val_test.zip"
   ]
  },
  {
   "cell_type": "code",
   "execution_count": 2,
   "metadata": {
    "ExecuteTime": {
     "end_time": "2024-04-02T19:04:20.083090Z",
     "start_time": "2024-04-02T19:04:19.204812Z"
    },
    "colab": {
     "base_uri": "https://localhost:8080/",
     "height": 400
    },
    "id": "9yc5BDZiZ8A3",
    "outputId": "345c33ae-2895-4845-8a9b-addbb8b96761"
   },
   "outputs": [
    {
     "name": "stdout",
     "output_type": "stream",
     "text": [
      "cuda\n"
     ]
    }
   ],
   "source": [
    "from baukit import show\n",
    "device = torch.device(\"cuda\" if torch.cuda.is_available() else \"cpu\")\n",
    "print(device)\n",
    "train_path = \"/scratch/monaghan.ad/data/train_val_test1/train\" # \"data/spectrograms/train\"\n",
    "val_path = \"/scratch/monaghan.ad/data/train_val_test1/val\"\n",
    "# test_path = \"mnist_4440/test\"\n",
    "# train_set = ImageFolder(train_path)\n",
    "# print(\"Number of images in the training set =\", len(train_set))"
   ]
  },
  {
   "cell_type": "code",
   "execution_count": 3,
   "metadata": {
    "colab": {
     "base_uri": "https://localhost:8080/",
     "height": 845
    },
    "id": "YB4Ee8UQZ8A5",
    "outputId": "2e7b7a05-dfdd-4cf6-dd3d-30310d2f955a"
   },
   "outputs": [],
   "source": [
    "# idx = 4440\n",
    "# item = train_set[idx]\n",
    "# print(f\"{idx}th item is a pair\", item)\n",
    "\n",
    "# img, label = train_set[idx]\n",
    "# show(img)\n",
    "# print(f\"{label=} ({train_set.classes[label]})\")"
   ]
  },
  {
   "cell_type": "code",
   "execution_count": 4,
   "metadata": {},
   "outputs": [
    {
     "name": "stderr",
     "output_type": "stream",
     "text": [
      "/home/monaghan.ad/ml/lib/python3.11/site-packages/torchvision/transforms/v2/_deprecated.py:41: UserWarning: The transform `ToTensor()` is deprecated and will be removed in a future release. Instead, please use `v2.Compose([v2.ToImage(), v2.ToDtype(torch.float32, scale=True)])`.\n",
      "  warnings.warn(\n"
     ]
    }
   ],
   "source": [
    "from torchvision.transforms import (\n",
    "    RandomCrop,\n",
    "    RandomHorizontalFlip,\n",
    "    RandomVerticalFlip,\n",
    "    RandomRotation,\n",
    "    Normalize,\n",
    ")\n",
    "from torchvision.transforms import v2\n",
    "\n",
    "img_size = 256\n",
    "\n",
    "base_augs = [\n",
    "    v2.ToTensor(),\n",
    "    v2.ToDtype(torch.float32),\n",
    "    v2.Grayscale(num_output_channels=1),\n",
    "    v2.Resize((img_size, img_size)),\n",
    "    v2.Normalize(mean=[0.1723], std=[0.1165]),  # note, these values are calculated from 10k image from the training set. This should likely be a learned parameter though because different images have different sound profiles\n",
    "]\n",
    "\n",
    "train_aug = transforms.Compose(\n",
    "    [\n",
    "        *base_augs,\n",
    "        # v2.RandomRotation(5),\n",
    "        v2.RandomCrop(size=256, padding=20),  # need to be weary of cutting off a lot of whales at the left side\n",
    "    ]\n",
    ")"
   ]
  },
  {
   "cell_type": "code",
   "execution_count": 5,
   "metadata": {
    "ExecuteTime": {
     "end_time": "2024-04-02T19:04:21.735775Z",
     "start_time": "2024-04-02T19:04:21.538733Z"
    },
    "id": "zkAQ6UWnZ8A5"
   },
   "outputs": [],
   "source": [
    "from torchvision import transforms\n",
    "\n",
    "class mapping_transform(object):\n",
    "  def __init__(self, num_labels):\n",
    "    self.num_labels = num_labels\n",
    "\n",
    "  def __call__(self, labels):    \n",
    "    # generate new random label\n",
    "    # new_label = np.array([mapping[l] for l in labels])\n",
    "    return mapping[labels]#new_label\n",
    "\n",
    "mapping = {0: 0, 1: 0, 2: 1, 3: 3, 4: 0, 5: 2}\n",
    "\n",
    "img_size = 256\n",
    "train_set = torchvision.datasets.ImageFolder(\n",
    "    train_path, \n",
    "    transform=train_aug,\n",
    "    target_transform=mapping_transform(num_labels=4)#transforms.Lambda(lambda y: mapping_transform(y)),\n",
    ")\n",
    "\n",
    "val_set = torchvision.datasets.ImageFolder(\n",
    "    val_path, \n",
    "    transform=transforms.Compose(base_augs),\n",
    "    target_transform=mapping_transform(num_labels=4)#transforms.Lambda(lambda y: mapping_transform(y)),\n",
    ")\n",
    "\n",
    "train_set.targets = [mapping[t] for t in train_set.targets]\n",
    "val_set.targets = [mapping[t] for t in val_set.targets]\n",
    "train_set.classes = [\"Background\", \"Fish\", \"Vessel\", \"Mn\"]  # @Brandon seems like before you had Vessel at 3 and Mn at 2 but the labels were off, not sure\n",
    "val_set.classes = [\"Background\", \"Fish\", \"Vessel\", \"Mn\"]"
   ]
  },
  {
   "cell_type": "code",
   "execution_count": 6,
   "metadata": {},
   "outputs": [
    {
     "data": {
      "text/plain": [
       "['Background', 'Fish', 'Vessel', 'Mn']"
      ]
     },
     "execution_count": 6,
     "metadata": {},
     "output_type": "execute_result"
    }
   ],
   "source": [
    "train_set.classes"
   ]
  },
  {
   "cell_type": "code",
   "execution_count": 7,
   "metadata": {},
   "outputs": [
    {
     "data": {
      "text/plain": [
       "['Background', 'Fish', 'Vessel', 'Mn']"
      ]
     },
     "execution_count": 7,
     "metadata": {},
     "output_type": "execute_result"
    }
   ],
   "source": [
    "val_set.classes"
   ]
  },
  {
   "cell_type": "code",
   "execution_count": 8,
   "metadata": {},
   "outputs": [
    {
     "data": {
      "text/plain": [
       "{0, 1, 2, 3}"
      ]
     },
     "execution_count": 8,
     "metadata": {},
     "output_type": "execute_result"
    }
   ],
   "source": [
    "set(train_set.targets)"
   ]
  },
  {
   "cell_type": "code",
   "execution_count": null,
   "metadata": {},
   "outputs": [],
   "source": []
  },
  {
   "cell_type": "code",
   "execution_count": 9,
   "metadata": {
    "ExecuteTime": {
     "end_time": "2024-04-02T19:07:49.617948Z",
     "start_time": "2024-04-02T19:07:49.538924Z"
    },
    "id": "VN5Y8S5IZ8A5"
   },
   "outputs": [
    {
     "data": {
      "text/plain": [
       "(56954, 8136)"
      ]
     },
     "execution_count": 9,
     "metadata": {},
     "output_type": "execute_result"
    }
   ],
   "source": [
    "img, label = train_set[1189]\n",
    "len(train_set), len(val_set)\n",
    "# now the image is a tensor\n",
    "# img.resize((3, 256, 256))\n",
    "# img#.shape\n",
    "# torchvision.transforms.Resize((256, 256))(img)"
   ]
  },
  {
   "cell_type": "code",
   "execution_count": 10,
   "metadata": {},
   "outputs": [],
   "source": [
    "# # m = torch.hub.load('pytorch/vision:v0.10.0', 'resnet18', pretrained=True)\n",
    "# summary(m, (1, 3, 256, 256))"
   ]
  },
  {
   "cell_type": "code",
   "execution_count": null,
   "metadata": {},
   "outputs": [],
   "source": []
  },
  {
   "cell_type": "code",
   "execution_count": 11,
   "metadata": {
    "id": "oPYBeNEqZ8A6"
   },
   "outputs": [],
   "source": [
    "train_loader = torch.utils.data.DataLoader(\n",
    "    train_set,\n",
    "    batch_size=400,\n",
    "    shuffle=True,\n",
    "    num_workers=24,\n",
    "    pin_memory=True,\n",
    "    \n",
    ")\n",
    "\n",
    "val_loader = torch.utils.data.DataLoader(\n",
    "    val_set,\n",
    "    batch_size=400,\n",
    "    shuffle=True,\n",
    "    num_workers=24,\n",
    "    pin_memory=True,\n",
    ")"
   ]
  },
  {
   "cell_type": "code",
   "execution_count": 12,
   "metadata": {
    "ExecuteTime": {
     "end_time": "2024-04-02T18:57:08.404109Z",
     "start_time": "2024-04-02T18:57:08.396847Z"
    },
    "colab": {
     "base_uri": "https://localhost:8080/"
    },
    "id": "jlNmDJEXZ8A6",
    "outputId": "9821ca71-7c8c-4ab6-bd9c-510a56ff02ac"
   },
   "outputs": [
    {
     "name": "stdout",
     "output_type": "stream",
     "text": [
      "images.shape=torch.Size([400, 1, 256, 256]), labels.shape=torch.Size([400])\n"
     ]
    }
   ],
   "source": [
    "images, labels = next(train_loader.__iter__())\n",
    "print(f\"{images.shape=}, {labels.shape=}\")"
   ]
  },
  {
   "cell_type": "code",
   "execution_count": 13,
   "metadata": {
    "id": "giX3497UZ8A6"
   },
   "outputs": [],
   "source": [
    "# ## Some helper functions to view network parameters\n",
    "from torchinfo import summary\n",
    "\n",
    "def view_network_shapes(model, input_shape):\n",
    "    print(summary(model, input_size=input_shape))\n",
    "\n",
    "def view_network_parameters(model):\n",
    "    # Visualise the number of parameters\n",
    "    tensor_list = list(model.state_dict().items())\n",
    "    total_parameters = 0\n",
    "    print(\"Model Summary\\n\")\n",
    "    for layer_tensor_name, tensor in tensor_list:\n",
    "        total_parameters += int(torch.numel(tensor))\n",
    "        print(\"{}: {} elements\".format(layer_tensor_name, torch.numel(tensor)))\n",
    "    print(f\"\\nTotal Trainable Parameters: {total_parameters}!\")"
   ]
  },
  {
   "cell_type": "code",
   "execution_count": 14,
   "metadata": {},
   "outputs": [
    {
     "name": "stdout",
     "output_type": "stream",
     "text": [
      "==========================================================================================\n",
      "Layer (type:depth-idx)                   Output Shape              Param #\n",
      "==========================================================================================\n",
      "ResNet                                   [1, 4]                    --\n",
      "├─Conv2d: 1-1                            [1, 64, 128, 128]         3,136\n",
      "├─BatchNorm2d: 1-2                       [1, 64, 128, 128]         128\n",
      "├─ReLU: 1-3                              [1, 64, 128, 128]         --\n",
      "├─MaxPool2d: 1-4                         [1, 64, 64, 64]           --\n",
      "├─Sequential: 1-5                        [1, 64, 64, 64]           --\n",
      "│    └─BasicBlock: 2-1                   [1, 64, 64, 64]           --\n",
      "│    │    └─Conv2d: 3-1                  [1, 64, 64, 64]           36,864\n",
      "│    │    └─BatchNorm2d: 3-2             [1, 64, 64, 64]           128\n",
      "│    │    └─ReLU: 3-3                    [1, 64, 64, 64]           --\n",
      "│    │    └─Conv2d: 3-4                  [1, 64, 64, 64]           36,864\n",
      "│    │    └─BatchNorm2d: 3-5             [1, 64, 64, 64]           128\n",
      "│    │    └─ReLU: 3-6                    [1, 64, 64, 64]           --\n",
      "│    └─BasicBlock: 2-2                   [1, 64, 64, 64]           --\n",
      "│    │    └─Conv2d: 3-7                  [1, 64, 64, 64]           36,864\n",
      "│    │    └─BatchNorm2d: 3-8             [1, 64, 64, 64]           128\n",
      "│    │    └─ReLU: 3-9                    [1, 64, 64, 64]           --\n",
      "│    │    └─Conv2d: 3-10                 [1, 64, 64, 64]           36,864\n",
      "│    │    └─BatchNorm2d: 3-11            [1, 64, 64, 64]           128\n",
      "│    │    └─ReLU: 3-12                   [1, 64, 64, 64]           --\n",
      "├─Sequential: 1-6                        [1, 128, 32, 32]          --\n",
      "│    └─BasicBlock: 2-3                   [1, 128, 32, 32]          --\n",
      "│    │    └─Conv2d: 3-13                 [1, 128, 32, 32]          73,728\n",
      "│    │    └─BatchNorm2d: 3-14            [1, 128, 32, 32]          256\n",
      "│    │    └─ReLU: 3-15                   [1, 128, 32, 32]          --\n",
      "│    │    └─Conv2d: 3-16                 [1, 128, 32, 32]          147,456\n",
      "│    │    └─BatchNorm2d: 3-17            [1, 128, 32, 32]          256\n",
      "│    │    └─Sequential: 3-18             [1, 128, 32, 32]          8,448\n",
      "│    │    └─ReLU: 3-19                   [1, 128, 32, 32]          --\n",
      "│    └─BasicBlock: 2-4                   [1, 128, 32, 32]          --\n",
      "│    │    └─Conv2d: 3-20                 [1, 128, 32, 32]          147,456\n",
      "│    │    └─BatchNorm2d: 3-21            [1, 128, 32, 32]          256\n",
      "│    │    └─ReLU: 3-22                   [1, 128, 32, 32]          --\n",
      "│    │    └─Conv2d: 3-23                 [1, 128, 32, 32]          147,456\n",
      "│    │    └─BatchNorm2d: 3-24            [1, 128, 32, 32]          256\n",
      "│    │    └─ReLU: 3-25                   [1, 128, 32, 32]          --\n",
      "├─Sequential: 1-7                        [1, 256, 16, 16]          --\n",
      "│    └─BasicBlock: 2-5                   [1, 256, 16, 16]          --\n",
      "│    │    └─Conv2d: 3-26                 [1, 256, 16, 16]          294,912\n",
      "│    │    └─BatchNorm2d: 3-27            [1, 256, 16, 16]          512\n",
      "│    │    └─ReLU: 3-28                   [1, 256, 16, 16]          --\n",
      "│    │    └─Conv2d: 3-29                 [1, 256, 16, 16]          589,824\n",
      "│    │    └─BatchNorm2d: 3-30            [1, 256, 16, 16]          512\n",
      "│    │    └─Sequential: 3-31             [1, 256, 16, 16]          33,280\n",
      "│    │    └─ReLU: 3-32                   [1, 256, 16, 16]          --\n",
      "│    └─BasicBlock: 2-6                   [1, 256, 16, 16]          --\n",
      "│    │    └─Conv2d: 3-33                 [1, 256, 16, 16]          589,824\n",
      "│    │    └─BatchNorm2d: 3-34            [1, 256, 16, 16]          512\n",
      "│    │    └─ReLU: 3-35                   [1, 256, 16, 16]          --\n",
      "│    │    └─Conv2d: 3-36                 [1, 256, 16, 16]          589,824\n",
      "│    │    └─BatchNorm2d: 3-37            [1, 256, 16, 16]          512\n",
      "│    │    └─ReLU: 3-38                   [1, 256, 16, 16]          --\n",
      "├─Sequential: 1-8                        [1, 512, 8, 8]            --\n",
      "│    └─BasicBlock: 2-7                   [1, 512, 8, 8]            --\n",
      "│    │    └─Conv2d: 3-39                 [1, 512, 8, 8]            1,179,648\n",
      "│    │    └─BatchNorm2d: 3-40            [1, 512, 8, 8]            1,024\n",
      "│    │    └─ReLU: 3-41                   [1, 512, 8, 8]            --\n",
      "│    │    └─Conv2d: 3-42                 [1, 512, 8, 8]            2,359,296\n",
      "│    │    └─BatchNorm2d: 3-43            [1, 512, 8, 8]            1,024\n",
      "│    │    └─Sequential: 3-44             [1, 512, 8, 8]            132,096\n",
      "│    │    └─ReLU: 3-45                   [1, 512, 8, 8]            --\n",
      "│    └─BasicBlock: 2-8                   [1, 512, 8, 8]            --\n",
      "│    │    └─Conv2d: 3-46                 [1, 512, 8, 8]            2,359,296\n",
      "│    │    └─BatchNorm2d: 3-47            [1, 512, 8, 8]            1,024\n",
      "│    │    └─ReLU: 3-48                   [1, 512, 8, 8]            --\n",
      "│    │    └─Conv2d: 3-49                 [1, 512, 8, 8]            2,359,296\n",
      "│    │    └─BatchNorm2d: 3-50            [1, 512, 8, 8]            1,024\n",
      "│    │    └─ReLU: 3-51                   [1, 512, 8, 8]            --\n",
      "├─AdaptiveAvgPool2d: 1-9                 [1, 512, 1, 1]            --\n",
      "├─Linear: 1-10                           [1, 4]                    2,052\n",
      "==========================================================================================\n",
      "Total params: 11,172,292\n",
      "Trainable params: 11,172,292\n",
      "Non-trainable params: 0\n",
      "Total mult-adds (Units.GIGABYTES): 2.27\n",
      "==========================================================================================\n",
      "Input size (MB): 0.26\n",
      "Forward/backward pass size (MB): 51.90\n",
      "Params size (MB): 44.69\n",
      "Estimated Total Size (MB): 96.86\n",
      "==========================================================================================\n"
     ]
    }
   ],
   "source": [
    "model = resnet18()\n",
    "model.conv1 = nn.Conv2d(1, 64, kernel_size=(7,7), stride=(2,2), padding=(3,3), bias=False)\n",
    "model.fc = nn.Linear(512, 4, bias=True)\n",
    "model = model.to(device)\n",
    "view_network_shapes(model, img[None].shape)"
   ]
  },
  {
   "cell_type": "code",
   "execution_count": 15,
   "metadata": {
    "id": "xlSWSi7wZ8A7"
   },
   "outputs": [],
   "source": [
    "# training the model\n",
    "def train_model(model, train_loader, loss_fn, optimizer):\n",
    "    model.train()\n",
    "    # Initiate a loss monitor\n",
    "    train_loss = []\n",
    "    correct_predictions = 0\n",
    "    for images, labels in train_loader:\n",
    "        images = images.to(device)\n",
    "        labels = labels.to(device)\n",
    "        # predict the class\n",
    "        predicted = model(images)\n",
    "        loss = loss_fn(predicted, labels)\n",
    "        correct_predictions += (predicted.argmax(dim=1) == labels).sum().item()\n",
    "\n",
    "        # Backward pass (back propagation)\n",
    "        optimizer.zero_grad()\n",
    "        loss.backward()\n",
    "        optimizer.step()\n",
    "\n",
    "        train_loss.append(loss.item())\n",
    "\n",
    "    return np.mean(train_loss), correct_predictions / len(train_loader.dataset)\n",
    "\n",
    "\n",
    "# evaluating the model\n",
    "@torch.inference_mode()  # understand what torch.inference_mode() or torch.no_grad() does\n",
    "def evaluate_model(model, val_loader, loss_fn, return_confusion_matrix=False):\n",
    "    model.eval()\n",
    "    # Initiate a loss monitor\n",
    "    val_loss = []\n",
    "    correct_predictions = 0\n",
    "\n",
    "    if return_confusion_matrix:\n",
    "        confusion_matrix = torch.zeros(\n",
    "            len(val_loader.dataset.classes), len(val_loader.dataset.classes)\n",
    "        )\n",
    "\n",
    "    for images, labels in val_loader:\n",
    "        images = images.to(device)\n",
    "        labels = labels.to(device)\n",
    "        # predict the class\n",
    "        predicted = model(images)\n",
    "        loss = loss_fn(predicted, labels)\n",
    "        correct_predictions += (predicted.argmax(dim=1) == labels).sum().item()\n",
    "\n",
    "        if return_confusion_matrix:\n",
    "            for t, p in zip(labels.view(-1), predicted.argmax(dim=1).view(-1)):\n",
    "                confusion_matrix[t.long(), p.long()] += 1\n",
    "\n",
    "        val_loss.append(loss.item())\n",
    "\n",
    "    val_loss = np.mean(val_loss)\n",
    "    val_acc = correct_predictions / len(val_loader.dataset)\n",
    "\n",
    "    if return_confusion_matrix:\n",
    "        return val_loss, val_acc, confusion_matrix\n",
    "    else:\n",
    "        return val_loss, val_acc"
   ]
  },
  {
   "cell_type": "code",
   "execution_count": 16,
   "metadata": {},
   "outputs": [
    {
     "data": {
      "text/plain": [
       "['Background', 'Fish', 'Vessel', 'Mn']"
      ]
     },
     "execution_count": 16,
     "metadata": {},
     "output_type": "execute_result"
    }
   ],
   "source": [
    "train_set.classes"
   ]
  },
  {
   "cell_type": "code",
   "execution_count": 17,
   "metadata": {
    "colab": {
     "base_uri": "https://localhost:8080/",
     "height": 488
    },
    "id": "jR2MS1qDHSHo",
    "outputId": "571f071f-c8f4-40f6-fc9e-0f40104d6313"
   },
   "outputs": [
    {
     "name": "stderr",
     "output_type": "stream",
     "text": [
      "100%|██████████| 143/143 [00:15<00:00,  9.21it/s]\n"
     ]
    },
    {
     "data": {
      "text/plain": [
       "Text(0.5, 1.0, 'Distribution of Classes in Training Set')"
      ]
     },
     "execution_count": 17,
     "metadata": {},
     "output_type": "execute_result"
    },
    {
     "data": {
      "image/png": "[encoded data removed]",
      "text/plain": [
       "<Figure size 640x480 with 1 Axes>"
      ]
     },
     "metadata": {},
     "output_type": "display_data"
    }
   ],
   "source": [
    "# plot the data distribution in the training set\n",
    "\n",
    "from tqdm import tqdm\n",
    "from matplotlib import pyplot as plt\n",
    "\n",
    "counter = torch.zeros(len(train_set.classes))\n",
    "for images, labels in tqdm(train_loader):\n",
    "    for label in labels:\n",
    "        counter[label] += 1\n",
    "\n",
    "##########################################################\n",
    "# **Exercise 4.2.1.2**\n",
    "# TODO: Plot the distribution of classes in the training set as a bar plot\n",
    "# https://matplotlib.org/stable/api/_as_gen/matplotlib.pyplot.bar.html\n",
    "plt.bar(list(range(len(counter))), counter)\n",
    "plt.xticks(range(4))\n",
    "plt.ylabel(\"Frequency\")\n",
    "plt.title(\"Distribution of Classes in Training Set\")\n",
    "\n",
    "# raise NotImplementedError\n",
    "\n",
    "##########################################################"
   ]
  },
  {
   "cell_type": "code",
   "execution_count": 18,
   "metadata": {},
   "outputs": [
    {
     "data": {
      "text/plain": [
       "tensor([0.4384, 0.0108, 0.0239, 0.5270])"
      ]
     },
     "execution_count": 18,
     "metadata": {},
     "output_type": "execute_result"
    }
   ],
   "source": [
    "counter / sum(counter)\n",
    "# ([0.2925, 0.0037, 0.0035, 0.6709, 0.0051, 0.0242])"
   ]
  },
  {
   "cell_type": "code",
   "execution_count": 19,
   "metadata": {
    "colab": {
     "base_uri": "https://localhost:8080/"
    },
    "id": "9b7CewRHKG0g",
    "outputId": "ddc41fe5-fad7-4c4e-f298-439223096483"
   },
   "outputs": [
    {
     "data": {
      "text/plain": [
       "tensor([ 1.2021, 48.8811, 22.0846,  1.0000])"
      ]
     },
     "execution_count": 19,
     "metadata": {},
     "output_type": "execute_result"
    }
   ],
   "source": [
    "weight = max(counter) / counter\n",
    "weight\n",
    "# weight + torch.ones(weight.shape)\n",
    "# 2.7960e+00, 2.0886e+03, 1.4919e+02, 1.0000e+00, 7.7643e+01, 3.8678e+01"
   ]
  },
  {
   "cell_type": "code",
   "execution_count": 20,
   "metadata": {},
   "outputs": [
    {
     "data": {
      "text/plain": [
       "tensor([1.0964, 6.9915, 4.6994, 1.0000])"
      ]
     },
     "execution_count": 20,
     "metadata": {},
     "output_type": "execute_result"
    }
   ],
   "source": [
    "(max(counter) / counter) ** .5"
   ]
  },
  {
   "cell_type": "code",
   "execution_count": 21,
   "metadata": {},
   "outputs": [
    {
     "data": {
      "text/plain": [
       "tensor([1.0471, 2.6441, 2.1678, 1.0000])"
      ]
     },
     "execution_count": 21,
     "metadata": {},
     "output_type": "execute_result"
    }
   ],
   "source": [
    "(max(counter) / counter) ** .25"
   ]
  },
  {
   "cell_type": "code",
   "execution_count": null,
   "metadata": {},
   "outputs": [],
   "source": []
  },
  {
   "cell_type": "code",
   "execution_count": 22,
   "metadata": {
    "colab": {
     "base_uri": "https://localhost:8080/"
    },
    "id": "la3baCVPZ8A7",
    "outputId": "8db2b624-dc41-4054-ac11-60d43689053a"
   },
   "outputs": [
    {
     "name": "stdout",
     "output_type": "stream",
     "text": [
      "epoch: 1/75 | train loss=0.7768, train_acc=0.7977 | val loss: 0.8203, val_acc=0.7220 | time: 144.4559 | lr: 0.0001\n",
      "epoch: 2/75 | train loss=0.6048, train_acc=0.8505 | val loss: 0.6003, val_acc=0.8389 | time: 142.7017 | lr: 0.0001\n",
      "epoch: 3/75 | train loss=0.5464, train_acc=0.8594 | val loss: 0.5362, val_acc=0.8455 | time: 141.9971 | lr: 0.0001\n",
      "epoch: 4/75 | train loss=0.5144, train_acc=0.8631 | val loss: 0.5538, val_acc=0.8488 | time: 141.5599 | lr: 0.0001\n",
      "epoch: 5/75 | train loss=0.4853, train_acc=0.8683 | val loss: 0.5419, val_acc=0.8836 | time: 142.1122 | lr: 0.0001\n",
      "epoch: 6/75 | train loss=0.4415, train_acc=0.8764 | val loss: 0.4565, val_acc=0.8784 | time: 142.1984 | lr: 1e-05\n",
      "epoch: 7/75 | train loss=0.4289, train_acc=0.8800 | val loss: 0.4534, val_acc=0.8752 | time: 142.3529 | lr: 1e-05\n",
      "epoch: 8/75 | train loss=0.4227, train_acc=0.8811 | val loss: 0.4490, val_acc=0.8843 | time: 143.2088 | lr: 1e-05\n",
      "epoch: 9/75 | train loss=0.4198, train_acc=0.8811 | val loss: 0.4408, val_acc=0.8825 | time: 141.3264 | lr: 1e-05\n",
      "epoch: 10/75 | train loss=0.4135, train_acc=0.8811 | val loss: 0.4590, val_acc=0.8872 | time: 141.8593 | lr: 1e-05\n",
      "epoch: 11/75 | train loss=0.4100, train_acc=0.8832 | val loss: 0.4387, val_acc=0.8809 | time: 141.3586 | lr: 1e-05\n",
      "epoch: 12/75 | train loss=0.4062, train_acc=0.8843 | val loss: 0.4242, val_acc=0.8771 | time: 141.5265 | lr: 1e-05\n",
      "epoch: 13/75 | train loss=0.4016, train_acc=0.8838 | val loss: 0.4415, val_acc=0.8859 | time: 141.4665 | lr: 1e-05\n",
      "epoch: 14/75 | train loss=0.3965, train_acc=0.8851 | val loss: 0.4384, val_acc=0.8825 | time: 142.3382 | lr: 1e-05\n",
      "epoch: 15/75 | train loss=0.3949, train_acc=0.8856 | val loss: 0.4272, val_acc=0.8854 | time: 141.7077 | lr: 1e-05\n",
      "epoch: 16/75 | train loss=0.3910, train_acc=0.8868 | val loss: 0.4230, val_acc=0.8858 | time: 142.4339 | lr: 1e-05\n",
      "epoch: 17/75 | train loss=0.3888, train_acc=0.8876 | val loss: 0.4259, val_acc=0.8835 | time: 141.8053 | lr: 1e-05\n",
      "epoch: 18/75 | train loss=0.3827, train_acc=0.8890 | val loss: 0.4195, val_acc=0.8827 | time: 141.7086 | lr: 1e-05\n",
      "epoch: 19/75 | train loss=0.3806, train_acc=0.8902 | val loss: 0.4341, val_acc=0.8934 | time: 143.0291 | lr: 1e-05\n",
      "epoch: 20/75 | train loss=0.3803, train_acc=0.8889 | val loss: 0.4166, val_acc=0.8916 | time: 141.8760 | lr: 1e-05\n",
      "epoch: 21/75 | train loss=0.3687, train_acc=0.8927 | val loss: 0.4191, val_acc=0.8904 | time: 142.9832 | lr: 1.0000000000000002e-06\n",
      "epoch: 22/75 | train loss=0.3672, train_acc=0.8925 | val loss: 0.4103, val_acc=0.8913 | time: 142.7725 | lr: 1.0000000000000002e-06\n",
      "epoch: 23/75 | train loss=0.3676, train_acc=0.8930 | val loss: 0.4134, val_acc=0.8904 | time: 141.9297 | lr: 1.0000000000000002e-06\n",
      "epoch: 24/75 | train loss=0.3657, train_acc=0.8930 | val loss: 0.4151, val_acc=0.8911 | time: 141.6885 | lr: 1.0000000000000002e-06\n",
      "epoch: 25/75 | train loss=0.3630, train_acc=0.8921 | val loss: 0.4148, val_acc=0.8904 | time: 141.7791 | lr: 1.0000000000000002e-06\n",
      "epoch: 26/75 | train loss=0.3648, train_acc=0.8918 | val loss: 0.4115, val_acc=0.8911 | time: 141.6537 | lr: 1.0000000000000002e-06\n",
      "epoch: 27/75 | train loss=0.3643, train_acc=0.8934 | val loss: 0.4183, val_acc=0.8904 | time: 142.3347 | lr: 1.0000000000000002e-06\n",
      "epoch: 28/75 | train loss=0.3640, train_acc=0.8936 | val loss: 0.4200, val_acc=0.8895 | time: 141.5610 | lr: 1.0000000000000002e-06\n",
      "epoch: 29/75 | train loss=0.3644, train_acc=0.8932 | val loss: 0.4186, val_acc=0.8902 | time: 142.9100 | lr: 1.0000000000000002e-06\n",
      "epoch: 30/75 | train loss=0.3635, train_acc=0.8940 | val loss: 0.4081, val_acc=0.8912 | time: 141.2068 | lr: 1.0000000000000002e-06\n",
      "epoch: 31/75 | train loss=0.3599, train_acc=0.8937 | val loss: 0.4083, val_acc=0.8911 | time: 141.9701 | lr: 1.0000000000000002e-06\n",
      "epoch: 32/75 | train loss=0.3613, train_acc=0.8938 | val loss: 0.4060, val_acc=0.8904 | time: 143.0958 | lr: 1.0000000000000002e-06\n",
      "epoch: 33/75 | train loss=0.3608, train_acc=0.8948 | val loss: 0.4129, val_acc=0.8913 | time: 144.3821 | lr: 1.0000000000000002e-06\n",
      "epoch: 34/75 | train loss=0.3615, train_acc=0.8946 | val loss: 0.4076, val_acc=0.8917 | time: 142.3030 | lr: 1.0000000000000002e-06\n",
      "epoch: 35/75 | train loss=0.3599, train_acc=0.8938 | val loss: 0.4088, val_acc=0.8900 | time: 142.2761 | lr: 1.0000000000000002e-06\n",
      "epoch: 36/75 | train loss=0.3585, train_acc=0.8944 | val loss: 0.4066, val_acc=0.8893 | time: 143.3064 | lr: 1.0000000000000002e-06\n",
      "epoch: 37/75 | train loss=0.3602, train_acc=0.8944 | val loss: 0.4100, val_acc=0.8906 | time: 142.4394 | lr: 1.0000000000000002e-06\n",
      "epoch: 38/75 | train loss=0.3617, train_acc=0.8937 | val loss: 0.4200, val_acc=0.8911 | time: 141.5070 | lr: 1.0000000000000002e-06\n",
      "epoch: 39/75 | train loss=0.3601, train_acc=0.8947 | val loss: 0.4071, val_acc=0.8896 | time: 142.9091 | lr: 1.0000000000000002e-06\n",
      "epoch: 40/75 | train loss=0.3585, train_acc=0.8951 | val loss: 0.4046, val_acc=0.8897 | time: 141.3126 | lr: 1.0000000000000002e-06\n",
      "epoch: 41/75 | train loss=0.3589, train_acc=0.8932 | val loss: 0.4142, val_acc=0.8911 | time: 142.5973 | lr: 1.0000000000000002e-07\n",
      "epoch: 42/75 | train loss=0.3583, train_acc=0.8939 | val loss: 0.4047, val_acc=0.8905 | time: 142.1066 | lr: 1.0000000000000002e-07\n",
      "epoch: 43/75 | train loss=0.3569, train_acc=0.8955 | val loss: 0.4043, val_acc=0.8921 | time: 142.9430 | lr: 1.0000000000000002e-07\n",
      "epoch: 44/75 | train loss=0.3589, train_acc=0.8929 | val loss: 0.4042, val_acc=0.8912 | time: 141.9984 | lr: 1.0000000000000002e-07\n",
      "epoch: 45/75 | train loss=0.3593, train_acc=0.8949 | val loss: 0.4087, val_acc=0.8911 | time: 142.5003 | lr: 1.0000000000000002e-07\n",
      "epoch: 46/75 | train loss=0.3559, train_acc=0.8954 | val loss: 0.4115, val_acc=0.8906 | time: 141.3837 | lr: 1.0000000000000002e-07\n",
      "epoch: 47/75 | train loss=0.3580, train_acc=0.8943 | val loss: 0.4074, val_acc=0.8910 | time: 142.1775 | lr: 1.0000000000000002e-07\n",
      "epoch: 48/75 | train loss=0.3580, train_acc=0.8947 | val loss: 0.4082, val_acc=0.8909 | time: 142.8257 | lr: 1.0000000000000002e-07\n",
      "epoch: 49/75 | train loss=0.3557, train_acc=0.8955 | val loss: 0.4135, val_acc=0.8911 | time: 141.6466 | lr: 1.0000000000000002e-07\n",
      "epoch: 50/75 | train loss=0.3557, train_acc=0.8948 | val loss: 0.4081, val_acc=0.8916 | time: 141.7104 | lr: 1.0000000000000002e-07\n",
      "epoch: 51/75 | train loss=0.3563, train_acc=0.8946 | val loss: 0.4109, val_acc=0.8911 | time: 143.6012 | lr: 1.0000000000000002e-07\n",
      "epoch: 52/75 | train loss=0.3572, train_acc=0.8947 | val loss: 0.4125, val_acc=0.8905 | time: 143.0537 | lr: 1.0000000000000002e-07\n",
      "epoch: 53/75 | train loss=0.3557, train_acc=0.8953 | val loss: 0.4034, val_acc=0.8907 | time: 142.8340 | lr: 1.0000000000000002e-07\n",
      "epoch: 54/75 | train loss=0.3575, train_acc=0.8949 | val loss: 0.4078, val_acc=0.8899 | time: 142.0311 | lr: 1.0000000000000002e-07\n",
      "epoch: 55/75 | train loss=0.3575, train_acc=0.8946 | val loss: 0.4030, val_acc=0.8909 | time: 142.4088 | lr: 1.0000000000000002e-07\n",
      "epoch: 56/75 | train loss=0.3564, train_acc=0.8944 | val loss: 0.4021, val_acc=0.8906 | time: 143.3767 | lr: 1.0000000000000002e-07\n",
      "epoch: 57/75 | train loss=0.3570, train_acc=0.8941 | val loss: 0.4072, val_acc=0.8915 | time: 141.1087 | lr: 1.0000000000000002e-07\n",
      "epoch: 58/75 | train loss=0.3580, train_acc=0.8944 | val loss: 0.4108, val_acc=0.8905 | time: 143.7361 | lr: 1.0000000000000002e-07\n",
      "epoch: 59/75 | train loss=0.3572, train_acc=0.8953 | val loss: 0.4002, val_acc=0.8911 | time: 142.9537 | lr: 1.0000000000000002e-07\n",
      "epoch: 60/75 | train loss=0.3569, train_acc=0.8955 | val loss: 0.4044, val_acc=0.8918 | time: 142.8154 | lr: 1.0000000000000002e-07\n",
      "epoch: 61/75 | train loss=0.3550, train_acc=0.8947 | val loss: 0.4069, val_acc=0.8904 | time: 143.9384 | lr: 1.0000000000000002e-07\n",
      "epoch: 62/75 | train loss=0.3569, train_acc=0.8949 | val loss: 0.4061, val_acc=0.8906 | time: 142.3176 | lr: 1.0000000000000002e-07\n",
      "epoch: 63/75 | train loss=0.3557, train_acc=0.8946 | val loss: 0.4070, val_acc=0.8910 | time: 142.6465 | lr: 1.0000000000000002e-07\n",
      "epoch: 64/75 | train loss=0.3563, train_acc=0.8942 | val loss: 0.4087, val_acc=0.8915 | time: 143.6067 | lr: 1.0000000000000002e-07\n",
      "epoch: 65/75 | train loss=0.3566, train_acc=0.8955 | val loss: 0.4059, val_acc=0.8913 | time: 141.8063 | lr: 1.0000000000000002e-07\n",
      "epoch: 66/75 | train loss=0.3562, train_acc=0.8941 | val loss: 0.4051, val_acc=0.8913 | time: 142.4497 | lr: 1.0000000000000002e-07\n",
      "epoch: 67/75 | train loss=0.3565, train_acc=0.8948 | val loss: 0.4028, val_acc=0.8916 | time: 143.0835 | lr: 1.0000000000000002e-07\n",
      "epoch: 68/75 | train loss=0.3569, train_acc=0.8945 | val loss: 0.4076, val_acc=0.8909 | time: 141.7272 | lr: 1.0000000000000002e-07\n",
      "epoch: 69/75 | train loss=0.3539, train_acc=0.8946 | val loss: 0.4078, val_acc=0.8909 | time: 143.1050 | lr: 1.0000000000000002e-07\n",
      "epoch: 70/75 | train loss=0.3589, train_acc=0.8947 | val loss: 0.4030, val_acc=0.8905 | time: 143.3331 | lr: 1.0000000000000002e-07\n",
      "epoch: 71/75 | train loss=0.3557, train_acc=0.8949 | val loss: 0.4146, val_acc=0.8909 | time: 143.3489 | lr: 1.0000000000000004e-08\n",
      "epoch: 72/75 | train loss=0.3586, train_acc=0.8949 | val loss: 0.4140, val_acc=0.8906 | time: 142.4363 | lr: 1.0000000000000004e-08\n",
      "epoch: 73/75 | train loss=0.3552, train_acc=0.8952 | val loss: 0.4025, val_acc=0.8902 | time: 142.6397 | lr: 1.0000000000000004e-08\n",
      "epoch: 74/75 | train loss=0.3556, train_acc=0.8949 | val loss: 0.4046, val_acc=0.8917 | time: 141.8852 | lr: 1.0000000000000004e-08\n",
      "epoch: 75/75 | train loss=0.3563, train_acc=0.8951 | val loss: 0.4062, val_acc=0.8901 | time: 143.2070 | lr: 1.0000000000000004e-08\n"
     ]
    }
   ],
   "source": [
    "torch.manual_seed(4440)\n",
    "\n",
    "# model = cnn_classifier().to(device)\n",
    "epochs = 75  # your model should be able to get > 98% validation accuracy on the first 10 epochs\n",
    "####################################################################\n",
    "# **Exercise 4.2.2.2**\n",
    "# TODO: choose values for your hyperparameters\n",
    "learning_rate = 0.0001 #0.005 # None\n",
    "weight_decay = 0.0005 # None\n",
    "# TODO: choose a loss function and optimizer\n",
    "loss_fn = torch.nn.CrossEntropyLoss(weight = ((max(counter) / counter) ** .5).to(device)) #None\n",
    "# loss_fn = torch.nn.CrossEntropyLoss() #None\n",
    "optimizer = torch.optim.Adam(model.parameters(), lr=learning_rate, weight_decay=weight_decay) # None\n",
    "milestones = [5, 20, 40, 70]\n",
    "scheduler = torch.optim.lr_scheduler.MultiStepLR(optimizer, milestones, gamma=0.1)\n",
    "\n",
    "####################################################################\n",
    "\n",
    "training_losses = []\n",
    "validation_losses = []\n",
    "\n",
    "for epoch in range(epochs):\n",
    "    lr = 0\n",
    "    for param_group in optimizer.param_groups:\n",
    "        lr = param_group['lr']\n",
    "    start_time = time.perf_counter()\n",
    "    train_loss, train_acc = train_model(model, train_loader, loss_fn, optimizer)\n",
    "    training_losses.append(train_loss)\n",
    "    val_loss, val_acc = evaluate_model(model, val_loader, loss_fn)\n",
    "    validation_losses.append(val_loss)\n",
    "    scheduler.step()\n",
    "    end_time = time.perf_counter()\n",
    "    print(\n",
    "        f\"epoch: {epoch+1}/{epochs} | train loss={np.mean(train_loss):.4f}, {train_acc=:.4f} | val loss: {np.mean(val_loss):.4f}, {val_acc=:.4f} | time: {end_time-start_time:.4f} | lr: {lr}\"\n",
    "    )\n",
    "    "
   ]
  },
  {
   "cell_type": "code",
   "execution_count": 44,
   "metadata": {
    "id": "T911ylfkDaQb"
   },
   "outputs": [],
   "source": [
    "# for name, param in model.named_parameters():\n",
    "#     print(name, param.shape, param)"
   ]
  },
  {
   "cell_type": "code",
   "execution_count": 23,
   "metadata": {},
   "outputs": [],
   "source": [
    "torch.save(model.state_dict(), \"weights5\")\n",
    "\n",
    "# weights 4 was with lr milestons and wd = 0.005"
   ]
  },
  {
   "cell_type": "code",
   "execution_count": 44,
   "metadata": {},
   "outputs": [],
   "source": [
    "# model1 = model()\n",
    "# model1.load_state_dict(torch.load(\"weights\"))"
   ]
  },
  {
   "cell_type": "code",
   "execution_count": 47,
   "metadata": {},
   "outputs": [
    {
     "data": {
      "text/plain": [
       "20"
      ]
     },
     "execution_count": 47,
     "metadata": {},
     "output_type": "execute_result"
    }
   ],
   "source": [
    "len(training_losses)"
   ]
  },
  {
   "cell_type": "code",
   "execution_count": 48,
   "metadata": {},
   "outputs": [
    {
     "data": {
      "text/plain": [
       "<matplotlib.legend.Legend at 0x2b06755a0dd0>"
      ]
     },
     "execution_count": 48,
     "metadata": {},
     "output_type": "execute_result"
    },
    {
     "data": {
      "image/png": "[encoded data removed]",
      "text/plain": [
       "<Figure size 640x480 with 1 Axes>"
      ]
     },
     "metadata": {},
     "output_type": "display_data"
    }
   ],
   "source": [
    "####################################################################\n",
    "# **Exercise 4.2.2.3**\n",
    "# TODO: Plot the training and validation losses vs. training epochs on the same plot\n",
    "# https://matplotlib.org/stable/api/_as_gen/matplotlib.pyplot.plot.html\n",
    "\n",
    "plt.plot(range(epochs), training_losses, label=\"training_loss\")\n",
    "plt.plot(range(epochs), validation_losses, label=\"validation_loss\")\n",
    "plt.xlabel(\"Epoch\")\n",
    "plt.ylabel(\"Loss\")\n",
    "plt.title(\"Traning and Validation Losses\")\n",
    "plt.legend()\n",
    "\n",
    "#raise NotImplementedError\n",
    "####################################################################"
   ]
  },
  {
   "cell_type": "code",
   "execution_count": 49,
   "metadata": {
    "id": "Gi1wz3_muRPV"
   },
   "outputs": [],
   "source": [
    "def draw_confusion_matrix(confusion_matrix, labels, cmap=\"Blues\"):\n",
    "    confusion_matrix = np.array(confusion_matrix)\n",
    "    assert confusion_matrix.shape[0] == confusion_matrix.shape[1]\n",
    "    assert confusion_matrix.shape[0] == len(labels)\n",
    "\n",
    "    fig, ax = plt.subplots(figsize=(7, 7))\n",
    "    plt.imshow(confusion_matrix, cmap=cmap)\n",
    "\n",
    "    ax.set_xticks(np.arange(len(train_set.classes)), labels)\n",
    "    ax.set_yticks(np.arange(len(train_set.classes)), labels)\n",
    "    plt.setp(ax.get_xticklabels(), rotation=90, ha=\"right\")\n",
    "\n",
    "    for true_label in range(len(train_set.classes)):\n",
    "        for pred_label in range(len(train_set.classes)):\n",
    "            ax.text(\n",
    "                pred_label,\n",
    "                true_label,\n",
    "                int(confusion_matrix[true_label, pred_label]),\n",
    "                ha=\"center\",\n",
    "                va=\"center\",\n",
    "                color=\"black\",\n",
    "            )\n",
    "\n",
    "    fig.tight_layout()\n",
    "    plt.show()"
   ]
  },
  {
   "cell_type": "code",
   "execution_count": 50,
   "metadata": {},
   "outputs": [
    {
     "name": "stdout",
     "output_type": "stream",
     "text": [
      "val_loss=0.4847611742360251, val_acc=0.8720501474926253\n"
     ]
    },
    {
     "data": {
      "image/png": "[encoded data removed]",
      "text/plain": [
       "<Figure size 700x700 with 1 Axes>"
      ]
     },
     "metadata": {},
     "output_type": "display_data"
    }
   ],
   "source": [
    "val_loss, val_acc, confusion_matrix = evaluate_model(\n",
    "    model, val_loader, loss_fn, return_confusion_matrix=True\n",
    ")\n",
    "print(f\"{val_loss=}, {val_acc=}\")\n",
    "draw_confusion_matrix(confusion_matrix, train_set.classes)"
   ]
  },
  {
   "cell_type": "code",
   "execution_count": 51,
   "metadata": {
    "colab": {
     "base_uri": "https://localhost:8080/",
     "height": 725
    },
    "id": "mQQ1YTld9lXi",
    "outputId": "06252232-38c8-40b7-9496-f2fe1fdefa15"
   },
   "outputs": [
    {
     "name": "stdout",
     "output_type": "stream",
     "text": [
      "train_loss=0.46522412350127745, train_acc=0.871334761386382\n"
     ]
    },
    {
     "data": {
      "image/png": "[encoded data removed]",
      "text/plain": [
       "<Figure size 700x700 with 1 Axes>"
      ]
     },
     "metadata": {},
     "output_type": "display_data"
    }
   ],
   "source": [
    "train_loss, train_acc, confusion_matrix = evaluate_model(\n",
    "    model, train_loader, loss_fn, return_confusion_matrix=True\n",
    ")\n",
    "print(f\"{train_loss=}, {train_acc=}\")\n",
    "draw_confusion_matrix(confusion_matrix, train_set.classes)"
   ]
  },
  {
   "cell_type": "code",
   "execution_count": 52,
   "metadata": {},
   "outputs": [
    {
     "name": "stdout",
     "output_type": "stream",
     "text": [
      "train_loss=0.4622198182802934, train_acc=0.8712996453278085\n"
     ]
    },
    {
     "data": {
      "image/png": "[encoded data removed]",
      "text/plain": [
       "<Figure size 700x700 with 1 Axes>"
      ]
     },
     "metadata": {},
     "output_type": "display_data"
    }
   ],
   "source": [
    "train_loss, train_acc, confusion_matrix = evaluate_model(\n",
    "    model, train_loader, loss_fn, return_confusion_matrix=True\n",
    ")\n",
    "print(f\"{train_loss=}, {train_acc=}\")\n",
    "draw_confusion_matrix(confusion_matrix, train_set.classes)"
   ]
  },
  {
   "cell_type": "code",
   "execution_count": null,
   "metadata": {},
   "outputs": [],
   "source": []
  }
 ],
 "metadata": {
  "colab": {
   "provenance": []
  },
  "kernelspec": {
   "display_name": "Python 3 (ipykernel)",
   "language": "python",
   "name": "python3"
  },
  "language_info": {
   "codemirror_mode": {
    "name": "ipython",
    "version": 3
   },
   "file_extension": ".py",
   "mimetype": "text/x-python",
   "name": "python",
   "nbconvert_exporter": "python",
   "pygments_lexer": "ipython3",
   "version": "3.11.8"
  }
 },
 "nbformat": 4,
 "nbformat_minor": 4
}
