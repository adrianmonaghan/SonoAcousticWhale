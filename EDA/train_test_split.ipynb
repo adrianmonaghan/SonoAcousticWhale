{
 "cells": [
  {
   "cell_type": "code",
   "execution_count": 10,
   "id": "initial_id",
   "metadata": {
    "ExecuteTime": {
     "end_time": "2024-04-17T03:14:36.602195100Z",
     "start_time": "2024-04-17T03:14:36.578258300Z"
    }
   },
   "outputs": [],
   "source": [
    "import os\n",
    "import numpy\n",
    "import sklearn\n",
    "from pathlib import Path\n",
    "from collections import defaultdict\n",
    "from sklearn.model_selection import train_test_split\n",
    "import shutil\n",
    "import random"
   ]
  },
  {
   "cell_type": "code",
   "execution_count": 2,
   "id": "39c60b707f2d69da",
   "metadata": {
    "collapsed": false,
    "ExecuteTime": {
     "end_time": "2024-04-17T02:49:01.589699300Z",
     "start_time": "2024-04-17T02:49:00.171123500Z"
    }
   },
   "outputs": [],
   "source": [
    "# Load the data\n",
    "data_dir = \"D:/SonarData/flat_spectrograms\"\n",
    "dct = defaultdict(list)\n",
    "lst = []\n",
    "for root, dirs, files in os.walk(data_dir):\n",
    "    for file in files:\n",
    "        classification = root.split(\"\\\\\")[-1]\n",
    "        # print(classification)\n",
    "        # print(root, dirs, file)\n",
    "        lst.append(f\"{classification}/{file}\")\n",
    "        dct[classification].append(file)\n",
    "        # break"
   ]
  },
  {
   "cell_type": "code",
   "execution_count": 3,
   "id": "b618707e9b8e75e9",
   "metadata": {
    "collapsed": false,
    "ExecuteTime": {
     "end_time": "2024-04-17T02:49:01.720859200Z",
     "start_time": "2024-04-17T02:49:01.595717500Z"
    }
   },
   "outputs": [
    {
     "data": {
      "text/plain": "dict_keys(['Background', 'Device', 'Fish', 'Mn', 'Other', 'Vessel'])"
     },
     "execution_count": 3,
     "metadata": {},
     "output_type": "execute_result"
    }
   ],
   "source": [
    "dct.keys()"
   ]
  },
  {
   "cell_type": "code",
   "execution_count": 4,
   "id": "6b10d8a34050e135",
   "metadata": {
    "collapsed": false,
    "ExecuteTime": {
     "end_time": "2024-04-17T02:49:01.724847700Z",
     "start_time": "2024-04-17T02:49:01.628629200Z"
    }
   },
   "outputs": [
    {
     "data": {
      "text/plain": "['Background/Cross_A_01_050509_043845_30048_2470.png',\n 'Background/Cross_A_01_050509_043845_30048_2726.png',\n 'Background/Cross_A_01_050509_043845_30048_2982.png',\n 'Background/Cross_A_01_050509_043845_30048_3238.png',\n 'Background/Cross_A_01_050509_043845_30048_3494.png',\n 'Background/Cross_A_01_050509_043845_30048_3750.png',\n 'Background/Cross_A_01_050509_043845_30048_4006.png',\n 'Background/Cross_A_01_050509_043845_30048_4262.png',\n 'Background/Cross_A_01_050509_043845_30048_4518.png',\n 'Background/Cross_A_01_050509_043845_30048_4774.png']"
     },
     "execution_count": 4,
     "metadata": {},
     "output_type": "execute_result"
    }
   ],
   "source": [
    "lst[:10]"
   ]
  },
  {
   "cell_type": "code",
   "execution_count": 5,
   "id": "e2fa6db5c46d5075",
   "metadata": {
    "ExecuteTime": {
     "end_time": "2024-04-11T19:19:57.565635300Z",
     "start_time": "2024-04-11T19:19:57.524746800Z"
    },
    "collapsed": false
   },
   "outputs": [
    {
     "data": {
      "text/plain": [
       "(75705, 10815, 21631)"
      ]
     },
     "execution_count": 5,
     "metadata": {},
     "output_type": "execute_result"
    }
   ],
   "source": [
    "# Split the data into training and testing\n",
    "train, test = train_test_split(lst, test_size=0.3, random_state=0)\n",
    "val, test = train_test_split(test, test_size=2/3, random_state=0)\n",
    "len(train), len(val), len(test)"
   ]
  },
  {
   "cell_type": "code",
   "execution_count": 6,
   "id": "a04a83c3659c5ee1",
   "metadata": {
    "ExecuteTime": {
     "end_time": "2024-04-11T19:34:34.118687100Z",
     "start_time": "2024-04-11T19:29:19.461787900Z"
    },
    "collapsed": false
   },
   "outputs": [],
   "source": [
    "base_dir = \"D:/SonarData/flat_spectrograms\"\n",
    "hold1 = [train, val, test]\n",
    "# train_dir = \"D:/SonarData/train_val_test/train\"\n",
    "# val_dir = \"D:/SonarData/train_val_test/val\"\n",
    "# test_dir = \"D:/SonarData/train_val_test/test\"\n",
    "hold = [\"train\", \"val\", \"test\"]\n",
    "for d, files in zip(hold, hold1):\n",
    "    pth = Path(f\"D:/SonarData/train_val_test2/{d}\")\n",
    "    pth.mkdir(parents=True, exist_ok=True)\n",
    "    for file in files:\n",
    "        pth = Path(f\"D:/SonarData/train_val_test2/{d}/{file}\")\n",
    "        pth.parent.mkdir(parents=True, exist_ok=True)\n",
    "        shutil.copy(f\"{base_dir}/{file}\", f\"D:/SonarData/train_val_test2/{d}/{file}\")\n",
    "        "
   ]
  },
  {
   "cell_type": "code",
   "execution_count": 9,
   "id": "a0b21bb54dcacc3a",
   "metadata": {
    "collapsed": false,
    "ExecuteTime": {
     "end_time": "2024-04-17T03:10:14.229209300Z",
     "start_time": "2024-04-17T03:10:14.110474600Z"
    }
   },
   "outputs": [
    {
     "data": {
      "text/plain": "{'Background': 42245, 'Fish': 630, 'Mn': 31276, 'Vessel': 1554}"
     },
     "execution_count": 9,
     "metadata": {},
     "output_type": "execute_result"
    }
   ],
   "source": [
    "base_dir = \"D:/SonarData/new_distributions/train\"\n",
    "dct = defaultdict(list)\n",
    "counts = {}\n",
    "for classification in os.listdir(base_dir):\n",
    "    counts[classification] = len(os.listdir(f\"{base_dir}/{classification}\"))\n",
    "\n",
    "counts"
   ]
  },
  {
   "cell_type": "code",
   "outputs": [],
   "source": [
    "dist = {\"Background\": 1554, \"Fish\": 630, \"Vessel\": 1_554, \"Mn\": 1554}"
   ],
   "metadata": {
    "collapsed": false,
    "ExecuteTime": {
     "end_time": "2024-04-17T03:58:13.876730900Z",
     "start_time": "2024-04-17T03:58:13.783793700Z"
    }
   },
   "id": "385aedaeb58badd4",
   "execution_count": 23
  },
  {
   "cell_type": "code",
   "outputs": [
    {
     "name": "stdout",
     "output_type": "stream",
     "text": [
      "there\n",
      "Background 1554\n",
      "here\n",
      "Fish 630\n",
      "here\n",
      "Vessel 1554\n",
      "there\n",
      "Mn 1554\n"
     ]
    }
   ],
   "source": [
    "base_dir = \"D:/SonarData/new_distributions\"\n",
    "tgt_dir = \"new_dist_train_more_no_imbalance\"\n",
    "for key, value in dist.items():\n",
    "    if dist[key] == counts[key]:\n",
    "        print(\"here\")\n",
    "        print(key, value)\n",
    "        shutil.copytree(f\"{base_dir}/train/{key}\", f\"{base_dir}/{tgt_dir}/{key}\")\n",
    "        continue\n",
    "    else:\n",
    "        print('there')\n",
    "        print(key, value)\n",
    "        Path(f\"{base_dir}/{tgt_dir}/{key}\").mkdir(parents=True, exist_ok=True)\n",
    "        if value > counts[key]:\n",
    "            files = random.choices(os.listdir(f\"{base_dir}/train/{key}\"), k=value)\n",
    "        else:\n",
    "            files = random.sample(os.listdir(f\"{base_dir}/train/{key}\"), value)\n",
    "        # files = random.choices(os.listdir(f\"{base_dir}/train/{key}\"), k=value)\n",
    "        for file in files:\n",
    "            shutil.copy(f\"{base_dir}/train/{key}/{file}\", f\"{base_dir}/{tgt_dir}/{key}/{file}_{random.randint(0, 1_000_000_000)}\")"
   ],
   "metadata": {
    "collapsed": false,
    "ExecuteTime": {
     "end_time": "2024-04-17T03:58:44.333156500Z",
     "start_time": "2024-04-17T03:58:15.222469200Z"
    }
   },
   "id": "7d317bdd10dda5d3",
   "execution_count": 24
  },
  {
   "cell_type": "code",
   "outputs": [
    {
     "data": {
      "text/plain": "8184"
     },
     "execution_count": 17,
     "metadata": {},
     "output_type": "execute_result"
    }
   ],
   "source": [
    "3000+630+1554+3000"
   ],
   "metadata": {
    "collapsed": false,
    "ExecuteTime": {
     "end_time": "2024-04-17T03:17:54.455452400Z",
     "start_time": "2024-04-17T03:17:54.441489100Z"
    }
   },
   "id": "5510554e0198740a",
   "execution_count": 17
  },
  {
   "cell_type": "code",
   "outputs": [],
   "source": [],
   "metadata": {
    "collapsed": false
   },
   "id": "4557e635ab050b48"
  }
 ],
 "metadata": {
  "kernelspec": {
   "display_name": "Python 3 (ipykernel)",
   "language": "python",
   "name": "python3"
  },
  "language_info": {
   "codemirror_mode": {
    "name": "ipython",
    "version": 3
   },
   "file_extension": ".py",
   "mimetype": "text/x-python",
   "name": "python",
   "nbconvert_exporter": "python",
   "pygments_lexer": "ipython3",
   "version": "3.10.13"
  }
 },
 "nbformat": 4,
 "nbformat_minor": 5
}
