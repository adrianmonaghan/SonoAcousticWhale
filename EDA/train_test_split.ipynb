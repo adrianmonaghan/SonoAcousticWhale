{
 "cells": [
  {
   "cell_type": "code",
   "execution_count": 1,
   "id": "initial_id",
   "metadata": {
    "ExecuteTime": {
     "end_time": "2024-04-11T19:22:05.634183800Z",
     "start_time": "2024-04-11T19:22:05.614236500Z"
    }
   },
   "outputs": [],
   "source": [
    "import os\n",
    "import numpy\n",
    "import sklearn\n",
    "from pathlib import Path\n",
    "from collections import defaultdict\n",
    "from sklearn.model_selection import train_test_split\n",
    "import shutil"
   ]
  },
  {
   "cell_type": "code",
   "execution_count": 2,
   "id": "39c60b707f2d69da",
   "metadata": {
    "ExecuteTime": {
     "end_time": "2024-04-11T19:16:48.800837900Z",
     "start_time": "2024-04-11T19:16:48.647230700Z"
    },
    "collapsed": false,
    "jupyter": {
     "outputs_hidden": false
    }
   },
   "outputs": [],
   "source": [
    "# Load the data\n",
    "data_dir = \"D:/SonarData/flat_spectrograms\"\n",
    "dct = defaultdict(list)\n",
    "lst = []\n",
    "for root, dirs, files in os.walk(data_dir):\n",
    "    for file in files:\n",
    "        classification = root.split(\"\\\\\")[-1]\n",
    "        # print(classification)\n",
    "        # print(root, dirs, file)\n",
    "        lst.append(f\"{classification}/{file}\")\n",
    "        dct[classification].append(file)\n",
    "        # break"
   ]
  },
  {
   "cell_type": "code",
   "execution_count": 3,
   "id": "b618707e9b8e75e9",
   "metadata": {
    "ExecuteTime": {
     "end_time": "2024-04-11T19:15:40.227803800Z",
     "start_time": "2024-04-11T19:15:40.216808400Z"
    },
    "collapsed": false,
    "jupyter": {
     "outputs_hidden": false
    }
   },
   "outputs": [
    {
     "data": {
      "text/plain": [
       "dict_keys(['Background', 'Device', 'Fish', 'Mn', 'Other', 'Vessel'])"
      ]
     },
     "execution_count": 3,
     "metadata": {},
     "output_type": "execute_result"
    }
   ],
   "source": [
    "dct.keys()"
   ]
  },
  {
   "cell_type": "code",
   "execution_count": 4,
   "id": "6b10d8a34050e135",
   "metadata": {
    "ExecuteTime": {
     "end_time": "2024-04-11T19:16:52.294149200Z",
     "start_time": "2024-04-11T19:16:52.259242800Z"
    },
    "collapsed": false,
    "jupyter": {
     "outputs_hidden": false
    }
   },
   "outputs": [
    {
     "data": {
      "text/plain": [
       "['Background/Cross_A_01_050509_043845_30048_2470.png',\n",
       " 'Background/Cross_A_01_050509_043845_30048_2726.png',\n",
       " 'Background/Cross_A_01_050509_043845_30048_2982.png',\n",
       " 'Background/Cross_A_01_050509_043845_30048_3238.png',\n",
       " 'Background/Cross_A_01_050509_043845_30048_3494.png',\n",
       " 'Background/Cross_A_01_050509_043845_30048_3750.png',\n",
       " 'Background/Cross_A_01_050509_043845_30048_4006.png',\n",
       " 'Background/Cross_A_01_050509_043845_30048_4262.png',\n",
       " 'Background/Cross_A_01_050509_043845_30048_4518.png',\n",
       " 'Background/Cross_A_01_050509_043845_30048_4774.png']"
      ]
     },
     "execution_count": 4,
     "metadata": {},
     "output_type": "execute_result"
    }
   ],
   "source": [
    "lst[:10]"
   ]
  },
  {
   "cell_type": "code",
   "execution_count": 5,
   "id": "e2fa6db5c46d5075",
   "metadata": {
    "ExecuteTime": {
     "end_time": "2024-04-11T19:19:57.565635300Z",
     "start_time": "2024-04-11T19:19:57.524746800Z"
    },
    "collapsed": false,
    "jupyter": {
     "outputs_hidden": false
    }
   },
   "outputs": [
    {
     "data": {
      "text/plain": [
       "(75705, 10815, 21631)"
      ]
     },
     "execution_count": 5,
     "metadata": {},
     "output_type": "execute_result"
    }
   ],
   "source": [
    "# Split the data into training and testing\n",
    "train, test = train_test_split(lst, test_size=0.3, random_state=0)\n",
    "val, test = train_test_split(test, test_size=2/3, random_state=0)\n",
    "len(train), len(val), len(test)"
   ]
  },
  {
   "cell_type": "code",
   "execution_count": 6,
   "id": "a04a83c3659c5ee1",
   "metadata": {
    "ExecuteTime": {
     "end_time": "2024-04-11T19:34:34.118687100Z",
     "start_time": "2024-04-11T19:29:19.461787900Z"
    },
    "collapsed": false,
    "jupyter": {
     "outputs_hidden": false
    }
   },
   "outputs": [],
   "source": [
    "base_dir = \"D:/SonarData/flat_spectrograms\"\n",
    "hold1 = [train, val, test]\n",
    "# train_dir = \"D:/SonarData/train_val_test/train\"\n",
    "# val_dir = \"D:/SonarData/train_val_test/val\"\n",
    "# test_dir = \"D:/SonarData/train_val_test/test\"\n",
    "hold = [\"train\", \"val\", \"test\"]\n",
    "for d, files in zip(hold, hold1):\n",
    "    pth = Path(f\"D:/SonarData/train_val_test2/{d}\")\n",
    "    pth.mkdir(parents=True, exist_ok=True)\n",
    "    for file in files:\n",
    "        pth = Path(f\"D:/SonarData/train_val_test2/{d}/{file}\")\n",
    "        pth.parent.mkdir(parents=True, exist_ok=True)\n",
    "        shutil.copy(f\"{base_dir}/{file}\", f\"D:/SonarData/train_val_test2/{d}/{file}\")\n",
    "        "
   ]
  },
  {
   "cell_type": "code",
   "execution_count": null,
   "id": "a0b21bb54dcacc3a",
   "metadata": {
    "collapsed": false,
    "jupyter": {
     "outputs_hidden": false
    }
   },
   "outputs": [],
   "source": []
  }
 ],
 "metadata": {
  "kernelspec": {
   "display_name": "Python 3 (ipykernel)",
   "language": "python",
   "name": "python3"
  },
  "language_info": {
   "codemirror_mode": {
    "name": "ipython",
    "version": 3
   },
   "file_extension": ".py",
   "mimetype": "text/x-python",
   "name": "python",
   "nbconvert_exporter": "python",
   "pygments_lexer": "ipython3",
   "version": "3.10.13"
  }
 },
 "nbformat": 4,
 "nbformat_minor": 5
}
