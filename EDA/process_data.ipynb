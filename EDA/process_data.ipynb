{
 "cells": [
  {
   "cell_type": "code",
   "execution_count": 2,
   "id": "initial_id",
   "metadata": {
    "collapsed": true,
    "ExecuteTime": {
     "end_time": "2024-03-18T02:34:41.258752700Z",
     "start_time": "2024-03-18T02:34:34.888550600Z"
    }
   },
   "outputs": [],
   "source": [
    "import tensorflow_hub as hub\n",
    "import pandas as pd\n",
    "import matplotlib.pyplot as plt\n",
    "import os\n",
    "import tensorflow as tf\n",
    "from python_scripts.read_xwav_header import read_xwav_header\n",
    "import sys\n",
    "os.environ[\"KMP_DUPLICATE_LIB_OK\"]=\"TRUE\"\n",
    "import pickle"
   ]
  },
  {
   "cell_type": "code",
   "outputs": [],
   "source": [
    "model = hub.load('https://www.kaggle.com/models/google/humpback-whale/frameworks/TensorFlow2/variations/humpback-whale/versions/1')"
   ],
   "metadata": {
    "collapsed": false,
    "ExecuteTime": {
     "end_time": "2024-03-18T02:35:04.226852500Z",
     "start_time": "2024-03-18T02:34:41.262758Z"
    }
   },
   "id": "a52ccd3213b688a0",
   "execution_count": 3
  },
  {
   "cell_type": "code",
   "outputs": [
    {
     "data": {
      "text/plain": "  audit_name                        flac_compressed_xwav_object  \\\n0    initial  gs://noaa-passive-bioacoustic/pifsc/audio/pipa...   \n1    initial  gs://noaa-passive-bioacoustic/pifsc/audio/pipa...   \n2    initial  gs://noaa-passive-bioacoustic/pifsc/audio/pipa...   \n3    initial  gs://noaa-passive-bioacoustic/pifsc/audio/pipa...   \n4    initial  gs://noaa-passive-bioacoustic/pifsc/audio/pipa...   \n\n   subchunk_index  label_is_strong  implicit_negatives  label  \\\n0               1             True                True  Other   \n1              13             True                True  Other   \n2               5             True                True  Other   \n3              17             True                True  Other   \n4              22             True                True  Other   \n\n   begin_rel_subchunk  end_rel_subchunk                         begin_utc  \\\n0               0.213             0.213  2005-06-06 13:00:00.213000+00:00   \n1               0.108             0.108  2005-06-06 14:15:00.108000+00:00   \n2               0.143             0.143  2005-07-02 04:00:00.143000+00:00   \n3               0.213             0.213  2005-07-02 05:15:00.213000+00:00   \n4               0.213             0.213  2005-08-01 10:15:00.213000+00:00   \n\n                            end_utc  \n0  2005-06-06 13:00:00.213000+00:00  \n1  2005-06-06 14:15:00.108000+00:00  \n2  2005-07-02 04:00:00.143000+00:00  \n3  2005-07-02 05:15:00.213000+00:00  \n4  2005-08-01 10:15:00.213000+00:00  ",
      "text/html": "<div>\n<style scoped>\n    .dataframe tbody tr th:only-of-type {\n        vertical-align: middle;\n    }\n\n    .dataframe tbody tr th {\n        vertical-align: top;\n    }\n\n    .dataframe thead th {\n        text-align: right;\n    }\n</style>\n<table border=\"1\" class=\"dataframe\">\n  <thead>\n    <tr style=\"text-align: right;\">\n      <th></th>\n      <th>audit_name</th>\n      <th>flac_compressed_xwav_object</th>\n      <th>subchunk_index</th>\n      <th>label_is_strong</th>\n      <th>implicit_negatives</th>\n      <th>label</th>\n      <th>begin_rel_subchunk</th>\n      <th>end_rel_subchunk</th>\n      <th>begin_utc</th>\n      <th>end_utc</th>\n    </tr>\n  </thead>\n  <tbody>\n    <tr>\n      <th>0</th>\n      <td>initial</td>\n      <td>gs://noaa-passive-bioacoustic/pifsc/audio/pipa...</td>\n      <td>1</td>\n      <td>True</td>\n      <td>True</td>\n      <td>Other</td>\n      <td>0.213</td>\n      <td>0.213</td>\n      <td>2005-06-06 13:00:00.213000+00:00</td>\n      <td>2005-06-06 13:00:00.213000+00:00</td>\n    </tr>\n    <tr>\n      <th>1</th>\n      <td>initial</td>\n      <td>gs://noaa-passive-bioacoustic/pifsc/audio/pipa...</td>\n      <td>13</td>\n      <td>True</td>\n      <td>True</td>\n      <td>Other</td>\n      <td>0.108</td>\n      <td>0.108</td>\n      <td>2005-06-06 14:15:00.108000+00:00</td>\n      <td>2005-06-06 14:15:00.108000+00:00</td>\n    </tr>\n    <tr>\n      <th>2</th>\n      <td>initial</td>\n      <td>gs://noaa-passive-bioacoustic/pifsc/audio/pipa...</td>\n      <td>5</td>\n      <td>True</td>\n      <td>True</td>\n      <td>Other</td>\n      <td>0.143</td>\n      <td>0.143</td>\n      <td>2005-07-02 04:00:00.143000+00:00</td>\n      <td>2005-07-02 04:00:00.143000+00:00</td>\n    </tr>\n    <tr>\n      <th>3</th>\n      <td>initial</td>\n      <td>gs://noaa-passive-bioacoustic/pifsc/audio/pipa...</td>\n      <td>17</td>\n      <td>True</td>\n      <td>True</td>\n      <td>Other</td>\n      <td>0.213</td>\n      <td>0.213</td>\n      <td>2005-07-02 05:15:00.213000+00:00</td>\n      <td>2005-07-02 05:15:00.213000+00:00</td>\n    </tr>\n    <tr>\n      <th>4</th>\n      <td>initial</td>\n      <td>gs://noaa-passive-bioacoustic/pifsc/audio/pipa...</td>\n      <td>22</td>\n      <td>True</td>\n      <td>True</td>\n      <td>Other</td>\n      <td>0.213</td>\n      <td>0.213</td>\n      <td>2005-08-01 10:15:00.213000+00:00</td>\n      <td>2005-08-01 10:15:00.213000+00:00</td>\n    </tr>\n  </tbody>\n</table>\n</div>"
     },
     "execution_count": 4,
     "metadata": {},
     "output_type": "execute_result"
    }
   ],
   "source": [
    "annot = pd.read_csv(\"data/pifsc_products_detections_annotations.csv\")\n",
    "annot.head()"
   ],
   "metadata": {
    "collapsed": false,
    "ExecuteTime": {
     "end_time": "2024-03-18T02:35:04.350494100Z",
     "start_time": "2024-03-18T02:35:04.228820400Z"
    }
   },
   "id": "15e1d1ac28fd5801",
   "execution_count": 4
  },
  {
   "cell_type": "code",
   "outputs": [
    {
     "data": {
      "text/plain": "5489"
     },
     "execution_count": 5,
     "metadata": {},
     "output_type": "execute_result"
    }
   ],
   "source": [
    "annot[\"flac_compressed_xwav_object\"].nunique()"
   ],
   "metadata": {
    "collapsed": false,
    "ExecuteTime": {
     "end_time": "2024-03-18T02:35:04.412327400Z",
     "start_time": "2024-03-18T02:35:04.356478600Z"
    }
   },
   "id": "d1e1f259f8b97bde",
   "execution_count": 5
  },
  {
   "cell_type": "code",
   "outputs": [
    {
     "data": {
      "text/plain": "['Cross_A_01_050606_123845.d20.x.wav',\n 'Cross_A_01_050702_031345.d20.x.wav',\n 'Cross_A_01_050801_074615.d20.x.wav',\n 'Cross_A_01_050801_110500.d20.x.wav',\n 'Cross_A_01_050908_025000.d20.x.wav',\n 'Equator_A_01_120313_165615.df20.x.wav',\n 'Equator_A_01_120419_012845.df20.x.wav',\n 'Hawaii_K_01_070813_065730.d20.x.wav',\n 'Hawaii_K_01_070813_073500.d20.x.wav',\n 'Hawaii_K_01_070915_204730.d20.x.wav',\n 'Hawaii_K_01_070915_212500.d20.x.wav',\n 'Hawaii_K_02_080506_173715.d20.x.wav',\n 'Hawaii_K_02_080506_183545.d20.x.wav',\n 'Hawaii_K_02_080609_205945.d20.x.wav',\n 'Hawaii_K_02_080702_115545.d20.x.wav',\n 'Hawaii_K_02_080702_125715.d20.x.wav',\n 'Hawaii_K_03_080807_141730.d20.x.wav',\n 'Hawaii_K_03_080807_161500.d20.x.wav',\n 'Hawaii_K_03_080815_114500.d20.x.wav',\n 'Hawaii_K_03_080921_234730.d20.x.wav',\n 'Hawaii_K_03_080922_014500.d20.x.wav',\n 'Hawaii_K_03_081010_164730.d20.x.wav',\n 'Hawaii_K_06_090505_164500.d20.x.wav']"
     },
     "execution_count": 6,
     "metadata": {},
     "output_type": "execute_result"
    }
   ],
   "source": [
    "uncompressed_files = os.listdir(\"data/audio_data/uncompressed\")\n",
    "uncompressed_files"
   ],
   "metadata": {
    "collapsed": false,
    "ExecuteTime": {
     "end_time": "2024-03-18T02:35:04.468180500Z",
     "start_time": "2024-03-18T02:35:04.385399600Z"
    }
   },
   "id": "2910ac52f731c615",
   "execution_count": 6
  },
  {
   "cell_type": "code",
   "outputs": [],
   "source": [
    "data = {}\n",
    "for file in uncompressed_files:\n",
    "    if \"Equator\" in file:\n",
    "        continue\n",
    "    file_path = f\"data/audio_data/uncompressed/{file}\"\n",
    "    data[\"file_name\"] = file\n",
    "    data[\"file_path\"] = file_path\n",
    "    data[\"header\"] = read_xwav_header(file_path)\n",
    "    \n",
    "    waveform, sample_rate = tf.audio.decode_wav(tf.io.read_file(file_path))\n",
    "    \n",
    "    w = tf.expand_dims(waveform, 0)\n",
    "    del waveform\n",
    "    pcen_spec = model.front_end(w)\n",
    "    del w\n",
    "    data[\"pcen_spec\"] = pcen_spec\n"
   ],
   "metadata": {
    "collapsed": false,
    "ExecuteTime": {
     "end_time": "2024-03-18T02:36:14.964219300Z",
     "start_time": "2024-03-18T02:35:04.401357100Z"
    }
   },
   "id": "f1f093cd21a6b2ff",
   "execution_count": 7
  },
  {
   "cell_type": "code",
   "outputs": [],
   "source": [
    "with open(\"data/audio_data/processed/first_spcs.pkl\", \"wb\") as f:\n",
    "    pickle.dump(data, f)"
   ],
   "metadata": {
    "collapsed": false,
    "ExecuteTime": {
     "end_time": "2024-03-18T02:36:54.182798200Z",
     "start_time": "2024-03-18T02:36:54.144899100Z"
    }
   },
   "id": "ae922ef8b22cf540",
   "execution_count": 9
  },
  {
   "cell_type": "code",
   "outputs": [],
   "source": [
    "f = \"data/audio_data/uncompressed/Cross_A_01_050801_110500.d20.x.wav\"\n",
    "waveform, sample_rate = tf.audio.decode_wav(tf.io.read_file(f))"
   ],
   "metadata": {
    "collapsed": false,
    "ExecuteTime": {
     "end_time": "2024-03-18T01:43:09.151821100Z",
     "start_time": "2024-03-18T01:43:08.666128900Z"
    }
   },
   "id": "6cfe4246be8955a3",
   "execution_count": 35
  },
  {
   "cell_type": "code",
   "outputs": [
    {
     "data": {
      "text/plain": "<tf.Tensor: shape=(22509000, 1), dtype=float32, numpy=\narray([[0.01321411],\n       [0.00869751],\n       [0.00982666],\n       ...,\n       [0.01013184],\n       [0.01025391],\n       [0.01025391]], dtype=float32)>"
     },
     "execution_count": 37,
     "metadata": {},
     "output_type": "execute_result"
    }
   ],
   "source": [
    "waveform"
   ],
   "metadata": {
    "collapsed": false,
    "ExecuteTime": {
     "end_time": "2024-03-18T01:43:15.696524500Z",
     "start_time": "2024-03-18T01:43:15.689218300Z"
    }
   },
   "id": "1b5b5d1efd6f31e3",
   "execution_count": 37
  },
  {
   "cell_type": "code",
   "outputs": [
    {
     "data": {
      "text/plain": "({'chunk_id': b'RIFF',\n  'chunk_size': 45019060,\n  'format': b'WAVE',\n  'subchunk1_id': b'fmt ',\n  'subchunk1_size': 16,\n  'audio_format': 1,\n  'num_channels': 1,\n  'sample_rate': 10000,\n  'byte_rate': 20000,\n  'block_align': 2,\n  'bits_per_sample': 16},\n {'harp_subchunk_id': b'harp',\n  'harp_subchunk_size': 1016,\n  'wav_version_number': 1,\n  'firmware_version_number': b'1.17\\x00\\x00\\x00\\x00\\x00\\x00',\n  'instrument_id': b'DL11',\n  'site_name': b'XXXX',\n  'experiment_name': b'Cross_01',\n  'disk_sequence_number': 9,\n  'disk_serial_number': b'12345678',\n  'num_of_raw_files': 30,\n  'longitude': -158.25383,\n  'latitude': 18.72208,\n  'depth': 398,\n  'reserved': b'\\x00\\x00\\x00\\x00\\x00\\x00\\x00\\x00'},\n defaultdict(dict,\n             {0: {'year': 5,\n               'month': 8,\n               'day': 1,\n               'hour': 11,\n               'minute': 5,\n               'second': 0,\n               'ticks': 0,\n               'byte_loc': 1068,\n               'byte_len': 1500000,\n               'write_length': 3000,\n               'sample_rate': 10000,\n               'gain': 1,\n               'padding': b''},\n              1: {'year': 5,\n               'month': 8,\n               'day': 1,\n               'hour': 11,\n               'minute': 6,\n               'second': 15,\n               'ticks': 0,\n               'byte_loc': 1501068,\n               'byte_len': 1500000,\n               'write_length': 3000,\n               'sample_rate': 10000,\n               'gain': 1,\n               'padding': b''},\n              2: {'year': 5,\n               'month': 8,\n               'day': 1,\n               'hour': 11,\n               'minute': 7,\n               'second': 30,\n               'ticks': 0,\n               'byte_loc': 3001068,\n               'byte_len': 1500000,\n               'write_length': 3000,\n               'sample_rate': 10000,\n               'gain': 1,\n               'padding': b''},\n              3: {'year': 5,\n               'month': 8,\n               'day': 1,\n               'hour': 11,\n               'minute': 8,\n               'second': 45,\n               'ticks': 0,\n               'byte_loc': 4501068,\n               'byte_len': 1500000,\n               'write_length': 3000,\n               'sample_rate': 10000,\n               'gain': 1,\n               'padding': b''},\n              4: {'year': 5,\n               'month': 8,\n               'day': 1,\n               'hour': 11,\n               'minute': 30,\n               'second': 0,\n               'ticks': 0,\n               'byte_loc': 6001068,\n               'byte_len': 1500000,\n               'write_length': 3000,\n               'sample_rate': 10000,\n               'gain': 1,\n               'padding': b''},\n              5: {'year': 5,\n               'month': 8,\n               'day': 1,\n               'hour': 11,\n               'minute': 55,\n               'second': 0,\n               'ticks': 0,\n               'byte_loc': 7501068,\n               'byte_len': 1500000,\n               'write_length': 3000,\n               'sample_rate': 10000,\n               'gain': 1,\n               'padding': b''},\n              6: {'year': 5,\n               'month': 8,\n               'day': 1,\n               'hour': 11,\n               'minute': 56,\n               'second': 15,\n               'ticks': 0,\n               'byte_loc': 9001068,\n               'byte_len': 1500000,\n               'write_length': 3000,\n               'sample_rate': 10000,\n               'gain': 1,\n               'padding': b''},\n              7: {'year': 5,\n               'month': 8,\n               'day': 1,\n               'hour': 11,\n               'minute': 57,\n               'second': 30,\n               'ticks': 0,\n               'byte_loc': 10501068,\n               'byte_len': 1500000,\n               'write_length': 3000,\n               'sample_rate': 10000,\n               'gain': 1,\n               'padding': b''},\n              8: {'year': 5,\n               'month': 8,\n               'day': 1,\n               'hour': 11,\n               'minute': 59,\n               'second': 52,\n               'ticks': 920,\n               'byte_loc': 12001068,\n               'byte_len': 1518000,\n               'write_length': 3036,\n               'sample_rate': 10000,\n               'gain': 1,\n               'padding': b''},\n              9: {'year': 5,\n               'month': 8,\n               'day': 1,\n               'hour': 12,\n               'minute': 20,\n               'second': 0,\n               'ticks': 0,\n               'byte_loc': 13519068,\n               'byte_len': 1500000,\n               'write_length': 3000,\n               'sample_rate': 10000,\n               'gain': 1,\n               'padding': b''},\n              10: {'year': 5,\n               'month': 8,\n               'day': 1,\n               'hour': 12,\n               'minute': 21,\n               'second': 15,\n               'ticks': 0,\n               'byte_loc': 15019068,\n               'byte_len': 1500000,\n               'write_length': 3000,\n               'sample_rate': 10000,\n               'gain': 1,\n               'padding': b''},\n              11: {'year': 5,\n               'month': 8,\n               'day': 1,\n               'hour': 12,\n               'minute': 22,\n               'second': 30,\n               'ticks': 0,\n               'byte_loc': 16519068,\n               'byte_len': 1500000,\n               'write_length': 3000,\n               'sample_rate': 10000,\n               'gain': 1,\n               'padding': b''},\n              12: {'year': 5,\n               'month': 8,\n               'day': 1,\n               'hour': 12,\n               'minute': 23,\n               'second': 45,\n               'ticks': 0,\n               'byte_loc': 18019068,\n               'byte_len': 1500000,\n               'write_length': 3000,\n               'sample_rate': 10000,\n               'gain': 1,\n               'padding': b''},\n              13: {'year': 5,\n               'month': 8,\n               'day': 1,\n               'hour': 12,\n               'minute': 45,\n               'second': 0,\n               'ticks': 0,\n               'byte_loc': 19519068,\n               'byte_len': 1500000,\n               'write_length': 3000,\n               'sample_rate': 10000,\n               'gain': 1,\n               'padding': b''},\n              14: {'year': 5,\n               'month': 8,\n               'day': 1,\n               'hour': 12,\n               'minute': 46,\n               'second': 15,\n               'ticks': 0,\n               'byte_loc': 21019068,\n               'byte_len': 1500000,\n               'write_length': 3000,\n               'sample_rate': 10000,\n               'gain': 1,\n               'padding': b''},\n              15: {'year': 5,\n               'month': 8,\n               'day': 1,\n               'hour': 12,\n               'minute': 47,\n               'second': 30,\n               'ticks': 0,\n               'byte_loc': 22519068,\n               'byte_len': 1500000,\n               'write_length': 3000,\n               'sample_rate': 10000,\n               'gain': 1,\n               'padding': b''},\n              16: {'year': 5,\n               'month': 8,\n               'day': 1,\n               'hour': 12,\n               'minute': 48,\n               'second': 45,\n               'ticks': 0,\n               'byte_loc': 24019068,\n               'byte_len': 1500000,\n               'write_length': 3000,\n               'sample_rate': 10000,\n               'gain': 1,\n               'padding': b''},\n              17: {'year': 5,\n               'month': 8,\n               'day': 1,\n               'hour': 13,\n               'minute': 10,\n               'second': 0,\n               'ticks': 0,\n               'byte_loc': 25519068,\n               'byte_len': 1500000,\n               'write_length': 3000,\n               'sample_rate': 10000,\n               'gain': 1,\n               'padding': b''},\n              18: {'year': 5,\n               'month': 8,\n               'day': 1,\n               'hour': 13,\n               'minute': 11,\n               'second': 15,\n               'ticks': 0,\n               'byte_loc': 27019068,\n               'byte_len': 1500000,\n               'write_length': 3000,\n               'sample_rate': 10000,\n               'gain': 1,\n               'padding': b''},\n              19: {'year': 5,\n               'month': 8,\n               'day': 1,\n               'hour': 13,\n               'minute': 12,\n               'second': 30,\n               'ticks': 0,\n               'byte_loc': 28519068,\n               'byte_len': 1500000,\n               'write_length': 3000,\n               'sample_rate': 10000,\n               'gain': 1,\n               'padding': b''},\n              20: {'year': 5,\n               'month': 8,\n               'day': 1,\n               'hour': 13,\n               'minute': 13,\n               'second': 45,\n               'ticks': 0,\n               'byte_loc': 30019068,\n               'byte_len': 1500000,\n               'write_length': 3000,\n               'sample_rate': 10000,\n               'gain': 1,\n               'padding': b''},\n              21: {'year': 5,\n               'month': 8,\n               'day': 1,\n               'hour': 13,\n               'minute': 35,\n               'second': 0,\n               'ticks': 0,\n               'byte_loc': 31519068,\n               'byte_len': 1500000,\n               'write_length': 3000,\n               'sample_rate': 10000,\n               'gain': 1,\n               'padding': b''},\n              22: {'year': 5,\n               'month': 8,\n               'day': 1,\n               'hour': 13,\n               'minute': 36,\n               'second': 15,\n               'ticks': 0,\n               'byte_loc': 33019068,\n               'byte_len': 1500000,\n               'write_length': 3000,\n               'sample_rate': 10000,\n               'gain': 1,\n               'padding': b''},\n              23: {'year': 5,\n               'month': 8,\n               'day': 1,\n               'hour': 13,\n               'minute': 37,\n               'second': 30,\n               'ticks': 0,\n               'byte_loc': 34519068,\n               'byte_len': 1500000,\n               'write_length': 3000,\n               'sample_rate': 10000,\n               'gain': 1,\n               'padding': b''},\n              24: {'year': 5,\n               'month': 8,\n               'day': 1,\n               'hour': 13,\n               'minute': 38,\n               'second': 45,\n               'ticks': 0,\n               'byte_loc': 36019068,\n               'byte_len': 1500000,\n               'write_length': 3000,\n               'sample_rate': 10000,\n               'gain': 1,\n               'padding': b''},\n              25: {'year': 5,\n               'month': 8,\n               'day': 1,\n               'hour': 14,\n               'minute': 0,\n               'second': 0,\n               'ticks': 0,\n               'byte_loc': 37519068,\n               'byte_len': 1500000,\n               'write_length': 3000,\n               'sample_rate': 10000,\n               'gain': 1,\n               'padding': b''},\n              26: {'year': 5,\n               'month': 8,\n               'day': 1,\n               'hour': 14,\n               'minute': 1,\n               'second': 15,\n               'ticks': 0,\n               'byte_loc': 39019068,\n               'byte_len': 1500000,\n               'write_length': 3000,\n               'sample_rate': 10000,\n               'gain': 1,\n               'padding': b''},\n              27: {'year': 5,\n               'month': 8,\n               'day': 1,\n               'hour': 14,\n               'minute': 2,\n               'second': 30,\n               'ticks': 0,\n               'byte_loc': 40519068,\n               'byte_len': 1500000,\n               'write_length': 3000,\n               'sample_rate': 10000,\n               'gain': 1,\n               'padding': b''},\n              28: {'year': 5,\n               'month': 8,\n               'day': 1,\n               'hour': 14,\n               'minute': 3,\n               'second': 45,\n               'ticks': 0,\n               'byte_loc': 42019068,\n               'byte_len': 1500000,\n               'write_length': 3000,\n               'sample_rate': 10000,\n               'gain': 1,\n               'padding': b''},\n              29: {'year': 5,\n               'month': 8,\n               'day': 1,\n               'hour': 14,\n               'minute': 25,\n               'second': 0,\n               'ticks': 0,\n               'byte_loc': 43519068,\n               'byte_len': 1500000,\n               'write_length': 3000,\n               'sample_rate': 10000,\n               'gain': 1,\n               'padding': b''}}))"
     },
     "execution_count": 39,
     "metadata": {},
     "output_type": "execute_result"
    }
   ],
   "source": [
    "read_xwav_header(\"data/audio_data/uncompressed/Cross_A_01_050801_110500.d20.x.wav\")"
   ],
   "metadata": {
    "collapsed": false,
    "ExecuteTime": {
     "end_time": "2024-03-18T01:44:40.487652Z",
     "start_time": "2024-03-18T01:44:40.455736200Z"
    }
   },
   "id": "db296a85a7c9f94a",
   "execution_count": 39
  },
  {
   "cell_type": "code",
   "outputs": [],
   "source": [],
   "metadata": {
    "collapsed": false
   },
   "id": "42d1b5ea63d63f7c"
  }
 ],
 "metadata": {
  "kernelspec": {
   "display_name": "Python 3",
   "language": "python",
   "name": "python3"
  },
  "language_info": {
   "codemirror_mode": {
    "name": "ipython",
    "version": 2
   },
   "file_extension": ".py",
   "mimetype": "text/x-python",
   "name": "python",
   "nbconvert_exporter": "python",
   "pygments_lexer": "ipython2",
   "version": "2.7.6"
  }
 },
 "nbformat": 4,
 "nbformat_minor": 5
}
