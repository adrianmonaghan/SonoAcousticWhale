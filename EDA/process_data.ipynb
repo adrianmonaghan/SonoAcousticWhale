{
 "cells": [
  {
   "cell_type": "code",
   "execution_count": 1,
   "id": "initial_id",
   "metadata": {
    "collapsed": true,
    "ExecuteTime": {
     "end_time": "2024-03-27T02:59:26.755174900Z",
     "start_time": "2024-03-27T02:59:22.714285600Z"
    }
   },
   "outputs": [],
   "source": [
    "import tensorflow_hub as hub\n",
    "import pandas as pd\n",
    "import matplotlib.pyplot as plt\n",
    "import os\n",
    "import tensorflow as tf\n",
    "from python_scripts.read_xwav_header import read_xwav_header\n",
    "import sys\n",
    "os.environ[\"KMP_DUPLICATE_LIB_OK\"]=\"TRUE\"\n",
    "import pickle"
   ]
  },
  {
   "cell_type": "code",
   "outputs": [],
   "source": [
    "model = hub.load('https://www.kaggle.com/models/google/humpback-whale/frameworks/TensorFlow2/variations/humpback-whale/versions/1')"
   ],
   "metadata": {
    "collapsed": false,
    "ExecuteTime": {
     "end_time": "2024-03-27T03:01:53.597468300Z",
     "start_time": "2024-03-27T03:01:24.877434900Z"
    }
   },
   "id": "a52ccd3213b688a0",
   "execution_count": 2
  },
  {
   "cell_type": "code",
   "outputs": [
    {
     "data": {
      "text/plain": "  audit_name                        flac_compressed_xwav_object  \\\n0    initial  gs://noaa-passive-bioacoustic/pifsc/audio/pipa...   \n1    initial  gs://noaa-passive-bioacoustic/pifsc/audio/pipa...   \n2    initial  gs://noaa-passive-bioacoustic/pifsc/audio/pipa...   \n3    initial  gs://noaa-passive-bioacoustic/pifsc/audio/pipa...   \n4    initial  gs://noaa-passive-bioacoustic/pifsc/audio/pipa...   \n\n   subchunk_index  label_is_strong  implicit_negatives  label  \\\n0               1             True                True  Other   \n1              13             True                True  Other   \n2               5             True                True  Other   \n3              17             True                True  Other   \n4              22             True                True  Other   \n\n   begin_rel_subchunk  end_rel_subchunk                         begin_utc  \\\n0               0.213             0.213  2005-06-06 13:00:00.213000+00:00   \n1               0.108             0.108  2005-06-06 14:15:00.108000+00:00   \n2               0.143             0.143  2005-07-02 04:00:00.143000+00:00   \n3               0.213             0.213  2005-07-02 05:15:00.213000+00:00   \n4               0.213             0.213  2005-08-01 10:15:00.213000+00:00   \n\n                            end_utc  \n0  2005-06-06 13:00:00.213000+00:00  \n1  2005-06-06 14:15:00.108000+00:00  \n2  2005-07-02 04:00:00.143000+00:00  \n3  2005-07-02 05:15:00.213000+00:00  \n4  2005-08-01 10:15:00.213000+00:00  ",
      "text/html": "<div>\n<style scoped>\n    .dataframe tbody tr th:only-of-type {\n        vertical-align: middle;\n    }\n\n    .dataframe tbody tr th {\n        vertical-align: top;\n    }\n\n    .dataframe thead th {\n        text-align: right;\n    }\n</style>\n<table border=\"1\" class=\"dataframe\">\n  <thead>\n    <tr style=\"text-align: right;\">\n      <th></th>\n      <th>audit_name</th>\n      <th>flac_compressed_xwav_object</th>\n      <th>subchunk_index</th>\n      <th>label_is_strong</th>\n      <th>implicit_negatives</th>\n      <th>label</th>\n      <th>begin_rel_subchunk</th>\n      <th>end_rel_subchunk</th>\n      <th>begin_utc</th>\n      <th>end_utc</th>\n    </tr>\n  </thead>\n  <tbody>\n    <tr>\n      <th>0</th>\n      <td>initial</td>\n      <td>gs://noaa-passive-bioacoustic/pifsc/audio/pipa...</td>\n      <td>1</td>\n      <td>True</td>\n      <td>True</td>\n      <td>Other</td>\n      <td>0.213</td>\n      <td>0.213</td>\n      <td>2005-06-06 13:00:00.213000+00:00</td>\n      <td>2005-06-06 13:00:00.213000+00:00</td>\n    </tr>\n    <tr>\n      <th>1</th>\n      <td>initial</td>\n      <td>gs://noaa-passive-bioacoustic/pifsc/audio/pipa...</td>\n      <td>13</td>\n      <td>True</td>\n      <td>True</td>\n      <td>Other</td>\n      <td>0.108</td>\n      <td>0.108</td>\n      <td>2005-06-06 14:15:00.108000+00:00</td>\n      <td>2005-06-06 14:15:00.108000+00:00</td>\n    </tr>\n    <tr>\n      <th>2</th>\n      <td>initial</td>\n      <td>gs://noaa-passive-bioacoustic/pifsc/audio/pipa...</td>\n      <td>5</td>\n      <td>True</td>\n      <td>True</td>\n      <td>Other</td>\n      <td>0.143</td>\n      <td>0.143</td>\n      <td>2005-07-02 04:00:00.143000+00:00</td>\n      <td>2005-07-02 04:00:00.143000+00:00</td>\n    </tr>\n    <tr>\n      <th>3</th>\n      <td>initial</td>\n      <td>gs://noaa-passive-bioacoustic/pifsc/audio/pipa...</td>\n      <td>17</td>\n      <td>True</td>\n      <td>True</td>\n      <td>Other</td>\n      <td>0.213</td>\n      <td>0.213</td>\n      <td>2005-07-02 05:15:00.213000+00:00</td>\n      <td>2005-07-02 05:15:00.213000+00:00</td>\n    </tr>\n    <tr>\n      <th>4</th>\n      <td>initial</td>\n      <td>gs://noaa-passive-bioacoustic/pifsc/audio/pipa...</td>\n      <td>22</td>\n      <td>True</td>\n      <td>True</td>\n      <td>Other</td>\n      <td>0.213</td>\n      <td>0.213</td>\n      <td>2005-08-01 10:15:00.213000+00:00</td>\n      <td>2005-08-01 10:15:00.213000+00:00</td>\n    </tr>\n  </tbody>\n</table>\n</div>"
     },
     "execution_count": 3,
     "metadata": {},
     "output_type": "execute_result"
    }
   ],
   "source": [
    "annot = pd.read_csv(\"data/pifsc_products_detections_annotations.csv\")\n",
    "annot.head()"
   ],
   "metadata": {
    "collapsed": false,
    "ExecuteTime": {
     "end_time": "2024-03-27T03:01:56.057236400Z",
     "start_time": "2024-03-27T03:01:55.882376200Z"
    }
   },
   "id": "15e1d1ac28fd5801",
   "execution_count": 3
  },
  {
   "cell_type": "code",
   "outputs": [
    {
     "data": {
      "text/plain": "5489"
     },
     "execution_count": 4,
     "metadata": {},
     "output_type": "execute_result"
    }
   ],
   "source": [
    "annot[\"flac_compressed_xwav_object\"].nunique()"
   ],
   "metadata": {
    "collapsed": false,
    "ExecuteTime": {
     "end_time": "2024-03-27T03:03:53.631426500Z",
     "start_time": "2024-03-27T03:03:53.564576100Z"
    }
   },
   "id": "d1e1f259f8b97bde",
   "execution_count": 4
  },
  {
   "cell_type": "code",
   "outputs": [
    {
     "data": {
      "text/plain": "['Cross_A_01_050606_123845.d20.x.wav',\n 'Cross_A_01_050702_031345.d20.x.wav',\n 'Cross_A_01_050801_074615.d20.x.wav',\n 'Cross_A_01_050801_110500.d20.x.wav',\n 'Cross_A_01_050908_025000.d20.x.wav',\n 'Equator_A_01_120313_165615.df20.x.wav',\n 'Equator_A_01_120419_012845.df20.x.wav',\n 'Hawaii_K_01_070813_065730.d20.x.wav',\n 'Hawaii_K_01_070813_073500.d20.x.wav',\n 'Hawaii_K_01_070915_204730.d20.x.wav',\n 'Hawaii_K_01_070915_212500.d20.x.wav',\n 'Hawaii_K_02_080506_173715.d20.x.wav',\n 'Hawaii_K_02_080506_183545.d20.x.wav',\n 'Hawaii_K_02_080609_205945.d20.x.wav',\n 'Hawaii_K_02_080702_115545.d20.x.wav',\n 'Hawaii_K_02_080702_125715.d20.x.wav',\n 'Hawaii_K_03_080807_141730.d20.x.wav',\n 'Hawaii_K_03_080807_161500.d20.x.wav',\n 'Hawaii_K_03_080815_114500.d20.x.wav',\n 'Hawaii_K_03_080921_234730.d20.x.wav',\n 'Hawaii_K_03_080922_014500.d20.x.wav',\n 'Hawaii_K_03_081010_164730.d20.x.wav',\n 'Hawaii_K_06_090505_164500.d20.x.wav']"
     },
     "execution_count": 10,
     "metadata": {},
     "output_type": "execute_result"
    }
   ],
   "source": [
    "uncompressed_files = os.listdir(\"data/audio_data/uncompressed\")\n",
    "uncompressed_files"
   ],
   "metadata": {
    "collapsed": false,
    "ExecuteTime": {
     "end_time": "2024-03-27T03:05:54.588186800Z",
     "start_time": "2024-03-27T03:05:54.569217200Z"
    }
   },
   "id": "2910ac52f731c615",
   "execution_count": 10
  },
  {
   "cell_type": "code",
   "outputs": [],
   "source": [
    "lst = []\n",
    "for file in uncompressed_files:\n",
    "    data = {}\n",
    "    if \"Equator\" in file:\n",
    "        continue\n",
    "    file_path = f\"data/audio_data/uncompressed/{file}\"\n",
    "    data[\"file_name\"] = file\n",
    "    data[\"file_path\"] = file_path\n",
    "    data[\"header\"] = read_xwav_header(file_path)\n",
    "    \n",
    "    waveform, sample_rate = tf.audio.decode_wav(tf.io.read_file(file_path))\n",
    "    \n",
    "    w = tf.expand_dims(waveform, 0)\n",
    "    del waveform\n",
    "    pcen_spec = model.front_end(w)\n",
    "    del w\n",
    "    data[\"pcen_spec\"] = pcen_spec\n",
    "    lst.append(data)"
   ],
   "metadata": {
    "collapsed": false,
    "ExecuteTime": {
     "end_time": "2024-03-27T03:07:25.991590100Z",
     "start_time": "2024-03-27T03:06:09.951490700Z"
    }
   },
   "id": "f1f093cd21a6b2ff",
   "execution_count": 11
  },
  {
   "cell_type": "code",
   "outputs": [],
   "source": [
    "with open(\"data/audio_data/processed/first_spcs.pkl\", \"wb\") as f:\n",
    "    pickle.dump(lst, f)"
   ],
   "metadata": {
    "collapsed": false,
    "ExecuteTime": {
     "end_time": "2024-03-27T03:07:45.099194900Z",
     "start_time": "2024-03-27T03:07:44.687346400Z"
    }
   },
   "id": "ae922ef8b22cf540",
   "execution_count": 12
  },
  {
   "cell_type": "code",
   "outputs": [],
   "source": [
    "f = \"data/audio_data/uncompressed/Cross_A_01_050801_110500.d20.x.wav\"\n",
    "waveform, sample_rate = tf.audio.decode_wav(tf.io.read_file(f))"
   ],
   "metadata": {
    "collapsed": false,
    "ExecuteTime": {
     "end_time": "2024-03-27T03:12:55.649030300Z",
     "start_time": "2024-03-27T03:12:55.100347500Z"
    }
   },
   "id": "6cfe4246be8955a3",
   "execution_count": 30
  },
  {
   "cell_type": "code",
   "outputs": [
    {
     "data": {
      "text/plain": "<tf.Tensor: shape=(22509000, 1), dtype=float32, numpy=\narray([[0.01321411],\n       [0.00869751],\n       [0.00982666],\n       ...,\n       [0.01013184],\n       [0.01025391],\n       [0.01025391]], dtype=float32)>"
     },
     "execution_count": 37,
     "metadata": {},
     "output_type": "execute_result"
    }
   ],
   "source": [
    "waveform"
   ],
   "metadata": {
    "collapsed": false,
    "ExecuteTime": {
     "end_time": "2024-03-18T01:43:15.696524500Z",
     "start_time": "2024-03-18T01:43:15.689218300Z"
    }
   },
   "id": "1b5b5d1efd6f31e3",
   "execution_count": 37
  },
  {
   "cell_type": "code",
   "outputs": [
    {
     "data": {
      "text/plain": "({'chunk_id': b'RIFF',\n  'chunk_size': 45019060,\n  'format': b'WAVE',\n  'subchunk1_id': b'fmt ',\n  'subchunk1_size': 16,\n  'audio_format': 1,\n  'num_channels': 1,\n  'sample_rate': 10000,\n  'byte_rate': 20000,\n  'block_align': 2,\n  'bits_per_sample': 16},\n {'harp_subchunk_id': b'harp',\n  'harp_subchunk_size': 1016,\n  'wav_version_number': 1,\n  'firmware_version_number': b'1.17\\x00\\x00\\x00\\x00\\x00\\x00',\n  'instrument_id': b'DL11',\n  'site_name': b'XXXX',\n  'experiment_name': b'Cross_01',\n  'disk_sequence_number': 9,\n  'disk_serial_number': b'12345678',\n  'num_of_raw_files': 30,\n  'longitude': -158.25383,\n  'latitude': 18.72208,\n  'depth': 398,\n  'reserved': b'\\x00\\x00\\x00\\x00\\x00\\x00\\x00\\x00'},\n defaultdict(dict,\n             {0: {'year': 5,\n               'month': 8,\n               'day': 1,\n               'hour': 11,\n               'minute': 5,\n               'second': 0,\n               'ticks': 0,\n               'byte_loc': 1068,\n               'byte_len': 1500000,\n               'write_length': 3000,\n               'sample_rate': 10000,\n               'gain': 1,\n               'padding': b''},\n              1: {'year': 5,\n               'month': 8,\n               'day': 1,\n               'hour': 11,\n               'minute': 6,\n               'second': 15,\n               'ticks': 0,\n               'byte_loc': 1501068,\n               'byte_len': 1500000,\n               'write_length': 3000,\n               'sample_rate': 10000,\n               'gain': 1,\n               'padding': b''},\n              2: {'year': 5,\n               'month': 8,\n               'day': 1,\n               'hour': 11,\n               'minute': 7,\n               'second': 30,\n               'ticks': 0,\n               'byte_loc': 3001068,\n               'byte_len': 1500000,\n               'write_length': 3000,\n               'sample_rate': 10000,\n               'gain': 1,\n               'padding': b''},\n              3: {'year': 5,\n               'month': 8,\n               'day': 1,\n               'hour': 11,\n               'minute': 8,\n               'second': 45,\n               'ticks': 0,\n               'byte_loc': 4501068,\n               'byte_len': 1500000,\n               'write_length': 3000,\n               'sample_rate': 10000,\n               'gain': 1,\n               'padding': b''},\n              4: {'year': 5,\n               'month': 8,\n               'day': 1,\n               'hour': 11,\n               'minute': 30,\n               'second': 0,\n               'ticks': 0,\n               'byte_loc': 6001068,\n               'byte_len': 1500000,\n               'write_length': 3000,\n               'sample_rate': 10000,\n               'gain': 1,\n               'padding': b''},\n              5: {'year': 5,\n               'month': 8,\n               'day': 1,\n               'hour': 11,\n               'minute': 55,\n               'second': 0,\n               'ticks': 0,\n               'byte_loc': 7501068,\n               'byte_len': 1500000,\n               'write_length': 3000,\n               'sample_rate': 10000,\n               'gain': 1,\n               'padding': b''},\n              6: {'year': 5,\n               'month': 8,\n               'day': 1,\n               'hour': 11,\n               'minute': 56,\n               'second': 15,\n               'ticks': 0,\n               'byte_loc': 9001068,\n               'byte_len': 1500000,\n               'write_length': 3000,\n               'sample_rate': 10000,\n               'gain': 1,\n               'padding': b''},\n              7: {'year': 5,\n               'month': 8,\n               'day': 1,\n               'hour': 11,\n               'minute': 57,\n               'second': 30,\n               'ticks': 0,\n               'byte_loc': 10501068,\n               'byte_len': 1500000,\n               'write_length': 3000,\n               'sample_rate': 10000,\n               'gain': 1,\n               'padding': b''},\n              8: {'year': 5,\n               'month': 8,\n               'day': 1,\n               'hour': 11,\n               'minute': 59,\n               'second': 52,\n               'ticks': 920,\n               'byte_loc': 12001068,\n               'byte_len': 1518000,\n               'write_length': 3036,\n               'sample_rate': 10000,\n               'gain': 1,\n               'padding': b''},\n              9: {'year': 5,\n               'month': 8,\n               'day': 1,\n               'hour': 12,\n               'minute': 20,\n               'second': 0,\n               'ticks': 0,\n               'byte_loc': 13519068,\n               'byte_len': 1500000,\n               'write_length': 3000,\n               'sample_rate': 10000,\n               'gain': 1,\n               'padding': b''},\n              10: {'year': 5,\n               'month': 8,\n               'day': 1,\n               'hour': 12,\n               'minute': 21,\n               'second': 15,\n               'ticks': 0,\n               'byte_loc': 15019068,\n               'byte_len': 1500000,\n               'write_length': 3000,\n               'sample_rate': 10000,\n               'gain': 1,\n               'padding': b''},\n              11: {'year': 5,\n               'month': 8,\n               'day': 1,\n               'hour': 12,\n               'minute': 22,\n               'second': 30,\n               'ticks': 0,\n               'byte_loc': 16519068,\n               'byte_len': 1500000,\n               'write_length': 3000,\n               'sample_rate': 10000,\n               'gain': 1,\n               'padding': b''},\n              12: {'year': 5,\n               'month': 8,\n               'day': 1,\n               'hour': 12,\n               'minute': 23,\n               'second': 45,\n               'ticks': 0,\n               'byte_loc': 18019068,\n               'byte_len': 1500000,\n               'write_length': 3000,\n               'sample_rate': 10000,\n               'gain': 1,\n               'padding': b''},\n              13: {'year': 5,\n               'month': 8,\n               'day': 1,\n               'hour': 12,\n               'minute': 45,\n               'second': 0,\n               'ticks': 0,\n               'byte_loc': 19519068,\n               'byte_len': 1500000,\n               'write_length': 3000,\n               'sample_rate': 10000,\n               'gain': 1,\n               'padding': b''},\n              14: {'year': 5,\n               'month': 8,\n               'day': 1,\n               'hour': 12,\n               'minute': 46,\n               'second': 15,\n               'ticks': 0,\n               'byte_loc': 21019068,\n               'byte_len': 1500000,\n               'write_length': 3000,\n               'sample_rate': 10000,\n               'gain': 1,\n               'padding': b''},\n              15: {'year': 5,\n               'month': 8,\n               'day': 1,\n               'hour': 12,\n               'minute': 47,\n               'second': 30,\n               'ticks': 0,\n               'byte_loc': 22519068,\n               'byte_len': 1500000,\n               'write_length': 3000,\n               'sample_rate': 10000,\n               'gain': 1,\n               'padding': b''},\n              16: {'year': 5,\n               'month': 8,\n               'day': 1,\n               'hour': 12,\n               'minute': 48,\n               'second': 45,\n               'ticks': 0,\n               'byte_loc': 24019068,\n               'byte_len': 1500000,\n               'write_length': 3000,\n               'sample_rate': 10000,\n               'gain': 1,\n               'padding': b''},\n              17: {'year': 5,\n               'month': 8,\n               'day': 1,\n               'hour': 13,\n               'minute': 10,\n               'second': 0,\n               'ticks': 0,\n               'byte_loc': 25519068,\n               'byte_len': 1500000,\n               'write_length': 3000,\n               'sample_rate': 10000,\n               'gain': 1,\n               'padding': b''},\n              18: {'year': 5,\n               'month': 8,\n               'day': 1,\n               'hour': 13,\n               'minute': 11,\n               'second': 15,\n               'ticks': 0,\n               'byte_loc': 27019068,\n               'byte_len': 1500000,\n               'write_length': 3000,\n               'sample_rate': 10000,\n               'gain': 1,\n               'padding': b''},\n              19: {'year': 5,\n               'month': 8,\n               'day': 1,\n               'hour': 13,\n               'minute': 12,\n               'second': 30,\n               'ticks': 0,\n               'byte_loc': 28519068,\n               'byte_len': 1500000,\n               'write_length': 3000,\n               'sample_rate': 10000,\n               'gain': 1,\n               'padding': b''},\n              20: {'year': 5,\n               'month': 8,\n               'day': 1,\n               'hour': 13,\n               'minute': 13,\n               'second': 45,\n               'ticks': 0,\n               'byte_loc': 30019068,\n               'byte_len': 1500000,\n               'write_length': 3000,\n               'sample_rate': 10000,\n               'gain': 1,\n               'padding': b''},\n              21: {'year': 5,\n               'month': 8,\n               'day': 1,\n               'hour': 13,\n               'minute': 35,\n               'second': 0,\n               'ticks': 0,\n               'byte_loc': 31519068,\n               'byte_len': 1500000,\n               'write_length': 3000,\n               'sample_rate': 10000,\n               'gain': 1,\n               'padding': b''},\n              22: {'year': 5,\n               'month': 8,\n               'day': 1,\n               'hour': 13,\n               'minute': 36,\n               'second': 15,\n               'ticks': 0,\n               'byte_loc': 33019068,\n               'byte_len': 1500000,\n               'write_length': 3000,\n               'sample_rate': 10000,\n               'gain': 1,\n               'padding': b''},\n              23: {'year': 5,\n               'month': 8,\n               'day': 1,\n               'hour': 13,\n               'minute': 37,\n               'second': 30,\n               'ticks': 0,\n               'byte_loc': 34519068,\n               'byte_len': 1500000,\n               'write_length': 3000,\n               'sample_rate': 10000,\n               'gain': 1,\n               'padding': b''},\n              24: {'year': 5,\n               'month': 8,\n               'day': 1,\n               'hour': 13,\n               'minute': 38,\n               'second': 45,\n               'ticks': 0,\n               'byte_loc': 36019068,\n               'byte_len': 1500000,\n               'write_length': 3000,\n               'sample_rate': 10000,\n               'gain': 1,\n               'padding': b''},\n              25: {'year': 5,\n               'month': 8,\n               'day': 1,\n               'hour': 14,\n               'minute': 0,\n               'second': 0,\n               'ticks': 0,\n               'byte_loc': 37519068,\n               'byte_len': 1500000,\n               'write_length': 3000,\n               'sample_rate': 10000,\n               'gain': 1,\n               'padding': b''},\n              26: {'year': 5,\n               'month': 8,\n               'day': 1,\n               'hour': 14,\n               'minute': 1,\n               'second': 15,\n               'ticks': 0,\n               'byte_loc': 39019068,\n               'byte_len': 1500000,\n               'write_length': 3000,\n               'sample_rate': 10000,\n               'gain': 1,\n               'padding': b''},\n              27: {'year': 5,\n               'month': 8,\n               'day': 1,\n               'hour': 14,\n               'minute': 2,\n               'second': 30,\n               'ticks': 0,\n               'byte_loc': 40519068,\n               'byte_len': 1500000,\n               'write_length': 3000,\n               'sample_rate': 10000,\n               'gain': 1,\n               'padding': b''},\n              28: {'year': 5,\n               'month': 8,\n               'day': 1,\n               'hour': 14,\n               'minute': 3,\n               'second': 45,\n               'ticks': 0,\n               'byte_loc': 42019068,\n               'byte_len': 1500000,\n               'write_length': 3000,\n               'sample_rate': 10000,\n               'gain': 1,\n               'padding': b''},\n              29: {'year': 5,\n               'month': 8,\n               'day': 1,\n               'hour': 14,\n               'minute': 25,\n               'second': 0,\n               'ticks': 0,\n               'byte_loc': 43519068,\n               'byte_len': 1500000,\n               'write_length': 3000,\n               'sample_rate': 10000,\n               'gain': 1,\n               'padding': b''}}))"
     },
     "execution_count": 39,
     "metadata": {},
     "output_type": "execute_result"
    }
   ],
   "source": [
    "read_xwav_header(\"data/audio_data/uncompressed/Cross_A_01_050801_110500.d20.x.wav\")"
   ],
   "metadata": {
    "collapsed": false,
    "ExecuteTime": {
     "end_time": "2024-03-18T01:44:40.487652Z",
     "start_time": "2024-03-18T01:44:40.455736200Z"
    }
   },
   "id": "db296a85a7c9f94a",
   "execution_count": 39
  },
  {
   "cell_type": "code",
   "outputs": [],
   "source": [
    "with open(\"data/audio_data/processed/first_spcs.pkl\", \"rb\") as f:\n",
    "    data = pickle.load(f)"
   ],
   "metadata": {
    "collapsed": false,
    "ExecuteTime": {
     "end_time": "2024-03-27T03:04:44.154403Z",
     "start_time": "2024-03-27T03:04:44.113348200Z"
    }
   },
   "id": "42d1b5ea63d63f7c",
   "execution_count": 6
  },
  {
   "cell_type": "code",
   "outputs": [
    {
     "data": {
      "text/plain": "{'file_name': 'Cross_A_01_050606_123845.d20.x.wav',\n 'file_path': 'data/audio_data/uncompressed/Cross_A_01_050606_123845.d20.x.wav',\n 'header': ({'chunk_id': b'RIFF',\n   'chunk_size': 45001060,\n   'format': b'WAVE',\n   'subchunk1_id': b'fmt ',\n   'subchunk1_size': 16,\n   'audio_format': 1,\n   'num_channels': 1,\n   'sample_rate': 10000,\n   'byte_rate': 20000,\n   'block_align': 2,\n   'bits_per_sample': 16},\n  {'harp_subchunk_id': b'harp',\n   'harp_subchunk_size': 1016,\n   'wav_version_number': 1,\n   'firmware_version_number': b'1.17\\x00\\x00\\x00\\x00\\x00\\x00',\n   'instrument_id': b'DL13',\n   'site_name': b'CSM1',\n   'experiment_name': b'Cross_01',\n   'disk_sequence_number': 4,\n   'disk_serial_number': b'12345678',\n   'num_of_raw_files': 30,\n   'longitude': -18.43343,\n   'latitude': 158.15221,\n   'depth': 396,\n   'reserved': b'\\x00\\x00\\x00\\x00\\x00\\x00\\x00\\x00'},\n  defaultdict(dict,\n              {0: {'year': 5,\n                'month': 6,\n                'day': 6,\n                'hour': 12,\n                'minute': 38,\n                'second': 45,\n                'ticks': 0,\n                'byte_loc': 1068,\n                'byte_len': 1500000,\n                'write_length': 3000,\n                'sample_rate': 10000,\n                'gain': 1,\n                'padding': b''},\n               1: {'year': 5,\n                'month': 6,\n                'day': 6,\n                'hour': 13,\n                'minute': 0,\n                'second': 0,\n                'ticks': 0,\n                'byte_loc': 1501068,\n                'byte_len': 1500000,\n                'write_length': 3000,\n                'sample_rate': 10000,\n                'gain': 1,\n                'padding': b''},\n               2: {'year': 5,\n                'month': 6,\n                'day': 6,\n                'hour': 13,\n                'minute': 1,\n                'second': 15,\n                'ticks': 0,\n                'byte_loc': 3001068,\n                'byte_len': 1500000,\n                'write_length': 3000,\n                'sample_rate': 10000,\n                'gain': 1,\n                'padding': b''},\n               3: {'year': 5,\n                'month': 6,\n                'day': 6,\n                'hour': 13,\n                'minute': 2,\n                'second': 30,\n                'ticks': 0,\n                'byte_loc': 4501068,\n                'byte_len': 1500000,\n                'write_length': 3000,\n                'sample_rate': 10000,\n                'gain': 1,\n                'padding': b''},\n               4: {'year': 5,\n                'month': 6,\n                'day': 6,\n                'hour': 13,\n                'minute': 3,\n                'second': 45,\n                'ticks': 0,\n                'byte_loc': 6001068,\n                'byte_len': 1500000,\n                'write_length': 3000,\n                'sample_rate': 10000,\n                'gain': 1,\n                'padding': b''},\n               5: {'year': 5,\n                'month': 6,\n                'day': 6,\n                'hour': 13,\n                'minute': 25,\n                'second': 0,\n                'ticks': 0,\n                'byte_loc': 7501068,\n                'byte_len': 1500000,\n                'write_length': 3000,\n                'sample_rate': 10000,\n                'gain': 1,\n                'padding': b''},\n               6: {'year': 5,\n                'month': 6,\n                'day': 6,\n                'hour': 13,\n                'minute': 26,\n                'second': 15,\n                'ticks': 0,\n                'byte_loc': 9001068,\n                'byte_len': 1500000,\n                'write_length': 3000,\n                'sample_rate': 10000,\n                'gain': 1,\n                'padding': b''},\n               7: {'year': 5,\n                'month': 6,\n                'day': 6,\n                'hour': 13,\n                'minute': 27,\n                'second': 30,\n                'ticks': 0,\n                'byte_loc': 10501068,\n                'byte_len': 1500000,\n                'write_length': 3000,\n                'sample_rate': 10000,\n                'gain': 1,\n                'padding': b''},\n               8: {'year': 5,\n                'month': 6,\n                'day': 6,\n                'hour': 13,\n                'minute': 28,\n                'second': 45,\n                'ticks': 0,\n                'byte_loc': 12001068,\n                'byte_len': 1500000,\n                'write_length': 3000,\n                'sample_rate': 10000,\n                'gain': 1,\n                'padding': b''},\n               9: {'year': 5,\n                'month': 6,\n                'day': 6,\n                'hour': 13,\n                'minute': 50,\n                'second': 0,\n                'ticks': 0,\n                'byte_loc': 13501068,\n                'byte_len': 1500000,\n                'write_length': 3000,\n                'sample_rate': 10000,\n                'gain': 1,\n                'padding': b''},\n               10: {'year': 5,\n                'month': 6,\n                'day': 6,\n                'hour': 13,\n                'minute': 51,\n                'second': 15,\n                'ticks': 0,\n                'byte_loc': 15001068,\n                'byte_len': 1500000,\n                'write_length': 3000,\n                'sample_rate': 10000,\n                'gain': 1,\n                'padding': b''},\n               11: {'year': 5,\n                'month': 6,\n                'day': 6,\n                'hour': 13,\n                'minute': 52,\n                'second': 30,\n                'ticks': 0,\n                'byte_loc': 16501068,\n                'byte_len': 1500000,\n                'write_length': 3000,\n                'sample_rate': 10000,\n                'gain': 1,\n                'padding': b''},\n               12: {'year': 5,\n                'month': 6,\n                'day': 6,\n                'hour': 13,\n                'minute': 53,\n                'second': 45,\n                'ticks': 0,\n                'byte_loc': 18001068,\n                'byte_len': 1500000,\n                'write_length': 3000,\n                'sample_rate': 10000,\n                'gain': 1,\n                'padding': b''},\n               13: {'year': 5,\n                'month': 6,\n                'day': 6,\n                'hour': 14,\n                'minute': 15,\n                'second': 0,\n                'ticks': 0,\n                'byte_loc': 19501068,\n                'byte_len': 1500000,\n                'write_length': 3000,\n                'sample_rate': 10000,\n                'gain': 1,\n                'padding': b''},\n               14: {'year': 5,\n                'month': 6,\n                'day': 6,\n                'hour': 14,\n                'minute': 16,\n                'second': 15,\n                'ticks': 0,\n                'byte_loc': 21001068,\n                'byte_len': 1500000,\n                'write_length': 3000,\n                'sample_rate': 10000,\n                'gain': 1,\n                'padding': b''},\n               15: {'year': 5,\n                'month': 6,\n                'day': 6,\n                'hour': 14,\n                'minute': 17,\n                'second': 30,\n                'ticks': 0,\n                'byte_loc': 22501068,\n                'byte_len': 1500000,\n                'write_length': 3000,\n                'sample_rate': 10000,\n                'gain': 1,\n                'padding': b''},\n               16: {'year': 5,\n                'month': 6,\n                'day': 6,\n                'hour': 14,\n                'minute': 18,\n                'second': 45,\n                'ticks': 0,\n                'byte_loc': 24001068,\n                'byte_len': 1500000,\n                'write_length': 3000,\n                'sample_rate': 10000,\n                'gain': 1,\n                'padding': b''},\n               17: {'year': 5,\n                'month': 6,\n                'day': 6,\n                'hour': 14,\n                'minute': 40,\n                'second': 0,\n                'ticks': 0,\n                'byte_loc': 25501068,\n                'byte_len': 1500000,\n                'write_length': 3000,\n                'sample_rate': 10000,\n                'gain': 1,\n                'padding': b''},\n               18: {'year': 5,\n                'month': 6,\n                'day': 6,\n                'hour': 14,\n                'minute': 41,\n                'second': 15,\n                'ticks': 0,\n                'byte_loc': 27001068,\n                'byte_len': 1500000,\n                'write_length': 3000,\n                'sample_rate': 10000,\n                'gain': 1,\n                'padding': b''},\n               19: {'year': 5,\n                'month': 6,\n                'day': 6,\n                'hour': 14,\n                'minute': 42,\n                'second': 30,\n                'ticks': 0,\n                'byte_loc': 28501068,\n                'byte_len': 1500000,\n                'write_length': 3000,\n                'sample_rate': 10000,\n                'gain': 1,\n                'padding': b''},\n               20: {'year': 5,\n                'month': 6,\n                'day': 6,\n                'hour': 14,\n                'minute': 43,\n                'second': 45,\n                'ticks': 0,\n                'byte_loc': 30001068,\n                'byte_len': 1500000,\n                'write_length': 3000,\n                'sample_rate': 10000,\n                'gain': 1,\n                'padding': b''},\n               21: {'year': 5,\n                'month': 6,\n                'day': 6,\n                'hour': 15,\n                'minute': 5,\n                'second': 0,\n                'ticks': 0,\n                'byte_loc': 31501068,\n                'byte_len': 1500000,\n                'write_length': 3000,\n                'sample_rate': 10000,\n                'gain': 1,\n                'padding': b''},\n               22: {'year': 5,\n                'month': 6,\n                'day': 6,\n                'hour': 15,\n                'minute': 6,\n                'second': 15,\n                'ticks': 0,\n                'byte_loc': 33001068,\n                'byte_len': 1500000,\n                'write_length': 3000,\n                'sample_rate': 10000,\n                'gain': 1,\n                'padding': b''},\n               23: {'year': 5,\n                'month': 6,\n                'day': 6,\n                'hour': 15,\n                'minute': 7,\n                'second': 30,\n                'ticks': 0,\n                'byte_loc': 34501068,\n                'byte_len': 1500000,\n                'write_length': 3000,\n                'sample_rate': 10000,\n                'gain': 1,\n                'padding': b''},\n               24: {'year': 5,\n                'month': 6,\n                'day': 6,\n                'hour': 15,\n                'minute': 8,\n                'second': 45,\n                'ticks': 0,\n                'byte_loc': 36001068,\n                'byte_len': 1500000,\n                'write_length': 3000,\n                'sample_rate': 10000,\n                'gain': 1,\n                'padding': b''},\n               25: {'year': 5,\n                'month': 6,\n                'day': 6,\n                'hour': 15,\n                'minute': 30,\n                'second': 0,\n                'ticks': 0,\n                'byte_loc': 37501068,\n                'byte_len': 1500000,\n                'write_length': 3000,\n                'sample_rate': 10000,\n                'gain': 1,\n                'padding': b''},\n               26: {'year': 5,\n                'month': 6,\n                'day': 6,\n                'hour': 15,\n                'minute': 31,\n                'second': 15,\n                'ticks': 0,\n                'byte_loc': 39001068,\n                'byte_len': 1500000,\n                'write_length': 3000,\n                'sample_rate': 10000,\n                'gain': 1,\n                'padding': b''},\n               27: {'year': 5,\n                'month': 6,\n                'day': 6,\n                'hour': 15,\n                'minute': 32,\n                'second': 30,\n                'ticks': 0,\n                'byte_loc': 40501068,\n                'byte_len': 1500000,\n                'write_length': 3000,\n                'sample_rate': 10000,\n                'gain': 1,\n                'padding': b''},\n               28: {'year': 5,\n                'month': 6,\n                'day': 6,\n                'hour': 15,\n                'minute': 33,\n                'second': 45,\n                'ticks': 0,\n                'byte_loc': 42001068,\n                'byte_len': 1500000,\n                'write_length': 3000,\n                'sample_rate': 10000,\n                'gain': 1,\n                'padding': b''},\n               29: {'year': 5,\n                'month': 6,\n                'day': 6,\n                'hour': 15,\n                'minute': 55,\n                'second': 0,\n                'ticks': 0,\n                'byte_loc': 43501068,\n                'byte_len': 1500000,\n                'write_length': 3000,\n                'sample_rate': 10000,\n                'gain': 1,\n                'padding': b''}})),\n 'pcen_spec': <tf.Tensor: shape=(1, 74997, 64), dtype=float32, numpy=\n array([[[0.31950796, 0.2722968 , 0.27602506, ..., 0.26012194,\n          0.23806179, 0.23312736],\n         [0.41051495, 0.24462044, 0.29934454, ..., 0.19591773,\n          0.21381891, 0.28493786],\n         [0.48297453, 0.4055562 , 0.27992868, ..., 0.19920564,\n          0.173599  , 0.31266177],\n         ...,\n         [0.47932184, 0.19012201, 0.11034787, ..., 0.28632736,\n          0.24321532, 0.24924266],\n         [0.51059365, 0.36047184, 0.31619823, ..., 0.28379238,\n          0.21967888, 0.24103463],\n         [0.46790838, 0.26348186, 0.18074477, ..., 0.27291334,\n          0.21964157, 0.2445538 ]]], dtype=float32)>}"
     },
     "execution_count": 14,
     "metadata": {},
     "output_type": "execute_result"
    }
   ],
   "source": [
    "lst[0]"
   ],
   "metadata": {
    "collapsed": false,
    "ExecuteTime": {
     "end_time": "2024-03-27T03:08:23.103328300Z",
     "start_time": "2024-03-27T03:08:23.082604700Z"
    }
   },
   "id": "5fc243e5e3d8bb04",
   "execution_count": 14
  },
  {
   "cell_type": "code",
   "outputs": [
    {
     "data": {
      "text/plain": "_SignatureMap({'score': <ConcreteFunction signature_wrapper(*, context_step_samples, waveform) at 0x22BDFDE4040>, 'metadata': <ConcreteFunction signature_wrapper() at 0x22BE8FF66E0>, 'serving_default': <ConcreteFunction signature_wrapper(*, context_step_samples, waveform) at 0x22BE65D0040>})"
     },
     "execution_count": 21,
     "metadata": {},
     "output_type": "execute_result"
    }
   ],
   "source": [
    "model.signatures"
   ],
   "metadata": {
    "collapsed": false,
    "ExecuteTime": {
     "end_time": "2024-03-27T03:10:16.925262100Z",
     "start_time": "2024-03-27T03:10:16.912298800Z"
    }
   },
   "id": "d90b59f3c3eb7ecf",
   "execution_count": 21
  },
  {
   "cell_type": "code",
   "outputs": [
    {
     "data": {
      "text/plain": "<ConcreteFunction signature_wrapper(*, context_step_samples, waveform) at 0x22BE65D0040>"
     },
     "execution_count": 23,
     "metadata": {},
     "output_type": "execute_result"
    }
   ],
   "source": [
    "model.signatures['serving_default']"
   ],
   "metadata": {
    "collapsed": false,
    "ExecuteTime": {
     "end_time": "2024-03-27T03:10:35.240444900Z",
     "start_time": "2024-03-27T03:10:35.232366300Z"
    }
   },
   "id": "eddd2ce3c0ed6b9e",
   "execution_count": 23
  },
  {
   "cell_type": "code",
   "outputs": [
    {
     "data": {
      "text/plain": "['__call__',\n '__class__',\n '__delattr__',\n '__dict__',\n '__dir__',\n '__doc__',\n '__eq__',\n '__format__',\n '__ge__',\n '__getattribute__',\n '__gt__',\n '__hash__',\n '__init__',\n '__init_subclass__',\n '__le__',\n '__lt__',\n '__module__',\n '__ne__',\n '__new__',\n '__reduce__',\n '__reduce_ex__',\n '__repr__',\n '__setattr__',\n '__sizeof__',\n '__str__',\n '__subclasshook__',\n '__weakref__',\n '_add_trackable_child',\n '_add_variable_with_custom_getter',\n '_checkpoint_dependencies',\n '_default_save_signature',\n '_deferred_dependencies',\n '_delete_tracking',\n '_deserialization_dependencies',\n '_deserialize_from_proto',\n '_export_to_saved_model_graph',\n '_gather_saveables_for_checkpoint',\n '_handle_deferred_dependencies',\n '_is_hub_module_v1',\n '_lookup_dependency',\n '_map_resources',\n '_maybe_initialize_trackable',\n '_name_based_attribute_restore',\n '_name_based_restores',\n '_no_dependency',\n '_object_identifier',\n '_pcen',\n '_preload_simple_restoration',\n '_restore_from_tensors',\n '_self_name_based_restores',\n '_self_saveable_object_factories',\n '_self_setattr_tracking',\n '_self_unconditional_checkpoint_dependencies',\n '_self_unconditional_deferred_dependencies',\n '_self_unconditional_dependency_names',\n '_self_update_uid',\n '_serialize_to_proto',\n '_serialize_to_tensors',\n '_setattr_tracking',\n '_spectrogram',\n '_tf_api_names',\n '_tf_api_names_v1',\n '_track_trackable',\n '_trackable_children',\n '_unconditional_checkpoint_dependencies',\n '_unconditional_dependency_names',\n '_update_uid',\n 'call_and_return_all_conditional_losses',\n 'features',\n 'front_end',\n 'graph_debug_info',\n 'keras_api',\n 'layer-0',\n 'layer-1',\n 'layer-2',\n 'layer-3',\n 'layer_with_weights-0',\n 'layer_with_weights-1',\n 'layer_with_weights-2',\n 'logits',\n 'metadata',\n 'regularization_losses',\n 'score',\n 'signatures',\n 'tensorflow_git_version',\n 'tensorflow_version',\n 'trainable_variables',\n 'variables']"
     },
     "execution_count": 24,
     "metadata": {},
     "output_type": "execute_result"
    }
   ],
   "source": [
    "dir(model)"
   ],
   "metadata": {
    "collapsed": false,
    "ExecuteTime": {
     "end_time": "2024-03-27T03:10:59.200393200Z",
     "start_time": "2024-03-27T03:10:59.169974900Z"
    }
   },
   "id": "e2c2f57ab09cb949",
   "execution_count": 24
  },
  {
   "cell_type": "code",
   "outputs": [
    {
     "ename": "TypeError",
     "evalue": "f(inputs, training, mask) missing required arguments: inputs.",
     "output_type": "error",
     "traceback": [
      "\u001B[1;31m---------------------------------------------------------------------------\u001B[0m",
      "\u001B[1;31mTypeError\u001B[0m                                 Traceback (most recent call last)",
      "Cell \u001B[1;32mIn[38], line 1\u001B[0m\n\u001B[1;32m----> 1\u001B[0m \u001B[43mmodel\u001B[49m\u001B[38;5;241;43m.\u001B[39;49m\u001B[43mfeatures\u001B[49m\u001B[43m(\u001B[49m\u001B[43m)\u001B[49m\n",
      "File \u001B[1;32m~\\anaconda3\\envs\\tf\\lib\\site-packages\\tensorflow\\python\\saved_model\\load.py:704\u001B[0m, in \u001B[0;36m_call_attribute\u001B[1;34m(instance, *args, **kwargs)\u001B[0m\n\u001B[0;32m    703\u001B[0m \u001B[38;5;28;01mdef\u001B[39;00m \u001B[38;5;21m_call_attribute\u001B[39m(instance, \u001B[38;5;241m*\u001B[39margs, \u001B[38;5;241m*\u001B[39m\u001B[38;5;241m*\u001B[39mkwargs):\n\u001B[1;32m--> 704\u001B[0m   \u001B[38;5;28;01mreturn\u001B[39;00m instance\u001B[38;5;241m.\u001B[39m\u001B[38;5;21m__call__\u001B[39m(\u001B[38;5;241m*\u001B[39margs, \u001B[38;5;241m*\u001B[39m\u001B[38;5;241m*\u001B[39mkwargs)\n",
      "File \u001B[1;32m~\\anaconda3\\envs\\tf\\lib\\site-packages\\tensorflow\\python\\util\\traceback_utils.py:153\u001B[0m, in \u001B[0;36mfilter_traceback.<locals>.error_handler\u001B[1;34m(*args, **kwargs)\u001B[0m\n\u001B[0;32m    151\u001B[0m \u001B[38;5;28;01mexcept\u001B[39;00m \u001B[38;5;167;01mException\u001B[39;00m \u001B[38;5;28;01mas\u001B[39;00m e:\n\u001B[0;32m    152\u001B[0m   filtered_tb \u001B[38;5;241m=\u001B[39m _process_traceback_frames(e\u001B[38;5;241m.\u001B[39m__traceback__)\n\u001B[1;32m--> 153\u001B[0m   \u001B[38;5;28;01mraise\u001B[39;00m e\u001B[38;5;241m.\u001B[39mwith_traceback(filtered_tb) \u001B[38;5;28;01mfrom\u001B[39;00m \u001B[38;5;28;01mNone\u001B[39;00m\n\u001B[0;32m    154\u001B[0m \u001B[38;5;28;01mfinally\u001B[39;00m:\n\u001B[0;32m    155\u001B[0m   \u001B[38;5;28;01mdel\u001B[39;00m filtered_tb\n",
      "File \u001B[1;32m~\\anaconda3\\envs\\tf\\lib\\site-packages\\tensorflow\\python\\eager\\function_spec.py:374\u001B[0m, in \u001B[0;36mFunctionSpec.canonicalize_function_inputs\u001B[1;34m(self, *args, **kwargs)\u001B[0m\n\u001B[0;32m    368\u001B[0m   \u001B[38;5;28;01mexcept\u001B[39;00m \u001B[38;5;167;01mKeyError\u001B[39;00m:\n\u001B[0;32m    369\u001B[0m     missing_args \u001B[38;5;241m=\u001B[39m [\n\u001B[0;32m    370\u001B[0m         \u001B[38;5;28mself\u001B[39m\u001B[38;5;241m.\u001B[39m_arg_names[i]\n\u001B[0;32m    371\u001B[0m         \u001B[38;5;28;01mfor\u001B[39;00m i \u001B[38;5;129;01min\u001B[39;00m \u001B[38;5;28mrange\u001B[39m(arglen, \u001B[38;5;28mlen\u001B[39m(\u001B[38;5;28mself\u001B[39m\u001B[38;5;241m.\u001B[39m_arg_names))\n\u001B[0;32m    372\u001B[0m         \u001B[38;5;28;01mif\u001B[39;00m i \u001B[38;5;129;01mnot\u001B[39;00m \u001B[38;5;129;01min\u001B[39;00m \u001B[38;5;28mself\u001B[39m\u001B[38;5;241m.\u001B[39m_arg_indices_to_default_values\n\u001B[0;32m    373\u001B[0m     ]\n\u001B[1;32m--> 374\u001B[0m     \u001B[38;5;28;01mraise\u001B[39;00m \u001B[38;5;167;01mTypeError\u001B[39;00m(\u001B[38;5;124mf\u001B[39m\u001B[38;5;124m\"\u001B[39m\u001B[38;5;132;01m{\u001B[39;00m\u001B[38;5;28mself\u001B[39m\u001B[38;5;241m.\u001B[39msignature_summary()\u001B[38;5;132;01m}\u001B[39;00m\u001B[38;5;124m missing required \u001B[39m\u001B[38;5;124m\"\u001B[39m\n\u001B[0;32m    375\u001B[0m                     \u001B[38;5;124mf\u001B[39m\u001B[38;5;124m\"\u001B[39m\u001B[38;5;124marguments: \u001B[39m\u001B[38;5;132;01m{\u001B[39;00m\u001B[38;5;124m'\u001B[39m\u001B[38;5;124m, \u001B[39m\u001B[38;5;124m'\u001B[39m\u001B[38;5;241m.\u001B[39mjoin(missing_args)\u001B[38;5;132;01m}\u001B[39;00m\u001B[38;5;124m.\u001B[39m\u001B[38;5;124m\"\u001B[39m)\n\u001B[0;32m    377\u001B[0m \u001B[38;5;28;01mif\u001B[39;00m \u001B[38;5;28mself\u001B[39m\u001B[38;5;241m.\u001B[39m_fullargspec\u001B[38;5;241m.\u001B[39mkwonlydefaults:\n\u001B[0;32m    378\u001B[0m   kwargs\u001B[38;5;241m.\u001B[39mupdate(\u001B[38;5;28mself\u001B[39m\u001B[38;5;241m.\u001B[39m_fullargspec\u001B[38;5;241m.\u001B[39mkwonlydefaults)\n",
      "\u001B[1;31mTypeError\u001B[0m: f(inputs, training, mask) missing required arguments: inputs."
     ]
    }
   ],
   "source": [
    "model.front_end"
   ],
   "metadata": {
    "collapsed": false,
    "ExecuteTime": {
     "end_time": "2024-03-27T03:14:22.460096800Z",
     "start_time": "2024-03-27T03:14:22.299151500Z"
    }
   },
   "id": "7f68b101e2e86318",
   "execution_count": 38
  },
  {
   "cell_type": "code",
   "outputs": [
    {
     "data": {
      "text/plain": "['__call__',\n '__class__',\n '__delattr__',\n '__dict__',\n '__dir__',\n '__doc__',\n '__eq__',\n '__format__',\n '__ge__',\n '__getattribute__',\n '__gt__',\n '__hash__',\n '__init__',\n '__init_subclass__',\n '__le__',\n '__lt__',\n '__module__',\n '__ne__',\n '__new__',\n '__reduce__',\n '__reduce_ex__',\n '__repr__',\n '__setattr__',\n '__sizeof__',\n '__str__',\n '__subclasshook__',\n '__weakref__',\n '_add_trackable_child',\n '_add_variable_with_custom_getter',\n '_checkpoint_dependencies',\n '_deferred_dependencies',\n '_delete_tracking',\n '_deserialization_dependencies',\n '_deserialize_from_proto',\n '_export_to_saved_model_graph',\n '_gather_saveables_for_checkpoint',\n '_handle_deferred_dependencies',\n '_lookup_dependency',\n '_map_resources',\n '_maybe_initialize_trackable',\n '_name_based_attribute_restore',\n '_name_based_restores',\n '_no_dependency',\n '_object_identifier',\n '_preload_simple_restoration',\n '_restore_from_tensors',\n '_self_name_based_restores',\n '_self_saveable_object_factories',\n '_self_setattr_tracking',\n '_self_unconditional_checkpoint_dependencies',\n '_self_unconditional_deferred_dependencies',\n '_self_unconditional_dependency_names',\n '_self_update_uid',\n '_serialize_to_proto',\n '_serialize_to_tensors',\n '_setattr_tracking',\n '_tf_api_names',\n '_tf_api_names_v1',\n '_track_trackable',\n '_trackable_children',\n '_unconditional_checkpoint_dependencies',\n '_unconditional_dependency_names',\n '_update_uid',\n 'call_and_return_all_conditional_losses',\n 'keras_api',\n 'layer-0',\n 'layer-1',\n 'layer_with_weights-0',\n 'regularization_losses',\n 'trainable_variables',\n 'variables']"
     },
     "execution_count": 27,
     "metadata": {},
     "output_type": "execute_result"
    }
   ],
   "source": [
    "dir(model.front_end)"
   ],
   "metadata": {
    "collapsed": false,
    "ExecuteTime": {
     "end_time": "2024-03-27T03:11:24.394611500Z",
     "start_time": "2024-03-27T03:11:24.373580800Z"
    }
   },
   "id": "6e69eee803143709",
   "execution_count": 27
  },
  {
   "cell_type": "code",
   "outputs": [
    {
     "data": {
      "text/plain": "ListWrapper([<tf.Variable 'pcen/alpha:0' shape=(64,) dtype=float32, numpy=\narray([0.96838385, 0.9761289 , 0.98089886, 0.97721404, 0.9871994 ,\n       0.9845029 , 0.978106  , 0.97405255, 0.97512984, 0.981545  ,\n       0.98054516, 0.98297554, 0.9833554 , 0.9846124 , 0.9814225 ,\n       0.9747    , 0.97760785, 0.9796331 , 0.97838956, 0.9814383 ,\n       0.9817132 , 0.97727287, 0.9809541 , 0.98087126, 0.9795548 ,\n       0.9811239 , 0.97469366, 0.9782519 , 0.98233706, 0.9809858 ,\n       0.97864866, 0.9840678 , 0.9811113 , 0.9819034 , 0.97856784,\n       0.97762   , 0.9771842 , 0.9835421 , 0.98621875, 0.98015136,\n       0.98395246, 0.9833393 , 0.9843758 , 0.9758238 , 0.9792226 ,\n       0.9836882 , 0.9808793 , 0.98054606, 0.977489  , 0.98499143,\n       0.97983825, 0.9762578 , 0.9835462 , 0.9800017 , 0.9793947 ,\n       0.97670066, 0.9769266 , 0.9834014 , 0.9769312 , 0.9772469 ,\n       0.9790105 , 0.9817227 , 0.9759772 , 0.9796646 ], dtype=float32)>, <tf.Variable 'pcen/delta:0' shape=(64,) dtype=float32, numpy=\narray([2.0009413, 1.9962445, 2.0023081, 2.0048923, 1.9953969, 1.998705 ,\n       2.001882 , 2.0054061, 2.0053155, 2.0011418, 1.9972295, 1.9964113,\n       1.999492 , 1.9973376, 1.9977121, 2.0058577, 2.0025113, 2.0005825,\n       2.000745 , 1.9982067, 1.9986387, 2.002247 , 1.9981054, 1.9986894,\n       2.0005713, 1.9988158, 2.005629 , 2.0021088, 1.9977897, 1.9984547,\n       2.0009506, 1.9959049, 1.9999925, 1.9982784, 2.0010314, 2.0030913,\n       2.0022998, 1.996806 , 1.9941913, 2.0001807, 1.9958632, 1.9968011,\n       1.9962445, 2.00317  , 2.000186 , 1.997331 , 1.9993341, 1.9994566,\n       2.0032392, 1.9954182, 1.9998865, 2.0039575, 1.9967029, 2.0005374,\n       1.9996119, 2.0044143, 2.0026839, 1.995869 , 2.000449 , 2.000718 ,\n       1.9971681, 1.9941124, 2.001046 , 1.9986606], dtype=float32)>, <tf.Variable 'pcen/root:0' shape=(64,) dtype=float32, numpy=\narray([2.0013797, 1.996717 , 2.0029142, 2.007573 , 1.9946965, 2.0012877,\n       2.0026822, 2.0065548, 2.0068426, 2.0000143, 1.9962567, 1.9949986,\n       1.9982076, 1.99823  , 1.9978548, 2.007994 , 2.0044131, 2.0007746,\n       2.0011566, 1.9993026, 1.9997911, 2.003418 , 1.9978464, 1.9988362,\n       2.001778 , 1.9993818, 2.0061946, 2.0023274, 1.9982133, 1.9988987,\n       2.0008483, 1.9958389, 1.99892  , 1.9984698, 2.0009682, 2.0031822,\n       2.0020447, 1.997006 , 1.9936781, 2.000008 , 1.99584  , 1.9973538,\n       1.9962038, 2.0036082, 2.0001237, 1.9959402, 1.9992207, 1.9975989,\n       2.0034719, 1.9949126, 2.0006003, 2.0038536, 1.996686 , 2.0007036,\n       1.9992862, 2.0039113, 2.00187  , 1.9954988, 2.0002298, 2.000754 ,\n       1.9977894, 1.994249 , 1.9999875, 1.9977887], dtype=float32)>, <tf.Variable 'pcen/simple_rnn/simple_rnn_cell/kernel:0' shape=(64, 64) dtype=float32, numpy=\narray([[0.025, 0.   , 0.   , ..., 0.   , 0.   , 0.   ],\n       [0.   , 0.025, 0.   , ..., 0.   , 0.   , 0.   ],\n       [0.   , 0.   , 0.025, ..., 0.   , 0.   , 0.   ],\n       ...,\n       [0.   , 0.   , 0.   , ..., 0.025, 0.   , 0.   ],\n       [0.   , 0.   , 0.   , ..., 0.   , 0.025, 0.   ],\n       [0.   , 0.   , 0.   , ..., 0.   , 0.   , 0.025]], dtype=float32)>, <tf.Variable 'pcen/simple_rnn/simple_rnn_cell/recurrent_kernel:0' shape=(64, 64) dtype=float32, numpy=\narray([[0.975, 0.   , 0.   , ..., 0.   , 0.   , 0.   ],\n       [0.   , 0.975, 0.   , ..., 0.   , 0.   , 0.   ],\n       [0.   , 0.   , 0.975, ..., 0.   , 0.   , 0.   ],\n       ...,\n       [0.   , 0.   , 0.   , ..., 0.975, 0.   , 0.   ],\n       [0.   , 0.   , 0.   , ..., 0.   , 0.975, 0.   ],\n       [0.   , 0.   , 0.   , ..., 0.   , 0.   , 0.975]], dtype=float32)>])"
     },
     "execution_count": 44,
     "metadata": {},
     "output_type": "execute_result"
    }
   ],
   "source": [
    "model.front_end.variables"
   ],
   "metadata": {
    "collapsed": false,
    "ExecuteTime": {
     "end_time": "2024-03-27T03:15:44.991727900Z",
     "start_time": "2024-03-27T03:15:44.967237400Z"
    }
   },
   "id": "a58c11993eef5cbe",
   "execution_count": 44
  },
  {
   "cell_type": "code",
   "outputs": [],
   "source": [],
   "metadata": {
    "collapsed": false
   },
   "id": "d4b26b6047fff61c"
  }
 ],
 "metadata": {
  "kernelspec": {
   "display_name": "Python 3",
   "language": "python",
   "name": "python3"
  },
  "language_info": {
   "codemirror_mode": {
    "name": "ipython",
    "version": 2
   },
   "file_extension": ".py",
   "mimetype": "text/x-python",
   "name": "python",
   "nbconvert_exporter": "python",
   "pygments_lexer": "ipython2",
   "version": "2.7.6"
  }
 },
 "nbformat": 4,
 "nbformat_minor": 5
}
