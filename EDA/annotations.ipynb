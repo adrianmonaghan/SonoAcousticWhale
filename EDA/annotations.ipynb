{
 "cells": [
  {
   "cell_type": "code",
   "execution_count": 1,
   "id": "initial_id",
   "metadata": {
    "ExecuteTime": {
     "end_time": "2024-04-04T16:58:31.433237300Z",
     "start_time": "2024-04-04T16:58:30.764443600Z"
    }
   },
   "outputs": [],
   "source": [
    "import pandas as pd\n",
    "import requests\n",
    "from pathlib import Path\n",
    "import subprocess\n",
    "import os\n",
    "from google.cloud import storage\n",
    "from google.cloud.storage import transfer_manager\n",
    "import re\n",
    "import pickle\n",
    "import numpy as np\n",
    "import multiprocessing"
   ]
  },
  {
   "cell_type": "code",
   "execution_count": 7,
   "id": "9590f4547f96b433",
   "metadata": {
    "ExecuteTime": {
     "end_time": "2024-04-03T02:41:24.045147700Z",
     "start_time": "2024-04-03T02:41:23.248564900Z"
    },
    "collapsed": false,
    "jupyter": {
     "outputs_hidden": false
    }
   },
   "outputs": [
    {
     "data": {
      "text/html": [
       "<div>\n",
       "<style scoped>\n",
       "    .dataframe tbody tr th:only-of-type {\n",
       "        vertical-align: middle;\n",
       "    }\n",
       "\n",
       "    .dataframe tbody tr th {\n",
       "        vertical-align: top;\n",
       "    }\n",
       "\n",
       "    .dataframe thead th {\n",
       "        text-align: right;\n",
       "    }\n",
       "</style>\n",
       "<table border=\"1\" class=\"dataframe\">\n",
       "  <thead>\n",
       "    <tr style=\"text-align: right;\">\n",
       "      <th></th>\n",
       "      <th>audit_name</th>\n",
       "      <th>flac_compressed_xwav_object</th>\n",
       "      <th>subchunk_index</th>\n",
       "      <th>label_is_strong</th>\n",
       "      <th>implicit_negatives</th>\n",
       "      <th>label</th>\n",
       "      <th>begin_rel_subchunk</th>\n",
       "      <th>end_rel_subchunk</th>\n",
       "      <th>begin_utc</th>\n",
       "      <th>end_utc</th>\n",
       "      <th>hawaii_num</th>\n",
       "    </tr>\n",
       "  </thead>\n",
       "  <tbody>\n",
       "    <tr>\n",
       "      <th>0</th>\n",
       "      <td>initial</td>\n",
       "      <td>gs://noaa-passive-bioacoustic/pifsc/audio/pipa...</td>\n",
       "      <td>1</td>\n",
       "      <td>True</td>\n",
       "      <td>True</td>\n",
       "      <td>Other</td>\n",
       "      <td>0.213</td>\n",
       "      <td>0.213</td>\n",
       "      <td>2005-06-06 13:00:00.213000+00:00</td>\n",
       "      <td>2005-06-06 13:00:00.213000+00:00</td>\n",
       "      <td>NaN</td>\n",
       "    </tr>\n",
       "    <tr>\n",
       "      <th>1</th>\n",
       "      <td>initial</td>\n",
       "      <td>gs://noaa-passive-bioacoustic/pifsc/audio/pipa...</td>\n",
       "      <td>13</td>\n",
       "      <td>True</td>\n",
       "      <td>True</td>\n",
       "      <td>Other</td>\n",
       "      <td>0.108</td>\n",
       "      <td>0.108</td>\n",
       "      <td>2005-06-06 14:15:00.108000+00:00</td>\n",
       "      <td>2005-06-06 14:15:00.108000+00:00</td>\n",
       "      <td>NaN</td>\n",
       "    </tr>\n",
       "    <tr>\n",
       "      <th>2</th>\n",
       "      <td>initial</td>\n",
       "      <td>gs://noaa-passive-bioacoustic/pifsc/audio/pipa...</td>\n",
       "      <td>5</td>\n",
       "      <td>True</td>\n",
       "      <td>True</td>\n",
       "      <td>Other</td>\n",
       "      <td>0.143</td>\n",
       "      <td>0.143</td>\n",
       "      <td>2005-07-02 04:00:00.143000+00:00</td>\n",
       "      <td>2005-07-02 04:00:00.143000+00:00</td>\n",
       "      <td>NaN</td>\n",
       "    </tr>\n",
       "    <tr>\n",
       "      <th>3</th>\n",
       "      <td>initial</td>\n",
       "      <td>gs://noaa-passive-bioacoustic/pifsc/audio/pipa...</td>\n",
       "      <td>17</td>\n",
       "      <td>True</td>\n",
       "      <td>True</td>\n",
       "      <td>Other</td>\n",
       "      <td>0.213</td>\n",
       "      <td>0.213</td>\n",
       "      <td>2005-07-02 05:15:00.213000+00:00</td>\n",
       "      <td>2005-07-02 05:15:00.213000+00:00</td>\n",
       "      <td>NaN</td>\n",
       "    </tr>\n",
       "    <tr>\n",
       "      <th>4</th>\n",
       "      <td>initial</td>\n",
       "      <td>gs://noaa-passive-bioacoustic/pifsc/audio/pipa...</td>\n",
       "      <td>22</td>\n",
       "      <td>True</td>\n",
       "      <td>True</td>\n",
       "      <td>Other</td>\n",
       "      <td>0.213</td>\n",
       "      <td>0.213</td>\n",
       "      <td>2005-08-01 10:15:00.213000+00:00</td>\n",
       "      <td>2005-08-01 10:15:00.213000+00:00</td>\n",
       "      <td>NaN</td>\n",
       "    </tr>\n",
       "  </tbody>\n",
       "</table>\n",
       "</div>"
      ],
      "text/plain": [
       "  audit_name                        flac_compressed_xwav_object  \\\n",
       "0    initial  gs://noaa-passive-bioacoustic/pifsc/audio/pipa...   \n",
       "1    initial  gs://noaa-passive-bioacoustic/pifsc/audio/pipa...   \n",
       "2    initial  gs://noaa-passive-bioacoustic/pifsc/audio/pipa...   \n",
       "3    initial  gs://noaa-passive-bioacoustic/pifsc/audio/pipa...   \n",
       "4    initial  gs://noaa-passive-bioacoustic/pifsc/audio/pipa...   \n",
       "\n",
       "   subchunk_index  label_is_strong  implicit_negatives  label  \\\n",
       "0               1             True                True  Other   \n",
       "1              13             True                True  Other   \n",
       "2               5             True                True  Other   \n",
       "3              17             True                True  Other   \n",
       "4              22             True                True  Other   \n",
       "\n",
       "   begin_rel_subchunk  end_rel_subchunk                         begin_utc  \\\n",
       "0               0.213             0.213  2005-06-06 13:00:00.213000+00:00   \n",
       "1               0.108             0.108  2005-06-06 14:15:00.108000+00:00   \n",
       "2               0.143             0.143  2005-07-02 04:00:00.143000+00:00   \n",
       "3               0.213             0.213  2005-07-02 05:15:00.213000+00:00   \n",
       "4               0.213             0.213  2005-08-01 10:15:00.213000+00:00   \n",
       "\n",
       "                            end_utc  hawaii_num  \n",
       "0  2005-06-06 13:00:00.213000+00:00         NaN  \n",
       "1  2005-06-06 14:15:00.108000+00:00         NaN  \n",
       "2  2005-07-02 04:00:00.143000+00:00         NaN  \n",
       "3  2005-07-02 05:15:00.213000+00:00         NaN  \n",
       "4  2005-08-01 10:15:00.213000+00:00         NaN  "
      ]
     },
     "execution_count": 7,
     "metadata": {},
     "output_type": "execute_result"
    }
   ],
   "source": [
    "df = pd.read_csv(\"data/pifsc_products_detections_annotations.csv\")\n",
    "\n",
    "# Fixes bug with hawaii \n",
    "df['hawaii_num'] = df[df['flac_compressed_xwav_object'].str.contains(\"pipan_hawaii_0/\")]['flac_compressed_xwav_object'].str.split(\"/\", expand=True).iloc[:, -1].str.split(\"_\", expand=True).loc[:, 2].astype(float)\n",
    "\n",
    "df.loc[:, \"flac_compressed_xwav_object\"] = df.apply(lambda x: x['flac_compressed_xwav_object'].replace(\"pipan_hawaii_0/\", f\"pipan_hawaii_{int(x['hawaii_num'])}/\") if not np.isnan(x[\"hawaii_num\"]) else x[\"flac_compressed_xwav_object\"], axis=1)\n",
    "\n",
    "df.head()"
   ]
  },
  {
   "cell_type": "code",
   "execution_count": 8,
   "id": "8c4a03ced35c8e88",
   "metadata": {
    "ExecuteTime": {
     "end_time": "2024-04-03T02:53:55.403054800Z",
     "start_time": "2024-04-03T02:53:55.381112900Z"
    },
    "collapsed": false,
    "jupyter": {
     "outputs_hidden": false
    }
   },
   "outputs": [
    {
     "data": {
      "text/plain": [
       "(['Cross_A_01_050514_014345',\n",
       "  'Cross_A_01_050518_040230',\n",
       "  'Cross_A_01_050520_183000',\n",
       "  'Cross_A_01_050520_212731',\n",
       "  'Cross_A_01_050521_004500'],\n",
       " 4761)"
      ]
     },
     "execution_count": 8,
     "metadata": {},
     "output_type": "execute_result"
    }
   ],
   "source": [
    "with open(\"file_manifest.txt\", \"r\") as f:\n",
    "    processed_files = f.readlines()\n",
    "processed_files = [f.strip().split(\".\")[0] for f in processed_files]\n",
    "processed_files[:5], len(processed_files)"
   ]
  },
  {
   "cell_type": "code",
   "execution_count": 9,
   "id": "7f69a4aa18c7fbd5",
   "metadata": {
    "ExecuteTime": {
     "end_time": "2024-04-03T02:55:15.434061600Z",
     "start_time": "2024-04-03T02:55:14.889518100Z"
    },
    "collapsed": false,
    "jupyter": {
     "outputs_hidden": false
    }
   },
   "outputs": [
    {
     "name": "stdout",
     "output_type": "stream",
     "text": [
      "5294\n",
      "534 4761\n"
     ]
    },
    {
     "data": {
      "text/plain": [
       "(['pifsc/audio/pipan/palmyra_ns/pipan_palmyra_ns_0/audio/Palmyra_NS_10_100920_165845.d20.x.flac',\n",
       "  'pifsc/audio/pipan/palmyra_ns/pipan_palmyra_ns_0/audio/Palmyra_NS_10_101130_201345.df20.x.flac',\n",
       "  'pifsc/audio/pipan/palmyra_ns/pipan_palmyra_ns_09/audio/Palmyra_NS_09_100807_134001.df20.x.flac',\n",
       "  'pifsc/audio/pipan/palmyra_ns/pipan_palmyra_ns_09/audio/Palmyra_NS_09_100808_120116.df20.x.flac',\n",
       "  'pifsc/audio/pipan/palmyra_ns/pipan_palmyra_ns_09/audio/Palmyra_NS_09_100809_102231.df20.x.flac'],\n",
       " 534)"
      ]
     },
     "execution_count": 9,
     "metadata": {},
     "output_type": "execute_result"
    }
   ],
   "source": [
    "files = list(df['flac_compressed_xwav_object'].unique())\n",
    "files = [re.sub(\"gs://noaa-passive-bioacoustic/\", \"\", f) for f in files]\n",
    "print(len(files))\n",
    "new_files = []\n",
    "\n",
    "for file in files:\n",
    "    hold = False\n",
    "    for processed_file in processed_files:\n",
    "        if processed_file in file:\n",
    "            hold = True\n",
    "            break\n",
    "    if not hold:\n",
    "        new_files.append(file)\n",
    "    \n",
    "print(len(new_files), len(processed_files))\n",
    "files = new_files\n",
    "# files = files[0:1000]\n",
    "\n",
    "def download_many_blobs_with_transfer_manager(bucket_name, blob_names, destination_directory=\"\", workers=8):\n",
    "    storage_client = storage.Client.create_anonymous_client()\n",
    "    \n",
    "    bucket = storage_client.bucket(bucket_name)\n",
    "    \n",
    "    results = transfer_manager.download_many_to_path(bucket, blob_names, destination_directory=destination_directory, max_workers=workers)\n",
    "    \n",
    "    bad_results = []\n",
    "    for name, result in zip(blob_names, results):\n",
    "        if isinstance(result, Exception):\n",
    "            bad_results.append((name, result))\n",
    "            print(f\"Failed to download {name} due to exception {result}\")\n",
    "        else:\n",
    "            print(f\"Download of {name} succeeded\")\n",
    "\n",
    "    return bad_results\n",
    "files[:5], len(files)"
   ]
  },
  {
   "cell_type": "code",
   "execution_count": 10,
   "id": "95b3e797483811f",
   "metadata": {
    "ExecuteTime": {
     "end_time": "2024-04-03T02:55:32.969768500Z",
     "start_time": "2024-04-03T02:55:32.960792700Z"
    },
    "collapsed": false,
    "jupyter": {
     "outputs_hidden": false
    }
   },
   "outputs": [
    {
     "data": {
      "text/plain": [
       "(['pifsc/audio/pipan/palmyra_ns/pipan_palmyra_ns_0/audio/Palmyra_NS_10_100920_165845.d20.x.flac',\n",
       "  'pifsc/audio/pipan/palmyra_ns/pipan_palmyra_ns_0/audio/Palmyra_NS_10_101130_201345.df20.x.flac',\n",
       "  'pifsc/audio/pipan/palmyra_ns/pipan_palmyra_ns_09/audio/Palmyra_NS_09_100807_134001.df20.x.flac',\n",
       "  'pifsc/audio/pipan/palmyra_ns/pipan_palmyra_ns_09/audio/Palmyra_NS_09_100808_120116.df20.x.flac',\n",
       "  'pifsc/audio/pipan/palmyra_ns/pipan_palmyra_ns_09/audio/Palmyra_NS_09_100809_102231.df20.x.flac'],\n",
       " 534)"
      ]
     },
     "execution_count": 10,
     "metadata": {},
     "output_type": "execute_result"
    }
   ],
   "source": [
    "downloaded_files = []\n",
    "for dirpath, dirnames, filenames in os.walk(\"D:/SonarData/downloads\"):\n",
    "    for filename in filenames:\n",
    "        downloaded_files.append(filename)\n",
    "        \n",
    "to_download = [f for f in files if f.split(\"/\")[-1] not in downloaded_files]\n",
    "to_download[:5], len(to_download)"
   ]
  },
  {
   "cell_type": "code",
   "execution_count": null,
   "id": "2f13ca6b-fdb7-47b1-8107-8ddc8e3d6481",
   "metadata": {},
   "outputs": [],
   "source": []
  },
  {
   "cell_type": "code",
   "execution_count": 11,
   "id": "659ab929b499c4f7",
   "metadata": {
    "ExecuteTime": {
     "end_time": "2024-03-31T05:05:26.231443300Z",
     "start_time": "2024-03-31T05:05:19.971848500Z"
    },
    "collapsed": false,
    "jupyter": {
     "outputs_hidden": false
    }
   },
   "outputs": [
    {
     "name": "stdout",
     "output_type": "stream",
     "text": [
      "Failed to download pifsc/audio/pipan/palmyra_ns/pipan_palmyra_ns_0/audio/Palmyra_NS_10_100920_165845.d20.x.flac due to exception 404 GET https://storage.googleapis.com/download/storage/v1/b/noaa-passive-bioacoustic/o/pifsc%2Faudio%2Fpipan%2Fpalmyra_ns%2Fpipan_palmyra_ns_0%2Faudio%2FPalmyra_NS_10_100920_165845.d20.x.flac?alt=media: No such object: noaa-passive-bioacoustic/pifsc/audio/pipan/palmyra_ns/pipan_palmyra_ns_0/audio/Palmyra_NS_10_100920_165845.d20.x.flac: ('Request failed with status code', 404, 'Expected one of', <HTTPStatus.OK: 200>, <HTTPStatus.PARTIAL_CONTENT: 206>)\n",
      "Failed to download pifsc/audio/pipan/palmyra_ns/pipan_palmyra_ns_0/audio/Palmyra_NS_10_101130_201345.df20.x.flac due to exception 404 GET https://storage.googleapis.com/download/storage/v1/b/noaa-passive-bioacoustic/o/pifsc%2Faudio%2Fpipan%2Fpalmyra_ns%2Fpipan_palmyra_ns_0%2Faudio%2FPalmyra_NS_10_101130_201345.df20.x.flac?alt=media: No such object: noaa-passive-bioacoustic/pifsc/audio/pipan/palmyra_ns/pipan_palmyra_ns_0/audio/Palmyra_NS_10_101130_201345.df20.x.flac: ('Request failed with status code', 404, 'Expected one of', <HTTPStatus.OK: 200>, <HTTPStatus.PARTIAL_CONTENT: 206>)\n",
      "Download of pifsc/audio/pipan/palmyra_ns/pipan_palmyra_ns_09/audio/Palmyra_NS_09_100807_134001.df20.x.flac succeeded\n",
      "Download of pifsc/audio/pipan/palmyra_ns/pipan_palmyra_ns_09/audio/Palmyra_NS_09_100808_120116.df20.x.flac succeeded\n",
      "Download of pifsc/audio/pipan/palmyra_ns/pipan_palmyra_ns_09/audio/Palmyra_NS_09_100809_102231.df20.x.flac succeeded\n",
      "Download of pifsc/audio/pipan/palmyra_ns/pipan_palmyra_ns_09/audio/Palmyra_NS_09_100811_124616.df20.x.flac succeeded\n",
      "Download of pifsc/audio/pipan/palmyra_ns/pipan_palmyra_ns_09/audio/Palmyra_NS_09_100812_110731.df20.x.flac succeeded\n",
      "Download of pifsc/audio/pipan/palmyra_ns/pipan_palmyra_ns_09/audio/Palmyra_NS_09_100818_071846.df20.x.flac succeeded\n",
      "Download of pifsc/audio/pipan/palmyra_ns/pipan_palmyra_ns_09/audio/Palmyra_NS_09_100819_054001.df20.x.flac succeeded\n",
      "Download of pifsc/audio/pipan/palmyra_ns/pipan_palmyra_ns_09/audio/Palmyra_NS_09_100820_040116.df20.x.flac succeeded\n",
      "Download of pifsc/audio/pipan/palmyra_ns/pipan_palmyra_ns_09/audio/Palmyra_NS_09_100822_004346.df20.x.flac succeeded\n",
      "Download of pifsc/audio/pipan/palmyra_ns/pipan_palmyra_ns_09/audio/Palmyra_NS_09_100822_230501.df20.x.flac succeeded\n",
      "Download of pifsc/audio/pipan/palmyra_ns/pipan_palmyra_ns_09/audio/Palmyra_NS_09_100823_212616.df20.x.flac succeeded\n",
      "Download of pifsc/audio/pipan/palmyra_wt/pipan_palmyra_wt_02/audio/Palmyra_WT_02_061019_212230.d20.x.flac succeeded\n",
      "Download of pifsc/audio/pipan/palmyra_wt/pipan_palmyra_wt_02/audio/Palmyra_WT_02_061024_162230.d20.x.flac succeeded\n",
      "Download of pifsc/audio/pipan/palmyra_wt/pipan_palmyra_wt_02/audio/Palmyra_WT_02_061028_052230.d20.x.flac succeeded\n",
      "Download of pifsc/audio/pipan/palmyra_wt/pipan_palmyra_wt_02/audio/Palmyra_WT_02_061101_222345.d20.x.flac succeeded\n",
      "Download of pifsc/audio/pipan/palmyra_wt/pipan_palmyra_wt_02/audio/Palmyra_WT_02_061105_062345.d20.x.flac succeeded\n",
      "Download of pifsc/audio/pipan/palmyra_wt/pipan_palmyra_wt_02/audio/Palmyra_WT_02_061112_032345.d20.x.flac succeeded\n",
      "Download of pifsc/audio/pipan/palmyra_wt/pipan_palmyra_wt_02/audio/Palmyra_WT_02_061115_170230.d20.x.flac succeeded\n",
      "Download of pifsc/audio/pipan/palmyra_wt/pipan_palmyra_wt_02/audio/Palmyra_WT_02_061118_000230.d20.x.flac succeeded\n",
      "Download of pifsc/audio/pipan/palmyra_wt/pipan_palmyra_wt_02/audio/Palmyra_WT_02_061119_160230.d20.x.flac succeeded\n",
      "Download of pifsc/audio/pipan/palmyra_wt/pipan_palmyra_wt_02/audio/Palmyra_WT_02_061126_054000.d20.x.flac succeeded\n",
      "Download of pifsc/audio/pipan/palmyra_wt/pipan_palmyra_wt_02/audio/Palmyra_WT_02_061128_204115.d20.x.flac succeeded\n",
      "Download of pifsc/audio/pipan/palmyra_wt/pipan_palmyra_wt_02/audio/Palmyra_WT_02_061202_144115.d20.x.flac succeeded\n",
      "Download of pifsc/audio/pipan/palmyra_wt/pipan_palmyra_wt_02/audio/Palmyra_WT_02_061204_040345.d20.x.flac succeeded\n",
      "Download of pifsc/audio/pipan/palmyra_wt/pipan_palmyra_wt_02/audio/Palmyra_WT_02_061207_144115.d20.x.flac succeeded\n",
      "Download of pifsc/audio/pipan/palmyra_wt/pipan_palmyra_wt_02/audio/Palmyra_WT_02_061212_202000.d20.x.flac succeeded\n",
      "Download of pifsc/audio/pipan/palmyra_wt/pipan_palmyra_wt_02/audio/Palmyra_WT_02_061215_004230.d20.x.flac succeeded\n",
      "Download of pifsc/audio/pipan/palmyra_wt/pipan_palmyra_wt_02/audio/Palmyra_WT_02_061220_204230.d20.x.flac succeeded\n",
      "Download of pifsc/audio/pipan/palmyra_wt/pipan_palmyra_wt_02/audio/Palmyra_WT_02_061223_212000.d20.x.flac succeeded\n",
      "Download of pifsc/audio/pipan/palmyra_wt/pipan_palmyra_wt_02/audio/Palmyra_WT_02_061227_054345.d20.x.flac succeeded\n",
      "Download of pifsc/audio/pipan/palmyra_wt/pipan_palmyra_wt_02/audio/Palmyra_WT_02_061231_194345.d20.x.flac succeeded\n",
      "Download of pifsc/audio/pipan/palmyra_wt/pipan_palmyra_wt_02/audio/Palmyra_WT_02_070101_182452.d20.x.flac succeeded\n",
      "Download of pifsc/audio/pipan/palmyra_wt/pipan_palmyra_wt_02/audio/Palmyra_WT_02_070103_125645.d20.x.flac succeeded\n",
      "Download of pifsc/audio/pipan/palmyra_wt/pipan_palmyra_wt_02/audio/Palmyra_WT_02_070104_191148.d20.x.flac succeeded\n",
      "Download of pifsc/audio/pipan/palmyra_wt/pipan_palmyra_wt_02/audio/Palmyra_WT_02_070105_054706.d20.x.flac succeeded\n",
      "Download of pifsc/audio/pipan/palmyra_wt/pipan_palmyra_wt_02/audio/Palmyra_WT_02_070107_105427.d20.x.flac succeeded\n",
      "Download of pifsc/audio/pipan/palmyra_wt/pipan_palmyra_wt_02/audio/Palmyra_WT_02_070108_054818.d20.x.flac succeeded\n",
      "Download of pifsc/audio/pipan/palmyra_wt/pipan_palmyra_wt_02/audio/Palmyra_WT_02_070109_060029.d20.x.flac succeeded\n",
      "Download of pifsc/audio/pipan/palmyra_wt/pipan_palmyra_wt_02/audio/Palmyra_WT_02_070115_182158.d20.x.flac succeeded\n",
      "Download of pifsc/audio/pipan/palmyra_wt/pipan_palmyra_wt_02/audio/Palmyra_WT_02_070118_235928.d20.x.flac succeeded\n",
      "Download of pifsc/audio/pipan/palmyra_wt/pipan_palmyra_wt_02/audio/Palmyra_WT_02_070119_172158.d20.x.flac succeeded\n",
      "Download of pifsc/audio/pipan/palmyra_wt/pipan_palmyra_wt_02/audio/Palmyra_WT_02_070122_002158.d20.x.flac succeeded\n",
      "Download of pifsc/audio/pipan/palmyra_wt/pipan_palmyra_wt_02/audio/Palmyra_WT_02_070202_022043.d20.x.flac succeeded\n",
      "Download of pifsc/audio/pipan/palmyra_wt/pipan_palmyra_wt_02/audio/Palmyra_WT_02_070211_142158.d20.x.flac succeeded\n",
      "Download of pifsc/audio/pipan/palmyra_wt/pipan_palmyra_wt_02/audio/Palmyra_WT_02_070215_205928.d20.x.flac succeeded\n",
      "Download of pifsc/audio/pipan/palmyra_wt/pipan_palmyra_wt_02/audio/Palmyra_WT_02_070218_035928.d20.x.flac succeeded\n",
      "Download of pifsc/audio/pipan/palmyra_wt/pipan_palmyra_wt_02/audio/Palmyra_WT_02_070219_045928.d20.x.flac succeeded\n",
      "Download of pifsc/audio/pipan/palmyra_wt/pipan_palmyra_wt_02/audio/Palmyra_WT_02_070223_192313.d20.x.flac succeeded\n",
      "Download of pifsc/audio/pipan/palmyra_wt/pipan_palmyra_wt_02/audio/Palmyra_WT_02_070223_220043.d20.x.flac succeeded\n",
      "Download of pifsc/audio/pipan/palmyra_wt/pipan_palmyra_wt_02/audio/Palmyra_WT_02_070307_062313.d20.x.flac succeeded\n",
      "Download of pifsc/audio/pipan/palmyra_wt/pipan_palmyra_wt_02/audio/Palmyra_WT_02_070309_163928.d20.x.flac succeeded\n",
      "Download of pifsc/audio/pipan/palmyra_wt/pipan_palmyra_wt_02/audio/Palmyra_WT_02_070311_083928.d20.x.flac succeeded\n",
      "Download of pifsc/audio/pipan/palmyra_wt/pipan_palmyra_wt_02/audio/Palmyra_WT_02_070321_033928.d20.x.flac succeeded\n",
      "Download of pifsc/audio/pipan/palmyra_wt/pipan_palmyra_wt_03/audio/Palmyra_WT_03_070409_000000.df20.x.flac succeeded\n",
      "Download of pifsc/audio/pipan/palmyra_wt/pipan_palmyra_wt_03/audio/Palmyra_WT_03_070412_172115.df20.x.flac succeeded\n",
      "Download of pifsc/audio/pipan/palmyra_wt/pipan_palmyra_wt_03/audio/Palmyra_WT_03_070416_104230.df20.x.flac succeeded\n",
      "Download of pifsc/audio/pipan/palmyra_wt/pipan_palmyra_wt_03/audio/Palmyra_WT_03_070422_132506.df20.x.flac succeeded\n",
      "Download of pifsc/audio/pipan/palmyra_wt/pipan_palmyra_wt_03/audio/Palmyra_WT_03_070426_070000.df20.x.flac succeeded\n",
      "Download of pifsc/audio/pipan/palmyra_wt/pipan_palmyra_wt_03/audio/Palmyra_WT_03_070430_002115.df20.x.flac succeeded\n",
      "Download of pifsc/audio/pipan/palmyra_wt/pipan_palmyra_wt_03/audio/Palmyra_WT_03_070509_202345.df20.x.flac succeeded\n",
      "Download of pifsc/audio/pipan/palmyra_wt/pipan_palmyra_wt_03/audio/Palmyra_WT_03_070513_140000.df20.x.flac succeeded\n",
      "Download of pifsc/audio/pipan/palmyra_wt/pipan_palmyra_wt_03/audio/Palmyra_WT_03_070519_164236.df20.x.flac succeeded\n",
      "Download of pifsc/audio/pipan/palmyra_wt/pipan_palmyra_wt_03/audio/Palmyra_WT_03_070523_100230.df20.x.flac succeeded\n",
      "Download of pifsc/audio/pipan/palmyra_wt/pipan_palmyra_wt_03/audio/Palmyra_WT_03_070603_222000.d20.x.flac succeeded\n",
      "Download of pifsc/audio/pipan/palmyra_wt/pipan_palmyra_wt_03/audio/Palmyra_WT_03_070606_124230.d20.x.flac succeeded\n",
      "Download of pifsc/audio/pipan/palmyra_wt/pipan_palmyra_wt_03/audio/Palmyra_WT_03_070608_072000.d20.x.flac succeeded\n",
      "Download of pifsc/audio/pipan/palmyra_wt/pipan_palmyra_wt_03/audio/Palmyra_WT_03_070609_032000.d20.x.flac succeeded\n",
      "Download of pifsc/audio/pipan/palmyra_wt/pipan_palmyra_wt_03/audio/Palmyra_WT_03_070613_144230.d20.x.flac succeeded\n",
      "Download of pifsc/audio/pipan/palmyra_wt/pipan_palmyra_wt_03/audio/Palmyra_WT_03_070614_182000.d20.x.flac succeeded\n",
      "Download of pifsc/audio/pipan/palmyra_wt/pipan_palmyra_wt_03/audio/Palmyra_WT_03_070619_112115.d20.x.flac succeeded\n",
      "Download of pifsc/audio/pipan/palmyra_wt/pipan_palmyra_wt_03/audio/Palmyra_WT_03_070620_094345.d20.x.flac succeeded\n",
      "Download of pifsc/audio/pipan/palmyra_wt/pipan_palmyra_wt_03/audio/Palmyra_WT_03_070627_164345.d20.x.flac succeeded\n",
      "Download of pifsc/audio/pipan/palmyra_wt/pipan_palmyra_wt_03/audio/Palmyra_WT_03_070630_152230.d20.x.flac succeeded\n",
      "Download of pifsc/audio/pipan/palmyra_wt/pipan_palmyra_wt_03/audio/Palmyra_WT_03_070705_052230.d20.x.flac succeeded\n",
      "Download of pifsc/audio/pipan/palmyra_wt/pipan_palmyra_wt_03/audio/Palmyra_WT_03_070713_190115.d20.x.flac succeeded\n",
      "Download of pifsc/audio/pipan/palmyra_wt/pipan_palmyra_wt_03/audio/Palmyra_WT_03_070717_180115.d20.x.flac succeeded\n",
      "Download of pifsc/audio/pipan/palmyra_wt/pipan_palmyra_wt_03/audio/Palmyra_WT_03_070719_150115.d20.x.flac succeeded\n",
      "Download of pifsc/audio/pipan/palmyra_wt/pipan_palmyra_wt_03/audio/Palmyra_WT_03_070719_200115.d20.x.flac succeeded\n",
      "Download of pifsc/audio/pipan/palmyra_wt/pipan_palmyra_wt_03/audio/Palmyra_WT_03_070731_124000.d20.x.flac succeeded\n",
      "Download of pifsc/audio/pipan/palmyra_wt/pipan_palmyra_wt_03/audio/Palmyra_WT_03_070808_230230.d20.x.flac succeeded\n",
      "Download of pifsc/audio/pipan/palmyra_wt/pipan_palmyra_wt_03/audio/Palmyra_WT_03_070809_094115.d20.x.flac succeeded\n",
      "Download of pifsc/audio/pipan/palmyra_wt/pipan_palmyra_wt_03/audio/Palmyra_WT_03_070810_104115.d20.x.flac succeeded\n",
      "Download of pifsc/audio/pipan/palmyra_wt/pipan_palmyra_wt_03/audio/Palmyra_WT_03_070812_050345.d20.x.flac succeeded\n",
      "Download of pifsc/audio/pipan/palmyra_wt/pipan_palmyra_wt_03/audio/Palmyra_WT_03_070813_160345.d20.x.flac succeeded\n",
      "Download of pifsc/audio/pipan/palmyra_wt/pipan_palmyra_wt_03/audio/Palmyra_WT_03_070813_184115.d20.x.flac succeeded\n",
      "Download of pifsc/audio/pipan/palmyra_wt/pipan_palmyra_wt_03/audio/Palmyra_WT_03_070826_044230.d20.x.flac succeeded\n",
      "Download of pifsc/audio/pipan/palmyra_wt/pipan_palmyra_wt_03/audio/Palmyra_WT_03_070827_132000.d20.x.flac succeeded\n",
      "Download of pifsc/audio/pipan/palmyra_wt/pipan_palmyra_wt_03/audio/Palmyra_WT_03_070829_002000.d20.x.flac succeeded\n",
      "Download of pifsc/audio/pipan/palmyra_wt/pipan_palmyra_wt_03/audio/Palmyra_WT_03_070829_224230.d20.x.flac succeeded\n",
      "Download of pifsc/audio/pipan/palmyra_wt/pipan_palmyra_wt_03/audio/Palmyra_WT_03_070830_112000.d20.x.flac succeeded\n",
      "Download of pifsc/audio/pipan/palmyra_wt/pipan_palmyra_wt_03/audio/Palmyra_WT_03_070830_212000.d20.x.flac succeeded\n",
      "Download of pifsc/audio/pipan/palmyra_wt/pipan_palmyra_wt_03/audio/Palmyra_WT_03_070902_014230.d20.x.flac succeeded\n",
      "Download of pifsc/audio/pipan/palmyra_wt/pipan_palmyra_wt_03/audio/Palmyra_WT_03_070913_132115.d20.x.flac succeeded\n",
      "Download of pifsc/audio/pipan/palmyra_wt/pipan_palmyra_wt_03/audio/Palmyra_WT_03_070915_074345.d20.x.flac succeeded\n",
      "Download of pifsc/audio/pipan/palmyra_wt/pipan_palmyra_wt_03/audio/Palmyra_WT_03_070916_134345.d20.x.flac succeeded\n",
      "Download of pifsc/audio/pipan/palmyra_wt/pipan_palmyra_wt_04/audio/Palmyra_WT_04_070921_224021.df20.x.flac succeeded\n",
      "Download of pifsc/audio/pipan/palmyra_wt/pipan_palmyra_wt_04/audio/Palmyra_WT_04_071016_163021.df20.x.flac succeeded\n",
      "Download of pifsc/audio/pipan/palmyra_wt/pipan_palmyra_wt_04/audio/Palmyra_WT_04_071212_021021.df20.x.flac succeeded\n",
      "Download of pifsc/audio/pipan/palmyra_wt/pipan_palmyra_wt_05/audio/Palmyra_WT_05_080531_024115.d20.x.flac succeeded\n",
      "Download of pifsc/audio/pipan/palmyra_wt/pipan_palmyra_wt_05/audio/Palmyra_WT_05_080604_082345.d20.x.flac succeeded\n",
      "Download of pifsc/audio/pipan/palmyra_wt/pipan_palmyra_wt_05/audio/Palmyra_WT_05_080607_004345.d20.x.flac succeeded\n",
      "Download of pifsc/audio/pipan/palmyra_wt/pipan_palmyra_wt_05/audio/Palmyra_WT_05_080607_032115.d20.x.flac succeeded\n",
      "Download of pifsc/audio/pipan/palmyra_wt/pipan_palmyra_wt_05/audio/Palmyra_WT_05_080611_042937.d20.x.flac succeeded\n",
      "Download of pifsc/audio/pipan/palmyra_wt/pipan_palmyra_wt_05/audio/Palmyra_WT_05_080612_235524.d20.x.flac succeeded\n",
      "Download of pifsc/audio/pipan/palmyra_wt/pipan_palmyra_wt_05/audio/Palmyra_WT_05_080613_004015.d20.x.flac succeeded\n",
      "Download of pifsc/audio/pipan/palmyra_wt/pipan_palmyra_wt_05/audio/Palmyra_WT_05_080613_170952.d20.x.flac succeeded\n",
      "Download of pifsc/audio/pipan/palmyra_wt/pipan_palmyra_wt_05/audio/Palmyra_WT_05_080615_201312.d20.x.flac succeeded\n",
      "Download of pifsc/audio/pipan/palmyra_wt/pipan_palmyra_wt_05/audio/Palmyra_WT_05_080704_232316.d20.x.flac succeeded\n",
      "Download of pifsc/audio/pipan/palmyra_wt/pipan_palmyra_wt_05/audio/Palmyra_WT_05_080705_013955.d20.x.flac succeeded\n",
      "Download of pifsc/audio/pipan/palmyra_wt/pipan_palmyra_wt_05/audio/Palmyra_WT_05_080705_110409.d20.x.flac succeeded\n",
      "Download of pifsc/audio/pipan/palmyra_wt/pipan_palmyra_wt_05/audio/Palmyra_WT_05_080706_223221.d20.x.flac succeeded\n",
      "Download of pifsc/audio/pipan/palmyra_wt/pipan_palmyra_wt_05/audio/Palmyra_WT_05_080708_231452.d20.x.flac succeeded\n",
      "Download of pifsc/audio/pipan/palmyra_wt/pipan_palmyra_wt_05/audio/Palmyra_WT_05_080709_004537.d20.x.flac succeeded\n",
      "Download of pifsc/audio/pipan/palmyra_wt/pipan_palmyra_wt_05/audio/Palmyra_WT_05_080711_074115.d20.x.flac succeeded\n",
      "Download of pifsc/audio/pipan/palmyra_wt/pipan_palmyra_wt_05/audio/Palmyra_WT_05_080714_004115.d20.x.flac succeeded\n",
      "Download of pifsc/audio/pipan/palmyra_wt/pipan_palmyra_wt_05/audio/Palmyra_WT_05_080715_214115.d20.x.flac succeeded\n",
      "Download of pifsc/audio/pipan/palmyra_wt/pipan_palmyra_wt_05/audio/Palmyra_WT_05_080730_220345.d20.x.flac succeeded\n",
      "Download of pifsc/audio/pipan/palmyra_wt/pipan_palmyra_wt_05/audio/Palmyra_WT_05_080806_022000.d20.x.flac succeeded\n",
      "Download of pifsc/audio/pipan/palmyra_wt/pipan_palmyra_wt_05/audio/Palmyra_WT_05_080814_222115.d20.x.flac succeeded\n",
      "Download of pifsc/audio/pipan/palmyra_wt/pipan_palmyra_wt_05/audio/Palmyra_WT_05_080816_024351.d20.x.flac succeeded\n",
      "Download of pifsc/audio/pipan/palmyra_wt/pipan_palmyra_wt_05/audio/Palmyra_WT_05_080816_174230.d20.x.flac succeeded\n",
      "Download of pifsc/audio/pipan/palmyra_wt/pipan_palmyra_wt_05/audio/Palmyra_WT_05_080822_184230.d20.x.flac succeeded\n",
      "Download of pifsc/audio/pipan/palmyra_wt/pipan_palmyra_wt_05/audio/Palmyra_WT_05_080830_172115.d20.x.flac succeeded\n",
      "Download of pifsc/audio/pipan/palmyra_wt/pipan_palmyra_wt_05/audio/Palmyra_WT_05_080903_212115.d20.x.flac succeeded\n",
      "Download of pifsc/audio/pipan/palmyra_wt/pipan_palmyra_wt_05/audio/Palmyra_WT_05_080907_070345.d20.x.flac succeeded\n",
      "Download of pifsc/audio/pipan/palmyra_wt/pipan_palmyra_wt_05/audio/Palmyra_WT_05_080910_200345.d20.x.flac succeeded\n",
      "Download of pifsc/audio/pipan/palmyra_wt/pipan_palmyra_wt_05/audio/Palmyra_WT_05_080914_202230.d20.x.flac succeeded\n",
      "Download of pifsc/audio/pipan/palmyra_wt/pipan_palmyra_wt_05/audio/Palmyra_WT_05_080916_050000.d20.x.flac succeeded\n",
      "Download of pifsc/audio/pipan/palmyra_wt/pipan_palmyra_wt_06/audio/Palmyra_WT_06_081025_102115.d20.x.flac succeeded\n",
      "Download of pifsc/audio/pipan/palmyra_wt/pipan_palmyra_wt_06/audio/Palmyra_WT_06_081026_084345.d20.x.flac succeeded\n",
      "Download of pifsc/audio/pipan/palmyra_wt/pipan_palmyra_wt_06/audio/Palmyra_WT_06_081029_142115.d20.x.flac succeeded\n",
      "Download of pifsc/audio/pipan/palmyra_wt/pipan_palmyra_wt_06/audio/Palmyra_WT_06_081105_142230.d20.x.flac succeeded\n",
      "Download of pifsc/audio/pipan/palmyra_wt/pipan_palmyra_wt_06/audio/Palmyra_WT_06_081107_062230.d20.x.flac succeeded\n",
      "Download of pifsc/audio/pipan/palmyra_wt/pipan_palmyra_wt_06/audio/Palmyra_WT_06_081108_150000.d20.x.flac succeeded\n",
      "Download of pifsc/audio/pipan/palmyra_wt/pipan_palmyra_wt_06/audio/Palmyra_WT_06_081109_160000.d20.x.flac succeeded\n",
      "Download of pifsc/audio/pipan/palmyra_wt/pipan_palmyra_wt_06/audio/Palmyra_WT_06_081111_152230.d20.x.flac succeeded\n",
      "Download of pifsc/audio/pipan/palmyra_wt/pipan_palmyra_wt_06/audio/Palmyra_WT_06_081116_080000.d20.x.flac succeeded\n",
      "Download of pifsc/audio/pipan/palmyra_wt/pipan_palmyra_wt_06/audio/Palmyra_WT_06_081118_080115.d20.x.flac succeeded\n",
      "Download of pifsc/audio/pipan/palmyra_wt/pipan_palmyra_wt_06/audio/Palmyra_WT_06_081121_082345.d20.x.flac succeeded\n",
      "Download of pifsc/audio/pipan/palmyra_wt/pipan_palmyra_wt_06/audio/Palmyra_WT_06_081122_142345.d20.x.flac succeeded\n",
      "Download of pifsc/audio/pipan/palmyra_wt/pipan_palmyra_wt_06/audio/Palmyra_WT_06_081130_172345.d20.x.flac succeeded\n",
      "Download of pifsc/audio/pipan/palmyra_wt/pipan_palmyra_wt_06/audio/Palmyra_WT_06_081213_160230.d20.x.flac succeeded\n",
      "Download of pifsc/audio/pipan/palmyra_wt/pipan_palmyra_wt_06/audio/Palmyra_WT_06_081216_020345.d20.x.flac succeeded\n",
      "Download of pifsc/audio/pipan/palmyra_wt/pipan_palmyra_wt_06/audio/Palmyra_WT_06_081220_034115.d20.x.flac succeeded\n",
      "Download of pifsc/audio/pipan/palmyra_wt/pipan_palmyra_wt_06/audio/Palmyra_WT_06_081223_040345.d20.x.flac succeeded\n",
      "Download of pifsc/audio/pipan/palmyra_wt/pipan_palmyra_wt_06/audio/Palmyra_WT_06_090103_000222.d20.x.flac succeeded\n",
      "Download of pifsc/audio/pipan/palmyra_wt/pipan_palmyra_wt_06/audio/Palmyra_WT_06_090103_052031.d20.x.flac succeeded\n",
      "Download of pifsc/audio/pipan/palmyra_wt/pipan_palmyra_wt_06/audio/Palmyra_WT_06_090104_045732.d20.x.flac succeeded\n",
      "Download of pifsc/audio/pipan/palmyra_wt/pipan_palmyra_wt_06/audio/Palmyra_WT_06_090104_075902.d20.x.flac succeeded\n",
      "Download of pifsc/audio/pipan/palmyra_wt/pipan_palmyra_wt_06/audio/Palmyra_WT_06_090104_084353.d20.x.flac succeeded\n",
      "Download of pifsc/audio/pipan/palmyra_wt/pipan_palmyra_wt_06/audio/Palmyra_WT_06_090105_033859.d20.x.flac succeeded\n",
      "Download of pifsc/audio/pipan/palmyra_wt/pipan_palmyra_wt_06/audio/Palmyra_WT_06_090107_191041.d20.x.flac succeeded\n",
      "Download of pifsc/audio/pipan/palmyra_wt/pipan_palmyra_wt_06/audio/Palmyra_WT_06_090107_221211.d20.x.flac succeeded\n",
      "Download of pifsc/audio/pipan/palmyra_wt/pipan_palmyra_wt_06/audio/Palmyra_WT_06_090119_224313.d20.x.flac succeeded\n",
      "Download of pifsc/audio/pipan/palmyra_wt/pipan_palmyra_wt_06/audio/Palmyra_WT_06_090128_114313.d20.x.flac succeeded\n",
      "Download of pifsc/audio/pipan/palmyra_wt/pipan_palmyra_wt_06/audio/Palmyra_WT_06_090312_070313.d20.x.flac succeeded\n",
      "Download of pifsc/audio/pipan/palmyra_wt/pipan_palmyra_wt_06/audio/Palmyra_WT_06_090323_104043.d20.x.flac succeeded\n",
      "Download of pifsc/audio/pipan/palmyra_wt/pipan_palmyra_wt_06/audio/Palmyra_WT_06_090325_131928.d20.x.flac succeeded\n",
      "Download of pifsc/audio/pipan/palmyra_wt/pipan_palmyra_wt_06/audio/Palmyra_WT_06_090327_151928.d20.x.flac succeeded\n",
      "Download of pifsc/audio/pipan/palmyra_wt/pipan_palmyra_wt_06/audio/Palmyra_WT_06_090328_161928.d20.x.flac succeeded\n",
      "Download of pifsc/audio/pipan/palmyra_wt/pipan_palmyra_wt_06/audio/Palmyra_WT_06_090329_121928.d20.x.flac succeeded\n",
      "Download of pifsc/audio/pipan/saipan/pipan_saipan_01/audio/Saipan_A_01_100601_192345.df20.x.flac succeeded\n",
      "Download of pifsc/audio/pipan/saipan/pipan_saipan_01/audio/Saipan_A_01_100706_092345.df20.x.flac succeeded\n",
      "Download of pifsc/audio/pipan/saipan/pipan_saipan_01/audio/Saipan_A_01_100802_124230.df20.x.flac succeeded\n",
      "Download of pifsc/audio/pipan/saipan/pipan_saipan_02/audio/Saipan_A_02_110430_172000.df20.x.flac succeeded\n",
      "Download of pifsc/audio/pipan/saipan/pipan_saipan_02/audio/Saipan_A_02_110504_104115.df20.x.flac succeeded\n",
      "Download of pifsc/audio/pipan/saipan/pipan_saipan_02/audio/Saipan_A_02_110508_040230.df20.x.flac succeeded\n",
      "Download of pifsc/audio/pipan/saipan/pipan_saipan_02/audio/Saipan_A_02_110511_212345.df20.x.flac succeeded\n",
      "Download of pifsc/audio/pipan/saipan/pipan_saipan_02/audio/Saipan_A_02_110526_190345.df20.x.flac succeeded\n",
      "Download of pifsc/audio/pipan/saipan/pipan_saipan_02/audio/Saipan_A_02_110606_232230.df20.x.flac succeeded\n",
      "Download of pifsc/audio/pipan/saipan/pipan_saipan_02/audio/Saipan_A_02_110610_164345.df20.x.flac succeeded\n",
      "Download of pifsc/audio/pipan/saipan/pipan_saipan_02/audio/Saipan_A_02_110625_142345.df20.x.flac succeeded\n",
      "Download of pifsc/audio/pipan/saipan/pipan_saipan_02/audio/Saipan_A_02_110708_080230.df20.x.flac succeeded\n",
      "Download of pifsc/audio/pipan/saipan/pipan_saipan_02/audio/Saipan_A_02_110715_190000.df20.x.flac succeeded\n",
      "Download of pifsc/audio/pipan/saipan/pipan_saipan_02/audio/Saipan_A_02_110723_054230.df20.x.flac succeeded\n",
      "Download of pifsc/audio/pipan/saipan/pipan_saipan_02/audio/Saipan_A_02_110818_074115.df20.x.flac succeeded\n",
      "Download of pifsc/audio/pipan/saipan/pipan_saipan_02/audio/Saipan_A_02_110825_182345.df20.x.flac succeeded\n",
      "Download of pifsc/audio/pipan/saipan/pipan_saipan_02/audio/Saipan_A_02_110922_092345.df20.x.flac succeeded\n",
      "Download of pifsc/audio/pipan/saipan/pipan_saipan_02/audio/Saipan_A_02_111009_094000.df20.x.flac succeeded\n",
      "Download of pifsc/audio/pipan/saipan/pipan_saipan_03/audio/Saipan_A_03_120621_024800.df20.x.flac succeeded\n",
      "Download of pifsc/audio/pipan/saipan/pipan_saipan_03/audio/Saipan_A_03_120623_082630.df20.x.flac succeeded\n",
      "Download of pifsc/audio/pipan/saipan/pipan_saipan_03/audio/Saipan_A_03_120702_070230.df20.x.flac succeeded\n",
      "Download of pifsc/audio/pipan/saipan/pipan_saipan_03/audio/Saipan_A_03_120807_234800.df20.x.flac succeeded\n",
      "Download of pifsc/audio/pipan/saipan/pipan_saipan_03/audio/Saipan_A_03_120818_011315.df20.x.flac succeeded\n",
      "Download of pifsc/audio/pipan/saipan/pipan_saipan_03/audio/Saipan_A_03_120828_134800.df20.x.flac succeeded\n",
      "Download of pifsc/audio/pipan/saipan/pipan_saipan_03/audio/Saipan_A_03_120829_163715.df20.x.flac succeeded\n",
      "Download of pifsc/audio/pipan/saipan/pipan_saipan_03/audio/Saipan_A_03_120830_192630.df20.x.flac succeeded\n",
      "Download of pifsc/audio/pipan/saipan/pipan_saipan_03/audio/Saipan_A_03_120831_221545.df20.x.flac succeeded\n",
      "Download of pifsc/audio/pipan/saipan/pipan_saipan_03/audio/Saipan_A_03_120914_080945.df20.x.flac succeeded\n",
      "Download of pifsc/audio/pipan/saipan/pipan_saipan_03/audio/Saipan_A_03_120914_192029.df20.x.flac succeeded\n",
      "Download of pifsc/audio/pipan/saipan/pipan_saipan_03/audio/Saipan_A_03_120919_063830.df20.x.flac succeeded\n",
      "Download of pifsc/audio/pipan/saipan/pipan_saipan_03/audio/Saipan_A_03_120920_092745.df20.x.flac succeeded\n",
      "Download of pifsc/audio/pipan/saipan/pipan_saipan_03/audio/Saipan_A_03_120922_150715.df20.x.flac succeeded\n",
      "Download of pifsc/audio/pipan/saipan/pipan_saipan_03/audio/Saipan_A_03_121006_121915.df20.x.flac succeeded\n",
      "Download of pifsc/audio/pipan/saipan/pipan_saipan_03/audio/Saipan_A_03_121009_204800.df20.x.flac succeeded\n",
      "Download of pifsc/audio/pipan/saipan/pipan_saipan_03/audio/Saipan_A_03_121012_022630.df20.x.flac succeeded\n",
      "Download of pifsc/audio/pipan/saipan/pipan_saipan_03/audio/Saipan_A_03_121015_105515.df20.x.flac succeeded\n",
      "Download of pifsc/audio/pipan/saipan/pipan_saipan_03/audio/Saipan_A_03_121016_134430.df20.x.flac succeeded\n",
      "Download of pifsc/audio/pipan/saipan/pipan_saipan_03/audio/Saipan_A_03_121018_192400.df20.x.flac succeeded\n",
      "Download of pifsc/audio/pipan/saipan/pipan_saipan_03/audio/Saipan_A_03_121021_010230.df20.x.flac succeeded\n",
      "Download of pifsc/audio/pipan/saipan/pipan_saipan_03/audio/Saipan_A_03_121025_122030.df20.x.flac succeeded\n",
      "Download of pifsc/audio/pipan/saipan/pipan_saipan_03/audio/Saipan_A_03_121112_204430.df20.x.flac succeeded\n",
      "Download of pifsc/audio/pipan/saipan/pipan_saipan_03/audio/Saipan_A_03_121113_233345.df20.x.flac succeeded\n",
      "Download of pifsc/audio/pipan/saipan/pipan_saipan_03/audio/Saipan_A_03_121117_080230.df20.x.flac succeeded\n",
      "Download of pifsc/audio/pipan/saipan/pipan_saipan_03/audio/Saipan_A_03_121118_220559.df20.x.flac succeeded\n",
      "Download of pifsc/audio/pipan/saipan/pipan_saipan_03/audio/Saipan_A_03_121120_005515.df20.x.flac succeeded\n",
      "Download of pifsc/audio/pipan/saipan/pipan_saipan_03/audio/Saipan_A_03_121123_092400.df20.x.flac succeeded\n",
      "Download of pifsc/audio/pipan/saipan/pipan_saipan_03/audio/Saipan_A_03_121126_175145.df20.x.flac succeeded\n",
      "Download of pifsc/audio/pipan/saipan/pipan_saipan_03/audio/Saipan_A_03_121130_022030.df20.x.flac succeeded\n",
      "Download of pifsc/audio/pipan/saipan/pipan_saipan_03/audio/Saipan_A_03_121203_104915.df20.x.flac succeeded\n",
      "Download of pifsc/audio/pipan/saipan/pipan_saipan_03/audio/Saipan_A_03_121204_133830.df20.x.flac succeeded\n",
      "Download of pifsc/audio/pipan/saipan/pipan_saipan_03/audio/Saipan_A_03_121205_162745.df20.x.flac succeeded\n",
      "Download of pifsc/audio/pipan/saipan/pipan_saipan_03/audio/Saipan_A_03_121206_191800.df20.x.flac succeeded\n",
      "Download of pifsc/audio/pipan/saipan/pipan_saipan_03/audio/Saipan_A_03_121213_232745.df20.x.flac succeeded\n",
      "Download of pifsc/audio/pipan/saipan/pipan_saipan_03/audio/Saipan_A_03_130123_004759.df20.x.flac succeeded\n",
      "Download of pifsc/audio/pipan/saipan/pipan_saipan_03/audio/Saipan_A_03_130129_174430.df20.x.flac succeeded\n",
      "Download of pifsc/audio/pipan/saipan/pipan_saipan_04/audio/Saipan_A_04_130729_122230.df20.x.flac succeeded\n",
      "Download of pifsc/audio/pipan/saipan/pipan_saipan_04/audio/Saipan_A_04_130810_060145.df20.x.flac succeeded\n",
      "Download of pifsc/audio/pipan/saipan/pipan_saipan_04/audio/Saipan_A_04_130826_103730.df20.x.flac succeeded\n",
      "Download of pifsc/audio/pipan/saipan/pipan_saipan_04/audio/Saipan_A_04_130908_113600.df20.x.flac succeeded\n",
      "Download of pifsc/audio/pipan/saipan/pipan_saipan_04/audio/Saipan_A_04_130909_185315.df20.x.flac succeeded\n",
      "Download of pifsc/audio/pipan/saipan/pipan_saipan_04/audio/Saipan_A_04_130924_161415.df20.x.flac succeeded\n",
      "Download of pifsc/audio/pipan/saipan/pipan_saipan_04/audio/Saipan_A_04_130927_064845.df20.x.flac succeeded\n",
      "Download of pifsc/audio/pipan/saipan/pipan_saipan_04/audio/Saipan_A_04_130928_140800.df20.x.flac succeeded\n",
      "Download of pifsc/audio/pipan/saipan/pipan_saipan_04/audio/Saipan_A_04_130929_212515.df20.x.flac succeeded\n",
      "Download of pifsc/audio/pipan/saipan/pipan_saipan_04/audio/Saipan_A_04_131010_205230.df20.x.flac succeeded\n",
      "Download of pifsc/audio/pipan/saipan/pipan_saipan_04/audio/Saipan_A_04_131012_040945.df20.x.flac succeeded\n",
      "Download of pifsc/audio/pipan/saipan/pipan_saipan_04/audio/Saipan_A_04_131017_092045.df20.x.flac succeeded\n",
      "Download of pifsc/audio/pipan/saipan/pipan_saipan_04/audio/Saipan_A_04_131103_211345.df20.x.flac succeeded\n",
      "Download of pifsc/audio/pipan/saipan/pipan_saipan_04/audio/Saipan_A_04_131109_022445.df20.x.flac succeeded\n",
      "Download of pifsc/audio/pipan/saipan/pipan_saipan_04/audio/Saipan_A_04_131111_170115.df20.x.flac succeeded\n",
      "Download of pifsc/audio/pipan/saipan/pipan_saipan_04/audio/Saipan_A_04_131122_032315.df20.x.flac succeeded\n",
      "Download of pifsc/audio/pipan/saipan/pipan_saipan_05/audio/Saipan_A_05_140615_051600.df20.x.flac succeeded\n",
      "Download of pifsc/audio/pipan/saipan/pipan_saipan_05/audio/Saipan_A_05_140627_030015.df20.x.flac succeeded\n",
      "Download of pifsc/audio/pipan/saipan/pipan_saipan_05/audio/Saipan_A_05_140701_010100.df20.x.flac succeeded\n",
      "Download of pifsc/audio/pipan/saipan/pipan_saipan_05/audio/Saipan_A_05_140706_061200.df20.x.flac succeeded\n",
      "Download of pifsc/audio/pipan/saipan/pipan_saipan_05/audio/Saipan_A_05_140708_204630.df20.x.flac succeeded\n",
      "Download of pifsc/audio/pipan/saipan/pipan_saipan_05/audio/Saipan_A_05_140711_112300.df20.x.flac succeeded\n",
      "Download of pifsc/audio/pipan/saipan/pipan_saipan_05/audio/Saipan_A_05_140721_033300.df20.x.flac succeeded\n",
      "Download of pifsc/audio/pipan/saipan/pipan_saipan_05/audio/Saipan_A_05_140808_223500.df20.x.flac succeeded\n",
      "Download of pifsc/audio/pipan/saipan/pipan_saipan_05/audio/Saipan_A_05_140820_161415.df20.x.flac succeeded\n",
      "Download of pifsc/audio/pipan/saipan/pipan_saipan_05/audio/Saipan_A_05_140824_140800.df20.x.flac succeeded\n",
      "Download of pifsc/audio/pipan/saipan/pipan_saipan_05/audio/Saipan_A_05_140828_115945.df20.x.flac succeeded\n",
      "Download of pifsc/audio/pipan/saipan/pipan_saipan_05/audio/Saipan_A_05_140909_184500.df20.x.flac succeeded\n",
      "Download of pifsc/audio/pipan/saipan/pipan_saipan_05/audio/Saipan_A_05_140924_025845.df20.x.flac succeeded\n",
      "Download of pifsc/audio/pipan/saipan/pipan_saipan_05/audio/Saipan_A_05_141005_022445.df20.x.flac succeeded\n",
      "Download of pifsc/audio/pipan/saipan/pipan_saipan_05/audio/Saipan_A_05_141011_145500.df20.x.flac succeeded\n",
      "Download of pifsc/audio/pipan/saipan/pipan_saipan_05/audio/Saipan_A_05_141018_032315.df20.x.flac succeeded\n",
      "Download of pifsc/audio/pipan/saipan/pipan_saipan_05/audio/Saipan_A_05_141020_175745.df20.x.flac succeeded\n",
      "Download of pifsc/audio/pipan/saipan/pipan_saipan_05/audio/Saipan_A_05_141031_172115.df20.x.flac succeeded\n",
      "Download of pifsc/audio/pipan/saipan/pipan_saipan_05/audio/Saipan_A_05_141111_034315.df20.x.flac succeeded\n",
      "Download of pifsc/audio/pipan/saipan/pipan_saipan_05/audio/Saipan_A_05_141116_085415.df20.x.flac succeeded\n",
      "Download of pifsc/audio/pipan/saipan/pipan_saipan_05/audio/Saipan_A_05_141122_030915.df20.x.flac succeeded\n",
      "Download of pifsc/audio/pipan/saipan/pipan_saipan_05/audio/Saipan_A_05_141127_082015.df20.x.flac succeeded\n",
      "Download of pifsc/audio/pipan/saipan/pipan_saipan_05/audio/Saipan_A_05_141128_153730.df20.x.flac succeeded\n",
      "Download of pifsc/audio/pipan/saipan/pipan_saipan_05/audio/Saipan_A_05_141201_061400.df20.x.flac succeeded\n",
      "Download of pifsc/audio/pipan/saipan/pipan_saipan_05/audio/Saipan_A_05_141218_180815.df20.x.flac succeeded\n",
      "Download of pifsc/audio/pipan/saipan/pipan_saipan_05/audio/Saipan_A_05_141220_012530.df20.x.flac succeeded\n",
      "Download of pifsc/audio/pipan/saipan/pipan_saipan_05/audio/Saipan_A_05_141226_135345.df20.x.flac succeeded\n",
      "Download of pifsc/audio/pipan/saipan/pipan_saipan_05/audio/Saipan_A_05_141230_114730.df20.x.flac succeeded\n",
      "Download of pifsc/audio/pipan/saipan/pipan_saipan_06/audio/Saipan_A_06_150523_104300.df20.x.flac succeeded\n",
      "Download of pifsc/audio/pipan/saipan/pipan_saipan_06/audio/Saipan_A_06_150524_180715.df20.x.flac succeeded\n",
      "Download of pifsc/audio/pipan/saipan/pipan_saipan_06/audio/Saipan_A_06_150527_084145.df20.x.flac succeeded\n",
      "Download of pifsc/audio/pipan/saipan/pipan_saipan_06/audio/Saipan_A_06_150607_084015.df20.x.flac succeeded\n",
      "Download of pifsc/audio/pipan/saipan/pipan_saipan_06/audio/Saipan_A_06_150608_160430.df20.x.flac succeeded\n",
      "Download of pifsc/audio/pipan/saipan/pipan_saipan_06/audio/Saipan_A_06_150611_065500.df20.x.flac succeeded\n",
      "Download of pifsc/audio/pipan/saipan/pipan_saipan_06/audio/Saipan_A_06_150626_231930.df20.x.flac succeeded\n",
      "Download of pifsc/audio/pipan/saipan/pipan_saipan_06/audio/Saipan_A_06_150702_174945.df20.x.flac succeeded\n",
      "Download of pifsc/audio/pipan/saipan/pipan_saipan_06/audio/Saipan_A_06_150709_061959.df20.x.flac succeeded\n",
      "Download of pifsc/audio/pipan/saipan/pipan_saipan_06/audio/Saipan_A_06_150710_133715.df20.x.flac succeeded\n",
      "Download of pifsc/audio/pipan/saipan/pipan_saipan_06/audio/Saipan_A_06_150718_094115.df20.x.flac succeeded\n",
      "Download of pifsc/audio/pipan/saipan/pipan_saipan_06/audio/Saipan_A_06_150728_021100.df20.x.flac succeeded\n",
      "Download of pifsc/audio/pipan/saipan/pipan_saipan_06/audio/Saipan_A_06_150807_125400.df20.x.flac succeeded\n",
      "Download of pifsc/audio/pipan/saipan/pipan_saipan_06/audio/Saipan_A_06_150823_175545.df20.x.flac succeeded\n",
      "Download of pifsc/audio/pipan/saipan/pipan_saipan_06/audio/Saipan_A_06_150825_011500.df20.x.flac succeeded\n",
      "Download of pifsc/audio/pipan/saipan/pipan_saipan_06/audio/Saipan_A_06_150904_115215.df20.x.flac succeeded\n",
      "Download of pifsc/audio/pipan/saipan/pipan_saipan_06/audio/Saipan_A_06_150922_002715.df20.x.flac succeeded\n",
      "Download of pifsc/audio/pipan/saipan/pipan_saipan_06/audio/Saipan_A_06_150928_130930.df20.x.flac succeeded\n",
      "Download of pifsc/audio/pipan/saipan/pipan_saipan_06/audio/Saipan_A_06_151003_182845.df20.x.flac succeeded\n",
      "Download of pifsc/audio/pipan/saipan/pipan_saipan_06/audio/Saipan_A_06_151010_072115.df20.x.flac succeeded\n",
      "Download of pifsc/audio/pipan/saipan/pipan_saipan_06/audio/Saipan_A_06_151021_071400.df20.x.flac succeeded\n",
      "Download of pifsc/audio/pipan/saipan/pipan_saipan_06/audio/Saipan_A_06_151023_214830.df20.x.flac succeeded\n",
      "Download of pifsc/audio/pipan/saipan/pipan_saipan_06/audio/Saipan_A_06_151026_123200.df20.x.flac succeeded\n",
      "Download of pifsc/audio/pipan/saipan/pipan_saipan_06/audio/Saipan_A_06_151106_121900.df20.x.flac succeeded\n",
      "Download of pifsc/audio/pipan/saipan/pipan_saipan_06/audio/Saipan_A_06_151109_025330.df20.x.flac succeeded\n",
      "Download of pifsc/audio/pipan/saipan/pipan_saipan_06/audio/Saipan_A_06_151118_060515.df20.x.flac succeeded\n",
      "Download of pifsc/audio/pipan/saipan/pipan_saipan_06/audio/Saipan_A_06_151201_074930.df20.x.flac succeeded\n",
      "Download of pifsc/audio/pipan/saipan/pipan_saipan_06/audio/Saipan_A_06_151203_042100.df20.x.flac succeeded\n",
      "Download of pifsc/audio/pipan/saipan/pipan_saipan_06/audio/Saipan_A_06_151208_094130.df20.x.flac succeeded\n",
      "Download of pifsc/audio/pipan/saipan/pipan_saipan_06/audio/Saipan_A_06_151221_112200.df20.x.flac succeeded\n",
      "Download of pifsc/audio/pipan/saipan/pipan_saipan_06/audio/Saipan_A_06_160211_150030.df20.x.flac succeeded\n",
      "Download of pifsc/audio/pipan/saipan/pipan_saipan_06/audio/Saipan_A_06_160406_055700.df20.x.flac succeeded\n",
      "Download of pifsc/audio/pipan/saipan/pipan_saipan_06/audio/Saipan_A_06_160407_104130.df20.x.flac succeeded\n",
      "Download of pifsc/audio/pipan/tinian/pipan_tinian_02/audio/Tinian_A_02_110516_124000.df20.x.flac succeeded\n",
      "Download of pifsc/audio/pipan/tinian/pipan_tinian_02/audio/Tinian_A_02_110716_164000.df20.x.flac succeeded\n",
      "Download of pifsc/audio/pipan/tinian/pipan_tinian_02/audio/Tinian_A_02_110923_072345.df20.x.flac succeeded\n",
      "Download of pifsc/audio/pipan/tinian/pipan_tinian_02/audio/Tinian_A_02_111004_114230.df20.x.flac succeeded\n",
      "Download of pifsc/audio/pipan/tinian/pipan_tinian_02/audio/Tinian_A_02_111023_024345.df20.x.flac succeeded\n",
      "Download of pifsc/audio/pipan/tinian/pipan_tinian_02/audio/Tinian_A_02_111026_202000.df20.x.flac succeeded\n",
      "Download of pifsc/audio/pipan/tinian/pipan_tinian_03/audio/Tinian_A_03_120621_012400.df20.x.flac succeeded\n",
      "Download of pifsc/audio/pipan/tinian/pipan_tinian_03/audio/Tinian_A_03_120630_194315.df20.x.flac succeeded\n",
      "Download of pifsc/audio/pipan/tinian/pipan_tinian_03/audio/Tinian_A_03_120705_070115.df20.x.flac succeeded\n",
      "Download of pifsc/audio/pipan/tinian/pipan_tinian_03/audio/Tinian_A_03_120721_094545.df20.x.flac succeeded\n",
      "Download of pifsc/audio/pipan/tinian/pipan_tinian_03/audio/Tinian_A_03_120729_053230.df20.x.flac succeeded\n",
      "Download of pifsc/audio/pipan/tinian/pipan_tinian_03/audio/Tinian_A_03_120803_193945.df20.x.flac succeeded\n",
      "Download of pifsc/audio/pipan/tinian/pipan_tinian_03/audio/Tinian_A_03_120808_180945.df20.x.flac succeeded\n",
      "Download of pifsc/audio/pipan/tinian/pipan_tinian_03/audio/Tinian_A_03_120814_081800.df20.x.flac succeeded\n",
      "Download of pifsc/audio/pipan/tinian/pipan_tinian_03/audio/Tinian_A_03_120831_233345.df20.x.flac succeeded\n",
      "Download of pifsc/audio/pipan/tinian/pipan_tinian_03/audio/Tinian_A_03_120909_220945.df20.x.flac succeeded\n",
      "Download of pifsc/audio/pipan/tinian/pipan_tinian_03/audio/Tinian_A_03_120923_191430.df20.x.flac succeeded\n",
      "Download of pifsc/audio/pipan/tinian/pipan_tinian_03/audio/Tinian_A_03_120927_034315.df20.x.flac succeeded\n",
      "Download of pifsc/audio/pipan/tinian/pipan_tinian_03/audio/Tinian_A_03_120928_063230.df20.x.flac succeeded\n",
      "Download of pifsc/audio/pipan/tinian/pipan_tinian_03/audio/Tinian_A_03_121007_050830.df20.x.flac succeeded\n",
      "Download of pifsc/audio/pipan/tinian/pipan_tinian_03/audio/Tinian_A_03_121009_104800.df20.x.flac succeeded\n",
      "Download of pifsc/audio/pipan/tinian/pipan_tinian_03/audio/Tinian_A_03_121013_062745.df20.x.flac succeeded\n",
      "Download of pifsc/audio/pipan/tinian/pipan_tinian_03/audio/Tinian_A_03_121016_145630.df20.x.flac succeeded\n",
      "Download of pifsc/audio/pipan/tinian/pipan_tinian_03/audio/Tinian_A_03_121024_104315.df20.x.flac succeeded\n",
      "Download of pifsc/audio/pipan/tinian/pipan_tinian_03/audio/Tinian_A_03_121025_133230.df20.x.flac succeeded\n",
      "Download of pifsc/audio/pipan/tinian/pipan_tinian_03/audio/Tinian_A_03_121030_005030.df20.x.flac succeeded\n",
      "Download of pifsc/audio/pipan/tinian/pipan_tinian_03/audio/Tinian_A_03_121031_145400.df20.x.flac succeeded\n",
      "Download of pifsc/audio/pipan/tinian/pipan_tinian_03/audio/Tinian_A_03_121103_232145.df20.x.flac succeeded\n",
      "Download of pifsc/audio/pipan/tinian/pipan_tinian_03/audio/Tinian_A_03_121111_190830.df20.x.flac succeeded\n",
      "Download of pifsc/audio/pipan/tinian/pipan_tinian_03/audio/Tinian_A_03_121118_120600.df20.x.flac succeeded\n",
      "Download of pifsc/audio/pipan/tinian/pipan_tinian_03/audio/Tinian_A_03_121120_174430.df20.x.flac succeeded\n",
      "Download of pifsc/audio/pipan/tinian/pipan_tinian_03/audio/Tinian_A_03_121121_203345.df20.x.flac succeeded\n",
      "Download of pifsc/audio/pipan/tinian/pipan_tinian_03/audio/Tinian_A_03_121125_161545.df20.x.flac succeeded\n",
      "Download of pifsc/audio/pipan/tinian/pipan_tinian_03/audio/Tinian_A_03_121213_132745.df20.x.flac succeeded\n",
      "Download of pifsc/audio/pipan/tinian/pipan_tinian_03/audio/Tinian_A_03_121216_062030.df20.x.flac succeeded\n",
      "Download of pifsc/audio/pipan/tinian/pipan_tinian_03/audio/Tinian_A_03_121219_144915.df20.x.flac succeeded\n",
      "Download of pifsc/audio/pipan/tinian/pipan_tinian_03/audio/Tinian_A_03_130103_033230.df20.x.flac succeeded\n",
      "Download of pifsc/audio/pipan/tinian/pipan_tinian_03/audio/Tinian_A_03_130205_115515.df20.x.flac succeeded\n",
      "Download of pifsc/audio/pipan/tinian/pipan_tinian_03/audio/Tinian_A_03_130223_202030.df20.x.flac succeeded\n",
      "Download of pifsc/audio/pipan/tinian/pipan_tinian_03/audio/Tinian_A_03_130304_185630.df20.x.flac succeeded\n",
      "Download of pifsc/audio/pipan/tinian/pipan_tinian_03/audio/Tinian_A_03_130305_214545.df20.x.flac succeeded\n",
      "Download of pifsc/audio/pipan/tinian/pipan_tinian_03/audio/Tinian_A_03_130308_032515.df20.x.flac succeeded\n",
      "Download of pifsc/audio/pipan/tinian/pipan_tinian_03/audio/Tinian_A_03_130316_102515.df20.x.flac succeeded\n",
      "Download of pifsc/audio/pipan/tinian/pipan_tinian_03/audio/Tinian_A_03_130319_185400.df20.x.flac succeeded\n",
      "Download of pifsc/audio/pipan/tinian/pipan_tinian_03/audio/Tinian_A_03_130404_213945.df20.x.flac succeeded\n",
      "Download of pifsc/audio/pipan/tinian/pipan_tinian_03/audio/Tinian_A_03_130411_143715.df20.x.flac succeeded\n",
      "Download of pifsc/audio/pipan/tinian/pipan_tinian_03/audio/Tinian_A_03_130427_172400.df20.x.flac succeeded\n",
      "Download of pifsc/audio/pipan/tinian/pipan_tinian_03/audio/Tinian_A_03_130504_102030.df20.x.flac succeeded\n",
      "Download of pifsc/audio/pipan/tinian/pipan_tinian_03/audio/Tinian_A_03_130505_130945.df20.x.flac succeeded\n",
      "Download of pifsc/audio/pipan/tinian/pipan_tinian_03/audio/Tinian_A_03_130506_160000.df20.x.flac succeeded\n",
      "Download of pifsc/audio/pipan/tinian/pipan_tinian_03/audio/Tinian_A_03_130510_002745.df20.x.flac succeeded\n",
      "Download of pifsc/audio/pipan/tinian/pipan_tinian_03/audio/Tinian_A_03_130511_031800.df20.x.flac succeeded\n",
      "Download of pifsc/audio/pipan/tinian/pipan_tinian_03/audio/Tinian_A_03_130513_085630.df20.x.flac succeeded\n",
      "Download of pifsc/audio/pipan/tinian/pipan_tinian_04/audio/Tinian_A_04_130725_142845.df20.x.flac succeeded\n",
      "Download of pifsc/audio/pipan/tinian/pipan_tinian_04/audio/Tinian_A_04_130730_193945.df20.x.flac succeeded\n",
      "Download of pifsc/audio/pipan/tinian/pipan_tinian_04/audio/Tinian_A_04_130801_025900.df20.x.flac succeeded\n",
      "Download of pifsc/audio/pipan/tinian/pipan_tinian_04/audio/Tinian_A_04_130806_081000.df20.x.flac succeeded\n",
      "Download of pifsc/audio/pipan/tinian/pipan_tinian_04/audio/Tinian_A_04_130824_134230.df20.x.flac succeeded\n",
      "Download of pifsc/audio/pipan/tinian/pipan_tinian_04/audio/Tinian_A_04_130903_011230.df20.x.flac succeeded\n",
      "Download of pifsc/audio/pipan/tinian/pipan_tinian_04/audio/Tinian_A_04_130903_123600.df20.x.flac succeeded\n",
      "Download of pifsc/audio/pipan/tinian/pipan_tinian_04/audio/Tinian_A_04_130908_010600.df20.x.flac succeeded\n",
      "Download of pifsc/audio/pipan/tinian/pipan_tinian_04/audio/Tinian_A_04_131012_040945.df20.x.flac succeeded\n",
      "Download of pifsc/audio/pipan/tinian/pipan_tinian_04/audio/Tinian_A_04_131021_071430.df20.x.flac succeeded\n",
      "Download of pifsc/audio/pipan/tinian/pipan_tinian_04/audio/Tinian_A_04_131105_043530.df20.x.flac succeeded\n",
      "Download of pifsc/audio/pipan/tinian/pipan_tinian_04/audio/Tinian_A_04_131114_074015.df20.x.flac succeeded\n",
      "Download of pifsc/audio/pipan/tinian/pipan_tinian_04/audio/Tinian_A_04_131123_104500.df20.x.flac succeeded\n",
      "Download of pifsc/audio/pipan/tinian/pipan_tinian_04/audio/Tinian_A_04_131124_180215.df20.x.flac succeeded\n",
      "Download of pifsc/audio/pipan/tinian/pipan_tinian_04/audio/Tinian_A_04_131127_214400.df20.x.flac succeeded\n",
      "Download of pifsc/audio/pipan/tinian/pipan_tinian_04/audio/Tinian_A_04_131201_193545.df20.x.flac succeeded\n",
      "Download of pifsc/audio/pipan/tinian/pipan_tinian_04/audio/Tinian_A_04_131208_080600.df20.x.flac succeeded\n",
      "Download of pifsc/audio/pipan/tinian/pipan_tinian_04/audio/Tinian_A_04_131212_055745.df20.x.flac succeeded\n",
      "Download of pifsc/audio/pipan/tinian/pipan_tinian_04/audio/Tinian_A_04_131216_035130.df20.x.flac succeeded\n",
      "Download of pifsc/audio/pipan/tinian/pipan_tinian_04/audio/Tinian_A_04_131224_124300.df20.x.flac succeeded\n",
      "Download of pifsc/audio/pipan/tinian/pipan_tinian_04/audio/Tinian_A_04_131225_200015.df20.x.flac succeeded\n",
      "Download of pifsc/audio/pipan/tinian/pipan_tinian_04/audio/Tinian_A_04_140107_205645.df20.x.flac succeeded\n",
      "Download of pifsc/audio/pipan/tinian/pipan_tinian_04/audio/Tinian_A_04_140109_041600.df20.x.flac succeeded\n",
      "Download of pifsc/audio/pipan/tinian/pipan_tinian_04/audio/Tinian_A_04_140404_193145.df20.x.flac succeeded\n",
      "Download of pifsc/audio/pipan/tinian/pipan_tinian_04/audio/Tinian_A_04_140410_004245.df20.x.flac succeeded\n",
      "Download of pifsc/audio/pipan/tinian/pipan_tinian_04/audio/Tinian_A_04_140505_082545.df20.x.flac succeeded\n",
      "Download of pifsc/audio/pipan/tinian/pipan_tinian_04/audio/Tinian_A_04_140507_230215.df20.x.flac succeeded\n",
      "Download of pifsc/audio/pipan/tinian/pipan_tinian_04/audio/Tinian_A_04_140517_020700.df20.x.flac succeeded\n",
      "Download of pifsc/audio/pipan/tinian/pipan_tinian_04/audio/Tinian_A_04_140518_092415.df20.x.flac succeeded\n",
      "Download of pifsc/audio/pipan/tinian/pipan_tinian_04/audio/Tinian_A_04_140604_211945.df20.x.flac succeeded\n",
      "Download of pifsc/audio/pipan/tinian/pipan_tinian_05/audio/Tinian_A_05_140619_214915.df20.x.flac succeeded\n",
      "Download of pifsc/audio/pipan/tinian/pipan_tinian_05/audio/Tinian_A_05_140623_194300.df20.x.flac succeeded\n",
      "Download of pifsc/audio/pipan/tinian/pipan_tinian_05/audio/Tinian_A_05_140716_124930.df20.x.flac succeeded\n",
      "Download of pifsc/audio/pipan/tinian/pipan_tinian_05/audio/Tinian_A_05_140720_104315.df20.x.flac succeeded\n",
      "Download of pifsc/audio/pipan/tinian/pipan_tinian_05/audio/Tinian_A_05_140724_083700.df20.x.flac succeeded\n",
      "Download of pifsc/audio/pipan/tinian/pipan_tinian_05/audio/Tinian_A_05_140801_042230.df20.x.flac succeeded\n",
      "Download of pifsc/audio/pipan/tinian/pipan_tinian_05/audio/Tinian_A_05_140910_092630.df20.x.flac succeeded\n",
      "Download of pifsc/audio/pipan/tinian/pipan_tinian_05/audio/Tinian_A_05_140911_164345.df20.x.flac succeeded\n",
      "Download of pifsc/audio/pipan/tinian/pipan_tinian_05/audio/Tinian_A_05_140915_143730.df20.x.flac succeeded\n",
      "Download of pifsc/audio/pipan/tinian/pipan_tinian_05/audio/Tinian_A_05_141024_122300.df20.x.flac succeeded\n",
      "Download of pifsc/audio/pipan/tinian/pipan_tinian_05/audio/Tinian_A_05_141107_203645.df20.x.flac succeeded\n",
      "Download of pifsc/audio/pipan/tinian/pipan_tinian_05/audio/Tinian_A_05_141109_035600.df20.x.flac succeeded\n",
      "Download of pifsc/audio/pipan/tinian/pipan_tinian_06/audio/Tinian_A_06_150509_064000.df20.x.flac succeeded\n",
      "Download of pifsc/audio/pipan/tinian/pipan_tinian_06/audio/Tinian_A_06_150514_071130.df20.x.flac succeeded\n",
      "Download of pifsc/audio/pipan/tinian/pipan_tinian_06/audio/Tinian_A_06_150516_214800.df20.x.flac succeeded\n",
      "Download of pifsc/audio/pipan/tinian/pipan_tinian_06/audio/Tinian_A_06_150518_050515.df20.x.flac succeeded\n",
      "Download of pifsc/audio/pipan/tinian/pipan_tinian_06/audio/Tinian_A_06_150520_193945.df20.x.flac succeeded\n",
      "Download of pifsc/audio/pipan/tinian/pipan_tinian_06/audio/Tinian_A_06_150522_025900.df20.x.flac succeeded\n",
      "Download of pifsc/audio/pipan/tinian/pipan_tinian_06/audio/Tinian_A_06_150528_152715.df20.x.flac succeeded\n",
      "Download of pifsc/audio/pipan/tinian/pipan_tinian_06/audio/Tinian_A_06_150620_083345.df20.x.flac succeeded\n",
      "Download of pifsc/audio/pipan/tinian/pipan_tinian_06/audio/Tinian_A_06_150628_042115.df20.x.flac succeeded\n",
      "Download of pifsc/audio/pipan/tinian/pipan_tinian_06/audio/Tinian_A_06_150716_233715.df20.x.flac succeeded\n",
      "Download of pifsc/audio/pipan/tinian/pipan_tinian_06/audio/Tinian_A_06_150811_072015.df20.x.flac succeeded\n",
      "Download of pifsc/audio/pipan/tinian/pipan_tinian_06/audio/Tinian_A_06_150823_140445.df20.x.flac succeeded\n",
      "Download of pifsc/audio/pipan/tinian/pipan_tinian_06/audio/Tinian_A_06_150916_143030.df20.x.flac succeeded\n",
      "Download of pifsc/audio/pipan/tinian/pipan_tinian_06/audio/Tinian_A_06_150920_122415.df20.x.flac succeeded\n",
      "Download of pifsc/audio/pipan/tinian/pipan_tinian_06/audio/Tinian_A_06_151004_204700.df20.x.flac succeeded\n",
      "Download of pifsc/audio/pipan/tinian/pipan_tinian_06/audio/Tinian_A_06_151011_222030.df20.x.flac succeeded\n",
      "Download of pifsc/audio/pipan/tinian/pipan_tinian_06/audio/Tinian_A_06_151015_201415.df20.x.flac succeeded\n",
      "Download of pifsc/audio/pipan/tinian/pipan_tinian_06/audio/Tinian_A_06_151017_033130.df20.x.flac succeeded\n",
      "Download of pifsc/audio/pipan/tinian/pipan_tinian_06/audio/Tinian_A_06_151116_162530.df20.x.flac succeeded\n",
      "Download of pifsc/audio/pipan/tinian/pipan_tinian_06/audio/Tinian_A_06_151123_045345.df20.x.flac succeeded\n",
      "Download of pifsc/audio/pipan/tinian/pipan_tinian_06/audio/Tinian_A_06_151128_100445.df20.x.flac succeeded\n",
      "Download of pifsc/audio/pipan/tinian/pipan_tinian_06/audio/Tinian_A_06_151201_004115.df20.x.flac succeeded\n",
      "Download of pifsc/audio/pipan/tinian/pipan_tinian_06/audio/Tinian_A_06_151206_185845.df20.x.flac succeeded\n",
      "Download of pifsc/audio/pipan/tinian/pipan_tinian_06/audio/Tinian_A_06_151213_072900.df20.x.flac succeeded\n",
      "Download of pifsc/audio/pipan/tinian/pipan_tinian_06/audio/Tinian_A_06_151214_144615.df20.x.flac succeeded\n",
      "Download of pifsc/audio/pipan/tinian/pipan_tinian_06/audio/Tinian_A_06_151217_052045.df20.x.flac succeeded\n",
      "Download of pifsc/audio/pipan/tinian/pipan_tinian_06/audio/Tinian_A_06_151218_124000.df20.x.flac succeeded\n",
      "Download of pifsc/audio/pipan/tinian/pipan_tinian_06/audio/Tinian_A_06_151222_103145.df20.x.flac succeeded\n",
      "Download of pifsc/audio/pipan/tinian/pipan_tinian_06/audio/Tinian_A_06_160105_003530.df20.x.flac succeeded\n",
      "Download of pifsc/audio/pipan/tinian/pipan_tinian_06/audio/Tinian_A_06_160107_151200.df20.x.flac succeeded\n",
      "Download of pifsc/audio/pipan/tinian/pipan_tinian_06/audio/Tinian_A_06_160108_222915.df20.x.flac succeeded\n",
      "Download of pifsc/audio/pipan/tinian/pipan_tinian_06/audio/Tinian_A_06_160131_153545.df20.x.flac succeeded\n",
      "Download of pifsc/audio/pipan/tinian/pipan_tinian_06/audio/Tinian_A_06_160201_225500.df20.x.flac succeeded\n",
      "Download of pifsc/audio/pipan/tinian/pipan_tinian_06/audio/Tinian_A_06_160204_132930.df20.x.flac succeeded\n",
      "Download of pifsc/audio/pipan/tinian/pipan_tinian_06/audio/Tinian_A_06_160220_180745.df20.x.flac succeeded\n",
      "Download of pifsc/audio/pipan/tinian/pipan_tinian_06/audio/Tinian_A_06_160223_084415.df20.x.flac succeeded\n",
      "Download of pifsc/audio/pipan/tinian/pipan_tinian_06/audio/Tinian_A_06_160311_073430.df20.x.flac succeeded\n",
      "Download of pifsc/audio/pipan/tinian/pipan_tinian_06/audio/Tinian_A_06_160328_193200.df20.x.flac succeeded\n",
      "Download of pifsc/audio/pipan/tinian/pipan_tinian_06/audio/Tinian_A_06_160401_172345.df20.x.flac succeeded\n",
      "Download of pifsc/audio/pipan/tinian/pipan_tinian_06/audio/Tinian_A_06_160406_042130.df20.x.flac succeeded\n",
      "Download of pifsc/audio/pipan/tinian/pipan_tinian_06/audio/Tinian_A_06_160407_113845.df20.x.flac succeeded\n",
      "Download of pifsc/audio/pipan/tinian/pipan_tinian_06/audio/Tinian_A_06_160411_093230.df20.x.flac succeeded\n",
      "Download of pifsc/audio/pipan/tinian/pipan_tinian_06/audio/Tinian_A_06_160412_164945.df20.x.flac succeeded\n",
      "Download of pifsc/audio/pipan/tinian/pipan_tinian_06/audio/Tinian_A_06_160414_000900.df20.x.flac succeeded\n",
      "Download of pifsc/audio/pipan/tinian/pipan_tinian_06/audio/Tinian_A_06_160420_123715.df20.x.flac succeeded\n",
      "Download of pifsc/audio/pipan/tinian/pipan_tinian_06/audio/Tinian_A_06_160502_192145.df20.x.flac succeeded\n",
      "Download of pifsc/audio/pipan/tinian/pipan_tinian_06/audio/Tinian_A_06_160518_105445.df20.x.flac succeeded\n",
      "Download of pifsc/audio/pipan/wake/pipan_wake_01/audio/Wake_S_01_100307_183345.df20.x.flac succeeded\n",
      "Download of pifsc/audio/pipan/wake/pipan_wake_01/audio/Wake_S_01_100323_045230.df20.x.flac succeeded\n",
      "Download of pifsc/audio/pipan/wake/pipan_wake_01/audio/Wake_S_01_100416_171000.df20.x.flac succeeded\n",
      "Download of pifsc/audio/pipan/wake/pipan_wake_01/audio/Wake_S_01_100418_135115.df20.x.flac succeeded\n",
      "Download of pifsc/audio/pipan/wake/pipan_wake_01/audio/Wake_S_01_100421_151230.df20.x.flac succeeded\n",
      "Download of pifsc/audio/pipan/wake/pipan_wake_01/audio/Wake_S_01_100428_100115.df20.x.flac succeeded\n",
      "Download of pifsc/audio/pipan/wake/pipan_wake_01/audio/Wake_S_01_100502_032345.df20.x.flac succeeded\n",
      "Download of pifsc/audio/pipan/wake/pipan_wake_03/audio/Wake_S_03_110326_071115.d20.x.flac succeeded\n",
      "Download of pifsc/audio/pipan/wake/pipan_wake_03/audio/Wake_S_03_110326_094115.d20.x.flac succeeded\n",
      "Download of pifsc/audio/pipan/wake/pipan_wake_03/audio/Wake_S_03_110329_001115.d20.x.flac succeeded\n",
      "Download of pifsc/audio/pipan/wake/pipan_wake_03/audio/Wake_S_03_110330_122345.d20.x.flac succeeded\n",
      "Download of pifsc/audio/pipan/wake/pipan_wake_03/audio/Wake_S_03_110331_155345.d20.x.flac succeeded\n",
      "Download of pifsc/audio/pipan/wake/pipan_wake_03/audio/Wake_S_03_110401_092345.d20.x.flac succeeded\n",
      "Download of pifsc/audio/pipan/wake/pipan_wake_03/audio/Wake_S_03_110402_052345.d20.x.flac succeeded\n",
      "Download of pifsc/audio/pipan/wake/pipan_wake_03/audio/Wake_S_03_110403_185345.d20.x.flac succeeded\n",
      "Download of pifsc/audio/pipan/wake/pipan_wake_03/audio/Wake_S_03_110404_045345.d20.x.flac succeeded\n",
      "Download of pifsc/audio/pipan/wake/pipan_wake_03/audio/Wake_S_03_110407_125345.d20.x.flac succeeded\n",
      "Download of pifsc/audio/pipan/wake/pipan_wake_03/audio/Wake_S_03_110409_195345.d20.x.flac succeeded\n",
      "Download of pifsc/audio/pipan/wake/pipan_wake_03/audio/Wake_S_03_110411_004115.d20.x.flac succeeded\n",
      "Download of pifsc/audio/pipan/wake/pipan_wake_03/audio/Wake_S_03_110411_192345.d20.x.flac succeeded\n",
      "Download of pifsc/audio/pipan/wake/pipan_wake_03/audio/Wake_S_03_110416_042345.d20.x.flac succeeded\n",
      "Download of pifsc/audio/pipan/wake/pipan_wake_03/audio/Wake_S_03_110421_042345.d20.x.flac succeeded\n",
      "Download of pifsc/audio/pipan/wake/pipan_wake_03/audio/Wake_S_03_110421_215345.d20.x.flac succeeded\n",
      "Download of pifsc/audio/pipan/wake/pipan_wake_03/audio/Wake_S_03_110424_145345.d20.x.flac succeeded\n",
      "Download of pifsc/audio/pipan/wake/pipan_wake_03/audio/Wake_S_03_110425_094115.d20.x.flac succeeded\n",
      "Download of pifsc/audio/pipan/wake/pipan_wake_03/audio/Wake_S_03_110427_075345.d20.x.flac succeeded\n",
      "Download of pifsc/audio/pipan/wake/pipan_wake_03/audio/Wake_S_03_110503_120345.d20.x.flac succeeded\n",
      "Download of pifsc/audio/pipan/wake/pipan_wake_03/audio/Wake_S_03_110503_155115.d20.x.flac succeeded\n",
      "Download of pifsc/audio/pipan/wake/pipan_wake_03/audio/Wake_S_03_110509_230345.d20.x.flac succeeded\n",
      "Download of pifsc/audio/pipan/wake/pipan_wake_03/audio/Wake_S_03_110510_002115.d20.x.flac succeeded\n",
      "Download of pifsc/audio/pipan/wake/pipan_wake_03/audio/Wake_S_03_110515_013345.d20.x.flac succeeded\n",
      "Download of pifsc/audio/pipan/wake/pipan_wake_03/audio/Wake_S_03_110516_162115.d20.x.flac succeeded\n",
      "Download of pifsc/audio/pipan/wake/pipan_wake_03/audio/Wake_S_03_110517_233345.d20.x.flac succeeded\n",
      "Download of pifsc/audio/pipan/wake/pipan_wake_03/audio/Wake_S_03_110518_105115.d20.x.flac succeeded\n",
      "Download of pifsc/audio/pipan/wake/pipan_wake_03/audio/Wake_S_03_110519_215115.d20.x.flac succeeded\n",
      "Download of pifsc/audio/pipan/wake/pipan_wake_03/audio/Wake_S_03_110520_002115.d20.x.flac succeeded\n",
      "Download of pifsc/audio/pipan/wake/pipan_wake_03/audio/Wake_S_03_110520_202115.d20.x.flac succeeded\n",
      "Download of pifsc/audio/pipan/wake/pipan_wake_03/audio/Wake_S_03_110523_070345.d20.x.flac succeeded\n",
      "Download of pifsc/audio/pipan/wake/pipan_wake_03/audio/Wake_S_03_110523_143345.d20.x.flac succeeded\n",
      "Download of pifsc/audio/pipan/wake/pipan_wake_03/audio/Wake_S_03_110523_182115.d20.x.flac succeeded\n",
      "Download of pifsc/audio/pipan/wake/pipan_wake_03/audio/Wake_S_03_110524_092115.d20.x.flac succeeded\n",
      "Download of pifsc/audio/pipan/wake/pipan_wake_04/audio/Wake_S_04_120404_023115.df20.x.flac succeeded\n",
      "Download of pifsc/audio/pipan/wake/pipan_wake_04/audio/Wake_S_04_120626_013000.df20.x.flac succeeded\n",
      "Download of pifsc/audio/pipan/wake/pipan_wake_04/audio/Wake_S_04_120701_153115.df20.x.flac succeeded\n",
      "Download of pifsc/audio/pipan/wake/pipan_wake_04/audio/Wake_S_04_120718_100000.df20.x.flac succeeded\n",
      "Download of pifsc/audio/pipan/wake/pipan_wake_04/audio/Wake_S_04_120804_040345.df20.x.flac succeeded\n",
      "Download of pifsc/audio/pipan/wake/pipan_wake_04/audio/Wake_S_04_120822_123000.df20.x.flac succeeded\n",
      "Download of pifsc/audio/pipan/wake/pipan_wake_04/audio/Wake_S_04_121007_190230.df20.x.flac succeeded\n",
      "Download of pifsc/audio/pipan/wake/pipan_wake_04/audio/Wake_S_04_121128_160115.df20.x.flac succeeded\n",
      "Download of pifsc/audio/pipan/wake/pipan_wake_05/audio/Wake_S_05_140423_000130.df20.x.flac succeeded\n",
      "Download of pifsc/audio/pipan/wake/pipan_wake_05/audio/Wake_S_05_140625_133345.df20.x.flac succeeded\n",
      "Download of pifsc/audio/pipan/wake/pipan_wake_05/audio/Wake_S_05_140701_040000.df20.x.flac succeeded\n",
      "Download of pifsc/audio/pipan/wake/pipan_wake_05/audio/Wake_S_05_140712_080230.df20.x.flac succeeded\n",
      "Download of pifsc/audio/pipan/wake/pipan_wake_05/audio/Wake_S_05_140730_160345.df20.x.flac succeeded\n",
      "Download of pifsc/audio/pipan/wake/pipan_wake_05/audio/Wake_S_05_140810_203115.df20.x.flac succeeded\n",
      "Download of pifsc/audio/pipan/wake/pipan_wake_05/audio/Wake_S_05_140816_103230.df20.x.flac succeeded\n",
      "Download of pifsc/audio/pipan/wake/pipan_wake_05/audio/Wake_S_05_140827_150000.df20.x.flac succeeded\n",
      "Download of pifsc/audio/pipan/wake/pipan_wake_05/audio/Wake_S_05_140902_050115.df20.x.flac succeeded\n",
      "Download of pifsc/audio/pipan/wake/pipan_wake_05/audio/Wake_S_05_140907_190230.df20.x.flac succeeded\n",
      "Download of pifsc/audio/pipan/wake/pipan_wake_05/audio/Wake_S_05_140909_090000.df20.x.flac succeeded\n",
      "Download of pifsc/audio/pipan/wake/pipan_wake_05/audio/Wake_S_05_140914_230115.df20.x.flac succeeded\n",
      "Download of pifsc/audio/pipan/wake/pipan_wake_05/audio/Wake_S_05_140926_030345.df20.x.flac succeeded\n",
      "Download of pifsc/audio/pipan/wake/pipan_wake_05/audio/Wake_S_05_141001_173000.df20.x.flac succeeded\n",
      "Download of pifsc/audio/pipan/wake/pipan_wake_05/audio/Wake_S_05_141007_073115.df20.x.flac succeeded\n",
      "Download of pifsc/audio/pipan/wake/pipan_wake_05/audio/Wake_S_05_141012_213230.df20.x.flac succeeded\n",
      "Download of pifsc/audio/pipan/wake/pipan_wake_05/audio/Wake_S_05_141025_153115.df20.x.flac succeeded\n",
      "Download of pifsc/audio/pipan/wake/pipan_wake_05/audio/Wake_S_05_141031_053230.df20.x.flac succeeded\n",
      "Download of pifsc/audio/pipan/wake/pipan_wake_05/audio/Wake_S_05_141105_193345.df20.x.flac succeeded\n",
      "Download of pifsc/audio/pipan/wake/pipan_wake_05/audio/Wake_S_05_141117_000115.df20.x.flac succeeded\n",
      "Download of pifsc/audio/pipan/wake/pipan_wake_05/audio/Wake_S_05_141122_140230.df20.x.flac succeeded\n",
      "Download of pifsc/audio/pipan/wake/pipan_wake_05/audio/Wake_S_05_141128_040345.df20.x.flac succeeded\n",
      "Download of pifsc/audio/pipan/wake/pipan_wake_05/audio/Wake_S_05_141216_103230.df20.x.flac succeeded\n",
      "Download of pifsc/audio/pipan/wake/pipan_wake_05/audio/Wake_S_05_141222_003345.df20.x.flac succeeded\n",
      "Download of pifsc/audio/pipan/wake/pipan_wake_05/audio/Wake_S_05_150331_180230.df20.x.flac succeeded\n",
      "Download of pifsc/audio/pipan/wake/pipan_wake_05/audio/Wake_S_05_150406_080345.df20.x.flac succeeded\n",
      "Download of pifsc/audio/pipan/wake/pipan_wake_05/audio/Wake_S_05_150411_223000.df20.x.flac succeeded\n",
      "Download of pifsc/audio/pipan/wake/pipan_wake_05/audio/Wake_S_05_150423_023230.df20.x.flac succeeded\n",
      "Download of pifsc/audio/pipan/wake/pipan_wake_06/audio/Wake_S_06_150516_033345.df20.x.flac succeeded\n",
      "Download of pifsc/audio/pipan/wake/pipan_wake_06/audio/Wake_S_06_150607_120345.df20.x.flac succeeded\n",
      "Download of pifsc/audio/pipan/wake/pipan_wake_06/audio/Wake_S_06_150613_023000.df20.x.flac succeeded\n",
      "Download of pifsc/audio/pipan/wake/pipan_wake_06/audio/Wake_S_06_150625_183345.df20.x.flac succeeded\n",
      "Download of pifsc/audio/pipan/wake/pipan_wake_06/audio/Wake_S_06_150701_090000.df20.x.flac succeeded\n",
      "Download of pifsc/audio/pipan/wake/pipan_wake_06/audio/Wake_S_06_150805_113000.df20.x.flac succeeded\n",
      "Download of pifsc/audio/pipan/wake/pipan_wake_06/audio/Wake_S_06_150816_153230.df20.x.flac succeeded\n",
      "Download of pifsc/audio/pipan/wake/pipan_wake_06/audio/Wake_S_06_150926_080345.df20.x.flac succeeded\n",
      "Download of pifsc/audio/pipan/wake/pipan_wake_06/audio/Wake_S_06_151001_223000.df20.x.flac succeeded\n",
      "Download of pifsc/audio/pipan/wake/pipan_wake_06/audio/Wake_S_06_151007_123115.df20.x.flac succeeded\n",
      "Download of pifsc/audio/pipan/wake/pipan_wake_06/audio/Wake_S_06_151013_023230.df20.x.flac succeeded\n",
      "Download of pifsc/audio/pipan/wake/pipan_wake_06/audio/Wake_S_06_151014_163000.df20.x.flac succeeded\n",
      "Download of pifsc/audio/pipan/wake/pipan_wake_06/audio/Wake_S_06_151025_203230.df20.x.flac succeeded\n",
      "Download of pifsc/audio/pipan/wake/pipan_wake_06/audio/Wake_S_06_151106_010000.df20.x.flac succeeded\n",
      "Download of pifsc/audio/pipan/wake/pipan_wake_06/audio/Wake_S_06_151117_050230.df20.x.flac succeeded\n",
      "Download of pifsc/audio/pipan/wake/pipan_wake_06/audio/Wake_S_06_151205_130345.df20.x.flac succeeded\n",
      "Download of pifsc/audio/pipan/wake/pipan_wake_06/audio/Wake_S_06_151222_073230.df20.x.flac succeeded\n",
      "Download of pifsc/audio/pipan/wake/pipan_wake_06/audio/Wake_S_06_160126_173115.df20.x.flac succeeded\n",
      "Download of pifsc/audio/pipan/wake/pipan_wake_06/audio/Wake_S_06_160201_073230.df20.x.flac succeeded\n",
      "Download of pifsc/audio/pipan/wake/pipan_wake_06/audio/Wake_S_06_160516_093345.df20.x.flac succeeded\n"
     ]
    }
   ],
   "source": [
    "bad_results = download_many_blobs_with_transfer_manager(\"noaa-passive-bioacoustic\", \n",
    "                                                        to_download,\n",
    "                                                        destination_directory=\"D:/SonarData/downloads\",\n",
    "                                                        workers=9)"
   ]
  },
  {
   "cell_type": "code",
   "execution_count": 17,
   "id": "5832729c-1344-436f-ab3e-bec057d57c88",
   "metadata": {},
   "outputs": [
    {
     "data": {
      "text/plain": [
       "0"
      ]
     },
     "execution_count": 17,
     "metadata": {},
     "output_type": "execute_result"
    }
   ],
   "source": [
    "len(bad_results)"
   ]
  },
  {
   "cell_type": "code",
   "execution_count": 11,
   "id": "34bdce32-e787-4e3e-b58c-0876cf2e1197",
   "metadata": {},
   "outputs": [],
   "source": [
    "with open(\"bad_results.pkl\", 'wb') as f:\n",
    "    pickle.dump(bad_results, f)"
   ]
  },
  {
   "cell_type": "code",
   "execution_count": 78,
   "id": "5424ab1759cad68a",
   "metadata": {
    "ExecuteTime": {
     "end_time": "2024-04-01T00:57:39.440730200Z",
     "start_time": "2024-04-01T00:57:39.413792600Z"
    },
    "collapsed": false,
    "jupyter": {
     "outputs_hidden": false
    }
   },
   "outputs": [
    {
     "data": {
      "text/plain": [
       "['Hawaii_K_16_140207_060115.df20.x.flac',\n",
       " 'Hawaii_K_16_140105_233000.df20.x.flac',\n",
       " 'Hawaii_K_11_110924_072800.df20.x.flac',\n",
       " 'Hawaii_K_14_121222_090345.df20.x.flac',\n",
       " 'Hawaii_K_14_121228_162345.df20.x.flac']"
      ]
     },
     "execution_count": 78,
     "metadata": {},
     "output_type": "execute_result"
    }
   ],
   "source": [
    "with open(\"bad_results.pkl\", 'rb') as f:\n",
    "    bad_results = pickle.load(f)\n",
    "bad_files = [f[0] for f in bad_results]\n",
    "bad_file_names = {f.split(\"/\")[-1] for f in bad_files}\n",
    "list(bad_file_names)[:5]"
   ]
  },
  {
   "cell_type": "code",
   "execution_count": 79,
   "id": "3c7d15236f933cef",
   "metadata": {
    "ExecuteTime": {
     "end_time": "2024-04-01T00:57:50.239707900Z",
     "start_time": "2024-04-01T00:57:50.132467900Z"
    },
    "collapsed": false,
    "jupyter": {
     "outputs_hidden": false
    }
   },
   "outputs": [],
   "source": [
    "for dirpath, dirnames, filenames in os.walk(\"D:/SonarData/downloads\"):\n",
    "    for filename in filenames:\n",
    "        if filename in bad_file_names:\n",
    "            os.remove(os.path.join(dirpath, filename))"
   ]
  },
  {
   "cell_type": "code",
   "execution_count": 10,
   "id": "af45a6ae5d78f573",
   "metadata": {
    "collapsed": false,
    "jupyter": {
     "outputs_hidden": false
    }
   },
   "outputs": [
    {
     "data": {
      "text/plain": [
       "['Kingman_A_01_120204_054115.df20.x.flac',\n",
       " 'Kingman_A_01_120206_022345.df20.x.flac',\n",
       " 'Kingman_A_01_120207_004500.df20.x.flac',\n",
       " 'Kingman_A_01_120207_230615.df20.x.flac',\n",
       " 'Kingman_A_01_120208_080729.df20.x.flac',\n",
       " 'Kingman_A_01_120209_062845.df20.x.flac',\n",
       " 'Kingman_A_01_120211_031115.df20.x.flac',\n",
       " 'Kingman_A_01_120212_013230.df20.x.flac',\n",
       " 'Kingman_A_01_120212_235345.df20.x.flac',\n",
       " 'Kingman_A_01_120213_221500.df20.x.flac']"
      ]
     },
     "execution_count": 10,
     "metadata": {},
     "output_type": "execute_result"
    }
   ],
   "source": [
    "files = os.listdir(\"D:/SonarData/flat\")\n",
    "files[:10]"
   ]
  },
  {
   "cell_type": "code",
   "execution_count": null,
   "id": "a6ee7a181dbb1f3c",
   "metadata": {
    "ExecuteTime": {
     "start_time": "2024-04-04T17:06:18.840827100Z"
    },
    "collapsed": false,
    "jupyter": {
     "outputs_hidden": false
    }
   },
   "outputs": [],
   "source": [
    "import multiprocessing\n",
    "def do_math(x):\n",
    "    print(\"Processing\", x)\n",
    "    return x**2\n",
    "\n",
    "pool = multiprocessing.Pool(6)\n",
    "hold = [i for i in range(100)]\n",
    "pool.map(do_math, hold)\n",
    "\n"
   ]
  },
  {
   "cell_type": "code",
   "execution_count": null,
   "id": "9d638127-f2aa-4e50-b5f4-9214f16a078c",
   "metadata": {},
   "outputs": [],
   "source": [
    "def uncompress(files_to_decompress):\n",
    "    for i, file in enumerate(files_to_decompress):\n",
    "        print(file)\n",
    "        subprocess.run(f\"C:/Windows/flac.exe -df --delete-input-file --preserve-modtime --keep-foreign-metadata D:/SonarData/messing/{file}\", shell=True, capture_output=True)\n",
    "    return True\n",
    "\n",
    "pool = multiprocessing.Pool(6)\n",
    "messing_files = os.listdir(\"D:/SonarData/messing\")\n",
    "step = int(len(messing_files)/6)\n",
    "hold = [messing_files[j: j + step] for j in [i for i in range(0, len(messing_files), step)]]\n",
    "\n",
    "r = pool.map_async(uncompress, hold)\n",
    "r.wait()"
   ]
  },
  {
   "cell_type": "code",
   "execution_count": 21,
   "id": "2ccfe593-ca02-41fc-ad76-32c01c11c846",
   "metadata": {},
   "outputs": [
    {
     "data": {
      "text/plain": [
       "[['Kingman_A_01_120204_054115.df20.x.flac',\n",
       "  'Kingman_A_01_120206_022345.df20.x.flac',\n",
       "  'Kingman_A_01_120207_004500.df20.x.flac'],\n",
       " ['Kingman_A_01_120207_230615.df20.x.flac',\n",
       "  'Kingman_A_01_120208_080729.df20.x.flac',\n",
       "  'Kingman_A_01_120209_062845.df20.x.flac'],\n",
       " ['Kingman_A_01_120211_031115.df20.x.flac',\n",
       "  'Kingman_A_01_120212_013230.df20.x.flac',\n",
       "  'Kingman_A_01_120212_235345.df20.x.flac'],\n",
       " ['Kingman_A_01_120213_221500.df20.x.flac',\n",
       "  'Kingman_A_01_120214_203615.df20.x.flac',\n",
       "  'Kingman_A_01_120215_185730.df20.x.flac'],\n",
       " ['Kingman_A_01_120218_140115.df20.x.flac',\n",
       "  'Kingman_A_01_120219_122230.df20.x.flac',\n",
       "  'Kingman_A_01_120220_104345.df20.x.flac'],\n",
       " ['Kingman_A_01_120221_090500.df20.x.flac',\n",
       "  'Kingman_A_01_120222_072615.df20.x.flac',\n",
       "  'Kingman_A_01_120223_054730.df20.x.flac'],\n",
       " ['Kingman_A_01_120224_040845.df20.x.flac',\n",
       "  'Kingman_A_01_120225_023000.df20.x.flac']]"
      ]
     },
     "execution_count": 21,
     "metadata": {},
     "output_type": "execute_result"
    }
   ],
   "source": [
    "hold"
   ]
  },
  {
   "cell_type": "code",
   "execution_count": 4,
   "id": "d26ec201e2602dc4",
   "metadata": {
    "ExecuteTime": {
     "end_time": "2024-04-01T04:56:45.221005300Z",
     "start_time": "2024-04-01T03:01:29.661797600Z"
    },
    "collapsed": false,
    "jupyter": {
     "outputs_hidden": false
    }
   },
   "outputs": [
    {
     "name": "stdout",
     "output_type": "stream",
     "text": [
      "Processing file 0\n",
      "Processing file 50\n",
      "Processing file 100\n",
      "Processing file 150\n",
      "Processing file 200\n",
      "Processing file 250\n",
      "Processing file 300\n",
      "Processing file 350\n",
      "Processing file 400\n",
      "Processing file 450\n"
     ]
    }
   ],
   "source": [
    "# Uncompress data\n",
    "files = os.listdir(\"D:/SonarData/flat\")\n",
    "new_files = [i for i in files if i.endswith(\".flac\")]\n",
    "for i, file in enumerate(new_files):\n",
    "    if i % 50 == 0:\n",
    "        print(f\"Processing file {i}\")\n",
    "    subprocess.run(f\"C:/Windows/flac.exe -df --delete-input-file --preserve-modtime --keep-foreign-metadata D:/SonarData/flat/{file}\", shell=True, capture_output=True)"
   ]
  },
  {
   "cell_type": "code",
   "execution_count": 12,
   "id": "18c53f3d1b29a1ec",
   "metadata": {
    "ExecuteTime": {
     "end_time": "2024-04-01T02:58:33.794370400Z",
     "start_time": "2024-04-01T02:58:33.760792200Z"
    },
    "collapsed": false,
    "jupyter": {
     "outputs_hidden": false
    }
   },
   "outputs": [
    {
     "data": {
      "text/plain": [
       "['Cross_A_01_050514_014345.d20.x.flac',\n",
       " 'Cross_A_01_050518_040230.d20.x.flac',\n",
       " 'Cross_A_01_050520_183000.d20.x.flac',\n",
       " 'Cross_A_01_050520_212731.d20.x.flac',\n",
       " 'Cross_A_01_050521_004500.d20.x.flac',\n",
       " 'Cross_A_01_050527_003345.d20.x.flac',\n",
       " 'Cross_A_01_050606_123845.d20.x.flac',\n",
       " 'Cross_A_01_050612_151845.d20.x.flac',\n",
       " 'Cross_A_01_050613_232350.d20.x.flac',\n",
       " 'Cross_A_01_050630_004730.d20.x.flac',\n",
       " 'Cross_A_01_050630_222845.d20.x.flac',\n",
       " 'Cross_A_01_050701_112115.d20.x.flac',\n",
       " 'Cross_A_01_050702_031345.d20.x.flac',\n",
       " 'Cross_A_01_050703_170730.d20.x.flac',\n",
       " 'Cross_A_01_050717_151615.d20.x.flac',\n",
       " 'Cross_A_01_050722_115500.d20.x.flac',\n",
       " 'Cross_A_01_050801_074615.d20.x.flac',\n",
       " 'Cross_A_01_050801_110500.d20.x.flac',\n",
       " 'Cross_A_01_050908_025000.d20.x.flac',\n",
       " 'Cross_A_02_051120_000000.d20.x.flac']"
      ]
     },
     "execution_count": 12,
     "metadata": {},
     "output_type": "execute_result"
    }
   ],
   "source": [
    "new_files"
   ]
  },
  {
   "cell_type": "code",
   "execution_count": 8,
   "id": "bbb6403b75263f2e",
   "metadata": {
    "ExecuteTime": {
     "end_time": "2024-04-01T02:56:55.007798200Z",
     "start_time": "2024-04-01T02:56:54.978875600Z"
    },
    "collapsed": false,
    "jupyter": {
     "outputs_hidden": false
    }
   },
   "outputs": [
    {
     "data": {
      "text/plain": [
       "1012"
      ]
     },
     "execution_count": 8,
     "metadata": {},
     "output_type": "execute_result"
    }
   ],
   "source": [
    "len(files)"
   ]
  },
  {
   "cell_type": "code",
   "execution_count": 15,
   "id": "27f04cf5a5747af",
   "metadata": {
    "ExecuteTime": {
     "end_time": "2024-04-01T02:59:56.128533500Z",
     "start_time": "2024-04-01T02:59:56.117107900Z"
    },
    "collapsed": false,
    "jupyter": {
     "outputs_hidden": false
    }
   },
   "outputs": [
    {
     "data": {
      "text/plain": [
       "992"
      ]
     },
     "execution_count": 15,
     "metadata": {},
     "output_type": "execute_result"
    }
   ],
   "source": [
    "files = os.listdir(\"D:/SonarData/flat\")\n",
    "len([i for i in files if i.endswith(\".flac\")])"
   ]
  },
  {
   "cell_type": "code",
   "execution_count": null,
   "id": "1c064fd3ca77735",
   "metadata": {
    "collapsed": false,
    "jupyter": {
     "outputs_hidden": false
    }
   },
   "outputs": [],
   "source": []
  }
 ],
 "metadata": {
  "kernelspec": {
   "display_name": "Python 3 (ipykernel)",
   "language": "python",
   "name": "python3"
  },
  "language_info": {
   "codemirror_mode": {
    "name": "ipython",
    "version": 3
   },
   "file_extension": ".py",
   "mimetype": "text/x-python",
   "name": "python",
   "nbconvert_exporter": "python",
   "pygments_lexer": "ipython3",
   "version": "3.10.13"
  }
 },
 "nbformat": 4,
 "nbformat_minor": 5
}
