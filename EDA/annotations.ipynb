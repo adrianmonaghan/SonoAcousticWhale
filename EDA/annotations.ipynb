{
 "cells": [
  {
   "cell_type": "code",
   "execution_count": 7,
   "id": "initial_id",
   "metadata": {
    "ExecuteTime": {
     "end_time": "2024-04-04T16:58:31.433237300Z",
     "start_time": "2024-04-04T16:58:30.764443600Z"
    }
   },
   "outputs": [],
   "source": [
    "import pandas as pd\n",
    "import requests\n",
    "from pathlib import Path\n",
    "import subprocess\n",
    "import os\n",
    "from google.cloud import storage\n",
    "from google.cloud.storage import transfer_manager\n",
    "import re\n",
    "import pickle\n",
    "import numpy as np\n",
    "import multiprocessing"
   ]
  },
  {
   "cell_type": "code",
   "execution_count": 2,
   "id": "9590f4547f96b433",
   "metadata": {
    "ExecuteTime": {
     "end_time": "2024-04-03T02:41:24.045147700Z",
     "start_time": "2024-04-03T02:41:23.248564900Z"
    },
    "collapsed": false,
    "jupyter": {
     "outputs_hidden": false
    }
   },
   "outputs": [
    {
     "data": {
      "text/html": [
       "<div>\n",
       "<style scoped>\n",
       "    .dataframe tbody tr th:only-of-type {\n",
       "        vertical-align: middle;\n",
       "    }\n",
       "\n",
       "    .dataframe tbody tr th {\n",
       "        vertical-align: top;\n",
       "    }\n",
       "\n",
       "    .dataframe thead th {\n",
       "        text-align: right;\n",
       "    }\n",
       "</style>\n",
       "<table border=\"1\" class=\"dataframe\">\n",
       "  <thead>\n",
       "    <tr style=\"text-align: right;\">\n",
       "      <th></th>\n",
       "      <th>audit_name</th>\n",
       "      <th>flac_compressed_xwav_object</th>\n",
       "      <th>subchunk_index</th>\n",
       "      <th>label_is_strong</th>\n",
       "      <th>implicit_negatives</th>\n",
       "      <th>label</th>\n",
       "      <th>begin_rel_subchunk</th>\n",
       "      <th>end_rel_subchunk</th>\n",
       "      <th>begin_utc</th>\n",
       "      <th>end_utc</th>\n",
       "      <th>hawaii_num</th>\n",
       "    </tr>\n",
       "  </thead>\n",
       "  <tbody>\n",
       "    <tr>\n",
       "      <th>0</th>\n",
       "      <td>initial</td>\n",
       "      <td>gs://noaa-passive-bioacoustic/pifsc/audio/pipa...</td>\n",
       "      <td>1</td>\n",
       "      <td>True</td>\n",
       "      <td>True</td>\n",
       "      <td>Other</td>\n",
       "      <td>0.213</td>\n",
       "      <td>0.213</td>\n",
       "      <td>2005-06-06 13:00:00.213000+00:00</td>\n",
       "      <td>2005-06-06 13:00:00.213000+00:00</td>\n",
       "      <td>NaN</td>\n",
       "    </tr>\n",
       "    <tr>\n",
       "      <th>1</th>\n",
       "      <td>initial</td>\n",
       "      <td>gs://noaa-passive-bioacoustic/pifsc/audio/pipa...</td>\n",
       "      <td>13</td>\n",
       "      <td>True</td>\n",
       "      <td>True</td>\n",
       "      <td>Other</td>\n",
       "      <td>0.108</td>\n",
       "      <td>0.108</td>\n",
       "      <td>2005-06-06 14:15:00.108000+00:00</td>\n",
       "      <td>2005-06-06 14:15:00.108000+00:00</td>\n",
       "      <td>NaN</td>\n",
       "    </tr>\n",
       "    <tr>\n",
       "      <th>2</th>\n",
       "      <td>initial</td>\n",
       "      <td>gs://noaa-passive-bioacoustic/pifsc/audio/pipa...</td>\n",
       "      <td>5</td>\n",
       "      <td>True</td>\n",
       "      <td>True</td>\n",
       "      <td>Other</td>\n",
       "      <td>0.143</td>\n",
       "      <td>0.143</td>\n",
       "      <td>2005-07-02 04:00:00.143000+00:00</td>\n",
       "      <td>2005-07-02 04:00:00.143000+00:00</td>\n",
       "      <td>NaN</td>\n",
       "    </tr>\n",
       "    <tr>\n",
       "      <th>3</th>\n",
       "      <td>initial</td>\n",
       "      <td>gs://noaa-passive-bioacoustic/pifsc/audio/pipa...</td>\n",
       "      <td>17</td>\n",
       "      <td>True</td>\n",
       "      <td>True</td>\n",
       "      <td>Other</td>\n",
       "      <td>0.213</td>\n",
       "      <td>0.213</td>\n",
       "      <td>2005-07-02 05:15:00.213000+00:00</td>\n",
       "      <td>2005-07-02 05:15:00.213000+00:00</td>\n",
       "      <td>NaN</td>\n",
       "    </tr>\n",
       "    <tr>\n",
       "      <th>4</th>\n",
       "      <td>initial</td>\n",
       "      <td>gs://noaa-passive-bioacoustic/pifsc/audio/pipa...</td>\n",
       "      <td>22</td>\n",
       "      <td>True</td>\n",
       "      <td>True</td>\n",
       "      <td>Other</td>\n",
       "      <td>0.213</td>\n",
       "      <td>0.213</td>\n",
       "      <td>2005-08-01 10:15:00.213000+00:00</td>\n",
       "      <td>2005-08-01 10:15:00.213000+00:00</td>\n",
       "      <td>NaN</td>\n",
       "    </tr>\n",
       "  </tbody>\n",
       "</table>\n",
       "</div>"
      ],
      "text/plain": [
       "  audit_name                        flac_compressed_xwav_object  \\\n",
       "0    initial  gs://noaa-passive-bioacoustic/pifsc/audio/pipa...   \n",
       "1    initial  gs://noaa-passive-bioacoustic/pifsc/audio/pipa...   \n",
       "2    initial  gs://noaa-passive-bioacoustic/pifsc/audio/pipa...   \n",
       "3    initial  gs://noaa-passive-bioacoustic/pifsc/audio/pipa...   \n",
       "4    initial  gs://noaa-passive-bioacoustic/pifsc/audio/pipa...   \n",
       "\n",
       "   subchunk_index  label_is_strong  implicit_negatives  label  \\\n",
       "0               1             True                True  Other   \n",
       "1              13             True                True  Other   \n",
       "2               5             True                True  Other   \n",
       "3              17             True                True  Other   \n",
       "4              22             True                True  Other   \n",
       "\n",
       "   begin_rel_subchunk  end_rel_subchunk                         begin_utc  \\\n",
       "0               0.213             0.213  2005-06-06 13:00:00.213000+00:00   \n",
       "1               0.108             0.108  2005-06-06 14:15:00.108000+00:00   \n",
       "2               0.143             0.143  2005-07-02 04:00:00.143000+00:00   \n",
       "3               0.213             0.213  2005-07-02 05:15:00.213000+00:00   \n",
       "4               0.213             0.213  2005-08-01 10:15:00.213000+00:00   \n",
       "\n",
       "                            end_utc  hawaii_num  \n",
       "0  2005-06-06 13:00:00.213000+00:00         NaN  \n",
       "1  2005-06-06 14:15:00.108000+00:00         NaN  \n",
       "2  2005-07-02 04:00:00.143000+00:00         NaN  \n",
       "3  2005-07-02 05:15:00.213000+00:00         NaN  \n",
       "4  2005-08-01 10:15:00.213000+00:00         NaN  "
      ]
     },
     "execution_count": 2,
     "metadata": {},
     "output_type": "execute_result"
    }
   ],
   "source": [
    "df = pd.read_csv(\"data/pifsc_products_detections_annotations.csv\")\n",
    "\n",
    "# Fixes bug with hawaii \n",
    "df['hawaii_num'] = df[df['flac_compressed_xwav_object'].str.contains(\"pipan_hawaii_0/\")]['flac_compressed_xwav_object'].str.split(\"/\", expand=True).iloc[:, -1].str.split(\"_\", expand=True).loc[:, 2].astype(float)\n",
    "\n",
    "df.loc[:, \"flac_compressed_xwav_object\"] = df.apply(lambda x: x['flac_compressed_xwav_object'].replace(\"pipan_hawaii_0/\", f\"pipan_hawaii_{int(x['hawaii_num'])}/\") if not np.isnan(x[\"hawaii_num\"]) else x[\"flac_compressed_xwav_object\"], axis=1)\n",
    "\n",
    "df.head()"
   ]
  },
  {
   "cell_type": "code",
   "execution_count": 8,
   "id": "8c4a03ced35c8e88",
   "metadata": {
    "ExecuteTime": {
     "end_time": "2024-04-03T02:53:55.403054800Z",
     "start_time": "2024-04-03T02:53:55.381112900Z"
    },
    "collapsed": false,
    "jupyter": {
     "outputs_hidden": false
    }
   },
   "outputs": [
    {
     "data": {
      "text/plain": [
       "(['Cross_A_01_050514_014345',\n",
       "  'Cross_A_01_050518_040230',\n",
       "  'Cross_A_01_050520_183000',\n",
       "  'Cross_A_01_050520_212731',\n",
       "  'Cross_A_01_050521_004500'],\n",
       " 1513)"
      ]
     },
     "execution_count": 8,
     "metadata": {},
     "output_type": "execute_result"
    }
   ],
   "source": [
    "with open(\"file_manifest.txt\", \"r\") as f:\n",
    "    processed_files = f.readlines()\n",
    "processed_files = [f.strip().split(\".\")[0] for f in processed_files]\n",
    "processed_files[:5], len(processed_files)"
   ]
  },
  {
   "cell_type": "code",
   "execution_count": 4,
   "id": "7f69a4aa18c7fbd5",
   "metadata": {
    "ExecuteTime": {
     "end_time": "2024-04-03T02:55:15.434061600Z",
     "start_time": "2024-04-03T02:55:14.889518100Z"
    },
    "collapsed": false,
    "jupyter": {
     "outputs_hidden": false
    }
   },
   "outputs": [
    {
     "name": "stdout",
     "output_type": "stream",
     "text": [
      "5294\n",
      "3782 1513\n"
     ]
    },
    {
     "data": {
      "text/plain": [
       "(['pifsc/audio/pipan/saipan/pipan_saipan_06/audio/Saipan_A_06_160225_053445.df20.x.flac',\n",
       "  'pifsc/audio/pipan/saipan/pipan_saipan_06/audio/Saipan_A_06_160226_130100.df20.x.flac',\n",
       "  'pifsc/audio/pipan/saipan/pipan_saipan_06/audio/Saipan_A_06_160227_202515.df20.x.flac',\n",
       "  'pifsc/audio/pipan/saipan/pipan_saipan_06/audio/Saipan_A_06_160229_034229.df20.x.flac',\n",
       "  'pifsc/audio/pipan/saipan/pipan_saipan_06/audio/Saipan_A_06_160301_105945.df20.x.flac'],\n",
       " 3782)"
      ]
     },
     "execution_count": 4,
     "metadata": {},
     "output_type": "execute_result"
    }
   ],
   "source": [
    "files = list(df['flac_compressed_xwav_object'].unique())\n",
    "files = [re.sub(\"gs://noaa-passive-bioacoustic/\", \"\", f) for f in files]\n",
    "print(len(files))\n",
    "new_files = []\n",
    "\n",
    "for file in files:\n",
    "    hold = False\n",
    "    for processed_file in processed_files:\n",
    "        if processed_file in file:\n",
    "            hold = True\n",
    "            break\n",
    "    if not hold:\n",
    "        new_files.append(file)\n",
    "    \n",
    "print(len(new_files), len(processed_files))\n",
    "files = new_files\n",
    "# files = files[0:1000]\n",
    "\n",
    "def download_many_blobs_with_transfer_manager(bucket_name, blob_names, destination_directory=\"\", workers=8):\n",
    "    storage_client = storage.Client.create_anonymous_client()\n",
    "    \n",
    "    bucket = storage_client.bucket(bucket_name)\n",
    "    \n",
    "    results = transfer_manager.download_many_to_path(bucket, blob_names, destination_directory=destination_directory, max_workers=workers)\n",
    "    \n",
    "    bad_results = []\n",
    "    for name, result in zip(blob_names, results):\n",
    "        if isinstance(result, Exception):\n",
    "            bad_results.append((name, result))\n",
    "            print(f\"Failed to download {name} due to exception {result}\")\n",
    "        else:\n",
    "            print(f\"Download of {name} succeeded\")\n",
    "\n",
    "    return bad_results\n",
    "files[:5], len(files)"
   ]
  },
  {
   "cell_type": "code",
   "execution_count": 5,
   "id": "95b3e797483811f",
   "metadata": {
    "ExecuteTime": {
     "end_time": "2024-04-03T02:55:32.969768500Z",
     "start_time": "2024-04-03T02:55:32.960792700Z"
    },
    "collapsed": false,
    "jupyter": {
     "outputs_hidden": false
    }
   },
   "outputs": [
    {
     "data": {
      "text/plain": [
       "(['pifsc/audio/pipan/saipan/pipan_saipan_06/audio/Saipan_A_06_160225_053445.df20.x.flac',\n",
       "  'pifsc/audio/pipan/saipan/pipan_saipan_06/audio/Saipan_A_06_160226_130100.df20.x.flac',\n",
       "  'pifsc/audio/pipan/saipan/pipan_saipan_06/audio/Saipan_A_06_160227_202515.df20.x.flac',\n",
       "  'pifsc/audio/pipan/saipan/pipan_saipan_06/audio/Saipan_A_06_160229_034229.df20.x.flac',\n",
       "  'pifsc/audio/pipan/saipan/pipan_saipan_06/audio/Saipan_A_06_160301_105945.df20.x.flac'],\n",
       " 3782)"
      ]
     },
     "execution_count": 5,
     "metadata": {},
     "output_type": "execute_result"
    }
   ],
   "source": [
    "downloaded_files = []\n",
    "for dirpath, dirnames, filenames in os.walk(\"D:/SonarData/downloads\"):\n",
    "    for filename in filenames:\n",
    "        downloaded_files.append(filename)\n",
    "        \n",
    "to_download = [f for f in files if f.split(\"/\")[-1] not in downloaded_files]\n",
    "to_download[:5], len(to_download)"
   ]
  },
  {
   "cell_type": "code",
   "execution_count": null,
   "id": "2f13ca6b-fdb7-47b1-8107-8ddc8e3d6481",
   "metadata": {},
   "outputs": [],
   "source": []
  },
  {
   "cell_type": "code",
   "execution_count": 6,
   "id": "659ab929b499c4f7",
   "metadata": {
    "ExecuteTime": {
     "end_time": "2024-03-31T05:05:26.231443300Z",
     "start_time": "2024-03-31T05:05:19.971848500Z"
    },
    "collapsed": false,
    "jupyter": {
     "outputs_hidden": false
    }
   },
   "outputs": [
    {
     "name": "stdout",
     "output_type": "stream",
     "text": [
      "Download of pifsc/audio/pipan/saipan/pipan_saipan_06/audio/Saipan_A_06_160225_053445.df20.x.flac succeeded\n",
      "Download of pifsc/audio/pipan/saipan/pipan_saipan_06/audio/Saipan_A_06_160226_130100.df20.x.flac succeeded\n",
      "Download of pifsc/audio/pipan/saipan/pipan_saipan_06/audio/Saipan_A_06_160227_202515.df20.x.flac succeeded\n",
      "Download of pifsc/audio/pipan/saipan/pipan_saipan_06/audio/Saipan_A_06_160229_034229.df20.x.flac succeeded\n",
      "Download of pifsc/audio/pipan/saipan/pipan_saipan_06/audio/Saipan_A_06_160301_105945.df20.x.flac succeeded\n",
      "Download of pifsc/audio/pipan/saipan/pipan_saipan_06/audio/Saipan_A_06_160302_181900.df20.x.flac succeeded\n",
      "Download of pifsc/audio/pipan/saipan/pipan_saipan_06/audio/Saipan_A_06_160304_015015.df20.x.flac succeeded\n",
      "Download of pifsc/audio/pipan/saipan/pipan_saipan_06/audio/Saipan_A_06_160305_091200.df20.x.flac succeeded\n",
      "Download of pifsc/audio/pipan/saipan/pipan_saipan_06/audio/Saipan_A_06_160306_162915.df20.x.flac succeeded\n",
      "Download of pifsc/audio/pipan/saipan/pipan_saipan_06/audio/Saipan_A_06_160307_235330.df20.x.flac succeeded\n",
      "Download of pifsc/audio/pipan/saipan/pipan_saipan_06/audio/Saipan_A_06_160309_071045.df20.x.flac succeeded\n",
      "Download of pifsc/audio/pipan/saipan/pipan_saipan_06/audio/Saipan_A_06_160310_143000.df20.x.flac succeeded\n",
      "Download of pifsc/audio/pipan/saipan/pipan_saipan_06/audio/Saipan_A_06_160311_220115.df20.x.flac succeeded\n",
      "Download of pifsc/audio/pipan/saipan/pipan_saipan_06/audio/Saipan_A_06_160312_110515.df20.x.flac succeeded\n",
      "Download of pifsc/audio/pipan/saipan/pipan_saipan_06/audio/Saipan_A_06_160313_182230.df20.x.flac succeeded\n",
      "Download of pifsc/audio/pipan/saipan/pipan_saipan_06/audio/Saipan_A_06_160315_014645.df20.x.flac succeeded\n",
      "Download of pifsc/audio/pipan/saipan/pipan_saipan_06/audio/Saipan_A_06_160317_162315.df20.x.flac succeeded\n",
      "Download of pifsc/audio/pipan/saipan/pipan_saipan_06/audio/Saipan_A_06_160318_234030.df20.x.flac succeeded\n",
      "Download of pifsc/audio/pipan/saipan/pipan_saipan_06/audio/Saipan_A_06_160320_065745.df20.x.flac succeeded\n",
      "Download of pifsc/audio/pipan/saipan/pipan_saipan_06/audio/Saipan_A_06_160321_141700.df20.x.flac succeeded\n",
      "Download of pifsc/audio/pipan/saipan/pipan_saipan_06/audio/Saipan_A_06_160322_213415.df20.x.flac succeeded\n",
      "Download of pifsc/audio/pipan/saipan/pipan_saipan_06/audio/Saipan_A_06_160324_045130.df20.x.flac succeeded\n",
      "Download of pifsc/audio/pipan/saipan/pipan_saipan_06/audio/Saipan_A_06_160325_120845.df20.x.flac succeeded\n",
      "Download of pifsc/audio/pipan/saipan/pipan_saipan_06/audio/Saipan_A_06_160326_192800.df20.x.flac succeeded\n",
      "Download of pifsc/audio/pipan/saipan/pipan_saipan_06/audio/Saipan_A_06_160328_024515.df20.x.flac succeeded\n",
      "Download of pifsc/audio/pipan/saipan/pipan_saipan_06/audio/Saipan_A_06_160329_100230.df20.x.flac succeeded\n",
      "Download of pifsc/audio/pipan/saipan/pipan_saipan_06/audio/Saipan_A_06_160330_171945.df20.x.flac succeeded\n",
      "Download of pifsc/audio/pipan/saipan/pipan_saipan_06/audio/Saipan_A_06_160401_003900.df20.x.flac succeeded\n",
      "Download of pifsc/audio/pipan/saipan/pipan_saipan_06/audio/Saipan_A_06_160402_075615.df20.x.flac succeeded\n",
      "Download of pifsc/audio/pipan/saipan/pipan_saipan_06/audio/Saipan_A_06_160404_223745.df20.x.flac succeeded\n",
      "Download of pifsc/audio/pipan/saipan/pipan_saipan_06/audio/Saipan_A_06_160406_190215.df20.x.flac succeeded\n",
      "Download of pifsc/audio/pipan/saipan/pipan_saipan_06/audio/Saipan_A_06_160413_230945.df20.x.flac succeeded\n",
      "Download of pifsc/audio/pipan/saipan/pipan_saipan_06/audio/Saipan_A_06_160415_062900.df20.x.flac succeeded\n",
      "Download of pifsc/audio/pipan/saipan/pipan_saipan_06/audio/Saipan_A_06_160420_120100.df20.x.flac succeeded\n",
      "Download of pifsc/audio/pipan/saipan/pipan_saipan_06/audio/Saipan_A_06_160423_024230.df20.x.flac succeeded\n",
      "Download of pifsc/audio/pipan/saipan/pipan_saipan_06/audio/Saipan_A_06_160425_171900.df20.x.flac succeeded\n",
      "Download of pifsc/audio/pipan/saipan/pipan_saipan_06/audio/Saipan_A_06_160427_003615.df20.x.flac succeeded\n",
      "Download of pifsc/audio/pipan/saipan/pipan_saipan_06/audio/Saipan_A_06_160430_223700.df20.x.flac succeeded\n",
      "Download of pifsc/audio/pipan/saipan/pipan_saipan_06/audio/Saipan_A_06_160502_055415.df20.x.flac succeeded\n",
      "Download of pifsc/audio/pipan/tinian/pipan_tinian_02/audio/Tinian_A_02_110808_010230.df20.x.flac succeeded\n",
      "Download of pifsc/audio/pipan/tinian/pipan_tinian_02/audio/Tinian_A_02_110819_052115.df20.x.flac succeeded\n",
      "Download of pifsc/audio/pipan/tinian/pipan_tinian_02/audio/Tinian_A_02_110822_224230.df20.x.flac succeeded\n",
      "Download of pifsc/audio/pipan/tinian/pipan_tinian_02/audio/Tinian_A_02_110826_160345.df20.x.flac succeeded\n",
      "Download of pifsc/audio/pipan/tinian/pipan_tinian_03/audio/Tinian_A_03_120624_024545.df20.x.flac succeeded\n",
      "Download of pifsc/audio/pipan/tinian/pipan_tinian_03/audio/Tinian_A_03_120625_053600.df20.x.flac succeeded\n",
      "Download of pifsc/audio/pipan/tinian/pipan_tinian_03/audio/Tinian_A_03_120706_095030.df20.x.flac succeeded\n",
      "Download of pifsc/audio/pipan/tinian/pipan_tinian_03/audio/Tinian_A_03_120708_153000.df20.x.flac succeeded\n",
      "Download of pifsc/audio/pipan/tinian/pipan_tinian_03/audio/Tinian_A_03_120711_235745.df20.x.flac succeeded\n",
      "Download of pifsc/audio/pipan/tinian/pipan_tinian_03/audio/Tinian_A_03_120713_024800.df20.x.flac succeeded\n",
      "Download of pifsc/audio/pipan/tinian/pipan_tinian_03/audio/Tinian_A_03_120714_053715.df20.x.flac succeeded\n",
      "Download of pifsc/audio/pipan/tinian/pipan_tinian_03/audio/Tinian_A_03_120714_164915.df20.x.flac succeeded\n",
      "Download of pifsc/audio/pipan/tinian/pipan_tinian_03/audio/Tinian_A_03_120718_011800.df20.x.flac succeeded\n",
      "Download of pifsc/audio/pipan/tinian/pipan_tinian_03/audio/Tinian_A_03_120723_152515.df20.x.flac succeeded\n",
      "Download of pifsc/audio/pipan/tinian/pipan_tinian_03/audio/Tinian_A_03_120728_024315.df20.x.flac succeeded\n",
      "Download of pifsc/audio/pipan/tinian/pipan_tinian_03/audio/Tinian_A_03_120810_234915.df20.x.flac succeeded\n",
      "Download of pifsc/audio/pipan/tinian/pipan_tinian_03/audio/Tinian_A_03_120819_222515.df20.x.flac succeeded\n",
      "Download of pifsc/audio/pipan/tinian/pipan_tinian_03/audio/Tinian_A_03_120824_094315.df20.x.flac succeeded\n",
      "Download of pifsc/audio/pipan/tinian/pipan_tinian_03/audio/Tinian_A_03_120829_175515.df20.x.flac succeeded\n",
      "Download of pifsc/audio/pipan/tinian/pipan_tinian_03/audio/Tinian_A_03_120902_022400.df20.x.flac succeeded\n",
      "Download of pifsc/audio/pipan/tinian/pipan_tinian_03/audio/Tinian_A_03_120908_192030.df20.x.flac succeeded\n",
      "Download of pifsc/audio/pipan/tinian/pipan_tinian_03/audio/Tinian_A_03_120911_010000.df20.x.flac succeeded\n",
      "Download of pifsc/audio/pipan/tinian/pipan_tinian_03/audio/Tinian_A_03_120912_034915.df20.x.flac succeeded\n",
      "Download of pifsc/audio/pipan/tinian/pipan_tinian_03/audio/Tinian_A_03_120913_063830.df20.x.flac succeeded\n",
      "Download of pifsc/audio/pipan/tinian/pipan_tinian_03/audio/Tinian_A_03_120915_121800.df20.x.flac succeeded\n",
      "Download of pifsc/audio/pipan/tinian/pipan_tinian_03/audio/Tinian_A_03_120916_150715.df20.x.flac succeeded\n",
      "Download of pifsc/audio/pipan/tinian/pipan_tinian_03/audio/Tinian_A_03_120917_175630.df20.x.flac succeeded\n",
      "Download of pifsc/audio/pipan/tinian/pipan_tinian_03/audio/Tinian_A_03_120919_075630.df20.x.flac succeeded\n",
      "Download of pifsc/audio/pipan/tinian/pipan_tinian_03/audio/Tinian_A_03_120920_104545.df20.x.flac succeeded\n",
      "Download of pifsc/audio/pipan/tinian/pipan_tinian_03/audio/Tinian_A_03_120921_133600.df20.x.flac succeeded\n",
      "Download of pifsc/audio/pipan/tinian/pipan_tinian_03/audio/Tinian_A_03_120922_162515.df20.x.flac succeeded\n",
      "Download of pifsc/audio/pipan/tinian/pipan_tinian_03/audio/Tinian_A_03_120924_220345.df20.x.flac succeeded\n",
      "Download of pifsc/audio/pipan/tinian/pipan_tinian_03/audio/Tinian_A_03_121018_203600.df20.x.flac succeeded\n",
      "Download of pifsc/audio/pipan/tinian/pipan_tinian_03/audio/Tinian_A_03_121122_074800.df20.x.flac succeeded\n",
      "Download of pifsc/audio/pipan/tinian/pipan_tinian_03/audio/Tinian_A_03_121202_091315.df20.x.flac succeeded\n",
      "Download of pifsc/audio/pipan/tinian/pipan_tinian_04/audio/Tinian_A_04_130715_221400.df20.x.flac succeeded\n",
      "Download of pifsc/audio/pipan/tinian/pipan_tinian_04/audio/Tinian_A_04_130729_122230.df20.x.flac succeeded\n",
      "Download of pifsc/audio/pipan/tinian/pipan_tinian_04/audio/Tinian_A_04_130802_101615.df20.x.flac succeeded\n",
      "Download of pifsc/audio/pipan/tinian/pipan_tinian_04/audio/Tinian_A_04_130803_173330.df20.x.flac succeeded\n",
      "Download of pifsc/audio/pipan/tinian/pipan_tinian_04/audio/Tinian_A_04_130805_005045.df20.x.flac succeeded\n",
      "Download of pifsc/audio/pipan/tinian/pipan_tinian_04/audio/Tinian_A_04_130811_132100.df20.x.flac succeeded\n",
      "Download of pifsc/audio/pipan/tinian/pipan_tinian_04/audio/Tinian_A_04_130812_203815.df20.x.flac succeeded\n",
      "Download of pifsc/audio/pipan/tinian/pipan_tinian_04/audio/Tinian_A_04_130814_035530.df20.x.flac succeeded\n",
      "Download of pifsc/audio/pipan/tinian/pipan_tinian_04/audio/Tinian_A_04_130830_215730.df20.x.flac succeeded\n",
      "Download of pifsc/audio/pipan/tinian/pipan_tinian_04/audio/Tinian_A_04_130831_152730.df20.x.flac succeeded\n",
      "Download of pifsc/audio/pipan/tinian/pipan_tinian_04/audio/Tinian_A_04_130831_222730.df20.x.flac succeeded\n",
      "Download of pifsc/audio/pipan/tinian/pipan_tinian_04/audio/Tinian_A_04_130902_013600.df20.x.flac succeeded\n",
      "Download of pifsc/audio/pipan/tinian/pipan_tinian_04/audio/Tinian_A_04_130902_050600.df20.x.flac succeeded\n",
      "Download of pifsc/audio/pipan/tinian/pipan_tinian_04/audio/Tinian_A_04_130902_065100.df20.x.flac succeeded\n",
      "Download of pifsc/audio/pipan/tinian/pipan_tinian_04/audio/Tinian_A_04_130902_083600.df20.x.flac succeeded\n",
      "Download of pifsc/audio/pipan/tinian/pipan_tinian_04/audio/Tinian_A_04_130902_092730.df20.x.flac succeeded\n",
      "Download of pifsc/audio/pipan/tinian/pipan_tinian_04/audio/Tinian_A_04_130904_032730.df20.x.flac succeeded\n",
      "Download of pifsc/audio/pipan/tinian/pipan_tinian_04/audio/Tinian_A_04_130904_182100.df20.x.flac succeeded\n",
      "Download of pifsc/audio/pipan/tinian/pipan_tinian_04/audio/Tinian_A_04_130907_055100.df20.x.flac succeeded\n",
      "Download of pifsc/audio/pipan/tinian/pipan_tinian_04/audio/Tinian_A_04_130907_082730.df20.x.flac succeeded\n",
      "Download of pifsc/audio/pipan/tinian/pipan_tinian_04/audio/Tinian_A_04_130912_223500.df20.x.flac succeeded\n",
      "Download of pifsc/audio/pipan/tinian/pipan_tinian_04/audio/Tinian_A_04_130914_055215.df20.x.flac succeeded\n",
      "Download of pifsc/audio/pipan/tinian/pipan_tinian_04/audio/Tinian_A_04_130915_130930.df20.x.flac succeeded\n",
      "Download of pifsc/audio/pipan/tinian/pipan_tinian_04/audio/Tinian_A_04_130916_202645.df20.x.flac succeeded\n",
      "Download of pifsc/audio/pipan/tinian/pipan_tinian_04/audio/Tinian_A_04_130918_034600.df20.x.flac succeeded\n",
      "Download of pifsc/audio/pipan/tinian/pipan_tinian_04/audio/Tinian_A_04_130920_182030.df20.x.flac succeeded\n",
      "Download of pifsc/audio/pipan/tinian/pipan_tinian_04/audio/Tinian_A_04_130922_013745.df20.x.flac succeeded\n",
      "Download of pifsc/audio/pipan/tinian/pipan_tinian_04/audio/Tinian_A_04_130924_161415.df20.x.flac succeeded\n",
      "Download of pifsc/audio/pipan/tinian/pipan_tinian_04/audio/Tinian_A_04_130925_233130.df20.x.flac succeeded\n",
      "Download of pifsc/audio/pipan/tinian/pipan_tinian_04/audio/Tinian_A_04_130927_064845.df20.x.flac succeeded\n",
      "Download of pifsc/audio/pipan/tinian/pipan_tinian_04/audio/Tinian_A_04_130928_140800.df20.x.flac succeeded\n",
      "Download of pifsc/audio/pipan/tinian/pipan_tinian_04/audio/Tinian_A_04_130929_212515.df20.x.flac succeeded\n",
      "Download of pifsc/audio/pipan/tinian/pipan_tinian_04/audio/Tinian_A_04_131001_044230.df20.x.flac succeeded\n",
      "Download of pifsc/audio/pipan/tinian/pipan_tinian_04/audio/Tinian_A_04_131002_115945.df20.x.flac succeeded\n",
      "Download of pifsc/audio/pipan/tinian/pipan_tinian_04/audio/Tinian_A_04_131003_191900.df20.x.flac succeeded\n",
      "Download of pifsc/audio/pipan/tinian/pipan_tinian_04/audio/Tinian_A_04_131008_061800.df20.x.flac succeeded\n",
      "Download of pifsc/audio/pipan/tinian/pipan_tinian_04/audio/Tinian_A_04_131023_215100.df20.x.flac succeeded\n",
      "Download of pifsc/audio/pipan/tinian/pipan_tinian_04/audio/Tinian_A_04_131025_050815.df20.x.flac succeeded\n",
      "Download of pifsc/audio/pipan/tinian/pipan_tinian_04/audio/Tinian_A_04_131103_211815.df20.x.flac succeeded\n",
      "Download of pifsc/audio/pipan/tinian/pipan_tinian_04/audio/Tinian_A_04_131111_170345.df20.x.flac succeeded\n",
      "Download of pifsc/audio/pipan/tinian/pipan_tinian_04/audio/Tinian_A_04_131113_002300.df20.x.flac succeeded\n",
      "Download of pifsc/audio/pipan/tinian/pipan_tinian_04/audio/Tinian_A_04_131204_101215.df20.x.flac succeeded\n",
      "Download of pifsc/audio/pipan/tinian/pipan_tinian_04/audio/Tinian_A_04_131207_004645.df20.x.flac succeeded\n",
      "Download of pifsc/audio/pipan/tinian/pipan_tinian_04/audio/Tinian_A_04_131227_031730.df20.x.flac succeeded\n",
      "Download of pifsc/audio/pipan/tinian/pipan_tinian_04/audio/Tinian_A_04_140105_062215.df20.x.flac succeeded\n",
      "Download of pifsc/audio/pipan/tinian/pipan_tinian_04/audio/Tinian_A_04_140116_054930.df20.x.flac succeeded\n",
      "Download of pifsc/audio/pipan/tinian/pipan_tinian_04/audio/Tinian_A_04_140118_202600.df20.x.flac succeeded\n",
      "Download of pifsc/audio/pipan/tinian/pipan_tinian_04/audio/Tinian_A_04_140122_181745.df20.x.flac succeeded\n",
      "Download of pifsc/audio/pipan/tinian/pipan_tinian_04/audio/Tinian_A_04_140207_095045.df20.x.flac succeeded\n",
      "Download of pifsc/audio/pipan/tinian/pipan_tinian_04/audio/Tinian_A_04_140208_171000.df20.x.flac succeeded\n",
      "Download of pifsc/audio/pipan/tinian/pipan_tinian_04/audio/Tinian_A_04_140210_002715.df20.x.flac succeeded\n",
      "Download of pifsc/audio/pipan/tinian/pipan_tinian_04/audio/Tinian_A_04_140210_133230.df20.x.flac succeeded\n",
      "Download of pifsc/audio/pipan/tinian/pipan_tinian_04/audio/Tinian_A_04_140211_204945.df20.x.flac succeeded\n",
      "Download of pifsc/audio/pipan/tinian/pipan_tinian_04/audio/Tinian_A_04_140213_040900.df20.x.flac succeeded\n",
      "Download of pifsc/audio/pipan/tinian/pipan_tinian_04/audio/Tinian_A_04_140214_112615.df20.x.flac succeeded\n",
      "Download of pifsc/audio/pipan/tinian/pipan_tinian_04/audio/Tinian_A_04_140218_092000.df20.x.flac succeeded\n",
      "Download of pifsc/audio/pipan/tinian/pipan_tinian_04/audio/Tinian_A_04_140219_163715.df20.x.flac succeeded\n",
      "Download of pifsc/audio/pipan/tinian/pipan_tinian_04/audio/Tinian_A_04_140314_094345.df20.x.flac succeeded\n",
      "Download of pifsc/audio/pipan/tinian/pipan_tinian_04/audio/Tinian_A_04_140327_104215.df20.x.flac succeeded\n",
      "Download of pifsc/audio/pipan/tinian/pipan_tinian_04/audio/Tinian_A_04_140330_011645.df20.x.flac succeeded\n",
      "Download of pifsc/audio/pipan/tinian/pipan_tinian_04/audio/Tinian_A_04_140331_083600.df20.x.flac succeeded\n",
      "Download of pifsc/audio/pipan/tinian/pipan_tinian_04/audio/Tinian_A_04_140402_045715.df20.x.flac succeeded\n",
      "Download of pifsc/audio/pipan/tinian/pipan_tinian_04/audio/Tinian_A_04_140411_080200.df20.x.flac succeeded\n",
      "Download of pifsc/audio/pipan/tinian/pipan_tinian_04/audio/Tinian_A_04_140412_151915.df20.x.flac succeeded\n",
      "Download of pifsc/audio/pipan/tinian/pipan_tinian_04/audio/Tinian_A_04_140413_223630.df20.x.flac succeeded\n",
      "Download of pifsc/audio/pipan/tinian/pipan_tinian_04/audio/Tinian_A_04_140416_131300.df20.x.flac succeeded\n",
      "Download of pifsc/audio/pipan/tinian/pipan_tinian_04/audio/Tinian_A_04_140419_034730.df20.x.flac succeeded\n",
      "Download of pifsc/audio/pipan/tinian/pipan_tinian_04/audio/Tinian_A_04_140421_182400.df20.x.flac succeeded\n",
      "Download of pifsc/audio/pipan/tinian/pipan_tinian_04/audio/Tinian_A_04_140423_014115.df20.x.flac succeeded\n",
      "Download of pifsc/audio/pipan/tinian/pipan_tinian_04/audio/Tinian_A_04_140424_085830.df20.x.flac succeeded\n",
      "Download of pifsc/audio/pipan/tinian/pipan_tinian_04/audio/Tinian_A_04_140430_031445.df20.x.flac succeeded\n",
      "Download of pifsc/audio/pipan/tinian/pipan_tinian_04/audio/Tinian_A_04_140513_041315.df20.x.flac succeeded\n",
      "Download of pifsc/audio/pipan/tinian/pipan_tinian_04/audio/Tinian_A_04_140515_184745.df20.x.flac succeeded\n",
      "Download of pifsc/audio/pipan/tinian/pipan_tinian_04/audio/Tinian_A_04_140524_034030.df20.x.flac succeeded\n",
      "Download of pifsc/audio/pipan/tinian/pipan_tinian_04/audio/Tinian_A_04_140526_181700.df20.x.flac succeeded\n",
      "Download of pifsc/audio/pipan/tinian/pipan_tinian_04/audio/Tinian_A_04_140603_140230.df20.x.flac succeeded\n",
      "Download of pifsc/audio/pipan/tinian/pipan_tinian_04/audio/Tinian_A_04_140606_043900.df20.x.flac succeeded\n",
      "Download of pifsc/audio/pipan/tinian/pipan_tinian_04/audio/Tinian_A_04_140607_115615.df20.x.flac succeeded\n",
      "Download of pifsc/audio/pipan/tinian/pipan_tinian_04/audio/Tinian_A_04_140610_023045.df20.x.flac succeeded\n",
      "Download of pifsc/audio/pipan/tinian/pipan_tinian_05/audio/Tinian_A_05_140621_050630.df20.x.flac succeeded\n",
      "Download of pifsc/audio/pipan/tinian/pipan_tinian_05/audio/Tinian_A_05_140626_101730.df20.x.flac succeeded\n",
      "Download of pifsc/audio/pipan/tinian/pipan_tinian_05/audio/Tinian_A_05_140709_111600.df20.x.flac succeeded\n",
      "Download of pifsc/audio/pipan/tinian/pipan_tinian_05/audio/Tinian_A_05_140712_145545.df20.x.flac succeeded\n",
      "Download of pifsc/audio/pipan/tinian/pipan_tinian_05/audio/Tinian_A_05_140723_011745.df20.x.flac succeeded\n",
      "Download of pifsc/audio/pipan/tinian/pipan_tinian_05/audio/Tinian_A_05_140725_155415.df20.x.flac succeeded\n",
      "Download of pifsc/audio/pipan/tinian/pipan_tinian_05/audio/Tinian_A_05_140726_231130.df20.x.flac succeeded\n",
      "Download of pifsc/audio/pipan/tinian/pipan_tinian_05/audio/Tinian_A_05_140805_152129.df20.x.flac succeeded\n",
      "Download of pifsc/audio/pipan/tinian/pipan_tinian_05/audio/Tinian_A_05_140806_223845.df20.x.flac succeeded\n",
      "Download of pifsc/audio/pipan/tinian/pipan_tinian_05/audio/Tinian_A_05_140808_055800.df20.x.flac succeeded\n",
      "Download of pifsc/audio/pipan/tinian/pipan_tinian_05/audio/Tinian_A_05_140810_203230.df20.x.flac succeeded\n",
      "Download of pifsc/audio/pipan/tinian/pipan_tinian_05/audio/Tinian_A_05_140812_034945.df20.x.flac succeeded\n",
      "Download of pifsc/audio/pipan/tinian/pipan_tinian_05/audio/Tinian_A_05_140813_110900.df20.x.flac succeeded\n",
      "Download of pifsc/audio/pipan/tinian/pipan_tinian_05/audio/Tinian_A_05_140814_182615.df20.x.flac succeeded\n",
      "Download of pifsc/audio/pipan/tinian/pipan_tinian_05/audio/Tinian_A_05_140816_014330.df20.x.flac succeeded\n",
      "Download of pifsc/audio/pipan/tinian/pipan_tinian_05/audio/Tinian_A_05_140817_090045.df20.x.flac succeeded\n",
      "Download of pifsc/audio/pipan/tinian/pipan_tinian_05/audio/Tinian_A_05_140818_162000.df20.x.flac succeeded\n",
      "Download of pifsc/audio/pipan/tinian/pipan_tinian_05/audio/Tinian_A_05_140819_233715.df20.x.flac succeeded\n",
      "Download of pifsc/audio/pipan/tinian/pipan_tinian_05/audio/Tinian_A_05_140821_065430.df20.x.flac succeeded\n",
      "Download of pifsc/audio/pipan/tinian/pipan_tinian_05/audio/Tinian_A_05_140822_141145.df20.x.flac succeeded\n",
      "Download of pifsc/audio/pipan/tinian/pipan_tinian_05/audio/Tinian_A_05_140823_213100.df20.x.flac succeeded\n",
      "Download of pifsc/audio/pipan/tinian/pipan_tinian_05/audio/Tinian_A_05_140825_044815.df20.x.flac succeeded\n",
      "Download of pifsc/audio/pipan/tinian/pipan_tinian_05/audio/Tinian_A_05_140826_120530.df20.x.flac succeeded\n",
      "Download of pifsc/audio/pipan/tinian/pipan_tinian_05/audio/Tinian_A_05_140827_192245.df20.x.flac succeeded\n",
      "Download of pifsc/audio/pipan/tinian/pipan_tinian_05/audio/Tinian_A_05_140829_024200.df20.x.flac succeeded\n",
      "Download of pifsc/audio/pipan/tinian/pipan_tinian_05/audio/Tinian_A_05_140901_062145.df20.x.flac succeeded\n",
      "Download of pifsc/audio/pipan/tinian/pipan_tinian_05/audio/Tinian_A_05_140902_134100.df20.x.flac succeeded\n",
      "Download of pifsc/audio/pipan/tinian/pipan_tinian_05/audio/Tinian_A_05_140903_205815.df20.x.flac succeeded\n",
      "Download of pifsc/audio/pipan/tinian/pipan_tinian_05/audio/Tinian_A_05_140907_185200.df20.x.flac succeeded\n",
      "Download of pifsc/audio/pipan/tinian/pipan_tinian_05/audio/Tinian_A_05_140913_000300.df20.x.flac succeeded\n",
      "Download of pifsc/audio/pipan/tinian/pipan_tinian_05/audio/Tinian_A_05_140916_215445.df20.x.flac succeeded\n",
      "Download of pifsc/audio/pipan/tinian/pipan_tinian_05/audio/Tinian_A_05_140918_051400.df20.x.flac succeeded\n",
      "Download of pifsc/audio/pipan/tinian/pipan_tinian_05/audio/Tinian_A_05_140919_123115.df20.x.flac succeeded\n",
      "Download of pifsc/audio/pipan/tinian/pipan_tinian_05/audio/Tinian_A_05_140920_194830.df20.x.flac succeeded\n",
      "Download of pifsc/audio/pipan/tinian/pipan_tinian_05/audio/Tinian_A_05_140923_102500.df20.x.flac succeeded\n",
      "Download of pifsc/audio/pipan/tinian/pipan_tinian_05/audio/Tinian_A_05_140924_174215.df20.x.flac succeeded\n",
      "Download of pifsc/audio/pipan/tinian/pipan_tinian_05/audio/Tinian_A_05_140925_064615.df20.x.flac succeeded\n",
      "Download of pifsc/audio/pipan/tinian/pipan_tinian_05/audio/Tinian_A_05_140926_140330.df20.x.flac succeeded\n",
      "Download of pifsc/audio/pipan/tinian/pipan_tinian_05/audio/Tinian_A_05_140927_212045.df20.x.flac succeeded\n",
      "Download of pifsc/audio/pipan/tinian/pipan_tinian_05/audio/Tinian_A_05_140929_044000.df20.x.flac succeeded\n",
      "Download of pifsc/audio/pipan/tinian/pipan_tinian_05/audio/Tinian_A_05_140930_115715.df20.x.flac succeeded\n",
      "Download of pifsc/audio/pipan/tinian/pipan_tinian_05/audio/Tinian_A_05_141001_191430.df20.x.flac succeeded\n",
      "Download of pifsc/audio/pipan/tinian/pipan_tinian_05/audio/Tinian_A_05_141003_023145.df20.x.flac succeeded\n",
      "Download of pifsc/audio/pipan/tinian/pipan_tinian_05/audio/Tinian_A_05_141004_095100.df20.x.flac succeeded\n",
      "Download of pifsc/audio/pipan/tinian/pipan_tinian_05/audio/Tinian_A_05_141005_170815.df20.x.flac succeeded\n",
      "Download of pifsc/audio/pipan/tinian/pipan_tinian_05/audio/Tinian_A_05_141007_002530.df20.x.flac succeeded\n",
      "Download of pifsc/audio/pipan/tinian/pipan_tinian_05/audio/Tinian_A_05_141008_074245.df20.x.flac succeeded\n",
      "Download of pifsc/audio/pipan/tinian/pipan_tinian_05/audio/Tinian_A_05_141009_150200.df20.x.flac succeeded\n",
      "Download of pifsc/audio/pipan/tinian/pipan_tinian_05/audio/Tinian_A_05_141010_221915.df20.x.flac succeeded\n",
      "Download of pifsc/audio/pipan/tinian/pipan_tinian_05/audio/Tinian_A_05_141012_053630.df20.x.flac succeeded\n",
      "Download of pifsc/audio/pipan/tinian/pipan_tinian_05/audio/Tinian_A_05_141013_125345.df20.x.flac succeeded\n",
      "Download of pifsc/audio/pipan/tinian/pipan_tinian_05/audio/Tinian_A_05_141014_201300.df20.x.flac succeeded\n",
      "Download of pifsc/audio/pipan/tinian/pipan_tinian_05/audio/Tinian_A_05_141016_033015.df20.x.flac succeeded\n",
      "Download of pifsc/audio/pipan/tinian/pipan_tinian_05/audio/Tinian_A_05_141017_104730.df20.x.flac succeeded\n",
      "Download of pifsc/audio/pipan/tinian/pipan_tinian_05/audio/Tinian_A_05_141018_180445.df20.x.flac succeeded\n",
      "Download of pifsc/audio/pipan/tinian/pipan_tinian_05/audio/Tinian_A_05_141020_012400.df20.x.flac succeeded\n",
      "Download of pifsc/audio/pipan/tinian/pipan_tinian_05/audio/Tinian_A_05_141020_142914.df20.x.flac succeeded\n",
      "Download of pifsc/audio/pipan/tinian/pipan_tinian_05/audio/Tinian_A_05_141029_173400.df20.x.flac succeeded\n",
      "Download of pifsc/audio/pipan/tinian/pipan_tinian_06/audio/Tinian_A_06_150526_005045.df20.x.flac succeeded\n",
      "Download of pifsc/audio/pipan/tinian/pipan_tinian_06/audio/Tinian_A_06_150612_124815.df20.x.flac succeeded\n",
      "Download of pifsc/audio/pipan/tinian/pipan_tinian_06/audio/Tinian_A_06_150619_011630.df20.x.flac succeeded\n",
      "Download of pifsc/audio/pipan/tinian/pipan_tinian_06/audio/Tinian_A_06_150625_134445.df20.x.flac succeeded\n",
      "Download of pifsc/audio/pipan/tinian/pipan_tinian_06/audio/Tinian_A_06_150822_064730.df20.x.flac succeeded\n",
      "Download of pifsc/audio/pipan/tinian/pipan_tinian_06/audio/Tinian_A_06_150901_170930.df20.x.flac succeeded\n",
      "Download of pifsc/audio/pipan/tinian/pipan_tinian_06/audio/Tinian_A_06_150919_050700.df20.x.flac succeeded\n",
      "Download of pifsc/audio/pipan/tinian/pipan_tinian_06/audio/Tinian_A_06_151003_132745.df20.x.flac succeeded\n",
      "Download of pifsc/audio/pipan/tinian/pipan_tinian_06/audio/Tinian_A_06_151008_183845.df20.x.flac succeeded\n",
      "Download of pifsc/audio/pipan/tinian/pipan_tinian_06/audio/Tinian_A_06_151011_091515.df20.x.flac succeeded\n",
      "Download of pifsc/audio/pipan/tinian/pipan_tinian_06/audio/Tinian_A_06_151023_155945.df20.x.flac succeeded\n",
      "Download of pifsc/audio/pipan/tinian/pipan_tinian_06/audio/Tinian_A_06_151024_231900.df20.x.flac succeeded\n",
      "Download of pifsc/audio/pipan/tinian/pipan_tinian_06/audio/Tinian_A_06_151026_063615.df20.x.flac succeeded\n",
      "Download of pifsc/audio/pipan/tinian/pipan_tinian_06/audio/Tinian_A_06_160101_024145.df20.x.flac succeeded\n",
      "Download of pifsc/audio/pipan/tinian/pipan_tinian_06/audio/Tinian_A_06_160118_013400.df20.x.flac succeeded\n",
      "Download of pifsc/audio/pipan/tinian/pipan_tinian_06/audio/Tinian_A_06_160119_085115.df20.x.flac succeeded\n",
      "Download of pifsc/audio/pipan/tinian/pipan_tinian_06/audio/Tinian_A_06_160205_204645.df20.x.flac succeeded\n",
      "Download of pifsc/audio/pipan/tinian/pipan_tinian_06/audio/Tinian_A_06_160208_112315.df20.x.flac succeeded\n",
      "Download of pifsc/audio/pipan/tinian/pipan_tinian_06/audio/Tinian_A_06_160211_015745.df20.x.flac succeeded\n",
      "Download of pifsc/audio/pipan/tinian/pipan_tinian_06/audio/Tinian_A_06_160215_125645.df20.x.flac succeeded\n",
      "Download of pifsc/audio/pipan/wake/pipan_wake_01/audio/Wake_S_01_100129_235200.df20.x.flac succeeded\n",
      "Download of pifsc/audio/pipan/wake/pipan_wake_01/audio/Wake_S_01_100217_065345.df20.x.flac succeeded\n",
      "Download of pifsc/audio/pipan/wake/pipan_wake_01/audio/Wake_S_01_100222_050114.df20.x.flac succeeded\n",
      "Download of pifsc/audio/pipan/wake/pipan_wake_01/audio/Wake_S_01_100309_152000.df20.x.flac succeeded\n",
      "Download of pifsc/audio/pipan/wake/pipan_wake_01/audio/Wake_S_01_100311_120114.df20.x.flac succeeded\n",
      "Download of pifsc/audio/pipan/wake/pipan_wake_01/audio/Wake_S_01_100325_120230.df20.x.flac succeeded\n",
      "Download of pifsc/audio/pipan/wake/pipan_wake_01/audio/Wake_S_01_100327_084345.df20.x.flac succeeded\n",
      "Download of pifsc/audio/pipan/wake/pipan_wake_01/audio/Wake_S_01_100329_053000.df20.x.flac succeeded\n",
      "Download of pifsc/audio/pipan/wake/pipan_wake_01/audio/Wake_S_01_100401_065115.df20.x.flac succeeded\n",
      "Download of pifsc/audio/pipan/wake/pipan_wake_01/audio/Wake_S_01_100411_190229.df20.x.flac succeeded\n",
      "Download of pifsc/audio/pipan/wake/pipan_wake_01/audio/Wake_S_01_100414_202345.df20.x.flac succeeded\n",
      "Download of pifsc/audio/pipan/wake/pipan_wake_01/audio/Wake_S_01_100423_115345.df20.x.flac succeeded\n",
      "Download of pifsc/audio/pipan/wake/pipan_wake_01/audio/Wake_S_01_100425_084000.df20.x.flac succeeded\n",
      "Download of pifsc/audio/pipan/wake/pipan_wake_03/audio/Wake_S_03_110325_022345.d20.x.flac succeeded\n",
      "Download of pifsc/audio/pipan/wake/pipan_wake_03/audio/Wake_S_03_110325_084115.d20.x.flac succeeded\n",
      "Download of pifsc/audio/pipan/wake/pipan_wake_03/audio/Wake_S_03_110325_195345.d20.x.flac succeeded\n",
      "Download of pifsc/audio/pipan/wake/pipan_wake_03/audio/Wake_S_03_110326_021115.d20.x.flac succeeded\n",
      "Download of pifsc/audio/pipan/wake/pipan_wake_03/audio/Wake_S_03_110326_082345.d20.x.flac succeeded\n",
      "Download of pifsc/audio/pipan/wake/pipan_wake_03/audio/Wake_S_03_110327_081115.d20.x.flac succeeded\n",
      "Download of pifsc/audio/pipan/wake/pipan_wake_03/audio/Wake_S_03_110327_115345.d20.x.flac succeeded\n",
      "Download of pifsc/audio/pipan/wake/pipan_wake_03/audio/Wake_S_03_110327_181115.d20.x.flac succeeded\n",
      "Download of pifsc/audio/pipan/wake/pipan_wake_03/audio/Wake_S_03_110328_091115.d20.x.flac succeeded\n",
      "Download of pifsc/audio/pipan/wake/pipan_wake_03/audio/Wake_S_03_110328_202345.d20.x.flac succeeded\n",
      "Download of pifsc/audio/pipan/wake/pipan_wake_03/audio/Wake_S_03_110329_012345.d20.x.flac succeeded\n",
      "Download of pifsc/audio/pipan/wake/pipan_wake_03/audio/Wake_S_03_110329_024115.d20.x.flac succeeded\n",
      "Download of pifsc/audio/pipan/wake/pipan_wake_03/audio/Wake_S_03_110329_074115.d20.x.flac succeeded\n",
      "Download of pifsc/audio/pipan/wake/pipan_wake_03/audio/Wake_S_03_110329_124115.d20.x.flac succeeded\n",
      "Download of pifsc/audio/pipan/wake/pipan_wake_03/audio/Wake_S_03_110329_201115.d20.x.flac succeeded\n",
      "Download of pifsc/audio/pipan/wake/pipan_wake_03/audio/Wake_S_03_110330_061115.d20.x.flac succeeded\n",
      "Download of pifsc/audio/pipan/wake/pipan_wake_03/audio/Wake_S_03_110330_072345.d20.x.flac succeeded\n",
      "Download of pifsc/audio/pipan/wake/pipan_wake_03/audio/Wake_S_03_110330_095345.d20.x.flac succeeded\n",
      "Download of pifsc/audio/pipan/wake/pipan_wake_03/audio/Wake_S_03_110330_161115.d20.x.flac succeeded\n",
      "Download of pifsc/audio/pipan/wake/pipan_wake_03/audio/Wake_S_03_110330_234115.d20.x.flac succeeded\n",
      "Download of pifsc/audio/pipan/wake/pipan_wake_03/audio/Wake_S_03_110331_082345.d20.x.flac succeeded\n",
      "Download of pifsc/audio/pipan/wake/pipan_wake_03/audio/Wake_S_03_110409_095345.d20.x.flac succeeded\n",
      "Download of pifsc/audio/pipan/wake/pipan_wake_03/audio/Wake_S_03_110415_094115.d20.x.flac succeeded\n",
      "Download of pifsc/audio/pipan/wake/pipan_wake_03/audio/Wake_S_03_110416_142345.d20.x.flac succeeded\n",
      "Download of pifsc/audio/pipan/wake/pipan_wake_03/audio/Wake_S_03_110417_152345.d20.x.flac succeeded\n",
      "Download of pifsc/audio/pipan/wake/pipan_wake_03/audio/Wake_S_03_110418_085345.d20.x.flac succeeded\n",
      "Download of pifsc/audio/pipan/wake/pipan_wake_03/audio/Wake_S_03_110421_065345.d20.x.flac succeeded\n",
      "Download of pifsc/audio/pipan/wake/pipan_wake_03/audio/Wake_S_03_110421_092345.d20.x.flac succeeded\n",
      "Download of pifsc/audio/pipan/wake/pipan_wake_03/audio/Wake_S_03_110422_091115.d20.x.flac succeeded\n",
      "Download of pifsc/audio/pipan/wake/pipan_wake_03/audio/Wake_S_03_110504_030345.d20.x.flac succeeded\n",
      "Download of pifsc/audio/pipan/wake/pipan_wake_03/audio/Wake_S_03_110512_095115.d20.x.flac succeeded\n",
      "Download of pifsc/audio/pipan/wake/pipan_wake_03/audio/Wake_S_03_110517_095115.d20.x.flac succeeded\n",
      "Download of pifsc/audio/pipan/wake/pipan_wake_03/audio/Wake_S_03_110525_102115.d20.x.flac succeeded\n",
      "Download of pifsc/audio/pipan/wake/pipan_wake_04/audio/Wake_S_04_120205_191845.df20.x.flac succeeded\n",
      "Download of pifsc/audio/pipan/wake/pipan_wake_04/audio/Wake_S_04_120301_133345.df20.x.flac succeeded\n",
      "Download of pifsc/audio/pipan/wake/pipan_wake_04/audio/Wake_S_04_120312_180115.df20.x.flac succeeded\n",
      "Download of pifsc/audio/pipan/wake/pipan_wake_04/audio/Wake_S_04_120318_080230.df20.x.flac succeeded\n",
      "Download of pifsc/audio/pipan/wake/pipan_wake_04/audio/Wake_S_04_120329_123000.df20.x.flac succeeded\n",
      "Download of pifsc/audio/pipan/wake/pipan_wake_04/audio/Wake_S_04_120405_160229.df20.x.flac succeeded\n",
      "Download of pifsc/audio/pipan/wake/pipan_wake_04/audio/Wake_S_04_120416_203000.df20.x.flac succeeded\n",
      "Download of pifsc/audio/pipan/wake/pipan_wake_04/audio/Wake_S_04_120428_003230.df20.x.flac succeeded\n",
      "Download of pifsc/audio/pipan/wake/pipan_wake_04/audio/Wake_S_04_120509_050000.df20.x.flac succeeded\n",
      "Download of pifsc/audio/pipan/wake/pipan_wake_04/audio/Wake_S_04_120514_190115.df20.x.flac succeeded\n",
      "Download of pifsc/audio/pipan/wake/pipan_wake_04/audio/Wake_S_04_120521_230000.df20.x.flac succeeded\n",
      "Download of pifsc/audio/pipan/wake/pipan_wake_04/audio/Wake_S_04_120527_130115.df20.x.flac succeeded\n",
      "Download of pifsc/audio/pipan/wake/pipan_wake_04/audio/Wake_S_04_120602_030230.df20.x.flac succeeded\n",
      "Download of pifsc/audio/pipan/wake/pipan_wake_04/audio/Wake_S_04_120607_170345.df20.x.flac succeeded\n",
      "Download of pifsc/audio/pipan/wake/pipan_wake_04/audio/Wake_S_04_120613_073000.df20.x.flac succeeded\n",
      "Download of pifsc/audio/pipan/wake/pipan_wake_04/audio/Wake_S_04_120618_213115.df20.x.flac succeeded\n",
      "Download of pifsc/audio/pipan/wake/pipan_wake_04/audio/Wake_S_04_120624_113230.df20.x.flac succeeded\n",
      "Download of pifsc/audio/pipan/wake/pipan_wake_04/audio/Wake_S_04_120724_000115.df20.x.flac succeeded\n",
      "Download of pifsc/audio/pipan/wake/pipan_wake_04/audio/Wake_S_04_120729_140230.df20.x.flac succeeded\n",
      "Download of pifsc/audio/pipan/wake/pipan_wake_04/audio/Wake_S_04_120805_180115.df20.x.flac succeeded\n",
      "Download of pifsc/audio/pipan/wake/pipan_wake_04/audio/Wake_S_04_120811_080230.df20.x.flac succeeded\n",
      "Download of pifsc/audio/pipan/wake/pipan_wake_04/audio/Wake_S_04_120828_023115.df20.x.flac succeeded\n",
      "Download of pifsc/audio/pipan/wake/pipan_wake_04/audio/Wake_S_04_120902_163230.df20.x.flac succeeded\n",
      "Download of pifsc/audio/pipan/wake/pipan_wake_04/audio/Wake_S_04_120908_063345.df20.x.flac succeeded\n",
      "Download of pifsc/audio/pipan/wake/pipan_wake_04/audio/Wake_S_04_120913_210000.df20.x.flac succeeded\n",
      "Download of pifsc/audio/pipan/wake/pipan_wake_04/audio/Wake_S_04_120915_103230.df20.x.flac succeeded\n",
      "Download of pifsc/audio/pipan/wake/pipan_wake_04/audio/Wake_S_04_120921_003345.df20.x.flac succeeded\n",
      "Download of pifsc/audio/pipan/wake/pipan_wake_04/audio/Wake_S_04_120926_150000.df20.x.flac succeeded\n",
      "Download of pifsc/audio/pipan/wake/pipan_wake_04/audio/Wake_S_04_121002_050115.df20.x.flac succeeded\n",
      "Download of pifsc/audio/pipan/wake/pipan_wake_04/audio/Wake_S_04_121013_090345.df20.x.flac succeeded\n",
      "Download of pifsc/audio/pipan/wake/pipan_wake_04/audio/Wake_S_04_121018_233000.df20.x.flac succeeded\n",
      "Download of pifsc/audio/pipan/wake/pipan_wake_04/audio/Wake_S_04_121026_030344.df20.x.flac succeeded\n",
      "Download of pifsc/audio/pipan/wake/pipan_wake_04/audio/Wake_S_04_121106_073115.df20.x.flac succeeded\n",
      "Download of pifsc/audio/pipan/wake/pipan_wake_04/audio/Wake_S_04_121111_213230.df20.x.flac succeeded\n",
      "Download of pifsc/audio/pipan/wake/pipan_wake_04/audio/Wake_S_04_121123_020000.df20.x.flac succeeded\n",
      "Download of pifsc/audio/pipan/wake/pipan_wake_04/audio/Wake_S_04_121204_060230.df20.x.flac succeeded\n",
      "Download of pifsc/audio/pipan/wake/pipan_wake_04/audio/Wake_S_04_121205_193344.df20.x.flac succeeded\n",
      "Download of pifsc/audio/pipan/wake/pipan_wake_04/audio/Wake_S_04_121211_100000.df20.x.flac succeeded\n",
      "Download of pifsc/audio/pipan/wake/pipan_wake_05/audio/Wake_S_05_140706_180115.df20.x.flac succeeded\n",
      "Download of pifsc/audio/pipan/wake/pipan_wake_05/audio/Wake_S_05_140920_130230.df20.x.flac succeeded\n",
      "Download of pifsc/audio/pipan/wake/pipan_wake_05/audio/Wake_S_05_141020_013000.df20.x.flac succeeded\n",
      "Download of pifsc/audio/pipan/wake/pipan_wake_05/audio/Wake_S_05_150206_073115.df20.x.flac succeeded\n",
      "Download of pifsc/audio/pipan/wake/pipan_wake_05/audio/Wake_S_05_150211_213230.df20.x.flac succeeded\n",
      "Download of pifsc/audio/pipan/wake/pipan_wake_05/audio/Wake_S_05_150313_100115.df20.x.flac succeeded\n",
      "Download of pifsc/audio/pipan/wake/pipan_wake_05/audio/Wake_S_05_150428_163345.df20.x.flac succeeded\n",
      "Download of pifsc/audio/pipan/wake/pipan_wake_05/audio/Wake_S_05_150504_070000.df20.x.flac succeeded\n",
      "Download of pifsc/audio/pipan/wake/pipan_wake_06/audio/Wake_S_06_150416_022630.df20.x.flac succeeded\n",
      "Download of pifsc/audio/pipan/wake/pipan_wake_06/audio/Wake_S_06_150620_043230.df20.x.flac succeeded\n",
      "Download of pifsc/audio/pipan/wake/pipan_wake_06/audio/Wake_S_06_150718_030345.df20.x.flac succeeded\n",
      "Download of pifsc/audio/pipan/wake/pipan_wake_06/audio/Wake_S_06_150723_173000.df20.x.flac succeeded\n",
      "Download of pifsc/audio/pipan/wake/pipan_wake_06/audio/Wake_S_06_150811_013115.df20.x.flac succeeded\n",
      "Download of pifsc/audio/pipan/wake/pipan_wake_06/audio/Wake_S_06_150827_200000.df20.x.flac succeeded\n",
      "Download of pifsc/audio/pipan/wake/pipan_wake_06/audio/Wake_S_06_150903_233345.df20.x.flac succeeded\n",
      "Download of pifsc/audio/pipan/wake/pipan_wake_06/audio/Wake_S_06_150909_140000.df20.x.flac succeeded\n",
      "Download of pifsc/audio/pipan/wake/pipan_wake_06/audio/Wake_S_06_151031_103345.df20.x.flac succeeded\n",
      "Download of pifsc/audio/pipan/wake/pipan_wake_06/audio/Wake_S_06_151122_190345.df20.x.flac succeeded\n",
      "Download of pifsc/audio/pipan/wake/pipan_wake_06/audio/Wake_S_06_151124_090115.df20.x.flac succeeded\n",
      "Download of pifsc/audio/pipan/wake/pipan_wake_06/audio/Wake_S_06_151129_230230.df20.x.flac succeeded\n",
      "Download of pifsc/audio/pipan/wake/pipan_wake_06/audio/Wake_S_06_151211_033000.df20.x.flac succeeded\n",
      "Download of pifsc/audio/pipan/wake/pipan_wake_06/audio/Wake_S_06_160104_013230.df20.x.flac succeeded\n",
      "Download of pifsc/audio/pipan/wake/pipan_wake_06/audio/Wake_S_06_160115_060000.df20.x.flac succeeded\n",
      "Download of pifsc/audio/pipan/wake/pipan_wake_06/audio/Wake_S_06_160312_233115.df20.x.flac succeeded\n",
      "Download of pifsc/audio/pipan/wake/pipan_wake_06/audio/Wake_S_06_160318_133230.df20.x.flac succeeded\n",
      "Download of pifsc/audio/pipan/wake/pipan_wake_06/audio/Wake_S_06_160325_173115.df20.x.flac succeeded\n",
      "Download of pifsc/audio/pipan/wake/pipan_wake_06/audio/Wake_S_06_160331_073230.df20.x.flac succeeded\n",
      "Download of pifsc/audio/pipan/wake/pipan_wake_06/audio/Wake_S_06_160405_213345.df20.x.flac succeeded\n",
      "Download of pifsc/audio/pipan/wake/pipan_wake_06/audio/Wake_S_06_160411_120000.df20.x.flac succeeded\n",
      "Download of pifsc/audio/pipan/wake/pipan_wake_06/audio/Wake_S_06_160417_020115.df20.x.flac succeeded\n",
      "Download of pifsc/audio/pipan/wake/pipan_wake_06/audio/Wake_S_06_160422_160230.df20.x.flac succeeded\n",
      "Download of pifsc/audio/pipan/wake/pipan_wake_06/audio/Wake_S_06_160428_060345.df20.x.flac succeeded\n",
      "Download of pifsc/audio/pipan/wake/pipan_wake_06/audio/Wake_S_06_160503_203000.df20.x.flac succeeded\n",
      "Download of pifsc/audio/pipan/wake/pipan_wake_06/audio/Wake_S_06_160505_053115.df20.x.flac succeeded\n",
      "Download of pifsc/audio/pipan/wake/pipan_wake_06/audio/Wake_S_06_160510_193230.df20.x.flac succeeded\n",
      "Download of pifsc/audio/pipan/crosssm/pipan_crosssm_01/audio/Cross_A_01_050514_205230.d20.x.flac succeeded\n",
      "Download of pifsc/audio/pipan/crosssm/pipan_crosssm_01/audio/Cross_A_01_050602_192615.d20.x.flac succeeded\n",
      "Download of pifsc/audio/pipan/crosssm/pipan_crosssm_02/audio/Cross_A_02_060103_045855.d20.x.flac succeeded\n",
      "Download of pifsc/audio/pipan/crosssm/pipan_crosssm_02/audio/Cross_A_02_060212_164158.d20.x.flac succeeded\n",
      "Download of pifsc/audio/pipan/crosssm/pipan_crosssm_02/audio/Cross_A_02_060304_022928.d20.x.flac succeeded\n",
      "Download of pifsc/audio/pipan/crosssm/pipan_crosssm_02/audio/Cross_A_02_060310_173928.d20.x.flac succeeded\n",
      "Download of pifsc/audio/pipan/crosssm/pipan_crosssm_02/audio/Cross_A_02_060327_212313.d20.x.flac succeeded\n",
      "Download of pifsc/audio/pipan/crosssm/pipan_crosssm_02/audio/Cross_A_02_060414_065158.d20.x.flac succeeded\n",
      "Download of pifsc/audio/pipan/crosssm/pipan_crosssm_02/audio/Cross_A_02_060426_023813.d20.x.flac succeeded\n",
      "Download of pifsc/audio/pipan/crosssm/pipan_crosssm_02/audio/Cross_A_02_060504_162543.d20.x.flac succeeded\n",
      "Download of pifsc/audio/pipan/equator/pipan_equator_01/audio/Equator_A_01_120307_204230.df20.x.flac succeeded\n",
      "Download of pifsc/audio/pipan/equator/pipan_equator_01/audio/Equator_A_01_120507_064730.df20.x.flac succeeded\n",
      "Download of pifsc/audio/pipan/equator/pipan_equator_01/audio/Equator_A_01_120613_055345.df20.x.flac succeeded\n",
      "Download of pifsc/audio/pipan/hawaii/pipan_hawaii_15/audio/Hawaii_K_15_130710_050230.df20.x.flac succeeded\n",
      "Download of pifsc/audio/pipan/kauai/pipan_kauai_01/audio/Kauai_A_01_091104_024345.df20.x.flac succeeded\n",
      "Download of pifsc/audio/pipan/kauai/pipan_kauai_01/audio/Kauai_A_01_091201_060115.df20.x.flac succeeded\n",
      "Download of pifsc/audio/pipan/kauai/pipan_kauai_02/audio/Kauai_A_02_100716_203115.df20.x.flac succeeded\n",
      "Download of pifsc/audio/pipan/kauai/pipan_kauai_02/audio/Kauai_A_02_100725_115615.df20.x.flac succeeded\n",
      "Download of pifsc/audio/pipan/kauai/pipan_kauai_02/audio/Kauai_A_02_100730_095500.df20.x.flac succeeded\n",
      "Download of pifsc/audio/pipan/kauai/pipan_kauai_02/audio/Kauai_A_02_100807_025845.df20.x.flac succeeded\n",
      "Download of pifsc/audio/pipan/laddsm_d/pipan_laddsm_d_03/audio/Ladd_D_03_090701_015345.d20.x.flac succeeded\n",
      "Download of pifsc/audio/pipan/laddsm_d/pipan_laddsm_d_03/audio/Ladd_D_03_090706_110000.d20.x.flac succeeded\n",
      "Download of pifsc/audio/pipan/laddsm_s/pipan_laddsm_s_01/audio/Ladd_S_01_070405_090345.d20.x.flac succeeded\n",
      "Download of pifsc/audio/pipan/laddsm_s/pipan_laddsm_s_01/audio/Ladd_S_01_070405_221615.d20.x.flac succeeded\n",
      "Download of pifsc/audio/pipan/laddsm_s/pipan_laddsm_s_01/audio/Ladd_S_01_070406_111845.d20.x.flac succeeded\n",
      "Download of pifsc/audio/pipan/laddsm_s/pipan_laddsm_s_01/audio/Ladd_S_01_070409_214845.d20.x.flac succeeded\n",
      "Download of pifsc/audio/pipan/laddsm_s/pipan_laddsm_s_01/audio/Ladd_S_01_070415_131730.d20.x.flac succeeded\n",
      "Download of pifsc/audio/pipan/laddsm_s/pipan_laddsm_s_01/audio/Ladd_S_01_070421_023000.d20.x.flac succeeded\n",
      "Download of pifsc/audio/pipan/laddsm_s/pipan_laddsm_s_01/audio/Ladd_S_01_070430_211615.d20.x.flac succeeded\n",
      "Download of pifsc/audio/pipan/laddsm_s/pipan_laddsm_s_01/audio/Ladd_S_01_070510_160230.d20.x.flac succeeded\n",
      "Download of pifsc/audio/pipan/laddsm_s/pipan_laddsm_s_01/audio/Ladd_S_01_070526_171730.d20.x.flac succeeded\n",
      "Download of pifsc/audio/pipan/laddsm_s/pipan_laddsm_s_01/audio/Ladd_S_01_070621_164500.d20.x.flac succeeded\n",
      "Download of pifsc/audio/pipan/laddsm_s/pipan_laddsm_s_01/audio/Ladd_S_01_070629_070115.d20.x.flac succeeded\n",
      "Download of pifsc/audio/pipan/laddsm_s/pipan_laddsm_s_01/audio/Ladd_S_01_070706_154500.d20.x.flac succeeded\n",
      "Download of pifsc/audio/pipan/phr_a/pipan_phr_a_02/audio/PHR_A_02_100609_142730.d20.x.flac succeeded\n",
      "Download of pifsc/audio/pipan/phr_a/pipan_phr_a_02/audio/PHR_A_02_100629_234230.df20.x.flac succeeded\n",
      "Download of pifsc/audio/pipan/phr_a/pipan_phr_a_02/audio/PHR_A_02_100710_115345.df20.x.flac succeeded\n",
      "Download of pifsc/audio/pipan/phr_a/pipan_phr_a_02/audio/PHR_A_02_100801_231230.df20.x.flac succeeded\n",
      "Download of pifsc/audio/pipan/phr_a/pipan_phr_a_02/audio/PHR_A_02_100812_112345.df20.x.flac succeeded\n",
      "Download of pifsc/audio/pipan/phr_a/pipan_phr_a_04/audio/PHR_A_04_110415_172230.df20.x.flac succeeded\n",
      "Download of pifsc/audio/pipan/phr_a/pipan_phr_a_04/audio/PHR_A_04_110416_154345.df20.x.flac succeeded\n",
      "Download of pifsc/audio/pipan/phr_a/pipan_phr_a_04/audio/PHR_A_04_110417_140500.df20.x.flac succeeded\n",
      "Download of pifsc/audio/pipan/phr_a/pipan_phr_a_04/audio/PHR_A_04_110419_165500.df20.x.flac succeeded\n",
      "Download of pifsc/audio/pipan/phr_a/pipan_phr_a_04/audio/PHR_A_04_110420_151615.df20.x.flac succeeded\n",
      "Download of pifsc/audio/pipan/phr_a/pipan_phr_a_04/audio/PHR_A_04_110422_115845.df20.x.flac succeeded\n",
      "Download of pifsc/audio/pipan/phr_a/pipan_phr_a_04/audio/PHR_A_04_110502_080230.df20.x.flac succeeded\n",
      "Download of pifsc/audio/pipan/phr_a/pipan_phr_a_04/audio/PHR_A_04_110503_062345.df20.x.flac succeeded\n",
      "Download of pifsc/audio/pipan/phr_a/pipan_phr_a_04/audio/PHR_A_04_110504_044500.df20.x.flac succeeded\n",
      "Download of pifsc/audio/pipan/phr_a/pipan_phr_a_04/audio/PHR_A_04_110506_012730.df20.x.flac succeeded\n",
      "Download of pifsc/audio/pipan/phr_a/pipan_phr_a_04/audio/PHR_A_04_110507_221000.df20.x.flac succeeded\n",
      "Download of pifsc/audio/pipan/phr_a/pipan_phr_a_04/audio/PHR_A_04_110516_195500.df20.x.flac succeeded\n",
      "Download of pifsc/audio/pipan/phr_a/pipan_phr_a_04/audio/PHR_A_04_110520_132000.df20.x.flac succeeded\n",
      "Download of pifsc/audio/pipan/phr_a/pipan_phr_a_04/audio/PHR_A_04_110603_025115.df20.x.flac succeeded\n",
      "Download of pifsc/audio/pipan/phr_a/pipan_phr_a_04/audio/PHR_A_04_110613_204730.df20.x.flac succeeded\n",
      "Download of pifsc/audio/pipan/phr_a/pipan_phr_a_04/audio/PHR_A_04_110615_173000.df20.x.flac succeeded\n",
      "Download of pifsc/audio/pipan/phr_a/pipan_phr_a_04/audio/PHR_A_04_110616_155115.df20.x.flac succeeded\n",
      "Download of pifsc/audio/pipan/phr_a/pipan_phr_a_04/audio/PHR_A_04_110618_123345.df20.x.flac succeeded\n",
      "Download of pifsc/audio/pipan/phr_a/pipan_phr_a_04/audio/PHR_A_04_110706_013000.df20.x.flac succeeded\n",
      "Download of pifsc/audio/pipan/phr_a/pipan_phr_a_05/audio/PHR_A_05_110722_003400.df20.x.flac succeeded\n",
      "Download of pifsc/audio/pipan/phr_a/pipan_phr_a_05/audio/PHR_A_05_110830_073830.df20.x.flac succeeded\n",
      "Download of pifsc/audio/pipan/phr_a/pipan_phr_a_05/audio/PHR_A_05_110831_192345.df20.x.flac succeeded\n",
      "Download of pifsc/audio/pipan/phr_a/pipan_phr_a_05/audio/PHR_A_05_110927_093715.df20.x.flac succeeded\n",
      "Download of pifsc/audio/pipan/phr_a/pipan_phr_a_05/audio/PHR_A_05_110928_212229.df20.x.flac succeeded\n",
      "Download of pifsc/audio/pipan/phr_a/pipan_phr_a_05/audio/PHR_A_05_111015_165029.df20.x.flac succeeded\n",
      "Download of pifsc/audio/pipan/phr_a/pipan_phr_a_05/audio/PHR_A_05_111017_043545.df20.x.flac succeeded\n",
      "Download of pifsc/audio/pipan/phr_a/pipan_phr_a_05/audio/PHR_A_05_111025_013030.df20.x.flac succeeded\n",
      "Download of pifsc/audio/pipan/phr_a/pipan_phr_a_05/audio/PHR_A_05_111026_131545.df20.x.flac succeeded\n",
      "Download of pifsc/audio/pipan/phr_a/pipan_phr_a_05/audio/PHR_A_05_111028_010359.df20.x.flac succeeded\n",
      "Download of pifsc/audio/pipan/phr_a/pipan_phr_a_05/audio/PHR_A_05_111111_191959.df20.x.flac succeeded\n",
      "Download of pifsc/audio/pipan/phr_a/pipan_phr_a_05/audio/PHR_A_05_111113_070515.df20.x.flac succeeded\n",
      "Download of pifsc/audio/pipan/phr_a/pipan_phr_a_05/audio/PHR_A_05_111116_064345.df20.x.flac succeeded\n",
      "Download of pifsc/audio/pipan/phr_a/pipan_phr_a_05/audio/PHR_A_05_111124_033714.df20.x.flac succeeded\n",
      "Download of pifsc/audio/pipan/phr_a/pipan_phr_a_05/audio/PHR_A_05_111125_152230.df20.x.flac succeeded\n",
      "Download of pifsc/audio/pipan/phr_a/pipan_phr_a_05/audio/PHR_A_05_111210_230630.df20.x.flac succeeded\n",
      "Download of pifsc/audio/pipan/phr_a/pipan_phr_a_05/audio/PHR_A_05_111212_205559.df20.x.flac succeeded\n",
      "Download of pifsc/audio/pipan/phr_a/pipan_phr_a_05/audio/PHR_A_05_111226_165030.df20.x.flac succeeded\n",
      "Download of pifsc/audio/pipan/phr_a/pipan_phr_a_06/audio/PHR_A_06_121022_043230.df20.x.flac succeeded\n",
      "Download of pifsc/audio/pipan/phr_a/pipan_phr_a_06/audio/PHR_A_06_121026_201345.df20.x.flac succeeded\n",
      "Download of pifsc/audio/pipan/phr_a/pipan_phr_a_06/audio/PHR_A_06_121031_121500.df20.x.flac succeeded\n",
      "Download of pifsc/audio/pipan/phr_a/pipan_phr_a_06/audio/PHR_A_06_130311_231845.df20.x.flac succeeded\n",
      "Download of pifsc/audio/pipan/phr_a/pipan_phr_a_06/audio/PHR_A_06_130410_204845.df20.x.flac succeeded\n",
      "Download of pifsc/audio/pipan/phr_a/pipan_phr_a_06/audio/PHR_A_06_130424_201230.df20.x.flac succeeded\n",
      "Download of pifsc/audio/pipan/palmyra_ns/pipan_palmyra_ns_07/audio/Palmyra_NS_07_090926_230000.d20.x.flac succeeded\n",
      "Download of pifsc/audio/pipan/palmyra_ns/pipan_palmyra_ns_07/audio/Palmyra_NS_07_090927_012230.d20.x.flac succeeded\n",
      "Download of pifsc/audio/pipan/palmyra_ns/pipan_palmyra_ns_09/audio/Palmyra_NS_09_100615_172346.df20.x.flac succeeded\n",
      "Download of pifsc/audio/pipan/palmyra_ns/pipan_palmyra_ns_09/audio/Palmyra_NS_09_100617_140616.df20.x.flac succeeded\n",
      "Download of pifsc/audio/pipan/palmyra_ns/pipan_palmyra_ns_09/audio/Palmyra_NS_09_100618_171616.df20.x.flac succeeded\n",
      "Download of pifsc/audio/pipan/palmyra_ns/pipan_palmyra_ns_09/audio/Palmyra_NS_09_100706_212846.df20.x.flac succeeded\n",
      "Download of pifsc/audio/pipan/palmyra_ns/pipan_palmyra_ns_09/audio/Palmyra_NS_09_100709_152616.df20.x.flac succeeded\n",
      "Download of pifsc/audio/pipan/palmyra_ns/pipan_palmyra_ns_09/audio/Palmyra_NS_09_100711_120846.df20.x.flac succeeded\n",
      "Download of pifsc/audio/pipan/palmyra_ns/pipan_palmyra_ns_09/audio/Palmyra_NS_09_100720_030616.df20.x.flac succeeded\n",
      "Download of pifsc/audio/pipan/palmyra_ns/pipan_palmyra_ns_09/audio/Palmyra_NS_09_100814_075001.df20.x.flac succeeded\n",
      "Download of pifsc/audio/pipan/palmyra_ns/pipan_palmyra_ns_09/audio/Palmyra_NS_09_100815_061116.df20.x.flac succeeded\n",
      "Download of pifsc/audio/pipan/palmyra_ns/pipan_palmyra_ns_09/audio/Palmyra_NS_09_100816_043231.df20.x.flac succeeded\n",
      "Download of pifsc/audio/pipan/palmyra_ns/pipan_palmyra_ns_09/audio/Palmyra_NS_09_100824_194731.df20.x.flac succeeded\n",
      "Download of pifsc/audio/pipan/palmyra_wt/pipan_palmyra_wt_02/audio/Palmyra_WT_02_070106_163431.d20.x.flac succeeded\n",
      "Download of pifsc/audio/pipan/palmyra_wt/pipan_palmyra_wt_03/audio/Palmyra_WT_03_070905_174345.d20.x.flac succeeded\n",
      "Download of pifsc/audio/pipan/palmyra_wt/pipan_palmyra_wt_04/audio/Palmyra_WT_04_071003_025521.df20.x.flac succeeded\n",
      "Download of pifsc/audio/pipan/palmyra_wt/pipan_palmyra_wt_04/audio/Palmyra_WT_04_071005_121521.df20.x.flac succeeded\n",
      "Download of pifsc/audio/pipan/palmyra_wt/pipan_palmyra_wt_04/audio/Palmyra_WT_04_071022_191521.df20.x.flac succeeded\n",
      "Download of pifsc/audio/pipan/palmyra_wt/pipan_palmyra_wt_04/audio/Palmyra_WT_04_071105_095521.df20.x.flac succeeded\n",
      "Download of pifsc/audio/pipan/palmyra_wt/pipan_palmyra_wt_04/audio/Palmyra_WT_04_071225_154521.df20.x.flac succeeded\n",
      "Download of pifsc/audio/pipan/palmyra_wt/pipan_palmyra_wt_04/audio/Palmyra_WT_04_071231_183021.df20.x.flac succeeded\n",
      "Download of pifsc/audio/pipan/palmyra_wt/pipan_palmyra_wt_05/audio/Palmyra_WT_05_080728_000345.d20.x.flac succeeded\n",
      "Download of pifsc/audio/pipan/palmyra_wt/pipan_palmyra_wt_05/audio/Palmyra_WT_05_080811_014345.d20.x.flac succeeded\n",
      "Download of pifsc/audio/pipan/saipan/pipan_saipan_03/audio/Saipan_A_03_120803_123000.df20.x.flac succeeded\n",
      "Download of pifsc/audio/pipan/saipan/pipan_saipan_03/audio/Saipan_A_03_120809_023715.df20.x.flac succeeded\n",
      "Download of pifsc/audio/pipan/saipan/pipan_saipan_03/audio/Saipan_A_03_120819_040230.df20.x.flac succeeded\n",
      "Download of pifsc/audio/pipan/saipan/pipan_saipan_03/audio/Saipan_A_03_120822_123115.df20.x.flac succeeded\n",
      "Download of pifsc/audio/pipan/saipan/pipan_saipan_04/audio/Saipan_A_04_131227_030915.df20.x.flac succeeded\n",
      "Download of pifsc/audio/pipan/saipan/pipan_saipan_05/audio/Saipan_A_05_140713_074529.df20.x.flac succeeded\n",
      "Download of pifsc/audio/pipan/saipan/pipan_saipan_05/audio/Saipan_A_05_140722_105015.df20.x.flac succeeded\n",
      "Download of pifsc/audio/pipan/saipan/pipan_saipan_05/audio/Saipan_A_05_140819_085700.df20.x.flac succeeded\n",
      "Download of pifsc/audio/pipan/saipan/pipan_saipan_05/audio/Saipan_A_05_140918_214745.df20.x.flac succeeded\n",
      "Download of pifsc/audio/pipan/saipan/pipan_saipan_05/audio/Saipan_A_05_140927_063915.df20.x.flac succeeded\n",
      "Download of pifsc/audio/pipan/saipan/pipan_saipan_05/audio/Saipan_A_05_150221_174645.df20.x.flac succeeded\n",
      "Download of pifsc/audio/pipan/saipan/pipan_saipan_06/audio/Saipan_A_06_150919_094345.df20.x.flac succeeded\n",
      "Download of pifsc/audio/pipan/tinian/pipan_tinian_02/audio/Tinian_A_02_110509_014230.df20.x.flac succeeded\n",
      "Download of pifsc/audio/pipan/tinian/pipan_tinian_02/audio/Tinian_A_02_110520_060115.df20.x.flac succeeded\n",
      "Download of pifsc/audio/pipan/tinian/pipan_tinian_02/audio/Tinian_A_02_110903_030115.df20.x.flac succeeded\n",
      "Download of pifsc/audio/pipan/tinian/pipan_tinian_02/audio/Tinian_A_02_110915_204115.df20.x.flac succeeded\n",
      "Download of pifsc/audio/pipan/tinian/pipan_tinian_02/audio/Tinian_A_02_110927_010000.df20.x.flac succeeded\n",
      "Download of pifsc/audio/pipan/tinian/pipan_tinian_02/audio/Tinian_A_02_110930_182115.df20.x.flac succeeded\n",
      "Download of pifsc/audio/pipan/tinian/pipan_tinian_02/audio/Tinian_A_02_111011_224000.df20.x.flac succeeded\n",
      "Download of pifsc/audio/pipan/tinian/pipan_tinian_02/audio/Tinian_A_02_111015_160115.df20.x.flac succeeded\n",
      "Download of pifsc/audio/pipan/tinian/pipan_tinian_02/audio/Tinian_A_02_111110_180000.df20.x.flac succeeded\n",
      "Download of pifsc/audio/pipan/tinian/pipan_tinian_03/audio/Tinian_A_03_120628_140345.df20.x.flac succeeded\n",
      "Download of pifsc/audio/pipan/tinian/pipan_tinian_03/audio/Tinian_A_03_121124_132630.df20.x.flac succeeded\n",
      "Download of pifsc/audio/pipan/tinian/pipan_tinian_03/audio/Tinian_A_03_121127_215515.df20.x.flac succeeded\n",
      "Download of pifsc/audio/pipan/tinian/pipan_tinian_04/audio/Tinian_A_04_130810_060145.df20.x.flac succeeded\n",
      "Download of pifsc/audio/pipan/tinian/pipan_tinian_04/audio/Tinian_A_04_130827_221230.df20.x.flac succeeded\n",
      "Download of pifsc/audio/pipan/tinian/pipan_tinian_04/audio/Tinian_A_04_130828_130600.df20.x.flac succeeded\n",
      "Download of pifsc/audio/pipan/tinian/pipan_tinian_04/audio/Tinian_A_04_130829_035730.df20.x.flac succeeded\n",
      "Download of pifsc/audio/pipan/tinian/pipan_tinian_04/audio/Tinian_A_04_130830_225100.df20.x.flac succeeded\n",
      "Download of pifsc/audio/pipan/tinian/pipan_tinian_04/audio/Tinian_A_04_131013_112900.df20.x.flac succeeded\n",
      "Download of pifsc/audio/pipan/tinian/pipan_tinian_04/audio/Tinian_A_04_131022_143145.df20.x.flac succeeded\n",
      "Download of pifsc/audio/pipan/tinian/pipan_tinian_04/audio/Tinian_A_04_131205_172930.df20.x.flac succeeded\n",
      "Download of pifsc/audio/pipan/tinian/pipan_tinian_04/audio/Tinian_A_04_131209_152315.df20.x.flac succeeded\n",
      "Download of pifsc/audio/pipan/tinian/pipan_tinian_04/audio/Tinian_A_04_140124_013700.df20.x.flac succeeded\n",
      "Download of pifsc/audio/pipan/tinian/pipan_tinian_04/audio/Tinian_A_04_140217_020045.df20.x.flac succeeded\n",
      "Download of pifsc/audio/pipan/tinian/pipan_tinian_04/audio/Tinian_A_04_140303_101630.df20.x.flac succeeded\n",
      "Download of pifsc/audio/pipan/tinian/pipan_tinian_04/audio/Tinian_A_04_140304_173345.df20.x.flac succeeded\n",
      "Download of pifsc/audio/pipan/tinian/pipan_tinian_04/audio/Tinian_A_04_140320_221400.df20.x.flac succeeded\n",
      "Download of pifsc/audio/pipan/tinian/pipan_tinian_04/audio/Tinian_A_04_140514_113030.df20.x.flac succeeded\n",
      "Download of pifsc/audio/pipan/tinian/pipan_tinian_04/audio/Tinian_A_04_140602_064515.df20.x.flac succeeded\n",
      "Download of pifsc/audio/pipan/tinian/pipan_tinian_05/audio/Tinian_A_05_140615_013510.df20.x.flac succeeded\n",
      "Download of pifsc/audio/pipan/tinian/pipan_tinian_05/audio/Tinian_A_05_140713_221500.df20.x.flac succeeded\n",
      "Download of pifsc/audio/pipan/tinian/pipan_tinian_05/audio/Tinian_A_05_140830_230430.df20.x.flac succeeded\n",
      "Download of pifsc/audio/pipan/tinian/pipan_tinian_06/audio/Tinian_A_06_160515_202015.df20.x.flac succeeded\n",
      "Download of pifsc/audio/pipan/wake/pipan_wake_01/audio/Wake_S_01_100228_235000.df20.x.flac succeeded\n",
      "Download of pifsc/audio/pipan/wake/pipan_wake_03/audio/Wake_S_03_110404_145345.d20.x.flac succeeded\n",
      "Download of pifsc/audio/pipan/wake/pipan_wake_03/audio/Wake_S_03_110405_105345.d20.x.flac succeeded\n",
      "Download of pifsc/audio/pipan/wake/pipan_wake_03/audio/Wake_S_03_110406_092345.d20.x.flac succeeded\n",
      "Download of pifsc/audio/pipan/wake/pipan_wake_03/audio/Wake_S_03_110406_104115.d20.x.flac succeeded\n",
      "Download of pifsc/audio/pipan/wake/pipan_wake_03/audio/Wake_S_03_110406_231115.d20.x.flac succeeded\n",
      "Download of pifsc/audio/pipan/wake/pipan_wake_03/audio/Wake_S_03_110407_002345.d20.x.flac succeeded\n",
      "Download of pifsc/audio/pipan/wake/pipan_wake_03/audio/Wake_S_03_110407_025345.d20.x.flac succeeded\n",
      "Download of pifsc/audio/pipan/wake/pipan_wake_03/audio/Wake_S_03_110407_175345.d20.x.flac succeeded\n",
      "Download of pifsc/audio/pipan/wake/pipan_wake_03/audio/Wake_S_03_110408_085345.d20.x.flac succeeded\n",
      "Download of pifsc/audio/pipan/wake/pipan_wake_03/audio/Wake_S_03_110409_211115.d20.x.flac succeeded\n",
      "Download of pifsc/audio/pipan/wake/pipan_wake_03/audio/Wake_S_03_110410_121115.d20.x.flac succeeded\n",
      "Download of pifsc/audio/pipan/wake/pipan_wake_03/audio/Wake_S_03_110412_025345.d20.x.flac succeeded\n",
      "Download of pifsc/audio/pipan/wake/pipan_wake_03/audio/Wake_S_03_110412_091115.d20.x.flac succeeded\n",
      "Download of pifsc/audio/pipan/wake/pipan_wake_03/audio/Wake_S_03_110412_225345.d20.x.flac succeeded\n",
      "Download of pifsc/audio/pipan/wake/pipan_wake_03/audio/Wake_S_03_110413_062345.d20.x.flac succeeded\n",
      "Download of pifsc/audio/pipan/wake/pipan_wake_03/audio/Wake_S_03_110413_135345.d20.x.flac succeeded\n",
      "Download of pifsc/audio/pipan/wake/pipan_wake_03/audio/Wake_S_03_110413_174115.d20.x.flac succeeded\n",
      "Download of pifsc/audio/pipan/wake/pipan_wake_03/audio/Wake_S_03_110413_212345.d20.x.flac succeeded\n",
      "Download of pifsc/audio/pipan/wake/pipan_wake_03/audio/Wake_S_03_110414_111115.d20.x.flac succeeded\n",
      "Download of pifsc/audio/pipan/wake/pipan_wake_03/audio/Wake_S_03_110415_055345.d20.x.flac succeeded\n",
      "Download of pifsc/audio/pipan/wake/pipan_wake_03/audio/Wake_S_03_110415_121115.d20.x.flac succeeded\n",
      "Download of pifsc/audio/pipan/wake/pipan_wake_03/audio/Wake_S_03_110415_232345.d20.x.flac succeeded\n",
      "Download of pifsc/audio/pipan/wake/pipan_wake_03/audio/Wake_S_03_110416_031115.d20.x.flac succeeded\n",
      "Download of pifsc/audio/pipan/wake/pipan_wake_03/audio/Wake_S_03_110416_104115.d20.x.flac succeeded\n",
      "Download of pifsc/audio/pipan/wake/pipan_wake_03/audio/Wake_S_03_110416_115345.d20.x.flac succeeded\n",
      "Download of pifsc/audio/pipan/wake/pipan_wake_03/audio/Wake_S_03_110416_165345.d20.x.flac succeeded\n",
      "Download of pifsc/audio/pipan/wake/pipan_wake_03/audio/Wake_S_03_110416_181115.d20.x.flac succeeded\n",
      "Download of pifsc/audio/pipan/wake/pipan_wake_03/audio/Wake_S_03_110417_125345.d20.x.flac succeeded\n",
      "Download of pifsc/audio/pipan/wake/pipan_wake_03/audio/Wake_S_03_110418_024115.d20.x.flac succeeded\n",
      "Download of pifsc/audio/pipan/wake/pipan_wake_03/audio/Wake_S_03_110418_224115.d20.x.flac succeeded\n",
      "Download of pifsc/audio/pipan/wake/pipan_wake_03/audio/Wake_S_03_110419_022345.d20.x.flac succeeded\n",
      "Download of pifsc/audio/pipan/wake/pipan_wake_03/audio/Wake_S_03_110419_072345.d20.x.flac succeeded\n",
      "Download of pifsc/audio/pipan/wake/pipan_wake_03/audio/Wake_S_03_110419_195345.d20.x.flac succeeded\n",
      "Download of pifsc/audio/pipan/wake/pipan_wake_03/audio/Wake_S_03_110420_021115.d20.x.flac succeeded\n",
      "Download of pifsc/audio/pipan/wake/pipan_wake_03/audio/Wake_S_03_110420_232345.d20.x.flac succeeded\n",
      "Download of pifsc/audio/pipan/wake/pipan_wake_03/audio/Wake_S_03_110421_192345.d20.x.flac succeeded\n",
      "Download of pifsc/audio/pipan/wake/pipan_wake_03/audio/Wake_S_03_110422_064115.d20.x.flac succeeded\n",
      "Download of pifsc/audio/pipan/wake/pipan_wake_03/audio/Wake_S_03_110422_102345.d20.x.flac succeeded\n",
      "Download of pifsc/audio/pipan/wake/pipan_wake_03/audio/Wake_S_03_110422_164115.d20.x.flac succeeded\n",
      "Download of pifsc/audio/pipan/wake/pipan_wake_03/audio/Wake_S_03_110422_214115.d20.x.flac succeeded\n",
      "Download of pifsc/audio/pipan/wake/pipan_wake_03/audio/Wake_S_03_110423_051115.d20.x.flac succeeded\n",
      "Download of pifsc/audio/pipan/wake/pipan_wake_03/audio/Wake_S_03_110423_185345.d20.x.flac succeeded\n",
      "Download of pifsc/audio/pipan/wake/pipan_wake_03/audio/Wake_S_03_110424_122345.d20.x.flac succeeded\n",
      "Download of pifsc/audio/pipan/wake/pipan_wake_03/audio/Wake_S_03_110424_234115.d20.x.flac succeeded\n",
      "Download of pifsc/audio/pipan/wake/pipan_wake_03/audio/Wake_S_03_110426_004115.d20.x.flac succeeded\n",
      "Download of pifsc/audio/pipan/wake/pipan_wake_03/audio/Wake_S_03_110426_104115.d20.x.flac succeeded\n",
      "Download of pifsc/audio/pipan/wake/pipan_wake_03/audio/Wake_S_03_110427_125345.d20.x.flac succeeded\n",
      "Download of pifsc/audio/pipan/wake/pipan_wake_03/audio/Wake_S_03_110428_174115.d20.x.flac succeeded\n",
      "Download of pifsc/audio/pipan/wake/pipan_wake_03/audio/Wake_S_03_110429_134115.d20.x.flac succeeded\n",
      "Download of pifsc/audio/pipan/wake/pipan_wake_03/audio/Wake_S_03_110429_234115.d20.x.flac succeeded\n",
      "Download of pifsc/audio/pipan/wake/pipan_wake_03/audio/Wake_S_03_110503_082115.d20.x.flac succeeded\n",
      "Download of pifsc/audio/pipan/wake/pipan_wake_03/audio/Wake_S_03_110503_182115.d20.x.flac succeeded\n",
      "Download of pifsc/audio/pipan/wake/pipan_wake_03/audio/Wake_S_03_110504_003345.d20.x.flac succeeded\n",
      "Download of pifsc/audio/pipan/wake/pipan_wake_03/audio/Wake_S_03_110504_165115.d20.x.flac succeeded\n",
      "Download of pifsc/audio/pipan/wake/pipan_wake_03/audio/Wake_S_03_110504_203345.d20.x.flac succeeded\n",
      "Download of pifsc/audio/pipan/wake/pipan_wake_03/audio/Wake_S_03_110505_013345.d20.x.flac succeeded\n",
      "Download of pifsc/audio/pipan/wake/pipan_wake_03/audio/Wake_S_03_110505_152115.d20.x.flac succeeded\n",
      "Download of pifsc/audio/pipan/wake/pipan_wake_03/audio/Wake_S_03_110506_085115.d20.x.flac succeeded\n",
      "Download of pifsc/audio/pipan/wake/pipan_wake_03/audio/Wake_S_03_110506_123345.d20.x.flac succeeded\n",
      "Download of pifsc/audio/pipan/wake/pipan_wake_03/audio/Wake_S_03_110506_135115.d20.x.flac succeeded\n",
      "Download of pifsc/audio/pipan/wake/pipan_wake_03/audio/Wake_S_03_110506_162115.d20.x.flac succeeded\n",
      "Download of pifsc/audio/pipan/wake/pipan_wake_03/audio/Wake_S_03_110506_185115.d20.x.flac succeeded\n",
      "Download of pifsc/audio/pipan/wake/pipan_wake_03/audio/Wake_S_03_110506_200345.d20.x.flac succeeded\n",
      "Download of pifsc/audio/pipan/wake/pipan_wake_03/audio/Wake_S_03_110506_212115.d20.x.flac succeeded\n",
      "Download of pifsc/audio/pipan/wake/pipan_wake_03/audio/Wake_S_03_110506_223345.d20.x.flac succeeded\n",
      "Download of pifsc/audio/pipan/wake/pipan_wake_03/audio/Wake_S_03_110507_022115.d20.x.flac succeeded\n",
      "Download of pifsc/audio/pipan/wake/pipan_wake_03/audio/Wake_S_03_110507_045115.d20.x.flac succeeded\n",
      "Download of pifsc/audio/pipan/wake/pipan_wake_03/audio/Wake_S_03_110508_005115.d20.x.flac succeeded\n",
      "Download of pifsc/audio/pipan/wake/pipan_wake_03/audio/Wake_S_03_110508_070345.d20.x.flac succeeded\n",
      "Download of pifsc/audio/pipan/wake/pipan_wake_03/audio/Wake_S_03_110508_193345.d20.x.flac succeeded\n",
      "Download of pifsc/audio/pipan/wake/pipan_wake_03/audio/Wake_S_03_110509_015115.d20.x.flac succeeded\n",
      "Download of pifsc/audio/pipan/wake/pipan_wake_03/audio/Wake_S_03_110509_142115.d20.x.flac succeeded\n",
      "Download of pifsc/audio/pipan/wake/pipan_wake_03/audio/Wake_S_03_110509_192115.d20.x.flac succeeded\n",
      "Download of pifsc/audio/pipan/wake/pipan_wake_03/audio/Wake_S_03_110509_203345.d20.x.flac succeeded\n",
      "Download of pifsc/audio/pipan/wake/pipan_wake_03/audio/Wake_S_03_110510_125115.d20.x.flac succeeded\n",
      "Download of pifsc/audio/pipan/wake/pipan_wake_03/audio/Wake_S_03_110510_175115.d20.x.flac succeeded\n",
      "Download of pifsc/audio/pipan/wake/pipan_wake_03/audio/Wake_S_03_110511_123345.d20.x.flac succeeded\n",
      "Download of pifsc/audio/pipan/wake/pipan_wake_03/audio/Wake_S_03_110511_162115.d20.x.flac succeeded\n",
      "Download of pifsc/audio/pipan/wake/pipan_wake_03/audio/Wake_S_03_110513_032115.d20.x.flac succeeded\n",
      "Download of pifsc/audio/pipan/wake/pipan_wake_03/audio/Wake_S_03_110513_070345.d20.x.flac succeeded\n",
      "Download of pifsc/audio/pipan/wake/pipan_wake_03/audio/Wake_S_03_110513_093345.d20.x.flac succeeded\n",
      "Download of pifsc/audio/pipan/wake/pipan_wake_03/audio/Wake_S_03_110513_143345.d20.x.flac succeeded\n",
      "Download of pifsc/audio/pipan/wake/pipan_wake_03/audio/Wake_S_03_110513_155115.d20.x.flac succeeded\n",
      "Download of pifsc/audio/pipan/wake/pipan_wake_03/audio/Wake_S_03_110513_220345.d20.x.flac succeeded\n",
      "Download of pifsc/audio/pipan/wake/pipan_wake_03/audio/Wake_S_03_110514_165115.d20.x.flac succeeded\n",
      "Download of pifsc/audio/pipan/wake/pipan_wake_03/audio/Wake_S_03_110514_203345.d20.x.flac succeeded\n",
      "Download of pifsc/audio/pipan/wake/pipan_wake_03/audio/Wake_S_03_110515_040345.d20.x.flac succeeded\n",
      "Download of pifsc/audio/pipan/wake/pipan_wake_03/audio/Wake_S_03_110516_073345.d20.x.flac succeeded\n",
      "Download of pifsc/audio/pipan/wake/pipan_wake_03/audio/Wake_S_03_110517_083345.d20.x.flac succeeded\n",
      "Download of pifsc/audio/pipan/wake/pipan_wake_03/audio/Wake_S_03_110519_080345.d20.x.flac succeeded\n",
      "Download of pifsc/audio/pipan/wake/pipan_wake_03/audio/Wake_S_03_110521_012115.d20.x.flac succeeded\n",
      "Download of pifsc/audio/pipan/wake/pipan_wake_06/audio/Wake_S_06_150521_180000.df20.x.flac succeeded\n",
      "Download of pifsc/audio/pipan/wake/pipan_wake_06/audio/Wake_S_06_150527_080115.df20.x.flac succeeded\n",
      "Download of pifsc/audio/pipan/crosssm/pipan_crosssm_01/audio/Cross_A_01_050715_152115.d20.x.flac succeeded\n",
      "Download of pifsc/audio/pipan/crosssm/pipan_crosssm_02/audio/Cross_A_02_060103_110309.d20.x.flac succeeded\n",
      "Download of pifsc/audio/pipan/crosssm/pipan_crosssm_02/audio/Cross_A_02_060104_020420.d20.x.flac succeeded\n",
      "Download of pifsc/audio/pipan/crosssm/pipan_crosssm_02/audio/Cross_A_02_060109_021543.d20.x.flac succeeded\n",
      "Download of pifsc/audio/pipan/crosssm/pipan_crosssm_02/audio/Cross_A_02_060128_191313.d20.x.flac succeeded\n",
      "Download of pifsc/audio/pipan/crosssm/pipan_crosssm_02/audio/Cross_A_02_060129_233313.d20.x.flac succeeded\n",
      "Download of pifsc/audio/pipan/crosssm/pipan_crosssm_02/audio/Cross_A_02_060201_172043.d20.x.flac succeeded\n"
     ]
    }
   ],
   "source": [
    "bad_results = download_many_blobs_with_transfer_manager(\"noaa-passive-bioacoustic\", \n",
    "                                                        to_download[:600],\n",
    "                                                        destination_directory=\"D:/SonarData/downloads\",\n",
    "                                                        workers=8)"
   ]
  },
  {
   "cell_type": "code",
   "execution_count": 17,
   "id": "5832729c-1344-436f-ab3e-bec057d57c88",
   "metadata": {},
   "outputs": [
    {
     "data": {
      "text/plain": [
       "0"
      ]
     },
     "execution_count": 17,
     "metadata": {},
     "output_type": "execute_result"
    }
   ],
   "source": [
    "len(bad_results)"
   ]
  },
  {
   "cell_type": "code",
   "execution_count": 11,
   "id": "34bdce32-e787-4e3e-b58c-0876cf2e1197",
   "metadata": {},
   "outputs": [],
   "source": [
    "with open(\"bad_results.pkl\", 'wb') as f:\n",
    "    pickle.dump(bad_results, f)"
   ]
  },
  {
   "cell_type": "code",
   "execution_count": 78,
   "id": "5424ab1759cad68a",
   "metadata": {
    "ExecuteTime": {
     "end_time": "2024-04-01T00:57:39.440730200Z",
     "start_time": "2024-04-01T00:57:39.413792600Z"
    },
    "collapsed": false,
    "jupyter": {
     "outputs_hidden": false
    }
   },
   "outputs": [
    {
     "data": {
      "text/plain": [
       "['Hawaii_K_16_140207_060115.df20.x.flac',\n",
       " 'Hawaii_K_16_140105_233000.df20.x.flac',\n",
       " 'Hawaii_K_11_110924_072800.df20.x.flac',\n",
       " 'Hawaii_K_14_121222_090345.df20.x.flac',\n",
       " 'Hawaii_K_14_121228_162345.df20.x.flac']"
      ]
     },
     "execution_count": 78,
     "metadata": {},
     "output_type": "execute_result"
    }
   ],
   "source": [
    "with open(\"bad_results.pkl\", 'rb') as f:\n",
    "    bad_results = pickle.load(f)\n",
    "bad_files = [f[0] for f in bad_results]\n",
    "bad_file_names = {f.split(\"/\")[-1] for f in bad_files}\n",
    "list(bad_file_names)[:5]"
   ]
  },
  {
   "cell_type": "code",
   "execution_count": 79,
   "id": "3c7d15236f933cef",
   "metadata": {
    "ExecuteTime": {
     "end_time": "2024-04-01T00:57:50.239707900Z",
     "start_time": "2024-04-01T00:57:50.132467900Z"
    },
    "collapsed": false,
    "jupyter": {
     "outputs_hidden": false
    }
   },
   "outputs": [],
   "source": [
    "for dirpath, dirnames, filenames in os.walk(\"D:/SonarData/downloads\"):\n",
    "    for filename in filenames:\n",
    "        if filename in bad_file_names:\n",
    "            os.remove(os.path.join(dirpath, filename))"
   ]
  },
  {
   "cell_type": "code",
   "execution_count": 10,
   "id": "af45a6ae5d78f573",
   "metadata": {
    "collapsed": false,
    "jupyter": {
     "outputs_hidden": false
    }
   },
   "outputs": [
    {
     "data": {
      "text/plain": [
       "['Kingman_A_01_120204_054115.df20.x.flac',\n",
       " 'Kingman_A_01_120206_022345.df20.x.flac',\n",
       " 'Kingman_A_01_120207_004500.df20.x.flac',\n",
       " 'Kingman_A_01_120207_230615.df20.x.flac',\n",
       " 'Kingman_A_01_120208_080729.df20.x.flac',\n",
       " 'Kingman_A_01_120209_062845.df20.x.flac',\n",
       " 'Kingman_A_01_120211_031115.df20.x.flac',\n",
       " 'Kingman_A_01_120212_013230.df20.x.flac',\n",
       " 'Kingman_A_01_120212_235345.df20.x.flac',\n",
       " 'Kingman_A_01_120213_221500.df20.x.flac']"
      ]
     },
     "execution_count": 10,
     "metadata": {},
     "output_type": "execute_result"
    }
   ],
   "source": [
    "files = os.listdir(\"D:/SonarData/flat\")\n",
    "files[:10]"
   ]
  },
  {
   "cell_type": "code",
   "execution_count": null,
   "id": "a6ee7a181dbb1f3c",
   "metadata": {
    "ExecuteTime": {
     "start_time": "2024-04-04T17:06:18.840827100Z"
    },
    "collapsed": false,
    "jupyter": {
     "outputs_hidden": false
    }
   },
   "outputs": [],
   "source": [
    "import multiprocessing\n",
    "def do_math(x):\n",
    "    print(\"Processing\", x)\n",
    "    return x**2\n",
    "\n",
    "pool = multiprocessing.Pool(6)\n",
    "hold = [i for i in range(100)]\n",
    "pool.map(do_math, hold)\n",
    "\n"
   ]
  },
  {
   "cell_type": "code",
   "execution_count": null,
   "id": "9d638127-f2aa-4e50-b5f4-9214f16a078c",
   "metadata": {},
   "outputs": [],
   "source": [
    "def uncompress(files_to_decompress):\n",
    "    for i, file in enumerate(files_to_decompress):\n",
    "        print(file)\n",
    "        subprocess.run(f\"C:/Windows/flac.exe -df --delete-input-file --preserve-modtime --keep-foreign-metadata D:/SonarData/messing/{file}\", shell=True, capture_output=True)\n",
    "    return True\n",
    "\n",
    "pool = multiprocessing.Pool(6)\n",
    "messing_files = os.listdir(\"D:/SonarData/messing\")\n",
    "step = int(len(messing_files)/6)\n",
    "hold = [messing_files[j: j + step] for j in [i for i in range(0, len(messing_files), step)]]\n",
    "\n",
    "r = pool.map_async(uncompress, hold)\n",
    "r.wait()"
   ]
  },
  {
   "cell_type": "code",
   "execution_count": 21,
   "id": "2ccfe593-ca02-41fc-ad76-32c01c11c846",
   "metadata": {},
   "outputs": [
    {
     "data": {
      "text/plain": [
       "[['Kingman_A_01_120204_054115.df20.x.flac',\n",
       "  'Kingman_A_01_120206_022345.df20.x.flac',\n",
       "  'Kingman_A_01_120207_004500.df20.x.flac'],\n",
       " ['Kingman_A_01_120207_230615.df20.x.flac',\n",
       "  'Kingman_A_01_120208_080729.df20.x.flac',\n",
       "  'Kingman_A_01_120209_062845.df20.x.flac'],\n",
       " ['Kingman_A_01_120211_031115.df20.x.flac',\n",
       "  'Kingman_A_01_120212_013230.df20.x.flac',\n",
       "  'Kingman_A_01_120212_235345.df20.x.flac'],\n",
       " ['Kingman_A_01_120213_221500.df20.x.flac',\n",
       "  'Kingman_A_01_120214_203615.df20.x.flac',\n",
       "  'Kingman_A_01_120215_185730.df20.x.flac'],\n",
       " ['Kingman_A_01_120218_140115.df20.x.flac',\n",
       "  'Kingman_A_01_120219_122230.df20.x.flac',\n",
       "  'Kingman_A_01_120220_104345.df20.x.flac'],\n",
       " ['Kingman_A_01_120221_090500.df20.x.flac',\n",
       "  'Kingman_A_01_120222_072615.df20.x.flac',\n",
       "  'Kingman_A_01_120223_054730.df20.x.flac'],\n",
       " ['Kingman_A_01_120224_040845.df20.x.flac',\n",
       "  'Kingman_A_01_120225_023000.df20.x.flac']]"
      ]
     },
     "execution_count": 21,
     "metadata": {},
     "output_type": "execute_result"
    }
   ],
   "source": [
    "hold"
   ]
  },
  {
   "cell_type": "code",
   "execution_count": 4,
   "id": "d26ec201e2602dc4",
   "metadata": {
    "ExecuteTime": {
     "end_time": "2024-04-01T04:56:45.221005300Z",
     "start_time": "2024-04-01T03:01:29.661797600Z"
    },
    "collapsed": false,
    "jupyter": {
     "outputs_hidden": false
    }
   },
   "outputs": [
    {
     "name": "stdout",
     "output_type": "stream",
     "text": [
      "Processing file 0\n",
      "Processing file 50\n",
      "Processing file 100\n",
      "Processing file 150\n",
      "Processing file 200\n",
      "Processing file 250\n",
      "Processing file 300\n",
      "Processing file 350\n",
      "Processing file 400\n",
      "Processing file 450\n"
     ]
    }
   ],
   "source": [
    "# Uncompress data\n",
    "files = os.listdir(\"D:/SonarData/flat\")\n",
    "new_files = [i for i in files if i.endswith(\".flac\")]\n",
    "for i, file in enumerate(new_files):\n",
    "    if i % 50 == 0:\n",
    "        print(f\"Processing file {i}\")\n",
    "    subprocess.run(f\"C:/Windows/flac.exe -df --delete-input-file --preserve-modtime --keep-foreign-metadata D:/SonarData/flat/{file}\", shell=True, capture_output=True)"
   ]
  },
  {
   "cell_type": "code",
   "execution_count": 12,
   "id": "18c53f3d1b29a1ec",
   "metadata": {
    "ExecuteTime": {
     "end_time": "2024-04-01T02:58:33.794370400Z",
     "start_time": "2024-04-01T02:58:33.760792200Z"
    },
    "collapsed": false,
    "jupyter": {
     "outputs_hidden": false
    }
   },
   "outputs": [
    {
     "data": {
      "text/plain": [
       "['Cross_A_01_050514_014345.d20.x.flac',\n",
       " 'Cross_A_01_050518_040230.d20.x.flac',\n",
       " 'Cross_A_01_050520_183000.d20.x.flac',\n",
       " 'Cross_A_01_050520_212731.d20.x.flac',\n",
       " 'Cross_A_01_050521_004500.d20.x.flac',\n",
       " 'Cross_A_01_050527_003345.d20.x.flac',\n",
       " 'Cross_A_01_050606_123845.d20.x.flac',\n",
       " 'Cross_A_01_050612_151845.d20.x.flac',\n",
       " 'Cross_A_01_050613_232350.d20.x.flac',\n",
       " 'Cross_A_01_050630_004730.d20.x.flac',\n",
       " 'Cross_A_01_050630_222845.d20.x.flac',\n",
       " 'Cross_A_01_050701_112115.d20.x.flac',\n",
       " 'Cross_A_01_050702_031345.d20.x.flac',\n",
       " 'Cross_A_01_050703_170730.d20.x.flac',\n",
       " 'Cross_A_01_050717_151615.d20.x.flac',\n",
       " 'Cross_A_01_050722_115500.d20.x.flac',\n",
       " 'Cross_A_01_050801_074615.d20.x.flac',\n",
       " 'Cross_A_01_050801_110500.d20.x.flac',\n",
       " 'Cross_A_01_050908_025000.d20.x.flac',\n",
       " 'Cross_A_02_051120_000000.d20.x.flac']"
      ]
     },
     "execution_count": 12,
     "metadata": {},
     "output_type": "execute_result"
    }
   ],
   "source": [
    "new_files"
   ]
  },
  {
   "cell_type": "code",
   "execution_count": 8,
   "id": "bbb6403b75263f2e",
   "metadata": {
    "ExecuteTime": {
     "end_time": "2024-04-01T02:56:55.007798200Z",
     "start_time": "2024-04-01T02:56:54.978875600Z"
    },
    "collapsed": false,
    "jupyter": {
     "outputs_hidden": false
    }
   },
   "outputs": [
    {
     "data": {
      "text/plain": [
       "1012"
      ]
     },
     "execution_count": 8,
     "metadata": {},
     "output_type": "execute_result"
    }
   ],
   "source": [
    "len(files)"
   ]
  },
  {
   "cell_type": "code",
   "execution_count": 15,
   "id": "27f04cf5a5747af",
   "metadata": {
    "ExecuteTime": {
     "end_time": "2024-04-01T02:59:56.128533500Z",
     "start_time": "2024-04-01T02:59:56.117107900Z"
    },
    "collapsed": false,
    "jupyter": {
     "outputs_hidden": false
    }
   },
   "outputs": [
    {
     "data": {
      "text/plain": [
       "992"
      ]
     },
     "execution_count": 15,
     "metadata": {},
     "output_type": "execute_result"
    }
   ],
   "source": [
    "files = os.listdir(\"D:/SonarData/flat\")\n",
    "len([i for i in files if i.endswith(\".flac\")])"
   ]
  },
  {
   "cell_type": "code",
   "execution_count": null,
   "id": "1c064fd3ca77735",
   "metadata": {
    "collapsed": false,
    "jupyter": {
     "outputs_hidden": false
    }
   },
   "outputs": [],
   "source": []
  }
 ],
 "metadata": {
  "kernelspec": {
   "display_name": "Python 3 (ipykernel)",
   "language": "python",
   "name": "python3"
  },
  "language_info": {
   "codemirror_mode": {
    "name": "ipython",
    "version": 3
   },
   "file_extension": ".py",
   "mimetype": "text/x-python",
   "name": "python",
   "nbconvert_exporter": "python",
   "pygments_lexer": "ipython3",
   "version": "3.10.13"
  }
 },
 "nbformat": 4,
 "nbformat_minor": 5
}
