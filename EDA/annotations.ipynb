{
 "cells": [
  {
   "cell_type": "code",
   "execution_count": 2,
   "id": "initial_id",
   "metadata": {
    "ExecuteTime": {
     "end_time": "2024-04-01T02:45:41.799987700Z",
     "start_time": "2024-04-01T02:45:40.134997700Z"
    }
   },
   "outputs": [],
   "source": [
    "import pandas as pd\n",
    "import requests\n",
    "from pathlib import Path\n",
    "import subprocess\n",
    "import os\n",
    "from google.cloud import storage\n",
    "from google.cloud.storage import transfer_manager\n",
    "import re\n",
    "import pickle\n",
    "import numpy as np"
   ]
  },
  {
   "cell_type": "code",
   "execution_count": 3,
   "id": "9590f4547f96b433",
   "metadata": {
    "collapsed": false,
    "ExecuteTime": {
     "end_time": "2024-04-01T02:45:44.363840700Z",
     "start_time": "2024-04-01T02:45:42.842064500Z"
    }
   },
   "outputs": [
    {
     "data": {
      "text/plain": "  audit_name                        flac_compressed_xwav_object  \\\n0    initial  gs://noaa-passive-bioacoustic/pifsc/audio/pipa...   \n1    initial  gs://noaa-passive-bioacoustic/pifsc/audio/pipa...   \n2    initial  gs://noaa-passive-bioacoustic/pifsc/audio/pipa...   \n3    initial  gs://noaa-passive-bioacoustic/pifsc/audio/pipa...   \n4    initial  gs://noaa-passive-bioacoustic/pifsc/audio/pipa...   \n\n   subchunk_index  label_is_strong  implicit_negatives  label  \\\n0               1             True                True  Other   \n1              13             True                True  Other   \n2               5             True                True  Other   \n3              17             True                True  Other   \n4              22             True                True  Other   \n\n   begin_rel_subchunk  end_rel_subchunk                         begin_utc  \\\n0               0.213             0.213  2005-06-06 13:00:00.213000+00:00   \n1               0.108             0.108  2005-06-06 14:15:00.108000+00:00   \n2               0.143             0.143  2005-07-02 04:00:00.143000+00:00   \n3               0.213             0.213  2005-07-02 05:15:00.213000+00:00   \n4               0.213             0.213  2005-08-01 10:15:00.213000+00:00   \n\n                            end_utc  hawaii_num  \n0  2005-06-06 13:00:00.213000+00:00         NaN  \n1  2005-06-06 14:15:00.108000+00:00         NaN  \n2  2005-07-02 04:00:00.143000+00:00         NaN  \n3  2005-07-02 05:15:00.213000+00:00         NaN  \n4  2005-08-01 10:15:00.213000+00:00         NaN  ",
      "text/html": "<div>\n<style scoped>\n    .dataframe tbody tr th:only-of-type {\n        vertical-align: middle;\n    }\n\n    .dataframe tbody tr th {\n        vertical-align: top;\n    }\n\n    .dataframe thead th {\n        text-align: right;\n    }\n</style>\n<table border=\"1\" class=\"dataframe\">\n  <thead>\n    <tr style=\"text-align: right;\">\n      <th></th>\n      <th>audit_name</th>\n      <th>flac_compressed_xwav_object</th>\n      <th>subchunk_index</th>\n      <th>label_is_strong</th>\n      <th>implicit_negatives</th>\n      <th>label</th>\n      <th>begin_rel_subchunk</th>\n      <th>end_rel_subchunk</th>\n      <th>begin_utc</th>\n      <th>end_utc</th>\n      <th>hawaii_num</th>\n    </tr>\n  </thead>\n  <tbody>\n    <tr>\n      <th>0</th>\n      <td>initial</td>\n      <td>gs://noaa-passive-bioacoustic/pifsc/audio/pipa...</td>\n      <td>1</td>\n      <td>True</td>\n      <td>True</td>\n      <td>Other</td>\n      <td>0.213</td>\n      <td>0.213</td>\n      <td>2005-06-06 13:00:00.213000+00:00</td>\n      <td>2005-06-06 13:00:00.213000+00:00</td>\n      <td>NaN</td>\n    </tr>\n    <tr>\n      <th>1</th>\n      <td>initial</td>\n      <td>gs://noaa-passive-bioacoustic/pifsc/audio/pipa...</td>\n      <td>13</td>\n      <td>True</td>\n      <td>True</td>\n      <td>Other</td>\n      <td>0.108</td>\n      <td>0.108</td>\n      <td>2005-06-06 14:15:00.108000+00:00</td>\n      <td>2005-06-06 14:15:00.108000+00:00</td>\n      <td>NaN</td>\n    </tr>\n    <tr>\n      <th>2</th>\n      <td>initial</td>\n      <td>gs://noaa-passive-bioacoustic/pifsc/audio/pipa...</td>\n      <td>5</td>\n      <td>True</td>\n      <td>True</td>\n      <td>Other</td>\n      <td>0.143</td>\n      <td>0.143</td>\n      <td>2005-07-02 04:00:00.143000+00:00</td>\n      <td>2005-07-02 04:00:00.143000+00:00</td>\n      <td>NaN</td>\n    </tr>\n    <tr>\n      <th>3</th>\n      <td>initial</td>\n      <td>gs://noaa-passive-bioacoustic/pifsc/audio/pipa...</td>\n      <td>17</td>\n      <td>True</td>\n      <td>True</td>\n      <td>Other</td>\n      <td>0.213</td>\n      <td>0.213</td>\n      <td>2005-07-02 05:15:00.213000+00:00</td>\n      <td>2005-07-02 05:15:00.213000+00:00</td>\n      <td>NaN</td>\n    </tr>\n    <tr>\n      <th>4</th>\n      <td>initial</td>\n      <td>gs://noaa-passive-bioacoustic/pifsc/audio/pipa...</td>\n      <td>22</td>\n      <td>True</td>\n      <td>True</td>\n      <td>Other</td>\n      <td>0.213</td>\n      <td>0.213</td>\n      <td>2005-08-01 10:15:00.213000+00:00</td>\n      <td>2005-08-01 10:15:00.213000+00:00</td>\n      <td>NaN</td>\n    </tr>\n  </tbody>\n</table>\n</div>"
     },
     "execution_count": 3,
     "metadata": {},
     "output_type": "execute_result"
    }
   ],
   "source": [
    "df = pd.read_csv(\"data/pifsc_products_detections_annotations.csv\")\n",
    "\n",
    "# Fixes bug with hawaii \n",
    "df['hawaii_num'] = df[df['flac_compressed_xwav_object'].str.contains(\"pipan_hawaii_0/\")]['flac_compressed_xwav_object'].str.split(\"/\", expand=True).iloc[:, -1].str.split(\"_\", expand=True).loc[:, 2].astype(float)\n",
    "\n",
    "df.loc[:, \"flac_compressed_xwav_object\"] = df.apply(lambda x: x['flac_compressed_xwav_object'].replace(\"pipan_hawaii_0/\", f\"pipan_hawaii_{int(x['hawaii_num'])}/\") if not np.isnan(x[\"hawaii_num\"]) else x[\"flac_compressed_xwav_object\"], axis=1)\n",
    "\n",
    "df.head()"
   ]
  },
  {
   "cell_type": "code",
   "execution_count": 13,
   "id": "7f69a4aa18c7fbd5",
   "metadata": {
    "ExecuteTime": {
     "end_time": "2024-04-01T01:03:43.778780800Z",
     "start_time": "2024-04-01T01:03:43.745796300Z"
    },
    "collapsed": false
   },
   "outputs": [
    {
     "data": {
      "text/plain": [
       "(['pifsc/audio/pipan/crosssm/pipan_crosssm_01/audio/Cross_A_01_050606_123845.d20.x.flac',\n",
       "  'pifsc/audio/pipan/crosssm/pipan_crosssm_01/audio/Cross_A_01_050702_031345.d20.x.flac',\n",
       "  'pifsc/audio/pipan/crosssm/pipan_crosssm_01/audio/Cross_A_01_050801_074615.d20.x.flac',\n",
       "  'pifsc/audio/pipan/crosssm/pipan_crosssm_01/audio/Cross_A_01_050801_110500.d20.x.flac',\n",
       "  'pifsc/audio/pipan/crosssm/pipan_crosssm_01/audio/Cross_A_01_050908_025000.d20.x.flac'],\n",
       " 5294)"
      ]
     },
     "execution_count": 13,
     "metadata": {},
     "output_type": "execute_result"
    }
   ],
   "source": [
    "files = list(df['flac_compressed_xwav_object'].unique())\n",
    "files = [re.sub(\"gs://noaa-passive-bioacoustic/\", \"\", f) for f in files]\n",
    "# files = files[0:1000]\n",
    "\n",
    "def download_many_blobs_with_transfer_manager(bucket_name, blob_names, destination_directory=\"\", workers=8):\n",
    "    storage_client = storage.Client.create_anonymous_client()\n",
    "    \n",
    "    bucket = storage_client.bucket(bucket_name)\n",
    "    \n",
    "    results = transfer_manager.download_many_to_path(bucket, blob_names, destination_directory=destination_directory, max_workers=workers)\n",
    "    \n",
    "    bad_results = []\n",
    "    for name, result in zip(blob_names, results):\n",
    "        if isinstance(result, Exception):\n",
    "            bad_results.append((name, result))\n",
    "            print(f\"Failed to download {name} due to exception {result}\")\n",
    "        else:\n",
    "            print(f\"Download of {name} succeeded\")\n",
    "\n",
    "    return bad_results\n",
    "files[:5], len(files)"
   ]
  },
  {
   "cell_type": "code",
   "execution_count": 14,
   "id": "95b3e797483811f",
   "metadata": {
    "ExecuteTime": {
     "end_time": "2024-04-01T01:04:28.914783500Z",
     "start_time": "2024-04-01T01:04:28.863835200Z"
    },
    "collapsed": false
   },
   "outputs": [
    {
     "data": {
      "text/plain": [
       "(['pifsc/audio/pipan/equator/pipan_equator_01/audio/Equator_A_01_120419_235000.df20.x.flac',\n",
       "  'pifsc/audio/pipan/equator/pipan_equator_01/audio/Equator_A_01_120420_221115.df20.x.flac',\n",
       "  'pifsc/audio/pipan/equator/pipan_equator_01/audio/Equator_A_01_120421_203230.df20.x.flac',\n",
       "  'pifsc/audio/pipan/equator/pipan_equator_01/audio/Equator_A_01_120423_233229.df20.x.flac',\n",
       "  'pifsc/audio/pipan/equator/pipan_equator_01/audio/Equator_A_01_120426_183615.df20.x.flac'],\n",
       " 4682)"
      ]
     },
     "execution_count": 14,
     "metadata": {},
     "output_type": "execute_result"
    }
   ],
   "source": [
    "downloaded_files = []\n",
    "for dirpath, dirnames, filenames in os.walk(\"D:/SonarData/downloads\"):\n",
    "    for filename in filenames:\n",
    "        downloaded_files.append(filename)\n",
    "        \n",
    "to_download = [f for f in files if f.split(\"/\")[-1] not in downloaded_files]\n",
    "to_download[:5], len(to_download)"
   ]
  },
  {
   "cell_type": "code",
   "execution_count": 10,
   "id": "2f13ca6b-fdb7-47b1-8107-8ddc8e3d6481",
   "metadata": {},
   "outputs": [
    {
     "data": {
      "text/plain": [
       "5082"
      ]
     },
     "execution_count": 10,
     "metadata": {},
     "output_type": "execute_result"
    }
   ],
   "source": []
  },
  {
   "cell_type": "code",
   "execution_count": 16,
   "id": "659ab929b499c4f7",
   "metadata": {
    "ExecuteTime": {
     "end_time": "2024-03-31T05:05:26.231443300Z",
     "start_time": "2024-03-31T05:05:19.971848500Z"
    },
    "collapsed": false
   },
   "outputs": [
    {
     "name": "stdout",
     "output_type": "stream",
     "text": [
      "Download of pifsc/audio/pipan/equator/pipan_equator_01/audio/Equator_A_01_120419_235000.df20.x.flac succeeded\n",
      "Download of pifsc/audio/pipan/equator/pipan_equator_01/audio/Equator_A_01_120420_221115.df20.x.flac succeeded\n",
      "Download of pifsc/audio/pipan/equator/pipan_equator_01/audio/Equator_A_01_120421_203230.df20.x.flac succeeded\n",
      "Download of pifsc/audio/pipan/equator/pipan_equator_01/audio/Equator_A_01_120423_233229.df20.x.flac succeeded\n",
      "Download of pifsc/audio/pipan/equator/pipan_equator_01/audio/Equator_A_01_120426_183615.df20.x.flac succeeded\n",
      "Download of pifsc/audio/pipan/equator/pipan_equator_01/audio/Equator_A_01_120427_165730.df20.x.flac succeeded\n",
      "Download of pifsc/audio/pipan/equator/pipan_equator_01/audio/Equator_A_01_120428_151845.df20.x.flac succeeded\n",
      "Download of pifsc/audio/pipan/equator/pipan_equator_01/audio/Equator_A_01_120429_134000.df20.x.flac succeeded\n",
      "Download of pifsc/audio/pipan/equator/pipan_equator_01/audio/Equator_A_01_120501_164000.df20.x.flac succeeded\n",
      "Download of pifsc/audio/pipan/equator/pipan_equator_01/audio/Equator_A_01_120503_132230.df20.x.flac succeeded\n",
      "Download of pifsc/audio/pipan/equator/pipan_equator_01/audio/Equator_A_01_120504_114345.df20.x.flac succeeded\n",
      "Download of pifsc/audio/pipan/equator/pipan_equator_01/audio/Equator_A_01_120505_100500.df20.x.flac succeeded\n",
      "Download of pifsc/audio/pipan/equator/pipan_equator_01/audio/Equator_A_01_120506_082615.df20.x.flac succeeded\n",
      "Download of pifsc/audio/pipan/equator/pipan_equator_01/audio/Equator_A_01_120507_130345.df20.x.flac succeeded\n",
      "Download of pifsc/audio/pipan/equator/pipan_equator_01/audio/Equator_A_01_120512_045000.df20.x.flac succeeded\n",
      "Download of pifsc/audio/pipan/equator/pipan_equator_01/audio/Equator_A_01_120513_031115.df20.x.flac succeeded\n",
      "Download of pifsc/audio/pipan/equator/pipan_equator_01/audio/Equator_A_01_120515_061115.df20.x.flac succeeded\n",
      "Download of pifsc/audio/pipan/equator/pipan_equator_01/audio/Equator_A_01_120518_011500.df20.x.flac succeeded\n",
      "Download of pifsc/audio/pipan/equator/pipan_equator_01/audio/Equator_A_01_120518_233615.df20.x.flac succeeded\n",
      "Download of pifsc/audio/pipan/equator/pipan_equator_01/audio/Equator_A_01_120522_231730.df20.x.flac succeeded\n",
      "Download of pifsc/audio/pipan/equator/pipan_equator_01/audio/Equator_A_01_120524_200000.df20.x.flac succeeded\n",
      "Download of pifsc/audio/pipan/equator/pipan_equator_01/audio/Equator_A_01_120525_182115.df20.x.flac succeeded\n",
      "Download of pifsc/audio/pipan/equator/pipan_equator_01/audio/Equator_A_01_120527_150345.df20.x.flac succeeded\n",
      "Download of pifsc/audio/pipan/equator/pipan_equator_01/audio/Equator_A_01_120529_180345.df20.x.flac succeeded\n",
      "Download of pifsc/audio/pipan/equator/pipan_equator_01/audio/Equator_A_01_120531_144615.df20.x.flac succeeded\n",
      "Download of pifsc/audio/pipan/equator/pipan_equator_01/audio/Equator_A_01_120602_112845.df20.x.flac succeeded\n",
      "Download of pifsc/audio/pipan/equator/pipan_equator_01/audio/Equator_A_01_120603_160345.df20.x.flac succeeded\n",
      "Download of pifsc/audio/pipan/equator/pipan_equator_01/audio/Equator_A_01_120605_124615.df20.x.flac succeeded\n",
      "Download of pifsc/audio/pipan/equator/pipan_equator_01/audio/Equator_A_01_120606_110730.df20.x.flac succeeded\n",
      "Download of pifsc/audio/pipan/equator/pipan_equator_01/audio/Equator_A_01_120607_092845.df20.x.flac succeeded\n",
      "Download of pifsc/audio/pipan/equator/pipan_equator_01/audio/Equator_A_01_120608_075000.df20.x.flac succeeded\n",
      "Download of pifsc/audio/pipan/equator/pipan_equator_01/audio/Equator_A_01_120610_105000.df20.x.flac succeeded\n",
      "Download of pifsc/audio/pipan/equator/pipan_equator_01/audio/Equator_A_01_120611_091115.df20.x.flac succeeded\n",
      "Download of pifsc/audio/pipan/equator/pipan_equator_01/audio/Equator_A_01_120612_073230.df20.x.flac succeeded\n",
      "Download of pifsc/audio/pipan/equator/pipan_equator_01/audio/Equator_A_01_120616_231845.df20.x.flac succeeded\n",
      "Download of pifsc/audio/pipan/hawaii/pipan_hawaii_01/audio/Hawaii_K_01_070905_044345.d20.x.flac succeeded\n",
      "Download of pifsc/audio/pipan/hawaii/pipan_hawaii_02/audio/Hawaii_K_02_080424_025600.d20.x.flac succeeded\n",
      "Download of pifsc/audio/pipan/hawaii/pipan_hawaii_02/audio/Hawaii_K_02_080517_040345.d20.x.flac succeeded\n",
      "Download of pifsc/audio/pipan/hawaii/pipan_hawaii_03/audio/Hawaii_K_03_080825_120345.d20.x.flac succeeded\n",
      "Download of pifsc/audio/pipan/hawaii/pipan_hawaii_03/audio/Hawaii_K_03_080825_231845.d20.x.flac succeeded\n",
      "Download of pifsc/audio/pipan/hawaii/pipan_hawaii_03/audio/Hawaii_K_03_080902_191730.d20.x.flac succeeded\n",
      "Download of pifsc/audio/pipan/hawaii/pipan_hawaii_06/audio/Hawaii_K_06_090426_163345.d20.x.flac succeeded\n",
      "Download of pifsc/audio/pipan/hawaii/pipan_hawaii_06/audio/Hawaii_K_06_090502_150345.d20.x.flac succeeded\n",
      "Download of pifsc/audio/pipan/hawaii/pipan_hawaii_06/audio/Hawaii_K_06_090509_070000.d20.x.flac succeeded\n",
      "Download of pifsc/audio/pipan/hawaii/pipan_hawaii_06/audio/Hawaii_K_06_090625_041615.d20.x.flac succeeded\n",
      "Download of pifsc/audio/pipan/hawaii/pipan_hawaii_06/audio/Hawaii_K_06_090713_040000.d20.x.flac succeeded\n",
      "Download of pifsc/audio/pipan/hawaii/pipan_hawaii_06/audio/Hawaii_K_06_090722_040115.d20.x.flac succeeded\n",
      "Download of pifsc/audio/pipan/hawaii/pipan_hawaii_07/audio/Hawaii_K_07_091105_023000.df20.x.flac succeeded\n",
      "Download of pifsc/audio/pipan/hawaii/pipan_hawaii_07/audio/Hawaii_K_07_091107_133230.df20.x.flac succeeded\n",
      "Download of pifsc/audio/pipan/hawaii/pipan_hawaii_07/audio/Hawaii_K_07_091112_193845.df20.x.flac succeeded\n",
      "Download of pifsc/audio/pipan/hawaii/pipan_hawaii_07/audio/Hawaii_K_07_091116_050230.df20.x.flac succeeded\n",
      "Download of pifsc/audio/pipan/hawaii/pipan_hawaii_07/audio/Hawaii_K_07_091123_221115.df20.x.flac succeeded\n",
      "Download of pifsc/audio/pipan/hawaii/pipan_hawaii_07/audio/Hawaii_K_07_091124_123115.df20.x.flac succeeded\n",
      "Download of pifsc/audio/pipan/hawaii/pipan_hawaii_07/audio/Hawaii_K_07_091127_073500.df20.x.flac succeeded\n",
      "Download of pifsc/audio/pipan/hawaii/pipan_hawaii_07/audio/Hawaii_K_07_091130_165845.df20.x.flac succeeded\n",
      "Download of pifsc/audio/pipan/hawaii/pipan_hawaii_07/audio/Hawaii_K_07_091209_002730.df20.x.flac succeeded\n",
      "Download of pifsc/audio/pipan/hawaii/pipan_hawaii_07/audio/Hawaii_K_07_091211_113000.df20.x.flac succeeded\n",
      "Download of pifsc/audio/pipan/hawaii/pipan_hawaii_07/audio/Hawaii_K_07_091213_081230.df20.x.flac succeeded\n",
      "Download of pifsc/audio/pipan/hawaii/pipan_hawaii_07/audio/Hawaii_K_07_091214_205345.df20.x.flac succeeded\n",
      "Download of pifsc/audio/pipan/hawaii/pipan_hawaii_09/audio/Hawaii_K_09_100501_223240.df20.x.flac succeeded\n",
      "Download of pifsc/audio/pipan/hawaii/pipan_hawaii_09/audio/Hawaii_K_09_100504_101600.df20.x.flac succeeded\n",
      "Download of pifsc/audio/pipan/hawaii/pipan_hawaii_09/audio/Hawaii_K_09_100507_203513.df20.x.flac succeeded\n",
      "Download of pifsc/audio/pipan/hawaii/pipan_hawaii_09/audio/Hawaii_K_09_100508_191146.df20.x.flac succeeded\n",
      "Download of pifsc/audio/pipan/hawaii/pipan_hawaii_09/audio/Hawaii_K_09_100528_015615.df20.x.flac succeeded\n",
      "Download of pifsc/audio/pipan/hawaii/pipan_hawaii_10/audio/Hawaii_K_10_101001_004345.df20.x.flac succeeded\n",
      "Download of pifsc/audio/pipan/hawaii/pipan_hawaii_10/audio/Hawaii_K_10_101005_120230.df20.x.flac succeeded\n",
      "Download of pifsc/audio/pipan/hawaii/pipan_hawaii_10/audio/Hawaii_K_10_101009_232115.df20.x.flac succeeded\n",
      "Download of pifsc/audio/pipan/hawaii/pipan_hawaii_10/audio/Hawaii_K_10_101011_205830.df20.x.flac succeeded\n",
      "Download of pifsc/audio/pipan/hawaii/pipan_hawaii_10/audio/Hawaii_K_10_101016_081715.df20.x.flac succeeded\n",
      "Download of pifsc/audio/pipan/hawaii/pipan_hawaii_10/audio/Hawaii_K_10_101020_193600.df20.x.flac succeeded\n",
      "Download of pifsc/audio/pipan/hawaii/pipan_hawaii_10/audio/Hawaii_K_10_101025_163430.df20.x.flac succeeded\n",
      "Download of pifsc/audio/pipan/hawaii/pipan_hawaii_10/audio/Hawaii_K_10_101102_032345.df20.x.flac succeeded\n",
      "Download of pifsc/audio/pipan/hawaii/pipan_hawaii_10/audio/Hawaii_K_10_101102_131200.df20.x.flac succeeded\n",
      "Download of pifsc/audio/pipan/hawaii/pipan_hawaii_10/audio/Hawaii_K_10_101105_124230.df20.x.flac succeeded\n",
      "Download of pifsc/audio/pipan/hawaii/pipan_hawaii_10/audio/Hawaii_K_10_101107_002745.df20.x.flac succeeded\n",
      "Download of pifsc/audio/pipan/hawaii/pipan_hawaii_10/audio/Hawaii_K_10_101127_043430.df20.x.flac succeeded\n",
      "Download of pifsc/audio/pipan/hawaii/pipan_hawaii_10/audio/Hawaii_K_10_101201_155315.df20.x.flac succeeded\n",
      "Download of pifsc/audio/pipan/hawaii/pipan_hawaii_10/audio/Hawaii_K_10_101209_120800.df20.x.flac succeeded\n",
      "Download of pifsc/audio/pipan/hawaii/pipan_hawaii_10/audio/Hawaii_K_10_101212_113830.df20.x.flac succeeded\n",
      "Download of pifsc/audio/pipan/hawaii/pipan_hawaii_10/audio/Hawaii_K_10_101215_205600.df20.x.flac succeeded\n",
      "Download of pifsc/audio/pipan/hawaii/pipan_hawaii_10/audio/Hawaii_K_10_101220_081145.df20.x.flac succeeded\n",
      "Download of pifsc/audio/pipan/hawaii/pipan_hawaii_10/audio/Hawaii_K_10_101221_200000.df20.x.flac succeeded\n",
      "Download of pifsc/audio/pipan/hawaii/pipan_hawaii_10/audio/Hawaii_K_10_101223_074515.df20.x.flac succeeded\n",
      "Download of pifsc/audio/pipan/hawaii/pipan_hawaii_10/audio/Hawaii_K_10_101224_193030.df20.x.flac succeeded\n",
      "Download of pifsc/audio/pipan/hawaii/pipan_hawaii_10/audio/Hawaii_K_10_101226_071545.df20.x.flac succeeded\n",
      "Download of pifsc/audio/pipan/hawaii/pipan_hawaii_10/audio/Hawaii_K_10_101226_164800.df20.x.flac succeeded\n",
      "Download of pifsc/audio/pipan/hawaii/pipan_hawaii_10/audio/Hawaii_K_10_101228_043315.df20.x.flac succeeded\n",
      "Download of pifsc/audio/pipan/hawaii/pipan_hawaii_10/audio/Hawaii_K_10_101229_161830.df20.x.flac succeeded\n",
      "Download of pifsc/audio/pipan/hawaii/pipan_hawaii_10/audio/Hawaii_K_10_101231_040345.df20.x.flac succeeded\n",
      "Download of pifsc/audio/pipan/hawaii/pipan_hawaii_10/audio/Hawaii_K_10_110101_155200.df20.x.flac succeeded\n",
      "Download of pifsc/audio/pipan/hawaii/pipan_hawaii_10/audio/Hawaii_K_10_110103_033715.df20.x.flac succeeded\n",
      "Download of pifsc/audio/pipan/hawaii/pipan_hawaii_10/audio/Hawaii_K_10_110104_152230.df20.x.flac succeeded\n",
      "Download of pifsc/audio/pipan/hawaii/pipan_hawaii_10/audio/Hawaii_K_10_110106_030745.df20.x.flac succeeded\n",
      "Download of pifsc/audio/pipan/hawaii/pipan_hawaii_10/audio/Hawaii_K_10_110106_124115.df20.x.flac succeeded\n",
      "Download of pifsc/audio/pipan/hawaii/pipan_hawaii_10/audio/Hawaii_K_10_110108_002630.df20.x.flac succeeded\n",
      "Download of pifsc/audio/pipan/hawaii/pipan_hawaii_10/audio/Hawaii_K_10_110109_121145.df20.x.flac succeeded\n",
      "Download of pifsc/audio/pipan/hawaii/pipan_hawaii_10/audio/Hawaii_K_10_110111_000000.df20.x.flac succeeded\n",
      "Download of pifsc/audio/pipan/hawaii/pipan_hawaii_10/audio/Hawaii_K_10_110113_233030.df20.x.flac succeeded\n",
      "Download of pifsc/audio/pipan/hawaii/pipan_hawaii_10/audio/Hawaii_K_10_110115_111545.df20.x.flac succeeded\n",
      "Download of pifsc/audio/pipan/hawaii/pipan_hawaii_10/audio/Hawaii_K_10_110116_230400.df20.x.flac succeeded\n",
      "Download of pifsc/audio/pipan/hawaii/pipan_hawaii_10/audio/Hawaii_K_10_110117_083315.df20.x.flac succeeded\n",
      "Download of pifsc/audio/pipan/hawaii/pipan_hawaii_10/audio/Hawaii_K_10_110118_201830.df20.x.flac succeeded\n",
      "Download of pifsc/audio/pipan/hawaii/pipan_hawaii_10/audio/Hawaii_K_10_110120_080345.df20.x.flac succeeded\n",
      "Download of pifsc/audio/pipan/hawaii/pipan_hawaii_10/audio/Hawaii_K_10_110121_195200.df20.x.flac succeeded\n",
      "Download of pifsc/audio/pipan/hawaii/pipan_hawaii_10/audio/Hawaii_K_10_110123_073715.df20.x.flac succeeded\n",
      "Download of pifsc/audio/pipan/hawaii/pipan_hawaii_10/audio/Hawaii_K_10_110124_192230.df20.x.flac succeeded\n",
      "Download of pifsc/audio/pipan/hawaii/pipan_hawaii_10/audio/Hawaii_K_10_110126_070745.df20.x.flac succeeded\n",
      "Download of pifsc/audio/pipan/hawaii/pipan_hawaii_10/audio/Hawaii_K_10_110127_185600.df20.x.flac succeeded\n",
      "Download of pifsc/audio/pipan/hawaii/pipan_hawaii_10/audio/Hawaii_K_10_110128_042515.df20.x.flac succeeded\n",
      "Download of pifsc/audio/pipan/hawaii/pipan_hawaii_10/audio/Hawaii_K_10_110129_161030.df20.x.flac succeeded\n",
      "Download of pifsc/audio/pipan/hawaii/pipan_hawaii_10/audio/Hawaii_K_10_110131_035545.df20.x.flac succeeded\n",
      "Download of pifsc/audio/pipan/hawaii/pipan_hawaii_10/audio/Hawaii_K_10_110203_032915.df20.x.flac succeeded\n",
      "Download of pifsc/audio/pipan/hawaii/pipan_hawaii_10/audio/Hawaii_K_10_110204_151430.df20.x.flac succeeded\n",
      "Download of pifsc/audio/pipan/hawaii/pipan_hawaii_10/audio/Hawaii_K_10_110206_025945.df20.x.flac succeeded\n",
      "Download of pifsc/audio/pipan/hawaii/pipan_hawaii_10/audio/Hawaii_K_10_110207_144800.df20.x.flac succeeded\n",
      "Download of pifsc/audio/pipan/hawaii/pipan_hawaii_10/audio/Hawaii_K_10_110208_002630.df20.x.flac succeeded\n",
      "Download of pifsc/audio/pipan/hawaii/pipan_hawaii_10/audio/Hawaii_K_10_110209_121145.df20.x.flac succeeded\n",
      "Download of pifsc/audio/pipan/hawaii/pipan_hawaii_10/audio/Hawaii_K_10_110211_000000.df20.x.flac succeeded\n",
      "Download of pifsc/audio/pipan/hawaii/pipan_hawaii_10/audio/Hawaii_K_10_110212_114515.df20.x.flac succeeded\n",
      "Download of pifsc/audio/pipan/hawaii/pipan_hawaii_10/audio/Hawaii_K_10_110213_233030.df20.x.flac succeeded\n",
      "Download of pifsc/audio/pipan/hawaii/pipan_hawaii_10/audio/Hawaii_K_10_110215_111545.df20.x.flac succeeded\n",
      "Download of pifsc/audio/pipan/hawaii/pipan_hawaii_10/audio/Hawaii_K_10_110216_230400.df20.x.flac succeeded\n",
      "Download of pifsc/audio/pipan/hawaii/pipan_hawaii_10/audio/Hawaii_K_10_110218_104915.df20.x.flac succeeded\n",
      "Download of pifsc/audio/pipan/hawaii/pipan_hawaii_10/audio/Hawaii_K_10_110218_201030.df20.x.flac succeeded\n",
      "Download of pifsc/audio/pipan/hawaii/pipan_hawaii_10/audio/Hawaii_K_10_110220_075545.df20.x.flac succeeded\n",
      "Download of pifsc/audio/pipan/hawaii/pipan_hawaii_10/audio/Hawaii_K_10_110221_194400.df20.x.flac succeeded\n",
      "Download of pifsc/audio/pipan/hawaii/pipan_hawaii_10/audio/Hawaii_K_10_110223_072915.df20.x.flac succeeded\n",
      "Download of pifsc/audio/pipan/hawaii/pipan_hawaii_10/audio/Hawaii_K_10_110224_191430.df20.x.flac succeeded\n",
      "Download of pifsc/audio/pipan/hawaii/pipan_hawaii_10/audio/Hawaii_K_10_110226_065945.df20.x.flac succeeded\n",
      "Download of pifsc/audio/pipan/hawaii/pipan_hawaii_10/audio/Hawaii_K_10_110227_184800.df20.x.flac succeeded\n",
      "Download of pifsc/audio/pipan/hawaii/pipan_hawaii_10/audio/Hawaii_K_10_110301_063315.df20.x.flac succeeded\n",
      "Download of pifsc/audio/pipan/hawaii/pipan_hawaii_10/audio/Hawaii_K_10_110301_154745.df20.x.flac succeeded\n",
      "Download of pifsc/audio/pipan/hawaii/pipan_hawaii_10/audio/Hawaii_K_10_110303_033600.df20.x.flac succeeded\n",
      "Download of pifsc/audio/pipan/hawaii/pipan_hawaii_10/audio/Hawaii_K_10_110304_152115.df20.x.flac succeeded\n",
      "Download of pifsc/audio/pipan/hawaii/pipan_hawaii_10/audio/Hawaii_K_10_110306_030630.df20.x.flac succeeded\n",
      "Download of pifsc/audio/pipan/hawaii/pipan_hawaii_10/audio/Hawaii_K_10_110307_145145.df20.x.flac succeeded\n",
      "Download of pifsc/audio/pipan/hawaii/pipan_hawaii_10/audio/Hawaii_K_10_110310_142515.df20.x.flac succeeded\n",
      "Download of pifsc/audio/pipan/hawaii/pipan_hawaii_11/audio/Hawaii_K_11_110513_114400.df20.x.flac succeeded\n",
      "Download of pifsc/audio/pipan/hawaii/pipan_hawaii_11/audio/Hawaii_K_11_110514_232915.df20.x.flac succeeded\n",
      "Download of pifsc/audio/pipan/hawaii/pipan_hawaii_11/audio/Hawaii_K_11_110517_225945.df20.x.flac succeeded\n",
      "Download of pifsc/audio/pipan/hawaii/pipan_hawaii_11/audio/Hawaii_K_11_110519_104800.df20.x.flac succeeded\n",
      "Download of pifsc/audio/pipan/hawaii/pipan_hawaii_11/audio/Hawaii_K_11_110523_205944.df20.x.flac succeeded\n",
      "Download of pifsc/audio/pipan/hawaii/pipan_hawaii_11/audio/Hawaii_K_11_110525_084800.df20.x.flac succeeded\n",
      "Download of pifsc/audio/pipan/hawaii/pipan_hawaii_11/audio/Hawaii_K_11_110529_200345.df20.x.flac succeeded\n",
      "Download of pifsc/audio/pipan/hawaii/pipan_hawaii_11/audio/Hawaii_K_11_110531_075200.df20.x.flac succeeded\n",
      "Download of pifsc/audio/pipan/hawaii/pipan_hawaii_11/audio/Hawaii_K_11_110603_165715.df20.x.flac succeeded\n",
      "Download of pifsc/audio/pipan/hawaii/pipan_hawaii_11/audio/Hawaii_K_11_110606_162745.df20.x.flac succeeded\n",
      "Download of pifsc/audio/pipan/hawaii/pipan_hawaii_11/audio/Hawaii_K_11_110614_124230.df20.x.flac succeeded\n",
      "Download of pifsc/audio/pipan/hawaii/pipan_hawaii_11/audio/Hawaii_K_11_110623_112000.df20.x.flac succeeded\n",
      "Download of pifsc/audio/pipan/hawaii/pipan_hawaii_11/audio/Hawaii_K_11_110625_084114.df20.x.flac succeeded\n",
      "Download of pifsc/audio/pipan/hawaii/pipan_hawaii_11/audio/Hawaii_K_11_110706_041714.df20.x.flac succeeded\n",
      "Download of pifsc/audio/pipan/hawaii/pipan_hawaii_11/audio/Hawaii_K_11_110710_153600.df20.x.flac succeeded\n",
      "Download of pifsc/audio/pipan/hawaii/pipan_hawaii_11/audio/Hawaii_K_11_110713_150630.df20.x.flac succeeded\n",
      "Download of pifsc/audio/pipan/hawaii/pipan_hawaii_11/audio/Hawaii_K_11_110716_234400.df20.x.flac succeeded\n",
      "Download of pifsc/audio/pipan/hawaii/pipan_hawaii_11/audio/Hawaii_K_11_110722_224800.df20.x.flac succeeded\n",
      "Download of pifsc/audio/pipan/hawaii/pipan_hawaii_11/audio/Hawaii_K_11_110724_103315.df20.x.flac succeeded\n",
      "Download of pifsc/audio/pipan/hawaii/pipan_hawaii_11/audio/Hawaii_K_11_110725_221830.df20.x.flac succeeded\n",
      "Download of pifsc/audio/pipan/hawaii/pipan_hawaii_11/audio/Hawaii_K_11_110727_190359.df20.x.flac succeeded\n",
      "Download of pifsc/audio/pipan/hawaii/pipan_hawaii_11/audio/Hawaii_K_11_110730_183430.df20.x.flac succeeded\n",
      "Download of pifsc/audio/pipan/hawaii/pipan_hawaii_11/audio/Hawaii_K_11_110804_055315.df20.x.flac succeeded\n",
      "Download of pifsc/audio/pipan/hawaii/pipan_hawaii_11/audio/Hawaii_K_11_110810_133715.df20.x.flac succeeded\n",
      "Download of pifsc/audio/pipan/hawaii/pipan_hawaii_11/audio/Hawaii_K_11_110813_130745.df20.x.flac succeeded\n",
      "Download of pifsc/audio/pipan/hawaii/pipan_hawaii_11/audio/Hawaii_K_11_110816_124115.df20.x.flac succeeded\n",
      "Download of pifsc/audio/pipan/hawaii/pipan_hawaii_11/audio/Hawaii_K_11_110818_085715.df20.x.flac succeeded\n",
      "Download of pifsc/audio/pipan/hawaii/pipan_hawaii_11/audio/Hawaii_K_11_110819_204230.df20.x.flac succeeded\n",
      "Download of pifsc/audio/pipan/hawaii/pipan_hawaii_11/audio/Hawaii_K_11_110821_082745.df20.x.flac succeeded\n",
      "Download of pifsc/audio/pipan/hawaii/pipan_hawaii_11/audio/Hawaii_K_11_110822_201600.df20.x.flac succeeded\n",
      "Download of pifsc/audio/pipan/hawaii/pipan_hawaii_11/audio/Hawaii_K_11_110904_031545.df20.x.flac succeeded\n",
      "Download of pifsc/audio/pipan/hawaii/pipan_hawaii_11/audio/Hawaii_K_11_110921_075430.df20.x.flac succeeded\n",
      "Download of pifsc/audio/pipan/hawaii/pipan_hawaii_11/audio/Hawaii_K_11_110927_065830.df20.x.flac succeeded\n",
      "Download of pifsc/audio/pipan/hawaii/pipan_hawaii_11/audio/Hawaii_K_11_110930_063200.df20.x.flac succeeded\n",
      "Download of pifsc/audio/pipan/hawaii/pipan_hawaii_11/audio/Hawaii_K_11_110930_160914.df20.x.flac succeeded\n",
      "Download of pifsc/audio/pipan/hawaii/pipan_hawaii_11/audio/Hawaii_K_11_111005_032800.df20.x.flac succeeded\n",
      "Download of pifsc/audio/pipan/hawaii/pipan_hawaii_11/audio/Hawaii_K_11_111009_144345.df20.x.flac succeeded\n",
      "Download of pifsc/audio/pipan/hawaii/pipan_hawaii_11/audio/Hawaii_K_11_111011_121144.df20.x.flac succeeded\n",
      "Download of pifsc/audio/pipan/hawaii/pipan_hawaii_11/audio/Hawaii_K_11_111013_000000.df20.x.flac succeeded\n",
      "Download of pifsc/audio/pipan/hawaii/pipan_hawaii_11/audio/Hawaii_K_11_111015_233030.df20.x.flac succeeded\n",
      "Download of pifsc/audio/pipan/hawaii/pipan_hawaii_13/audio/Hawaii_K_13_120601_104345.df20.x.flac succeeded\n",
      "Download of pifsc/audio/pipan/hawaii/pipan_hawaii_13/audio/Hawaii_K_13_120607_123230.df20.x.flac succeeded\n",
      "Download of pifsc/audio/pipan/hawaii/pipan_hawaii_13/audio/Hawaii_K_13_120609_091345.df20.x.flac succeeded\n",
      "Download of pifsc/audio/pipan/hawaii/pipan_hawaii_13/audio/Hawaii_K_13_120618_165000.df20.x.flac succeeded\n",
      "Download of pifsc/audio/pipan/hawaii/pipan_hawaii_13/audio/Hawaii_K_13_120621_011114.df20.x.flac succeeded\n",
      "Download of pifsc/audio/pipan/hawaii/pipan_hawaii_13/audio/Hawaii_K_13_120626_152000.df20.x.flac succeeded\n",
      "Download of pifsc/audio/pipan/hawaii/pipan_hawaii_13/audio/Hawaii_K_13_120704_140000.df20.x.flac succeeded\n",
      "Download of pifsc/audio/pipan/hawaii/pipan_hawaii_13/audio/Hawaii_K_13_120706_104115.df20.x.flac succeeded\n",
      "Download of pifsc/audio/pipan/hawaii/pipan_hawaii_13/audio/Hawaii_K_13_120712_005000.df20.x.flac succeeded\n",
      "Download of pifsc/audio/pipan/hawaii/pipan_hawaii_14/audio/Hawaii_K_14_121118_202115.df20.x.flac succeeded\n",
      "Download of pifsc/audio/pipan/hawaii/pipan_hawaii_14/audio/Hawaii_K_14_121124_103000.df20.x.flac succeeded\n",
      "Download of pifsc/audio/pipan/hawaii/pipan_hawaii_14/audio/Hawaii_K_14_121128_035230.df20.x.flac succeeded\n",
      "Download of pifsc/audio/pipan/hawaii/pipan_hawaii_14/audio/Hawaii_K_14_121130_003345.df20.x.flac succeeded\n",
      "Download of pifsc/audio/pipan/hawaii/pipan_hawaii_14/audio/Hawaii_K_14_121230_131000.df20.x.flac succeeded\n",
      "Download of pifsc/audio/pipan/hawaii/pipan_hawaii_14/audio/Hawaii_K_14_130103_063230.df20.x.flac succeeded\n",
      "Download of pifsc/audio/pipan/hawaii/pipan_hawaii_14/audio/Hawaii_K_14_130130_015230.df20.x.flac succeeded\n",
      "Download of pifsc/audio/pipan/hawaii/pipan_hawaii_14/audio/Hawaii_K_14_130204_160115.df20.x.flac succeeded\n",
      "Download of pifsc/audio/pipan/hawaii/pipan_hawaii_14/audio/Hawaii_K_14_130208_092345.df20.x.flac succeeded\n",
      "Download of pifsc/audio/pipan/hawaii/pipan_hawaii_14/audio/Hawaii_K_14_130210_061000.df20.x.flac succeeded\n",
      "Download of pifsc/audio/pipan/hawaii/pipan_hawaii_14/audio/Hawaii_K_14_130215_201345.df20.x.flac succeeded\n",
      "Download of pifsc/audio/pipan/hawaii/pipan_hawaii_15/audio/Hawaii_K_15_130527_190000.df20.x.flac succeeded\n",
      "Download of pifsc/audio/pipan/hawaii/pipan_hawaii_15/audio/Hawaii_K_15_130530_140115.df20.x.flac succeeded\n",
      "Download of pifsc/audio/pipan/hawaii/pipan_hawaii_15/audio/Hawaii_K_15_130602_090230.df20.x.flac succeeded\n",
      "Download of pifsc/audio/pipan/hawaii/pipan_hawaii_15/audio/Hawaii_K_15_130605_040345.df20.x.flac succeeded\n",
      "Download of pifsc/audio/pipan/hawaii/pipan_hawaii_15/audio/Hawaii_K_15_130610_181615.df20.x.flac succeeded\n",
      "Download of pifsc/audio/pipan/hawaii/pipan_hawaii_15/audio/Hawaii_K_15_130614_073115.df20.x.flac succeeded\n",
      "Download of pifsc/audio/pipan/hawaii/pipan_hawaii_15/audio/Hawaii_K_15_130622_164500.df20.x.flac succeeded\n",
      "Download of pifsc/audio/pipan/hawaii/pipan_hawaii_15/audio/Hawaii_K_15_130625_114615.df20.x.flac succeeded\n",
      "Download of pifsc/audio/pipan/hawaii/pipan_hawaii_15/audio/Hawaii_K_15_130713_000345.df20.x.flac succeeded\n",
      "Download of pifsc/audio/pipan/hawaii/pipan_hawaii_15/audio/Hawaii_K_15_130715_191500.df20.x.flac succeeded\n",
      "Download of pifsc/audio/pipan/hawaii/pipan_hawaii_15/audio/Hawaii_K_15_130718_141615.df20.x.flac succeeded\n",
      "Download of pifsc/audio/pipan/hawaii/pipan_hawaii_15/audio/Hawaii_K_15_130721_091730.df20.x.flac succeeded\n",
      "Download of pifsc/audio/pipan/hawaii/pipan_hawaii_15/audio/Hawaii_K_15_130802_071845.df20.x.flac succeeded\n",
      "Download of pifsc/audio/pipan/hawaii/pipan_hawaii_15/audio/Hawaii_K_15_130805_023000.df20.x.flac succeeded\n",
      "Download of pifsc/audio/pipan/hawaii/pipan_hawaii_15/audio/Hawaii_K_15_130819_191500.df20.x.flac succeeded\n",
      "Download of pifsc/audio/pipan/hawaii/pipan_hawaii_15/audio/Hawaii_K_15_130828_041845.df20.x.flac succeeded\n",
      "Download of pifsc/audio/pipan/hawaii/pipan_hawaii_15/audio/Hawaii_K_15_130909_021730.df20.x.flac succeeded\n",
      "Download of pifsc/audio/pipan/hawaii/pipan_hawaii_15/audio/Hawaii_K_15_130911_211845.df20.x.flac succeeded\n",
      "Download of pifsc/audio/pipan/hawaii/pipan_hawaii_15/audio/Hawaii_K_15_130914_163000.df20.x.flac succeeded\n",
      "Download of pifsc/audio/pipan/hawaii/pipan_hawaii_15/audio/Hawaii_K_15_130917_113115.df20.x.flac succeeded\n",
      "Download of pifsc/audio/pipan/hawaii/pipan_hawaii_15/audio/Hawaii_K_15_130920_063230.df20.x.flac succeeded\n",
      "Download of pifsc/audio/pipan/hawaii/pipan_hawaii_15/audio/Hawaii_K_15_130926_150000.df20.x.flac succeeded\n",
      "Download of pifsc/audio/pipan/hawaii/pipan_hawaii_15/audio/Hawaii_K_15_131002_050230.df20.x.flac succeeded\n",
      "Download of pifsc/audio/pipan/hawaii/pipan_hawaii_15/audio/Hawaii_K_15_131005_000345.df20.x.flac succeeded\n",
      "Download of pifsc/audio/pipan/hawaii/pipan_hawaii_15/audio/Hawaii_K_15_131013_091730.df20.x.flac succeeded\n",
      "Download of pifsc/audio/pipan/hawaii/pipan_hawaii_16/audio/Hawaii_K_16_131019_103100.df20.x.flac succeeded\n",
      "Download of pifsc/audio/pipan/hawaii/pipan_hawaii_16/audio/Hawaii_K_16_131028_140000.df20.x.flac succeeded\n",
      "Download of pifsc/audio/pipan/hawaii/pipan_hawaii_16/audio/Hawaii_K_16_131031_090115.df20.x.flac succeeded\n",
      "Download of pifsc/audio/pipan/hawaii/pipan_hawaii_16/audio/Hawaii_K_16_131105_230345.df20.x.flac succeeded\n",
      "Download of pifsc/audio/pipan/hawaii/pipan_hawaii_16/audio/Hawaii_K_16_131111_131615.df20.x.flac succeeded\n",
      "Download of pifsc/audio/pipan/hawaii/pipan_hawaii_16/audio/Hawaii_K_16_131117_220115.df20.x.flac succeeded\n",
      "Download of pifsc/audio/pipan/hawaii/pipan_hawaii_16/audio/Hawaii_K_16_131120_170230.df20.x.flac succeeded\n",
      "Download of pifsc/audio/pipan/hawaii/pipan_hawaii_16/audio/Hawaii_K_16_131123_120345.df20.x.flac succeeded\n",
      "Download of pifsc/audio/pipan/hawaii/pipan_hawaii_16/audio/Hawaii_K_16_131126_071500.df20.x.flac succeeded\n",
      "Download of pifsc/audio/pipan/hawaii/pipan_hawaii_16/audio/Hawaii_K_16_131129_021615.df20.x.flac succeeded\n",
      "Download of pifsc/audio/pipan/hawaii/pipan_hawaii_16/audio/Hawaii_K_16_131201_211730.df20.x.flac succeeded\n",
      "Download of pifsc/audio/pipan/hawaii/pipan_hawaii_16/audio/Hawaii_K_16_131216_151730.df20.x.flac succeeded\n",
      "Download of pifsc/audio/pipan/hawaii/pipan_hawaii_16/audio/Hawaii_K_16_131223_000344.df20.x.flac succeeded\n",
      "Download of pifsc/audio/pipan/hawaii/pipan_hawaii_16/audio/Hawaii_K_16_131228_141615.df20.x.flac succeeded\n",
      "Download of pifsc/audio/pipan/hawaii/pipan_hawaii_16/audio/Hawaii_K_16_131231_091730.df20.x.flac succeeded\n",
      "Download of pifsc/audio/pipan/hawaii/pipan_hawaii_16/audio/Hawaii_K_16_140111_133230.df20.x.flac succeeded\n",
      "Download of pifsc/audio/pipan/hawaii/pipan_hawaii_16/audio/Hawaii_K_16_140131_213000.df20.x.flac succeeded\n",
      "Download of pifsc/audio/pipan/hawaii/pipan_hawaii_16/audio/Hawaii_K_16_140218_101615.df20.x.flac succeeded\n",
      "Download of pifsc/audio/pipan/hawaii/pipan_hawaii_16/audio/Hawaii_K_16_140221_051730.df20.x.flac succeeded\n",
      "Download of pifsc/audio/pipan/hawaii/pipan_hawaii_16/audio/Hawaii_K_16_140317_023230.df20.x.flac succeeded\n",
      "Download of pifsc/audio/pipan/hawaii/pipan_hawaii_17/audio/Hawaii_K_17_140408_110500.df20.x.flac succeeded\n",
      "Download of pifsc/audio/pipan/hawaii/pipan_hawaii_17/audio/Hawaii_K_17_140414_071500.df20.x.flac succeeded\n",
      "Download of pifsc/audio/pipan/hawaii/pipan_hawaii_17/audio/Hawaii_K_17_140415_053615.df20.x.flac succeeded\n",
      "Download of pifsc/audio/pipan/hawaii/pipan_hawaii_17/audio/Hawaii_K_17_140416_035730.df20.x.flac succeeded\n",
      "Download of pifsc/audio/pipan/hawaii/pipan_hawaii_17/audio/Hawaii_K_17_140419_212230.df20.x.flac succeeded\n",
      "Download of pifsc/audio/pipan/hawaii/pipan_hawaii_17/audio/Hawaii_K_17_140420_194345.df20.x.flac succeeded\n",
      "Download of pifsc/audio/pipan/hawaii/pipan_hawaii_17/audio/Hawaii_K_17_140422_000845.df20.x.flac succeeded\n",
      "Download of pifsc/audio/pipan/hawaii/pipan_hawaii_17/audio/Hawaii_K_17_140422_223000.df20.x.flac succeeded\n",
      "Download of pifsc/audio/pipan/hawaii/pipan_hawaii_17/audio/Hawaii_K_17_140425_173345.df20.x.flac succeeded\n",
      "Download of pifsc/audio/pipan/hawaii/pipan_hawaii_17/audio/Hawaii_K_17_140501_134115.df20.x.flac succeeded\n",
      "Download of pifsc/audio/pipan/hawaii/pipan_hawaii_17/audio/Hawaii_K_17_140504_084500.df20.x.flac succeeded\n",
      "Download of pifsc/audio/pipan/hawaii/pipan_hawaii_17/audio/Hawaii_K_17_140507_095730.df20.x.flac succeeded\n",
      "Download of pifsc/audio/pipan/hawaii/pipan_hawaii_17/audio/Hawaii_K_17_140508_081845.df20.x.flac succeeded\n",
      "Download of pifsc/audio/pipan/hawaii/pipan_hawaii_17/audio/Hawaii_K_17_140509_064000.df20.x.flac succeeded\n",
      "Download of pifsc/audio/pipan/hawaii/pipan_hawaii_17/audio/Hawaii_K_17_140511_032230.df20.x.flac succeeded\n",
      "Download of pifsc/audio/pipan/hawaii/pipan_hawaii_17/audio/Hawaii_K_17_140512_075000.df20.x.flac succeeded\n",
      "Download of pifsc/audio/pipan/hawaii/pipan_hawaii_17/audio/Hawaii_K_17_140514_043230.df20.x.flac succeeded\n",
      "Download of pifsc/audio/pipan/hawaii/pipan_hawaii_17/audio/Hawaii_K_17_140515_025345.df20.x.flac succeeded\n",
      "Download of pifsc/audio/pipan/hawaii/pipan_hawaii_17/audio/Hawaii_K_17_140517_215730.df20.x.flac succeeded\n",
      "Download of pifsc/audio/pipan/hawaii/pipan_hawaii_17/audio/Hawaii_K_17_140518_040500.df20.x.flac succeeded\n",
      "Download of pifsc/audio/pipan/hawaii/pipan_hawaii_17/audio/Hawaii_K_17_140519_022615.df20.x.flac succeeded\n",
      "Download of pifsc/audio/pipan/hawaii/pipan_hawaii_17/audio/Hawaii_K_17_140520_004730.df20.x.flac succeeded\n",
      "Download of pifsc/audio/pipan/hawaii/pipan_hawaii_17/audio/Hawaii_K_17_140521_213000.df20.x.flac succeeded\n",
      "Download of pifsc/audio/pipan/hawaii/pipan_hawaii_17/audio/Hawaii_K_17_140522_195115.df20.x.flac succeeded\n",
      "Download of pifsc/audio/pipan/hawaii/pipan_hawaii_17/audio/Hawaii_K_17_140523_181230.df20.x.flac succeeded\n",
      "Download of pifsc/audio/pipan/hawaii/pipan_hawaii_17/audio/Hawaii_K_17_140524_163345.df20.x.flac succeeded\n",
      "Download of pifsc/audio/pipan/hawaii/pipan_hawaii_17/audio/Hawaii_K_17_140526_192500.df20.x.flac succeeded\n",
      "Download of pifsc/audio/pipan/hawaii/pipan_hawaii_17/audio/Hawaii_K_17_140527_174615.df20.x.flac succeeded\n",
      "Download of pifsc/audio/pipan/hawaii/pipan_hawaii_17/audio/Hawaii_K_17_140528_160730.df20.x.flac succeeded\n",
      "Download of pifsc/audio/pipan/hawaii/pipan_hawaii_17/audio/Hawaii_K_17_140529_142845.df20.x.flac succeeded\n",
      "Download of pifsc/audio/pipan/hawaii/pipan_hawaii_17/audio/Hawaii_K_17_140531_172500.df20.x.flac succeeded\n",
      "Download of pifsc/audio/pipan/hawaii/pipan_hawaii_17/audio/Hawaii_K_17_140606_073230.df20.x.flac succeeded\n",
      "Download of pifsc/audio/pipan/hawaii/pipan_hawaii_17/audio/Hawaii_K_17_140607_115845.df20.x.flac succeeded\n",
      "Download of pifsc/audio/pipan/hawaii/pipan_hawaii_17/audio/Hawaii_K_17_140610_070230.df20.x.flac succeeded\n",
      "Download of pifsc/audio/pipan/hawaii/pipan_hawaii_17/audio/Hawaii_K_17_140611_052345.df20.x.flac succeeded\n",
      "Download of pifsc/audio/pipan/hawaii/pipan_hawaii_17/audio/Hawaii_K_17_140612_034500.df20.x.flac succeeded\n",
      "Download of pifsc/audio/pipan/hawaii/pipan_hawaii_17/audio/Hawaii_K_17_140617_014000.df20.x.flac succeeded\n",
      "Download of pifsc/audio/pipan/hawaii/pipan_hawaii_17/audio/Hawaii_K_17_140618_000115.df20.x.flac succeeded\n",
      "Download of pifsc/audio/pipan/hawaii/pipan_hawaii_17/audio/Hawaii_K_17_140620_190500.df20.x.flac succeeded\n",
      "Download of pifsc/audio/pipan/hawaii/pipan_hawaii_17/audio/Hawaii_K_17_140621_011000.df20.x.flac succeeded\n",
      "Download of pifsc/audio/pipan/hawaii/pipan_hawaii_17/audio/Hawaii_K_17_140622_215230.df20.x.flac succeeded\n",
      "Download of pifsc/audio/pipan/hawaii/pipan_hawaii_17/audio/Hawaii_K_17_140627_133845.df20.x.flac succeeded\n",
      "Download of pifsc/audio/pipan/hawaii/pipan_hawaii_17/audio/Hawaii_K_17_140701_233740.df20.x.flac succeeded\n",
      "Download of pifsc/audio/pipan/hawaii/pipan_hawaii_17/audio/Hawaii_K_17_140703_103634.df20.x.flac succeeded\n",
      "Download of pifsc/audio/pipan/hawaii/pipan_hawaii_17/audio/Hawaii_K_17_140713_221528.df20.x.flac succeeded\n",
      "Download of pifsc/audio/pipan/kauai/pipan_kauai_01/audio/Kauai_A_01_091128_204115.df20.x.flac succeeded\n",
      "Download of pifsc/audio/pipan/kauai/pipan_kauai_01/audio/Kauai_A_01_091204_232230.df20.x.flac succeeded\n",
      "Download of pifsc/audio/pipan/kauai/pipan_kauai_01/audio/Kauai_A_01_091212_102000.df20.x.flac succeeded\n",
      "Download of pifsc/audio/pipan/kauai/pipan_kauai_01/audio/Kauai_A_01_091214_194000.df20.x.flac succeeded\n",
      "Download of pifsc/audio/pipan/kauai/pipan_kauai_01/audio/Kauai_A_01_091218_130115.df20.x.flac succeeded\n",
      "Download of pifsc/audio/pipan/kauai/pipan_kauai_01/audio/Kauai_A_01_091228_090345.df20.x.flac succeeded\n",
      "Download of pifsc/audio/pipan/kauai/pipan_kauai_01/audio/Kauai_A_01_100118_094000.df20.x.flac succeeded\n",
      "Download of pifsc/audio/pipan/kauai/pipan_kauai_01/audio/Kauai_A_01_100122_030115.df20.x.flac succeeded\n",
      "Download of pifsc/audio/pipan/kauai/pipan_kauai_01/audio/Kauai_A_01_100204_164000.df20.x.flac succeeded\n",
      "Download of pifsc/audio/pipan/kauai/pipan_kauai_01/audio/Kauai_A_01_100214_124230.df20.x.flac succeeded\n",
      "Download of pifsc/audio/pipan/kauai/pipan_kauai_01/audio/Kauai_A_01_100224_090000.df20.x.flac succeeded\n",
      "Download of pifsc/audio/pipan/kauai/pipan_kauai_01/audio/Kauai_A_01_100303_194230.df20.x.flac succeeded\n",
      "Download of pifsc/audio/pipan/kauai/pipan_kauai_01/audio/Kauai_A_01_100306_050230.df20.x.flac succeeded\n",
      "Download of pifsc/audio/pipan/kauai/pipan_kauai_01/audio/Kauai_A_01_100317_092115.df20.x.flac succeeded\n",
      "Download of pifsc/audio/pipan/kauai/pipan_kauai_01/audio/Kauai_A_01_100327_052345.df20.x.flac succeeded\n",
      "Download of pifsc/audio/pipan/kauai/pipan_kauai_01/audio/Kauai_A_01_100330_230000.df20.x.flac succeeded\n",
      "Download of pifsc/audio/pipan/kauai/pipan_kauai_01/audio/Kauai_A_01_100413_122345.df20.x.flac succeeded\n",
      "Download of pifsc/audio/pipan/kauai/pipan_kauai_01/audio/Kauai_A_01_100415_214345.df20.x.flac succeeded\n",
      "Download of pifsc/audio/pipan/kauai/pipan_kauai_01/audio/Kauai_A_01_100427_020230.df20.x.flac succeeded\n",
      "Download of pifsc/audio/pipan/kauai/pipan_kauai_02/audio/Kauai_A_02_100511_025710.df20.x.flac succeeded\n",
      "Download of pifsc/audio/pipan/kauai/pipan_kauai_02/audio/Kauai_A_02_100630_151845.df20.x.flac succeeded\n",
      "Download of pifsc/audio/pipan/kauai/pipan_kauai_02/audio/Kauai_A_02_100709_032615.df20.x.flac succeeded\n",
      "Download of pifsc/audio/pipan/kauai/pipan_kauai_02/audio/Kauai_A_02_100712_205115.df20.x.flac succeeded\n",
      "Download of pifsc/audio/pipan/kauai/pipan_kauai_02/audio/Kauai_A_02_100714_173345.df20.x.flac succeeded\n",
      "Download of pifsc/audio/pipan/kauai/pipan_kauai_02/audio/Kauai_A_02_100722_165230.df20.x.flac succeeded\n",
      "Download of pifsc/audio/pipan/kauai/pipan_kauai_02/audio/Kauai_A_02_100814_200345.df20.x.flac succeeded\n",
      "Download of pifsc/audio/pipan/kauai/pipan_kauai_02/audio/Kauai_A_02_100819_180730.df20.x.flac succeeded\n",
      "Download of pifsc/audio/pipan/kauai/pipan_kauai_02/audio/Kauai_A_02_100820_162845.df20.x.flac succeeded\n",
      "Download of pifsc/audio/pipan/kauai/pipan_kauai_02/audio/Kauai_A_02_100821_145000.df20.x.flac succeeded\n",
      "Download of pifsc/audio/pipan/kauai/pipan_kauai_02/audio/Kauai_A_02_100822_131115.df20.x.flac succeeded\n",
      "Download of pifsc/audio/pipan/kauai/pipan_kauai_02/audio/Kauai_A_02_100823_113230.df20.x.flac succeeded\n",
      "Download of pifsc/audio/pipan/kauai/pipan_kauai_02/audio/Kauai_A_02_100824_155345.df20.x.flac succeeded\n",
      "Download of pifsc/audio/pipan/kauai/pipan_kauai_02/audio/Kauai_A_02_100825_141500.df20.x.flac succeeded\n",
      "Download of pifsc/audio/pipan/kauai/pipan_kauai_02/audio/Kauai_A_02_100826_123615.df20.x.flac succeeded\n",
      "Download of pifsc/audio/pipan/kauai/pipan_kauai_02/audio/Kauai_A_02_100827_105730.df20.x.flac succeeded\n",
      "Download of pifsc/audio/pipan/kauai/pipan_kauai_02/audio/Kauai_A_02_100829_074000.df20.x.flac succeeded\n",
      "Download of pifsc/audio/pipan/kauai/pipan_kauai_02/audio/Kauai_A_02_100830_060115.df20.x.flac succeeded\n",
      "Download of pifsc/audio/pipan/kingman/pipan_kingman_01/audio/Kingman_A_01_111020_001700.df20.x.flac succeeded\n",
      "Download of pifsc/audio/pipan/kingman/pipan_kingman_01/audio/Kingman_A_01_111110_211500.df20.x.flac succeeded\n",
      "Download of pifsc/audio/pipan/kingman/pipan_kingman_01/audio/Kingman_A_01_111112_175730.df20.x.flac succeeded\n",
      "Download of pifsc/audio/pipan/kingman/pipan_kingman_01/audio/Kingman_A_01_111113_161845.df20.x.flac succeeded\n",
      "Download of pifsc/audio/pipan/kingman/pipan_kingman_01/audio/Kingman_A_01_111115_130115.df20.x.flac succeeded\n",
      "Download of pifsc/audio/pipan/kingman/pipan_kingman_01/audio/Kingman_A_01_111116_112230.df20.x.flac succeeded\n",
      "Download of pifsc/audio/pipan/kingman/pipan_kingman_01/audio/Kingman_A_01_111117_094345.df20.x.flac succeeded\n",
      "Download of pifsc/audio/pipan/kingman/pipan_kingman_01/audio/Kingman_A_01_111118_080500.df20.x.flac succeeded\n",
      "Download of pifsc/audio/pipan/kingman/pipan_kingman_01/audio/Kingman_A_01_111119_062615.df20.x.flac succeeded\n",
      "Download of pifsc/audio/pipan/kingman/pipan_kingman_01/audio/Kingman_A_01_111120_044730.df20.x.flac succeeded\n",
      "Download of pifsc/audio/pipan/kingman/pipan_kingman_01/audio/Kingman_A_01_111121_030845.df20.x.flac succeeded\n",
      "Download of pifsc/audio/pipan/kingman/pipan_kingman_01/audio/Kingman_A_01_111122_013000.df20.x.flac succeeded\n",
      "Download of pifsc/audio/pipan/kingman/pipan_kingman_01/audio/Kingman_A_01_111122_235115.df20.x.flac succeeded\n",
      "Download of pifsc/audio/pipan/kingman/pipan_kingman_01/audio/Kingman_A_01_111123_221230.df20.x.flac succeeded\n",
      "Download of pifsc/audio/pipan/kingman/pipan_kingman_01/audio/Kingman_A_01_111124_203345.df20.x.flac succeeded\n",
      "Download of pifsc/audio/pipan/kingman/pipan_kingman_01/audio/Kingman_A_01_111125_185500.df20.x.flac succeeded\n",
      "Download of pifsc/audio/pipan/kingman/pipan_kingman_01/audio/Kingman_A_01_111126_171615.df20.x.flac succeeded\n",
      "Download of pifsc/audio/pipan/kingman/pipan_kingman_01/audio/Kingman_A_01_111128_004844.df20.x.flac succeeded\n",
      "Download of pifsc/audio/pipan/kingman/pipan_kingman_01/audio/Kingman_A_01_111128_231000.df20.x.flac succeeded\n",
      "Download of pifsc/audio/pipan/kingman/pipan_kingman_01/audio/Kingman_A_01_111129_213115.df20.x.flac succeeded\n",
      "Download of pifsc/audio/pipan/kingman/pipan_kingman_01/audio/Kingman_A_01_111130_195230.df20.x.flac succeeded\n",
      "Download of pifsc/audio/pipan/kingman/pipan_kingman_01/audio/Kingman_A_01_111201_181345.df20.x.flac succeeded\n",
      "Download of pifsc/audio/pipan/kingman/pipan_kingman_01/audio/Kingman_A_01_111203_145615.df20.x.flac succeeded\n",
      "Download of pifsc/audio/pipan/kingman/pipan_kingman_01/audio/Kingman_A_01_111204_131730.df20.x.flac succeeded\n",
      "Download of pifsc/audio/pipan/kingman/pipan_kingman_01/audio/Kingman_A_01_111205_113845.df20.x.flac succeeded\n",
      "Download of pifsc/audio/pipan/kingman/pipan_kingman_01/audio/Kingman_A_01_111206_100000.df20.x.flac succeeded\n",
      "Download of pifsc/audio/pipan/kingman/pipan_kingman_01/audio/Kingman_A_01_111207_082115.df20.x.flac succeeded\n",
      "Download of pifsc/audio/pipan/kingman/pipan_kingman_01/audio/Kingman_A_01_111208_064230.df20.x.flac succeeded\n",
      "Download of pifsc/audio/pipan/kingman/pipan_kingman_01/audio/Kingman_A_01_111209_050345.df20.x.flac succeeded\n",
      "Download of pifsc/audio/pipan/kingman/pipan_kingman_01/audio/Kingman_A_01_111210_032500.df20.x.flac succeeded\n",
      "Download of pifsc/audio/pipan/kingman/pipan_kingman_01/audio/Kingman_A_01_111211_014615.df20.x.flac succeeded\n",
      "Download of pifsc/audio/pipan/kingman/pipan_kingman_01/audio/Kingman_A_01_111212_000730.df20.x.flac succeeded\n",
      "Download of pifsc/audio/pipan/kingman/pipan_kingman_01/audio/Kingman_A_01_111212_222845.df20.x.flac succeeded\n",
      "Download of pifsc/audio/pipan/kingman/pipan_kingman_01/audio/Kingman_A_01_111213_205000.df20.x.flac succeeded\n",
      "Download of pifsc/audio/pipan/kingman/pipan_kingman_01/audio/Kingman_A_01_111214_191115.df20.x.flac succeeded\n",
      "Download of pifsc/audio/pipan/kingman/pipan_kingman_01/audio/Kingman_A_01_111216_024500.df20.x.flac succeeded\n",
      "Download of pifsc/audio/pipan/kingman/pipan_kingman_01/audio/Kingman_A_01_111217_232730.df20.x.flac succeeded\n",
      "Download of pifsc/audio/pipan/kingman/pipan_kingman_01/audio/Kingman_A_01_111218_214845.df20.x.flac succeeded\n",
      "Download of pifsc/audio/pipan/kingman/pipan_kingman_01/audio/Kingman_A_01_111219_201000.df20.x.flac succeeded\n",
      "Download of pifsc/audio/pipan/kingman/pipan_kingman_01/audio/Kingman_A_01_111220_183115.df20.x.flac succeeded\n",
      "Download of pifsc/audio/pipan/kingman/pipan_kingman_01/audio/Kingman_A_01_111221_165230.df20.x.flac succeeded\n",
      "Download of pifsc/audio/pipan/kingman/pipan_kingman_01/audio/Kingman_A_01_111222_151345.df20.x.flac succeeded\n",
      "Download of pifsc/audio/pipan/kingman/pipan_kingman_01/audio/Kingman_A_01_111223_133500.df20.x.flac succeeded\n",
      "Download of pifsc/audio/pipan/kingman/pipan_kingman_01/audio/Kingman_A_01_111224_115615.df20.x.flac succeeded\n",
      "Download of pifsc/audio/pipan/kingman/pipan_kingman_01/audio/Kingman_A_01_111225_101730.df20.x.flac succeeded\n",
      "Download of pifsc/audio/pipan/kingman/pipan_kingman_01/audio/Kingman_A_01_111226_083845.df20.x.flac succeeded\n",
      "Download of pifsc/audio/pipan/kingman/pipan_kingman_01/audio/Kingman_A_01_111227_070000.df20.x.flac succeeded\n",
      "Download of pifsc/audio/pipan/kingman/pipan_kingman_01/audio/Kingman_A_01_111229_034230.df20.x.flac succeeded\n",
      "Download of pifsc/audio/pipan/kingman/pipan_kingman_01/audio/Kingman_A_01_111230_020345.df20.x.flac succeeded\n",
      "Download of pifsc/audio/pipan/kingman/pipan_kingman_01/audio/Kingman_A_01_111231_002500.df20.x.flac succeeded\n",
      "Download of pifsc/audio/pipan/kingman/pipan_kingman_01/audio/Kingman_A_01_111231_224615.df20.x.flac succeeded\n",
      "Download of pifsc/audio/pipan/kingman/pipan_kingman_01/audio/Kingman_A_01_120101_210730.df20.x.flac succeeded\n",
      "Download of pifsc/audio/pipan/kingman/pipan_kingman_01/audio/Kingman_A_01_120102_192845.df20.x.flac succeeded\n",
      "Download of pifsc/audio/pipan/kingman/pipan_kingman_01/audio/Kingman_A_01_120103_043230.df20.x.flac succeeded\n",
      "Download of pifsc/audio/pipan/kingman/pipan_kingman_01/audio/Kingman_A_01_120104_025345.df20.x.flac succeeded\n",
      "Download of pifsc/audio/pipan/kingman/pipan_kingman_01/audio/Kingman_A_01_120105_233615.df20.x.flac succeeded\n",
      "Download of pifsc/audio/pipan/kingman/pipan_kingman_01/audio/Kingman_A_01_120107_201845.df20.x.flac succeeded\n",
      "Download of pifsc/audio/pipan/kingman/pipan_kingman_01/audio/Kingman_A_01_120109_170115.df20.x.flac succeeded\n",
      "Download of pifsc/audio/pipan/kingman/pipan_kingman_01/audio/Kingman_A_01_120111_134345.df20.x.flac succeeded\n",
      "Download of pifsc/audio/pipan/kingman/pipan_kingman_01/audio/Kingman_A_01_120112_120500.df20.x.flac succeeded\n",
      "Download of pifsc/audio/pipan/kingman/pipan_kingman_01/audio/Kingman_A_01_120113_102615.df20.x.flac succeeded\n",
      "Download of pifsc/audio/pipan/kingman/pipan_kingman_01/audio/Kingman_A_01_120114_084730.df20.x.flac succeeded\n",
      "Download of pifsc/audio/pipan/kingman/pipan_kingman_01/audio/Kingman_A_01_120115_070845.df20.x.flac succeeded\n",
      "Download of pifsc/audio/pipan/kingman/pipan_kingman_01/audio/Kingman_A_01_120116_053000.df20.x.flac succeeded\n",
      "Download of pifsc/audio/pipan/kingman/pipan_kingman_01/audio/Kingman_A_01_120117_035115.df20.x.flac succeeded\n",
      "Download of pifsc/audio/pipan/kingman/pipan_kingman_01/audio/Kingman_A_01_120121_062230.df20.x.flac succeeded\n",
      "Download of pifsc/audio/pipan/kingman/pipan_kingman_01/audio/Kingman_A_01_120124_012615.df20.x.flac succeeded\n",
      "Download of pifsc/audio/pipan/kingman/pipan_kingman_01/audio/Kingman_A_01_120125_220845.df20.x.flac succeeded\n",
      "Download of pifsc/audio/pipan/kingman/pipan_kingman_01/audio/Kingman_A_01_120126_203000.df20.x.flac succeeded\n",
      "Download of pifsc/audio/pipan/kingman/pipan_kingman_01/audio/Kingman_A_01_120127_185115.df20.x.flac succeeded\n",
      "Download of pifsc/audio/pipan/kingman/pipan_kingman_01/audio/Kingman_A_01_120128_171230.df20.x.flac succeeded\n",
      "Download of pifsc/audio/pipan/kingman/pipan_kingman_01/audio/Kingman_A_01_120129_153345.df20.x.flac succeeded\n",
      "Download of pifsc/audio/pipan/kingman/pipan_kingman_01/audio/Kingman_A_01_120130_135500.df20.x.flac succeeded\n",
      "Download of pifsc/audio/pipan/kingman/pipan_kingman_01/audio/Kingman_A_01_120201_103730.df20.x.flac succeeded\n",
      "Download of pifsc/audio/pipan/kingman/pipan_kingman_01/audio/Kingman_A_01_120202_085845.df20.x.flac succeeded\n",
      "Download of pifsc/audio/pipan/kingman/pipan_kingman_01/audio/Kingman_A_01_120203_072000.df20.x.flac succeeded\n"
     ]
    }
   ],
   "source": [
    "bad_results = download_many_blobs_with_transfer_manager(\"noaa-passive-bioacoustic\", \n",
    "                                                        to_download[:400],\n",
    "                                                        destination_directory=\"D:/SonarData/downloads\",\n",
    "                                                        workers=8)"
   ]
  },
  {
   "cell_type": "code",
   "execution_count": 17,
   "id": "5832729c-1344-436f-ab3e-bec057d57c88",
   "metadata": {},
   "outputs": [
    {
     "data": {
      "text/plain": [
       "0"
      ]
     },
     "execution_count": 17,
     "metadata": {},
     "output_type": "execute_result"
    }
   ],
   "source": [
    "len(bad_results)"
   ]
  },
  {
   "cell_type": "code",
   "execution_count": 11,
   "id": "34bdce32-e787-4e3e-b58c-0876cf2e1197",
   "metadata": {},
   "outputs": [],
   "source": [
    "with open(\"bad_results.pkl\", 'wb') as f:\n",
    "    pickle.dump(bad_results, f)"
   ]
  },
  {
   "cell_type": "code",
   "execution_count": 78,
   "id": "5424ab1759cad68a",
   "metadata": {
    "ExecuteTime": {
     "end_time": "2024-04-01T00:57:39.440730200Z",
     "start_time": "2024-04-01T00:57:39.413792600Z"
    },
    "collapsed": false
   },
   "outputs": [
    {
     "data": {
      "text/plain": [
       "['Hawaii_K_16_140207_060115.df20.x.flac',\n",
       " 'Hawaii_K_16_140105_233000.df20.x.flac',\n",
       " 'Hawaii_K_11_110924_072800.df20.x.flac',\n",
       " 'Hawaii_K_14_121222_090345.df20.x.flac',\n",
       " 'Hawaii_K_14_121228_162345.df20.x.flac']"
      ]
     },
     "execution_count": 78,
     "metadata": {},
     "output_type": "execute_result"
    }
   ],
   "source": [
    "with open(\"bad_results.pkl\", 'rb') as f:\n",
    "    bad_results = pickle.load(f)\n",
    "bad_files = [f[0] for f in bad_results]\n",
    "bad_file_names = {f.split(\"/\")[-1] for f in bad_files}\n",
    "list(bad_file_names)[:5]"
   ]
  },
  {
   "cell_type": "code",
   "execution_count": 79,
   "id": "3c7d15236f933cef",
   "metadata": {
    "ExecuteTime": {
     "end_time": "2024-04-01T00:57:50.239707900Z",
     "start_time": "2024-04-01T00:57:50.132467900Z"
    },
    "collapsed": false
   },
   "outputs": [],
   "source": [
    "for dirpath, dirnames, filenames in os.walk(\"D:/SonarData/downloads\"):\n",
    "    for filename in filenames:\n",
    "        if filename in bad_file_names:\n",
    "            os.remove(os.path.join(dirpath, filename))"
   ]
  },
  {
   "cell_type": "code",
   "execution_count": null,
   "id": "af45a6ae5d78f573",
   "metadata": {
    "collapsed": false
   },
   "outputs": [],
   "source": []
  },
  {
   "cell_type": "code",
   "execution_count": 16,
   "id": "d26ec201e2602dc4",
   "metadata": {
    "collapsed": false,
    "ExecuteTime": {
     "end_time": "2024-04-01T04:56:45.221005300Z",
     "start_time": "2024-04-01T03:01:29.661797600Z"
    }
   },
   "outputs": [
    {
     "name": "stdout",
     "output_type": "stream",
     "text": [
      "Processing file 0\n",
      "Processing file 50\n",
      "Processing file 100\n",
      "Processing file 150\n",
      "Processing file 200\n",
      "Processing file 250\n",
      "Processing file 300\n",
      "Processing file 350\n",
      "Processing file 400\n",
      "Processing file 450\n",
      "Processing file 500\n",
      "Processing file 550\n",
      "Processing file 600\n",
      "Processing file 650\n",
      "Processing file 700\n",
      "Processing file 750\n",
      "Processing file 800\n",
      "Processing file 850\n",
      "Processing file 900\n",
      "Processing file 950\n"
     ]
    }
   ],
   "source": [
    "# Uncompress data\n",
    "files = os.listdir(\"D:/SonarData/flat\")\n",
    "new_files = [i for i in files if i.endswith(\".flac\")]\n",
    "for i, file in enumerate(new_files):\n",
    "    if i % 50 == 0:\n",
    "        print(f\"Processing file {i}\")\n",
    "    subprocess.run(f\"C:/Windows/flac.exe -df --delete-input-file --preserve-modtime --keep-foreign-metadata D:/SonarData/flat/{file}\", shell=True, capture_output=True)"
   ]
  },
  {
   "cell_type": "code",
   "outputs": [
    {
     "data": {
      "text/plain": "['Cross_A_01_050514_014345.d20.x.flac',\n 'Cross_A_01_050518_040230.d20.x.flac',\n 'Cross_A_01_050520_183000.d20.x.flac',\n 'Cross_A_01_050520_212731.d20.x.flac',\n 'Cross_A_01_050521_004500.d20.x.flac',\n 'Cross_A_01_050527_003345.d20.x.flac',\n 'Cross_A_01_050606_123845.d20.x.flac',\n 'Cross_A_01_050612_151845.d20.x.flac',\n 'Cross_A_01_050613_232350.d20.x.flac',\n 'Cross_A_01_050630_004730.d20.x.flac',\n 'Cross_A_01_050630_222845.d20.x.flac',\n 'Cross_A_01_050701_112115.d20.x.flac',\n 'Cross_A_01_050702_031345.d20.x.flac',\n 'Cross_A_01_050703_170730.d20.x.flac',\n 'Cross_A_01_050717_151615.d20.x.flac',\n 'Cross_A_01_050722_115500.d20.x.flac',\n 'Cross_A_01_050801_074615.d20.x.flac',\n 'Cross_A_01_050801_110500.d20.x.flac',\n 'Cross_A_01_050908_025000.d20.x.flac',\n 'Cross_A_02_051120_000000.d20.x.flac']"
     },
     "execution_count": 12,
     "metadata": {},
     "output_type": "execute_result"
    }
   ],
   "source": [
    "new_files"
   ],
   "metadata": {
    "collapsed": false,
    "ExecuteTime": {
     "end_time": "2024-04-01T02:58:33.794370400Z",
     "start_time": "2024-04-01T02:58:33.760792200Z"
    }
   },
   "id": "18c53f3d1b29a1ec",
   "execution_count": 12
  },
  {
   "cell_type": "code",
   "execution_count": 8,
   "id": "bbb6403b75263f2e",
   "metadata": {
    "collapsed": false,
    "ExecuteTime": {
     "end_time": "2024-04-01T02:56:55.007798200Z",
     "start_time": "2024-04-01T02:56:54.978875600Z"
    }
   },
   "outputs": [
    {
     "data": {
      "text/plain": "1012"
     },
     "execution_count": 8,
     "metadata": {},
     "output_type": "execute_result"
    }
   ],
   "source": [
    "len(files)"
   ]
  },
  {
   "cell_type": "code",
   "outputs": [
    {
     "data": {
      "text/plain": "992"
     },
     "execution_count": 15,
     "metadata": {},
     "output_type": "execute_result"
    }
   ],
   "source": [
    "files = os.listdir(\"D:/SonarData/flat\")\n",
    "len([i for i in files if i.endswith(\".flac\")])"
   ],
   "metadata": {
    "collapsed": false,
    "ExecuteTime": {
     "end_time": "2024-04-01T02:59:56.128533500Z",
     "start_time": "2024-04-01T02:59:56.117107900Z"
    }
   },
   "id": "27f04cf5a5747af",
   "execution_count": 15
  },
  {
   "cell_type": "code",
   "outputs": [],
   "source": [],
   "metadata": {
    "collapsed": false
   },
   "id": "1c064fd3ca77735"
  }
 ],
 "metadata": {
  "kernelspec": {
   "display_name": "Python 3 (ipykernel)",
   "language": "python",
   "name": "python3"
  },
  "language_info": {
   "codemirror_mode": {
    "name": "ipython",
    "version": 3
   },
   "file_extension": ".py",
   "mimetype": "text/x-python",
   "name": "python",
   "nbconvert_exporter": "python",
   "pygments_lexer": "ipython3",
   "version": "3.10.13"
  }
 },
 "nbformat": 4,
 "nbformat_minor": 5
}
