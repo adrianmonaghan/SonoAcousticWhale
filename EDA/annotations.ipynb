{
 "cells": [
  {
   "cell_type": "code",
   "execution_count": 1,
   "id": "initial_id",
   "metadata": {
    "ExecuteTime": {
     "end_time": "2024-04-03T02:41:22.132504300Z",
     "start_time": "2024-04-03T02:41:21.453194100Z"
    }
   },
   "outputs": [],
   "source": [
    "import pandas as pd\n",
    "import requests\n",
    "from pathlib import Path\n",
    "import subprocess\n",
    "import os\n",
    "from google.cloud import storage\n",
    "from google.cloud.storage import transfer_manager\n",
    "import re\n",
    "import pickle\n",
    "import numpy as np\n",
    "import multiprocessing"
   ]
  },
  {
   "cell_type": "code",
   "execution_count": 2,
   "id": "9590f4547f96b433",
   "metadata": {
    "ExecuteTime": {
     "end_time": "2024-04-03T02:41:24.045147700Z",
     "start_time": "2024-04-03T02:41:23.248564900Z"
    },
    "collapsed": false,
    "jupyter": {
     "outputs_hidden": false
    }
   },
   "outputs": [
    {
     "data": {
      "text/html": [
       "<div>\n",
       "<style scoped>\n",
       "    .dataframe tbody tr th:only-of-type {\n",
       "        vertical-align: middle;\n",
       "    }\n",
       "\n",
       "    .dataframe tbody tr th {\n",
       "        vertical-align: top;\n",
       "    }\n",
       "\n",
       "    .dataframe thead th {\n",
       "        text-align: right;\n",
       "    }\n",
       "</style>\n",
       "<table border=\"1\" class=\"dataframe\">\n",
       "  <thead>\n",
       "    <tr style=\"text-align: right;\">\n",
       "      <th></th>\n",
       "      <th>audit_name</th>\n",
       "      <th>flac_compressed_xwav_object</th>\n",
       "      <th>subchunk_index</th>\n",
       "      <th>label_is_strong</th>\n",
       "      <th>implicit_negatives</th>\n",
       "      <th>label</th>\n",
       "      <th>begin_rel_subchunk</th>\n",
       "      <th>end_rel_subchunk</th>\n",
       "      <th>begin_utc</th>\n",
       "      <th>end_utc</th>\n",
       "      <th>hawaii_num</th>\n",
       "    </tr>\n",
       "  </thead>\n",
       "  <tbody>\n",
       "    <tr>\n",
       "      <th>0</th>\n",
       "      <td>initial</td>\n",
       "      <td>gs://noaa-passive-bioacoustic/pifsc/audio/pipa...</td>\n",
       "      <td>1</td>\n",
       "      <td>True</td>\n",
       "      <td>True</td>\n",
       "      <td>Other</td>\n",
       "      <td>0.213</td>\n",
       "      <td>0.213</td>\n",
       "      <td>2005-06-06 13:00:00.213000+00:00</td>\n",
       "      <td>2005-06-06 13:00:00.213000+00:00</td>\n",
       "      <td>NaN</td>\n",
       "    </tr>\n",
       "    <tr>\n",
       "      <th>1</th>\n",
       "      <td>initial</td>\n",
       "      <td>gs://noaa-passive-bioacoustic/pifsc/audio/pipa...</td>\n",
       "      <td>13</td>\n",
       "      <td>True</td>\n",
       "      <td>True</td>\n",
       "      <td>Other</td>\n",
       "      <td>0.108</td>\n",
       "      <td>0.108</td>\n",
       "      <td>2005-06-06 14:15:00.108000+00:00</td>\n",
       "      <td>2005-06-06 14:15:00.108000+00:00</td>\n",
       "      <td>NaN</td>\n",
       "    </tr>\n",
       "    <tr>\n",
       "      <th>2</th>\n",
       "      <td>initial</td>\n",
       "      <td>gs://noaa-passive-bioacoustic/pifsc/audio/pipa...</td>\n",
       "      <td>5</td>\n",
       "      <td>True</td>\n",
       "      <td>True</td>\n",
       "      <td>Other</td>\n",
       "      <td>0.143</td>\n",
       "      <td>0.143</td>\n",
       "      <td>2005-07-02 04:00:00.143000+00:00</td>\n",
       "      <td>2005-07-02 04:00:00.143000+00:00</td>\n",
       "      <td>NaN</td>\n",
       "    </tr>\n",
       "    <tr>\n",
       "      <th>3</th>\n",
       "      <td>initial</td>\n",
       "      <td>gs://noaa-passive-bioacoustic/pifsc/audio/pipa...</td>\n",
       "      <td>17</td>\n",
       "      <td>True</td>\n",
       "      <td>True</td>\n",
       "      <td>Other</td>\n",
       "      <td>0.213</td>\n",
       "      <td>0.213</td>\n",
       "      <td>2005-07-02 05:15:00.213000+00:00</td>\n",
       "      <td>2005-07-02 05:15:00.213000+00:00</td>\n",
       "      <td>NaN</td>\n",
       "    </tr>\n",
       "    <tr>\n",
       "      <th>4</th>\n",
       "      <td>initial</td>\n",
       "      <td>gs://noaa-passive-bioacoustic/pifsc/audio/pipa...</td>\n",
       "      <td>22</td>\n",
       "      <td>True</td>\n",
       "      <td>True</td>\n",
       "      <td>Other</td>\n",
       "      <td>0.213</td>\n",
       "      <td>0.213</td>\n",
       "      <td>2005-08-01 10:15:00.213000+00:00</td>\n",
       "      <td>2005-08-01 10:15:00.213000+00:00</td>\n",
       "      <td>NaN</td>\n",
       "    </tr>\n",
       "  </tbody>\n",
       "</table>\n",
       "</div>"
      ],
      "text/plain": [
       "  audit_name                        flac_compressed_xwav_object  \\\n",
       "0    initial  gs://noaa-passive-bioacoustic/pifsc/audio/pipa...   \n",
       "1    initial  gs://noaa-passive-bioacoustic/pifsc/audio/pipa...   \n",
       "2    initial  gs://noaa-passive-bioacoustic/pifsc/audio/pipa...   \n",
       "3    initial  gs://noaa-passive-bioacoustic/pifsc/audio/pipa...   \n",
       "4    initial  gs://noaa-passive-bioacoustic/pifsc/audio/pipa...   \n",
       "\n",
       "   subchunk_index  label_is_strong  implicit_negatives  label  \\\n",
       "0               1             True                True  Other   \n",
       "1              13             True                True  Other   \n",
       "2               5             True                True  Other   \n",
       "3              17             True                True  Other   \n",
       "4              22             True                True  Other   \n",
       "\n",
       "   begin_rel_subchunk  end_rel_subchunk                         begin_utc  \\\n",
       "0               0.213             0.213  2005-06-06 13:00:00.213000+00:00   \n",
       "1               0.108             0.108  2005-06-06 14:15:00.108000+00:00   \n",
       "2               0.143             0.143  2005-07-02 04:00:00.143000+00:00   \n",
       "3               0.213             0.213  2005-07-02 05:15:00.213000+00:00   \n",
       "4               0.213             0.213  2005-08-01 10:15:00.213000+00:00   \n",
       "\n",
       "                            end_utc  hawaii_num  \n",
       "0  2005-06-06 13:00:00.213000+00:00         NaN  \n",
       "1  2005-06-06 14:15:00.108000+00:00         NaN  \n",
       "2  2005-07-02 04:00:00.143000+00:00         NaN  \n",
       "3  2005-07-02 05:15:00.213000+00:00         NaN  \n",
       "4  2005-08-01 10:15:00.213000+00:00         NaN  "
      ]
     },
     "execution_count": 2,
     "metadata": {},
     "output_type": "execute_result"
    }
   ],
   "source": [
    "df = pd.read_csv(\"data/pifsc_products_detections_annotations.csv\")\n",
    "\n",
    "# Fixes bug with hawaii \n",
    "df['hawaii_num'] = df[df['flac_compressed_xwav_object'].str.contains(\"pipan_hawaii_0/\")]['flac_compressed_xwav_object'].str.split(\"/\", expand=True).iloc[:, -1].str.split(\"_\", expand=True).loc[:, 2].astype(float)\n",
    "\n",
    "df.loc[:, \"flac_compressed_xwav_object\"] = df.apply(lambda x: x['flac_compressed_xwav_object'].replace(\"pipan_hawaii_0/\", f\"pipan_hawaii_{int(x['hawaii_num'])}/\") if not np.isnan(x[\"hawaii_num\"]) else x[\"flac_compressed_xwav_object\"], axis=1)\n",
    "\n",
    "df.head()"
   ]
  },
  {
   "cell_type": "code",
   "execution_count": 3,
   "id": "8c4a03ced35c8e88",
   "metadata": {
    "ExecuteTime": {
     "end_time": "2024-04-03T02:53:55.403054800Z",
     "start_time": "2024-04-03T02:53:55.381112900Z"
    },
    "collapsed": false,
    "jupyter": {
     "outputs_hidden": false
    }
   },
   "outputs": [
    {
     "data": {
      "text/plain": [
       "['Cross_A_01_050514_014345',\n",
       " 'Cross_A_01_050518_040230',\n",
       " 'Cross_A_01_050520_183000',\n",
       " 'Cross_A_01_050520_212731',\n",
       " 'Cross_A_01_050521_004500']"
      ]
     },
     "execution_count": 3,
     "metadata": {},
     "output_type": "execute_result"
    }
   ],
   "source": [
    "with open(\"file_manifest.txt\", \"r\") as f:\n",
    "    processed_files = f.readlines()\n",
    "processed_files = [f.strip().split(\".\")[0] for f in processed_files]\n",
    "processed_files[:5]"
   ]
  },
  {
   "cell_type": "code",
   "execution_count": 4,
   "id": "7f69a4aa18c7fbd5",
   "metadata": {
    "ExecuteTime": {
     "end_time": "2024-04-03T02:55:15.434061600Z",
     "start_time": "2024-04-03T02:55:14.889518100Z"
    },
    "collapsed": false,
    "jupyter": {
     "outputs_hidden": false
    }
   },
   "outputs": [
    {
     "name": "stdout",
     "output_type": "stream",
     "text": [
      "5294\n",
      "4282 1013\n"
     ]
    },
    {
     "data": {
      "text/plain": [
       "(['pifsc/audio/pipan/kingman/pipan_kingman_01/audio/Kingman_A_01_120204_054115.df20.x.flac',\n",
       "  'pifsc/audio/pipan/kingman/pipan_kingman_01/audio/Kingman_A_01_120206_022345.df20.x.flac',\n",
       "  'pifsc/audio/pipan/kingman/pipan_kingman_01/audio/Kingman_A_01_120207_004500.df20.x.flac',\n",
       "  'pifsc/audio/pipan/kingman/pipan_kingman_01/audio/Kingman_A_01_120207_230615.df20.x.flac',\n",
       "  'pifsc/audio/pipan/kingman/pipan_kingman_01/audio/Kingman_A_01_120208_080729.df20.x.flac'],\n",
       " 4282)"
      ]
     },
     "execution_count": 4,
     "metadata": {},
     "output_type": "execute_result"
    }
   ],
   "source": [
    "files = list(df['flac_compressed_xwav_object'].unique())\n",
    "files = [re.sub(\"gs://noaa-passive-bioacoustic/\", \"\", f) for f in files]\n",
    "print(len(files))\n",
    "new_files = []\n",
    "\n",
    "for file in files:\n",
    "    hold = False\n",
    "    for processed_file in processed_files:\n",
    "        if processed_file in file:\n",
    "            hold = True\n",
    "            break\n",
    "    if not hold:\n",
    "        new_files.append(file)\n",
    "    \n",
    "print(len(new_files), len(processed_files))\n",
    "files = new_files\n",
    "# files = files[0:1000]\n",
    "\n",
    "def download_many_blobs_with_transfer_manager(bucket_name, blob_names, destination_directory=\"\", workers=8):\n",
    "    storage_client = storage.Client.create_anonymous_client()\n",
    "    \n",
    "    bucket = storage_client.bucket(bucket_name)\n",
    "    \n",
    "    results = transfer_manager.download_many_to_path(bucket, blob_names, destination_directory=destination_directory, max_workers=workers)\n",
    "    \n",
    "    bad_results = []\n",
    "    for name, result in zip(blob_names, results):\n",
    "        if isinstance(result, Exception):\n",
    "            bad_results.append((name, result))\n",
    "            print(f\"Failed to download {name} due to exception {result}\")\n",
    "        else:\n",
    "            print(f\"Download of {name} succeeded\")\n",
    "\n",
    "    return bad_results\n",
    "files[:5], len(files)"
   ]
  },
  {
   "cell_type": "code",
   "execution_count": 7,
   "id": "95b3e797483811f",
   "metadata": {
    "ExecuteTime": {
     "end_time": "2024-04-03T02:55:32.969768500Z",
     "start_time": "2024-04-03T02:55:32.960792700Z"
    },
    "collapsed": false,
    "jupyter": {
     "outputs_hidden": false
    }
   },
   "outputs": [
    {
     "data": {
      "text/plain": [
       "(['pifsc/audio/pipan/saipan/pipan_saipan_06/audio/Saipan_A_06_160225_053445.df20.x.flac',\n",
       "  'pifsc/audio/pipan/saipan/pipan_saipan_06/audio/Saipan_A_06_160226_130100.df20.x.flac',\n",
       "  'pifsc/audio/pipan/saipan/pipan_saipan_06/audio/Saipan_A_06_160227_202515.df20.x.flac',\n",
       "  'pifsc/audio/pipan/saipan/pipan_saipan_06/audio/Saipan_A_06_160229_034229.df20.x.flac',\n",
       "  'pifsc/audio/pipan/saipan/pipan_saipan_06/audio/Saipan_A_06_160301_105945.df20.x.flac'],\n",
       " 3782)"
      ]
     },
     "execution_count": 7,
     "metadata": {},
     "output_type": "execute_result"
    }
   ],
   "source": [
    "downloaded_files = []\n",
    "for dirpath, dirnames, filenames in os.walk(\"D:/SonarData/downloads\"):\n",
    "    for filename in filenames:\n",
    "        downloaded_files.append(filename)\n",
    "        \n",
    "to_download = [f for f in files if f.split(\"/\")[-1] not in downloaded_files]\n",
    "to_download[:5], len(to_download)"
   ]
  },
  {
   "cell_type": "code",
   "execution_count": null,
   "id": "2f13ca6b-fdb7-47b1-8107-8ddc8e3d6481",
   "metadata": {},
   "outputs": [],
   "source": []
  },
  {
   "cell_type": "code",
   "execution_count": 6,
   "id": "659ab929b499c4f7",
   "metadata": {
    "ExecuteTime": {
     "end_time": "2024-03-31T05:05:26.231443300Z",
     "start_time": "2024-03-31T05:05:19.971848500Z"
    },
    "collapsed": false,
    "jupyter": {
     "outputs_hidden": false
    }
   },
   "outputs": [
    {
     "name": "stdout",
     "output_type": "stream",
     "text": [
      "Download of pifsc/audio/pipan/kingman/pipan_kingman_01/audio/Kingman_A_01_120204_054115.df20.x.flac succeeded\n",
      "Download of pifsc/audio/pipan/kingman/pipan_kingman_01/audio/Kingman_A_01_120206_022345.df20.x.flac succeeded\n",
      "Download of pifsc/audio/pipan/kingman/pipan_kingman_01/audio/Kingman_A_01_120207_004500.df20.x.flac succeeded\n",
      "Download of pifsc/audio/pipan/kingman/pipan_kingman_01/audio/Kingman_A_01_120207_230615.df20.x.flac succeeded\n",
      "Download of pifsc/audio/pipan/kingman/pipan_kingman_01/audio/Kingman_A_01_120208_080729.df20.x.flac succeeded\n",
      "Download of pifsc/audio/pipan/kingman/pipan_kingman_01/audio/Kingman_A_01_120209_062845.df20.x.flac succeeded\n",
      "Download of pifsc/audio/pipan/kingman/pipan_kingman_01/audio/Kingman_A_01_120211_031115.df20.x.flac succeeded\n",
      "Download of pifsc/audio/pipan/kingman/pipan_kingman_01/audio/Kingman_A_01_120212_013230.df20.x.flac succeeded\n",
      "Download of pifsc/audio/pipan/kingman/pipan_kingman_01/audio/Kingman_A_01_120212_235345.df20.x.flac succeeded\n",
      "Download of pifsc/audio/pipan/kingman/pipan_kingman_01/audio/Kingman_A_01_120213_221500.df20.x.flac succeeded\n",
      "Download of pifsc/audio/pipan/kingman/pipan_kingman_01/audio/Kingman_A_01_120214_203615.df20.x.flac succeeded\n",
      "Download of pifsc/audio/pipan/kingman/pipan_kingman_01/audio/Kingman_A_01_120215_185730.df20.x.flac succeeded\n",
      "Download of pifsc/audio/pipan/kingman/pipan_kingman_01/audio/Kingman_A_01_120218_140115.df20.x.flac succeeded\n",
      "Download of pifsc/audio/pipan/kingman/pipan_kingman_01/audio/Kingman_A_01_120219_122230.df20.x.flac succeeded\n",
      "Download of pifsc/audio/pipan/kingman/pipan_kingman_01/audio/Kingman_A_01_120220_104345.df20.x.flac succeeded\n",
      "Download of pifsc/audio/pipan/kingman/pipan_kingman_01/audio/Kingman_A_01_120221_090500.df20.x.flac succeeded\n",
      "Download of pifsc/audio/pipan/kingman/pipan_kingman_01/audio/Kingman_A_01_120222_072615.df20.x.flac succeeded\n",
      "Download of pifsc/audio/pipan/kingman/pipan_kingman_01/audio/Kingman_A_01_120223_054730.df20.x.flac succeeded\n",
      "Download of pifsc/audio/pipan/kingman/pipan_kingman_01/audio/Kingman_A_01_120224_040845.df20.x.flac succeeded\n",
      "Download of pifsc/audio/pipan/kingman/pipan_kingman_01/audio/Kingman_A_01_120225_023000.df20.x.flac succeeded\n",
      "Download of pifsc/audio/pipan/kingman/pipan_kingman_01/audio/Kingman_A_01_120226_093959.df20.x.flac succeeded\n",
      "Download of pifsc/audio/pipan/kingman/pipan_kingman_01/audio/Kingman_A_01_120227_080115.df20.x.flac succeeded\n",
      "Download of pifsc/audio/pipan/kingman/pipan_kingman_01/audio/Kingman_A_01_120228_062230.df20.x.flac succeeded\n",
      "Download of pifsc/audio/pipan/kingman/pipan_kingman_01/audio/Kingman_A_01_120229_044345.df20.x.flac succeeded\n",
      "Download of pifsc/audio/pipan/kingman/pipan_kingman_01/audio/Kingman_A_01_120301_030500.df20.x.flac succeeded\n",
      "Download of pifsc/audio/pipan/kingman/pipan_kingman_01/audio/Kingman_A_01_120302_012615.df20.x.flac succeeded\n",
      "Download of pifsc/audio/pipan/kingman/pipan_kingman_01/audio/Kingman_A_01_120302_234730.df20.x.flac succeeded\n",
      "Download of pifsc/audio/pipan/kingman/pipan_kingman_01/audio/Kingman_A_01_120303_220845.df20.x.flac succeeded\n",
      "Download of pifsc/audio/pipan/kingman/pipan_kingman_01/audio/Kingman_A_01_120304_064844.df20.x.flac succeeded\n",
      "Download of pifsc/audio/pipan/kingman/pipan_kingman_01/audio/Kingman_A_01_120305_051000.df20.x.flac succeeded\n",
      "Download of pifsc/audio/pipan/kingman/pipan_kingman_01/audio/Kingman_A_01_120306_033115.df20.x.flac succeeded\n",
      "Download of pifsc/audio/pipan/kingman/pipan_kingman_01/audio/Kingman_A_01_120306_065345.df20.x.flac succeeded\n",
      "Download of pifsc/audio/pipan/kingman/pipan_kingman_01/audio/Kingman_A_01_120307_051500.df20.x.flac succeeded\n",
      "Download of pifsc/audio/pipan/kingman/pipan_kingman_01/audio/Kingman_A_01_120309_015730.df20.x.flac succeeded\n",
      "Download of pifsc/audio/pipan/kingman/pipan_kingman_01/audio/Kingman_A_01_120310_001845.df20.x.flac succeeded\n",
      "Download of pifsc/audio/pipan/kingman/pipan_kingman_01/audio/Kingman_A_01_120310_224000.df20.x.flac succeeded\n",
      "Download of pifsc/audio/pipan/laddsm_d/pipan_laddsm_d_03/audio/Ladd_D_03_090608_080230.d20.x.flac succeeded\n",
      "Download of pifsc/audio/pipan/laddsm_d/pipan_laddsm_d_03/audio/Ladd_D_03_090709_051230.d20.x.flac succeeded\n",
      "Download of pifsc/audio/pipan/laddsm_d/pipan_laddsm_d_03/audio/Ladd_D_03_090712_233115.d20.x.flac succeeded\n",
      "Download of pifsc/audio/pipan/laddsm_d/pipan_laddsm_d_03/audio/Ladd_D_03_090713_004345.d20.x.flac succeeded\n",
      "Download of pifsc/audio/pipan/laddsm_d/pipan_laddsm_d_03/audio/Ladd_D_03_090724_233345.d20.x.flac succeeded\n",
      "Download of pifsc/audio/pipan/laddsm_d/pipan_laddsm_d_03/audio/Ladd_D_03_090725_120345.d20.x.flac succeeded\n",
      "Download of pifsc/audio/pipan/laddsm_d/pipan_laddsm_d_03/audio/Ladd_D_03_090815_163000.d20.x.flac succeeded\n",
      "Download of pifsc/audio/pipan/laddsm_d/pipan_laddsm_d_03/audio/Ladd_D_03_090815_174230.d20.x.flac succeeded\n",
      "Download of pifsc/audio/pipan/laddsm_d/pipan_laddsm_d_03/audio/Ladd_D_03_090815_190000.d20.x.flac succeeded\n",
      "Download of pifsc/audio/pipan/laddsm_d/pipan_laddsm_d_03/audio/Ladd_D_03_090815_201230.d20.x.flac succeeded\n",
      "Download of pifsc/audio/pipan/laddsm_d/pipan_laddsm_d_03/audio/Ladd_D_03_090815_213000.d20.x.flac succeeded\n",
      "Download of pifsc/audio/pipan/laddsm_s/pipan_laddsm_s_01/audio/Ladd_S_01_070405_163345.d20.x.flac succeeded\n",
      "Download of pifsc/audio/pipan/laddsm_s/pipan_laddsm_s_01/audio/Ladd_S_01_070411_034845.d20.x.flac succeeded\n",
      "Download of pifsc/audio/pipan/laddsm_s/pipan_laddsm_s_01/audio/Ladd_S_01_070411_073345.d20.x.flac succeeded\n",
      "Download of pifsc/audio/pipan/laddsm_s/pipan_laddsm_s_01/audio/Ladd_S_01_070411_093115.d20.x.flac succeeded\n",
      "Download of pifsc/audio/pipan/laddsm_s/pipan_laddsm_s_01/audio/Ladd_S_01_070411_111845.d20.x.flac succeeded\n",
      "Download of pifsc/audio/pipan/laddsm_s/pipan_laddsm_s_01/audio/Ladd_S_01_070411_131615.d20.x.flac succeeded\n",
      "Download of pifsc/audio/pipan/laddsm_s/pipan_laddsm_s_01/audio/Ladd_S_01_070412_041615.d20.x.flac succeeded\n",
      "Download of pifsc/audio/pipan/laddsm_s/pipan_laddsm_s_01/audio/Ladd_S_01_070415_113000.d20.x.flac succeeded\n",
      "Download of pifsc/audio/pipan/laddsm_s/pipan_laddsm_s_01/audio/Ladd_S_01_070418_143000.d20.x.flac succeeded\n",
      "Download of pifsc/audio/pipan/laddsm_s/pipan_laddsm_s_01/audio/Ladd_S_01_070418_234730.d20.x.flac succeeded\n",
      "Download of pifsc/audio/pipan/laddsm_s/pipan_laddsm_s_01/audio/Ladd_S_01_070419_164500.d20.x.flac succeeded\n",
      "Download of pifsc/audio/pipan/laddsm_s/pipan_laddsm_s_01/audio/Ladd_S_01_070419_183230.d20.x.flac succeeded\n",
      "Download of pifsc/audio/pipan/laddsm_s/pipan_laddsm_s_01/audio/Ladd_S_01_070419_203000.d20.x.flac succeeded\n",
      "Download of pifsc/audio/pipan/laddsm_s/pipan_laddsm_s_01/audio/Ladd_S_01_070419_221730.d20.x.flac succeeded\n",
      "Download of pifsc/audio/pipan/laddsm_s/pipan_laddsm_s_01/audio/Ladd_S_01_070420_001500.d20.x.flac succeeded\n",
      "Download of pifsc/audio/pipan/laddsm_s/pipan_laddsm_s_01/audio/Ladd_S_01_070420_151500.d20.x.flac succeeded\n",
      "Download of pifsc/audio/pipan/laddsm_s/pipan_laddsm_s_01/audio/Ladd_S_01_070420_170230.d20.x.flac succeeded\n",
      "Download of pifsc/audio/pipan/laddsm_s/pipan_laddsm_s_01/audio/Ladd_S_01_070424_183230.d20.x.flac succeeded\n",
      "Download of pifsc/audio/pipan/laddsm_s/pipan_laddsm_s_01/audio/Ladd_S_01_070424_203000.d20.x.flac succeeded\n",
      "Download of pifsc/audio/pipan/laddsm_s/pipan_laddsm_s_01/audio/Ladd_S_01_070425_001500.d20.x.flac succeeded\n",
      "Download of pifsc/audio/pipan/laddsm_s/pipan_laddsm_s_01/audio/Ladd_S_01_070425_093230.d20.x.flac succeeded\n",
      "Download of pifsc/audio/pipan/laddsm_s/pipan_laddsm_s_01/audio/Ladd_S_01_070425_113000.d20.x.flac succeeded\n",
      "Download of pifsc/audio/pipan/laddsm_s/pipan_laddsm_s_01/audio/Ladd_S_01_070425_131730.d20.x.flac succeeded\n",
      "Download of pifsc/audio/pipan/laddsm_s/pipan_laddsm_s_01/audio/Ladd_S_01_070425_134615.d20.x.flac succeeded\n",
      "Download of pifsc/audio/pipan/laddsm_s/pipan_laddsm_s_01/audio/Ladd_S_01_070425_153345.d20.x.flac succeeded\n",
      "Download of pifsc/audio/pipan/laddsm_s/pipan_laddsm_s_01/audio/Ladd_S_01_070425_173115.d20.x.flac succeeded\n",
      "Download of pifsc/audio/pipan/laddsm_s/pipan_laddsm_s_01/audio/Ladd_S_01_070425_191845.d20.x.flac succeeded\n",
      "Download of pifsc/audio/pipan/laddsm_s/pipan_laddsm_s_01/audio/Ladd_S_01_070425_230345.d20.x.flac succeeded\n",
      "Download of pifsc/audio/pipan/laddsm_s/pipan_laddsm_s_01/audio/Ladd_S_01_070426_010115.d20.x.flac succeeded\n",
      "Download of pifsc/audio/pipan/laddsm_s/pipan_laddsm_s_01/audio/Ladd_S_01_070426_024845.d20.x.flac succeeded\n",
      "Download of pifsc/audio/pipan/laddsm_s/pipan_laddsm_s_01/audio/Ladd_S_01_070426_044615.d20.x.flac succeeded\n",
      "Download of pifsc/audio/pipan/laddsm_s/pipan_laddsm_s_01/audio/Ladd_S_01_070426_160115.d20.x.flac succeeded\n",
      "Download of pifsc/audio/pipan/laddsm_s/pipan_laddsm_s_01/audio/Ladd_S_01_070426_174845.d20.x.flac succeeded\n",
      "Download of pifsc/audio/pipan/laddsm_s/pipan_laddsm_s_01/audio/Ladd_S_01_070426_194615.d20.x.flac succeeded\n",
      "Download of pifsc/audio/pipan/laddsm_s/pipan_laddsm_s_01/audio/Ladd_S_01_070427_011845.d20.x.flac succeeded\n",
      "Download of pifsc/audio/pipan/laddsm_s/pipan_laddsm_s_01/audio/Ladd_S_01_070427_050345.d20.x.flac succeeded\n",
      "Download of pifsc/audio/pipan/laddsm_s/pipan_laddsm_s_01/audio/Ladd_S_01_070427_181615.d20.x.flac succeeded\n",
      "Download of pifsc/audio/pipan/laddsm_s/pipan_laddsm_s_01/audio/Ladd_S_01_070428_014615.d20.x.flac succeeded\n",
      "Download of pifsc/audio/pipan/laddsm_s/pipan_laddsm_s_01/audio/Ladd_S_01_070428_110345.d20.x.flac succeeded\n",
      "Download of pifsc/audio/pipan/laddsm_s/pipan_laddsm_s_01/audio/Ladd_S_01_070428_164615.d20.x.flac succeeded\n",
      "Download of pifsc/audio/pipan/laddsm_s/pipan_laddsm_s_01/audio/Ladd_S_01_070502_200345.d20.x.flac succeeded\n",
      "Download of pifsc/audio/pipan/laddsm_s/pipan_laddsm_s_01/audio/Ladd_S_01_070504_170345.d20.x.flac succeeded\n",
      "Download of pifsc/audio/pipan/laddsm_s/pipan_laddsm_s_01/audio/Ladd_S_01_070504_204845.d20.x.flac succeeded\n",
      "Download of pifsc/audio/pipan/laddsm_s/pipan_laddsm_s_01/audio/Ladd_S_01_070504_224615.d20.x.flac succeeded\n",
      "Download of pifsc/audio/pipan/laddsm_s/pipan_laddsm_s_01/audio/Ladd_S_01_070510_180000.d20.x.flac succeeded\n",
      "Download of pifsc/audio/pipan/laddsm_s/pipan_laddsm_s_01/audio/Ladd_S_01_070510_194730.d20.x.flac succeeded\n",
      "Download of pifsc/audio/pipan/laddsm_s/pipan_laddsm_s_01/audio/Ladd_S_01_070516_150115.d20.x.flac succeeded\n",
      "Download of pifsc/audio/pipan/laddsm_s/pipan_laddsm_s_01/audio/Ladd_S_01_070517_001845.d20.x.flac succeeded\n",
      "Download of pifsc/audio/pipan/laddsm_s/pipan_laddsm_s_01/audio/Ladd_S_01_070517_060115.d20.x.flac succeeded\n",
      "Download of pifsc/audio/pipan/laddsm_s/pipan_laddsm_s_01/audio/Ladd_S_01_070517_094615.d20.x.flac succeeded\n",
      "Download of pifsc/audio/pipan/laddsm_s/pipan_laddsm_s_01/audio/Ladd_S_01_070530_170000.d20.x.flac succeeded\n",
      "Download of pifsc/audio/pipan/laddsm_s/pipan_laddsm_s_01/audio/Ladd_S_01_070531_041500.d20.x.flac succeeded\n",
      "Download of pifsc/audio/pipan/laddsm_s/pipan_laddsm_s_01/audio/Ladd_S_01_070602_161500.d20.x.flac succeeded\n",
      "Download of pifsc/audio/pipan/laddsm_s/pipan_laddsm_s_01/audio/Ladd_S_01_070602_234500.d20.x.flac succeeded\n",
      "Download of pifsc/audio/pipan/laddsm_s/pipan_laddsm_s_01/audio/Ladd_S_01_070603_201730.d20.x.flac succeeded\n",
      "Download of pifsc/audio/pipan/laddsm_s/pipan_laddsm_s_01/audio/Ladd_S_01_070604_020000.d20.x.flac succeeded\n",
      "Download of pifsc/audio/pipan/laddsm_s/pipan_laddsm_s_01/audio/Ladd_S_01_070605_174615.d20.x.flac succeeded\n",
      "Download of pifsc/audio/pipan/laddsm_s/pipan_laddsm_s_01/audio/Ladd_S_01_070606_180345.d20.x.flac succeeded\n",
      "Download of pifsc/audio/pipan/laddsm_s/pipan_laddsm_s_01/audio/Ladd_S_01_070606_200115.d20.x.flac succeeded\n",
      "Download of pifsc/audio/pipan/laddsm_s/pipan_laddsm_s_01/audio/Ladd_S_01_070614_021845.d20.x.flac succeeded\n",
      "Download of pifsc/audio/pipan/laddsm_s/pipan_laddsm_s_01/audio/Ladd_S_01_070707_160230.d20.x.flac succeeded\n",
      "Download of pifsc/audio/pipan/laddsm_s/pipan_laddsm_s_01/audio/Ladd_S_01_070708_090000.d20.x.flac succeeded\n",
      "Download of pifsc/audio/pipan/laddsm_s/pipan_laddsm_s_01/audio/Ladd_S_01_070710_113230.d20.x.flac succeeded\n",
      "Download of pifsc/audio/pipan/phr_a/pipan_phr_a_01/audio/PHR_A_01_100120_162345.df20.x.flac succeeded\n",
      "Download of pifsc/audio/pipan/phr_a/pipan_phr_a_01/audio/PHR_A_01_100130_124115.df20.x.flac succeeded\n",
      "Download of pifsc/audio/pipan/phr_a/pipan_phr_a_01/audio/PHR_A_01_100205_152230.df20.x.flac succeeded\n",
      "Download of pifsc/audio/pipan/phr_a/pipan_phr_a_01/audio/PHR_A_01_100209_084345.df20.x.flac succeeded\n",
      "Download of pifsc/audio/pipan/phr_a/pipan_phr_a_01/audio/PHR_A_01_100213_022000.df20.x.flac succeeded\n",
      "Download of pifsc/audio/pipan/phr_a/pipan_phr_a_01/audio/PHR_A_01_100219_050115.df20.x.flac succeeded\n",
      "Download of pifsc/audio/pipan/phr_a/pipan_phr_a_01/audio/PHR_A_01_100222_222230.df20.x.flac succeeded\n",
      "Download of pifsc/audio/pipan/phr_a/pipan_phr_a_01/audio/PHR_A_01_100226_154345.df20.x.flac succeeded\n",
      "Download of pifsc/audio/pipan/phr_a/pipan_phr_a_01/audio/PHR_A_01_100308_120115.df20.x.flac succeeded\n",
      "Download of pifsc/audio/pipan/phr_a/pipan_phr_a_01/audio/PHR_A_01_100312_052230.df20.x.flac succeeded\n",
      "Download of pifsc/audio/pipan/phr_a/pipan_phr_a_01/audio/PHR_A_01_100412_022000.df20.x.flac succeeded\n",
      "Download of pifsc/audio/pipan/phr_a/pipan_phr_a_01/audio/PHR_A_01_100414_114000.df20.x.flac succeeded\n",
      "Download of pifsc/audio/pipan/phr_a/pipan_phr_a_02/audio/PHR_A_02_100623_045730.df20.x.flac succeeded\n",
      "Download of pifsc/audio/pipan/phr_a/pipan_phr_a_02/audio/PHR_A_02_100813_094500.df20.x.flac succeeded\n",
      "Download of pifsc/audio/pipan/phr_a/pipan_phr_a_04/audio/PHR_A_04_110412_221845.df20.x.flac succeeded\n",
      "Download of pifsc/audio/pipan/phr_a/pipan_phr_a_04/audio/PHR_A_04_110413_204000.df20.x.flac succeeded\n",
      "Download of pifsc/audio/pipan/phr_a/pipan_phr_a_04/audio/PHR_A_04_110418_183345.df20.x.flac succeeded\n",
      "Download of pifsc/audio/pipan/phr_a/pipan_phr_a_04/audio/PHR_A_04_110506_234845.df20.x.flac succeeded\n",
      "Download of pifsc/audio/pipan/phr_a/pipan_phr_a_05/audio/PHR_A_05_110903_185715.df20.x.flac succeeded\n",
      "Download of pifsc/audio/pipan/phr_a/pipan_phr_a_05/audio/PHR_A_05_110921_002744.df20.x.flac succeeded\n",
      "Download of pifsc/audio/pipan/phr_a/pipan_phr_a_05/audio/PHR_A_05_111101_222515.df20.x.flac succeeded\n",
      "Download of pifsc/audio/pipan/phr_a/pipan_phr_a_05/audio/PHR_A_05_111229_162400.df20.x.flac succeeded\n",
      "Download of pifsc/audio/pipan/phr_a/pipan_phr_a_05/audio/PHR_A_05_120102_015545.df20.x.flac succeeded\n",
      "Download of pifsc/audio/pipan/phr_a/pipan_phr_a_05/audio/PHR_A_05_120105_205559.df20.x.flac succeeded\n",
      "Download of pifsc/audio/pipan/phr_a/pipan_phr_a_06/audio/PHR_A_06_120819_144115.df20.x.flac succeeded\n",
      "Download of pifsc/audio/pipan/phr_a/pipan_phr_a_06/audio/PHR_A_06_120824_062230.df20.x.flac succeeded\n",
      "Download of pifsc/audio/pipan/phr_a/pipan_phr_a_06/audio/PHR_A_06_120828_220345.df20.x.flac succeeded\n",
      "Download of pifsc/audio/pipan/phr_a/pipan_phr_a_06/audio/PHR_A_06_120902_140500.df20.x.flac succeeded\n",
      "Download of pifsc/audio/pipan/phr_a/pipan_phr_a_06/audio/PHR_A_06_120907_054615.df20.x.flac succeeded\n",
      "Download of pifsc/audio/pipan/phr_a/pipan_phr_a_06/audio/PHR_A_06_120911_212730.df20.x.flac succeeded\n",
      "Download of pifsc/audio/pipan/phr_a/pipan_phr_a_06/audio/PHR_A_06_120916_130845.df20.x.flac succeeded\n",
      "Download of pifsc/audio/pipan/phr_a/pipan_phr_a_06/audio/PHR_A_06_120921_051000.df20.x.flac succeeded\n",
      "Download of pifsc/audio/pipan/phr_a/pipan_phr_a_06/audio/PHR_A_06_120925_205115.df20.x.flac succeeded\n",
      "Download of pifsc/audio/pipan/phr_a/pipan_phr_a_06/audio/PHR_A_06_120930_123230.df20.x.flac succeeded\n",
      "Download of pifsc/audio/pipan/phr_a/pipan_phr_a_06/audio/PHR_A_06_121012_211000.df20.x.flac succeeded\n",
      "Download of pifsc/audio/pipan/phr_a/pipan_phr_a_06/audio/PHR_A_06_121221_172845.df20.x.flac succeeded\n",
      "Download of pifsc/audio/pipan/phr_a/pipan_phr_a_06/audio/PHR_A_06_121231_011115.df20.x.flac succeeded\n",
      "Download of pifsc/audio/pipan/phr_a/pipan_phr_a_06/audio/PHR_A_06_130105_184115.df20.x.flac succeeded\n",
      "Download of pifsc/audio/pipan/phr_a/pipan_phr_a_06/audio/PHR_A_06_130110_102230.df20.x.flac succeeded\n",
      "Download of pifsc/audio/pipan/phr_a/pipan_phr_a_06/audio/PHR_A_06_130115_020345.df20.x.flac succeeded\n",
      "Download of pifsc/audio/pipan/phr_a/pipan_phr_a_06/audio/PHR_A_06_130119_180500.df20.x.flac succeeded\n",
      "Download of pifsc/audio/pipan/phr_a/pipan_phr_a_06/audio/PHR_A_06_130124_094615.df20.x.flac succeeded\n",
      "Download of pifsc/audio/pipan/phr_a/pipan_phr_a_06/audio/PHR_A_06_130129_012730.df20.x.flac succeeded\n",
      "Download of pifsc/audio/pipan/phr_a/pipan_phr_a_06/audio/PHR_A_06_130202_170845.df20.x.flac succeeded\n",
      "Download of pifsc/audio/pipan/phr_a/pipan_phr_a_06/audio/PHR_A_06_130207_091000.df20.x.flac succeeded\n",
      "Download of pifsc/audio/pipan/phr_a/pipan_phr_a_06/audio/PHR_A_06_130212_005115.df20.x.flac succeeded\n",
      "Download of pifsc/audio/pipan/phr_a/pipan_phr_a_06/audio/PHR_A_06_130221_081345.df20.x.flac succeeded\n",
      "Download of pifsc/audio/pipan/phr_a/pipan_phr_a_06/audio/PHR_A_06_130302_155615.df20.x.flac succeeded\n",
      "Download of pifsc/audio/pipan/phr_a/pipan_phr_a_06/audio/PHR_A_06_130307_073730.df20.x.flac succeeded\n",
      "Download of pifsc/audio/pipan/phr_a/pipan_phr_a_06/audio/PHR_A_06_130321_070115.df20.x.flac succeeded\n",
      "Download of pifsc/audio/pipan/phr_a/pipan_phr_a_06/audio/PHR_A_06_130325_224230.df20.x.flac succeeded\n",
      "Download of pifsc/audio/pipan/phr_a/pipan_phr_a_06/audio/PHR_A_06_130330_142345.df20.x.flac succeeded\n",
      "Download of pifsc/audio/pipan/phr_a/pipan_phr_a_06/audio/PHR_A_06_130404_062500.df20.x.flac succeeded\n",
      "Download of pifsc/audio/pipan/phr_a/pipan_phr_a_06/audio/PHR_A_06_130406_050729.df20.x.flac succeeded\n",
      "Download of pifsc/audio/pipan/phr_a/pipan_phr_a_06/audio/PHR_A_06_130420_043115.df20.x.flac succeeded\n",
      "Download of pifsc/audio/pipan/phr_a/pipan_phr_a_06/audio/PHR_A_06_130527_104115.df20.x.flac succeeded\n",
      "Download of pifsc/audio/pipan/palmyra_ns/pipan_palmyra_ns_07/audio/Palmyra_NS_07_090625_232115.d20.x.flac succeeded\n",
      "Download of pifsc/audio/pipan/palmyra_ns/pipan_palmyra_ns_08/audio/Palmyra_NS_08_091003_061300.df20.x.flac succeeded\n",
      "Download of pifsc/audio/pipan/palmyra_ns/pipan_palmyra_ns_09/audio/Palmyra_NS_09_100710_134731.df20.x.flac succeeded\n",
      "Download of pifsc/audio/pipan/palmyra_ns/pipan_palmyra_ns_09/audio/Palmyra_NS_09_100802_154616.df20.x.flac succeeded\n",
      "Download of pifsc/audio/pipan/palmyra_ns/pipan_palmyra_ns_09/audio/Palmyra_NS_09_100806_151846.df20.x.flac succeeded\n",
      "Download of pifsc/audio/pipan/palmyra_ns/pipan_palmyra_ns_09/audio/Palmyra_NS_09_100813_092846.df20.x.flac succeeded\n",
      "Download of pifsc/audio/pipan/palmyra_ns/pipan_palmyra_ns_09/audio/Palmyra_NS_09_100817_025346.df20.x.flac succeeded\n",
      "Download of pifsc/audio/pipan/palmyra_ns/pipan_palmyra_ns_09/audio/Palmyra_NS_09_100824_222616.df20.x.flac succeeded\n",
      "Download of pifsc/audio/pipan/palmyra_wt/pipan_palmyra_wt_04/audio/Palmyra_WT_04_070925_160521.df20.x.flac succeeded\n",
      "Download of pifsc/audio/pipan/palmyra_wt/pipan_palmyra_wt_04/audio/Palmyra_WT_04_070929_093021.df20.x.flac succeeded\n",
      "Download of pifsc/audio/pipan/palmyra_wt/pipan_palmyra_wt_04/audio/Palmyra_WT_04_071009_054021.df20.x.flac succeeded\n",
      "Download of pifsc/audio/pipan/palmyra_wt/pipan_palmyra_wt_04/audio/Palmyra_WT_04_071019_015021.df20.x.flac succeeded\n",
      "Download of pifsc/audio/pipan/palmyra_wt/pipan_palmyra_wt_04/audio/Palmyra_WT_04_071026_124021.df20.x.flac succeeded\n",
      "Download of pifsc/audio/pipan/palmyra_wt/pipan_palmyra_wt_04/audio/Palmyra_WT_04_071101_152521.df20.x.flac succeeded\n",
      "Download of pifsc/audio/pipan/palmyra_wt/pipan_palmyra_wt_04/audio/Palmyra_WT_04_071112_153732.df20.x.flac succeeded\n",
      "Download of pifsc/audio/pipan/palmyra_wt/pipan_palmyra_wt_04/audio/Palmyra_WT_04_071120_225950.df20.x.flac succeeded\n",
      "Download of pifsc/audio/pipan/palmyra_wt/pipan_palmyra_wt_04/audio/Palmyra_WT_04_071127_134742.df20.x.flac succeeded\n",
      "Download of pifsc/audio/pipan/palmyra_wt/pipan_palmyra_wt_04/audio/Palmyra_WT_04_071128_141157.df20.x.flac succeeded\n",
      "Download of pifsc/audio/pipan/palmyra_wt/pipan_palmyra_wt_04/audio/Palmyra_WT_04_071130_201521.df20.x.flac succeeded\n",
      "Download of pifsc/audio/pipan/palmyra_wt/pipan_palmyra_wt_04/audio/Palmyra_WT_04_071204_134021.df20.x.flac succeeded\n",
      "Download of pifsc/audio/pipan/palmyra_wt/pipan_palmyra_wt_04/audio/Palmyra_WT_04_071208_084521.df20.x.flac succeeded\n",
      "Download of pifsc/audio/pipan/palmyra_wt/pipan_palmyra_wt_04/audio/Palmyra_WT_04_071214_113021.df20.x.flac succeeded\n",
      "Download of pifsc/audio/pipan/palmyra_wt/pipan_palmyra_wt_04/audio/Palmyra_WT_04_071228_010521.df20.x.flac succeeded\n",
      "Download of pifsc/audio/pipan/palmyra_wt/pipan_palmyra_wt_04/audio/Palmyra_WT_04_080104_115521.df20.x.flac succeeded\n",
      "Download of pifsc/audio/pipan/palmyra_wt/pipan_palmyra_wt_04/audio/Palmyra_WT_04_080108_052021.df20.x.flac succeeded\n",
      "Download of pifsc/audio/pipan/palmyra_wt/pipan_palmyra_wt_06/audio/Palmyra_WT_06_081024_114345.d20.x.flac succeeded\n",
      "Download of pifsc/audio/pipan/palmyra_wt/pipan_palmyra_wt_06/audio/Palmyra_WT_06_081204_194000.d20.x.flac succeeded\n",
      "Download of pifsc/audio/pipan/palmyra_wt/pipan_palmyra_wt_06/audio/Palmyra_WT_06_090106_060635.d20.x.flac succeeded\n",
      "Download of pifsc/audio/pipan/palmyra_wt/pipan_palmyra_wt_06/audio/Palmyra_WT_06_090213_140043.d20.x.flac succeeded\n",
      "Download of pifsc/audio/pipan/palmyra_wt/pipan_palmyra_wt_06/audio/Palmyra_WT_06_090221_220043.d20.x.flac succeeded\n",
      "Download of pifsc/audio/pipan/palmyra_wt/pipan_palmyra_wt_06/audio/Palmyra_WT_06_090223_212313.d20.x.flac succeeded\n",
      "Download of pifsc/audio/pipan/saipan/pipan_saipan_01/audio/Saipan_A_01_100204_011630.df20.x.flac succeeded\n",
      "Download of pifsc/audio/pipan/saipan/pipan_saipan_01/audio/Saipan_A_01_100319_204345.df20.x.flac succeeded\n",
      "Download of pifsc/audio/pipan/saipan/pipan_saipan_01/audio/Saipan_A_01_100327_080000.df20.x.flac succeeded\n",
      "Download of pifsc/audio/pipan/saipan/pipan_saipan_01/audio/Saipan_A_01_100713_204000.df20.x.flac succeeded\n",
      "Download of pifsc/audio/pipan/saipan/pipan_saipan_02/audio/Saipan_A_02_110405_040800.df20.x.flac succeeded\n",
      "Download of pifsc/audio/pipan/saipan/pipan_saipan_02/audio/Saipan_A_02_110621_210230.df20.x.flac succeeded\n",
      "Download of pifsc/audio/pipan/saipan/pipan_saipan_02/audio/Saipan_A_02_110703_012115.df20.x.flac succeeded\n",
      "Download of pifsc/audio/pipan/saipan/pipan_saipan_02/audio/Saipan_A_02_110719_122115.df20.x.flac succeeded\n",
      "Download of pifsc/audio/pipan/saipan/pipan_saipan_02/audio/Saipan_A_02_110726_230345.df20.x.flac succeeded\n",
      "Download of pifsc/audio/pipan/saipan/pipan_saipan_02/audio/Saipan_A_02_110730_164000.df20.x.flac succeeded\n",
      "Download of pifsc/audio/pipan/saipan/pipan_saipan_02/audio/Saipan_A_02_110822_010230.df20.x.flac succeeded\n",
      "Download of pifsc/audio/pipan/saipan/pipan_saipan_02/audio/Saipan_A_02_110829_120000.df20.x.flac succeeded\n",
      "Download of pifsc/audio/pipan/saipan/pipan_saipan_03/audio/Saipan_A_03_120710_024915.df20.x.flac succeeded\n",
      "Download of pifsc/audio/pipan/saipan/pipan_saipan_03/audio/Saipan_A_03_120711_053830.df20.x.flac succeeded\n",
      "Download of pifsc/audio/pipan/saipan/pipan_saipan_03/audio/Saipan_A_03_120815_193345.df20.x.flac succeeded\n",
      "Download of pifsc/audio/pipan/saipan/pipan_saipan_03/audio/Saipan_A_03_120910_234200.df20.x.flac succeeded\n",
      "Download of pifsc/audio/pipan/saipan/pipan_saipan_03/audio/Saipan_A_03_120923_175630.df20.x.flac succeeded\n",
      "Download of pifsc/audio/pipan/saipan/pipan_saipan_03/audio/Saipan_A_03_120925_234200.df20.x.flac succeeded\n",
      "Download of pifsc/audio/pipan/saipan/pipan_saipan_03/audio/Saipan_A_03_121001_134915.df20.x.flac succeeded\n",
      "Download of pifsc/audio/pipan/saipan/pipan_saipan_03/audio/Saipan_A_03_121003_192745.df20.x.flac succeeded\n",
      "Download of pifsc/audio/pipan/saipan/pipan_saipan_03/audio/Saipan_A_03_121024_093115.df20.x.flac succeeded\n",
      "Download of pifsc/audio/pipan/saipan/pipan_saipan_03/audio/Saipan_A_03_121029_080115.df20.x.flac succeeded\n",
      "Download of pifsc/audio/pipan/saipan/pipan_saipan_03/audio/Saipan_A_03_121030_105030.df20.x.flac succeeded\n",
      "Download of pifsc/audio/pipan/saipan/pipan_saipan_03/audio/Saipan_A_03_121201_050945.df20.x.flac succeeded\n",
      "Download of pifsc/audio/pipan/saipan/pipan_saipan_03/audio/Saipan_A_03_121210_150000.df20.x.flac succeeded\n",
      "Download of pifsc/audio/pipan/saipan/pipan_saipan_03/audio/Saipan_A_03_121228_121200.df20.x.flac succeeded\n",
      "Download of pifsc/audio/pipan/saipan/pipan_saipan_03/audio/Saipan_A_03_121229_150115.df20.x.flac succeeded\n",
      "Download of pifsc/audio/pipan/saipan/pipan_saipan_03/audio/Saipan_A_03_121230_175030.df20.x.flac succeeded\n",
      "Download of pifsc/audio/pipan/saipan/pipan_saipan_03/audio/Saipan_A_03_130101_075400.df20.x.flac succeeded\n",
      "Download of pifsc/audio/pipan/saipan/pipan_saipan_03/audio/Saipan_A_03_130102_104315.df20.x.flac succeeded\n",
      "Download of pifsc/audio/pipan/saipan/pipan_saipan_03/audio/Saipan_A_03_130103_133230.df20.x.flac succeeded\n",
      "Download of pifsc/audio/pipan/saipan/pipan_saipan_03/audio/Saipan_A_03_130104_162145.df20.x.flac succeeded\n",
      "Download of pifsc/audio/pipan/saipan/pipan_saipan_03/audio/Saipan_A_03_130105_191200.df20.x.flac succeeded\n",
      "Download of pifsc/audio/pipan/saipan/pipan_saipan_03/audio/Saipan_A_03_130106_220115.df20.x.flac succeeded\n",
      "Download of pifsc/audio/pipan/saipan/pipan_saipan_03/audio/Saipan_A_03_130108_005030.df20.x.flac succeeded\n",
      "Download of pifsc/audio/pipan/saipan/pipan_saipan_03/audio/Saipan_A_03_130109_033945.df20.x.flac succeeded\n",
      "Download of pifsc/audio/pipan/saipan/pipan_saipan_03/audio/Saipan_A_03_130110_063000.df20.x.flac succeeded\n",
      "Download of pifsc/audio/pipan/saipan/pipan_saipan_03/audio/Saipan_A_03_130111_091915.df20.x.flac succeeded\n",
      "Download of pifsc/audio/pipan/saipan/pipan_saipan_03/audio/Saipan_A_03_130112_120830.df20.x.flac succeeded\n",
      "Download of pifsc/audio/pipan/saipan/pipan_saipan_03/audio/Saipan_A_03_130113_145745.df20.x.flac succeeded\n",
      "Download of pifsc/audio/pipan/saipan/pipan_saipan_03/audio/Saipan_A_03_130114_174800.df20.x.flac succeeded\n",
      "Download of pifsc/audio/pipan/saipan/pipan_saipan_03/audio/Saipan_A_03_130115_203715.df20.x.flac succeeded\n",
      "Download of pifsc/audio/pipan/saipan/pipan_saipan_03/audio/Saipan_A_03_130116_232630.df20.x.flac succeeded\n",
      "Download of pifsc/audio/pipan/saipan/pipan_saipan_03/audio/Saipan_A_03_130118_021545.df20.x.flac succeeded\n",
      "Download of pifsc/audio/pipan/saipan/pipan_saipan_03/audio/Saipan_A_03_130119_050600.df20.x.flac succeeded\n",
      "Download of pifsc/audio/pipan/saipan/pipan_saipan_03/audio/Saipan_A_03_130120_075515.df20.x.flac succeeded\n",
      "Download of pifsc/audio/pipan/saipan/pipan_saipan_03/audio/Saipan_A_03_130121_104430.df20.x.flac succeeded\n",
      "Download of pifsc/audio/pipan/saipan/pipan_saipan_03/audio/Saipan_A_03_130125_062630.df20.x.flac succeeded\n",
      "Download of pifsc/audio/pipan/saipan/pipan_saipan_03/audio/Saipan_A_03_130127_120600.df20.x.flac succeeded\n",
      "Download of pifsc/audio/pipan/saipan/pipan_saipan_03/audio/Saipan_A_03_130128_145515.df20.x.flac succeeded\n",
      "Download of pifsc/audio/pipan/saipan/pipan_saipan_03/audio/Saipan_A_03_130130_203345.df20.x.flac succeeded\n",
      "Download of pifsc/audio/pipan/saipan/pipan_saipan_03/audio/Saipan_A_03_130203_050230.df20.x.flac succeeded\n",
      "Download of pifsc/audio/pipan/saipan/pipan_saipan_03/audio/Saipan_A_03_130204_075145.df20.x.flac succeeded\n",
      "Download of pifsc/audio/pipan/saipan/pipan_saipan_03/audio/Saipan_A_03_130205_104200.df20.x.flac succeeded\n",
      "Download of pifsc/audio/pipan/saipan/pipan_saipan_03/audio/Saipan_A_03_130206_133115.df20.x.flac succeeded\n",
      "Download of pifsc/audio/pipan/saipan/pipan_saipan_03/audio/Saipan_A_03_130209_220000.df20.x.flac succeeded\n",
      "Download of pifsc/audio/pipan/saipan/pipan_saipan_03/audio/Saipan_A_03_130211_004915.df20.x.flac succeeded\n",
      "Download of pifsc/audio/pipan/saipan/pipan_saipan_03/audio/Saipan_A_03_130212_033830.df20.x.flac succeeded\n",
      "Download of pifsc/audio/pipan/saipan/pipan_saipan_03/audio/Saipan_A_03_130213_062745.df20.x.flac succeeded\n",
      "Download of pifsc/audio/pipan/saipan/pipan_saipan_03/audio/Saipan_A_03_130213_173714.df20.x.flac succeeded\n",
      "Download of pifsc/audio/pipan/saipan/pipan_saipan_03/audio/Saipan_A_03_130214_202630.df20.x.flac succeeded\n",
      "Download of pifsc/audio/pipan/saipan/pipan_saipan_03/audio/Saipan_A_03_130221_132400.df20.x.flac succeeded\n",
      "Download of pifsc/audio/pipan/saipan/pipan_saipan_03/audio/Saipan_A_03_130222_161315.df20.x.flac succeeded\n",
      "Download of pifsc/audio/pipan/saipan/pipan_saipan_03/audio/Saipan_A_03_130223_190230.df20.x.flac succeeded\n",
      "Download of pifsc/audio/pipan/saipan/pipan_saipan_03/audio/Saipan_A_03_130227_033115.df20.x.flac succeeded\n",
      "Download of pifsc/audio/pipan/saipan/pipan_saipan_03/audio/Saipan_A_03_130228_062030.df20.x.flac succeeded\n",
      "Download of pifsc/audio/pipan/saipan/pipan_saipan_03/audio/Saipan_A_03_130301_090945.df20.x.flac succeeded\n",
      "Download of pifsc/audio/pipan/saipan/pipan_saipan_03/audio/Saipan_A_03_130302_120000.df20.x.flac succeeded\n",
      "Download of pifsc/audio/pipan/saipan/pipan_saipan_03/audio/Saipan_A_03_130303_144915.df20.x.flac succeeded\n",
      "Download of pifsc/audio/pipan/saipan/pipan_saipan_03/audio/Saipan_A_03_130304_173830.df20.x.flac succeeded\n",
      "Download of pifsc/audio/pipan/saipan/pipan_saipan_03/audio/Saipan_A_03_130306_231800.df20.x.flac succeeded\n",
      "Download of pifsc/audio/pipan/saipan/pipan_saipan_03/audio/Saipan_A_03_130307_102744.df20.x.flac succeeded\n",
      "Download of pifsc/audio/pipan/saipan/pipan_saipan_03/audio/Saipan_A_03_130308_131800.df20.x.flac succeeded\n",
      "Download of pifsc/audio/pipan/saipan/pipan_saipan_04/audio/Saipan_A_04_130802_101615.df20.x.flac succeeded\n",
      "Download of pifsc/audio/pipan/saipan/pipan_saipan_04/audio/Saipan_A_04_130807_152715.df20.x.flac succeeded\n",
      "Download of pifsc/audio/pipan/saipan/pipan_saipan_04/audio/Saipan_A_04_130808_224430.df20.x.flac succeeded\n",
      "Download of pifsc/audio/pipan/saipan/pipan_saipan_04/audio/Saipan_A_04_130811_132100.df20.x.flac succeeded\n",
      "Download of pifsc/audio/pipan/saipan/pipan_saipan_04/audio/Saipan_A_04_130815_111245.df20.x.flac succeeded\n",
      "Download of pifsc/audio/pipan/saipan/pipan_saipan_04/audio/Saipan_A_04_130819_220915.df20.x.flac succeeded\n",
      "Download of pifsc/audio/pipan/saipan/pipan_saipan_04/audio/Saipan_A_04_130822_124345.df20.x.flac succeeded\n",
      "Download of pifsc/audio/pipan/saipan/pipan_saipan_04/audio/Saipan_A_04_130823_200300.df20.x.flac succeeded\n",
      "Download of pifsc/audio/pipan/saipan/pipan_saipan_04/audio/Saipan_A_04_130905_205930.df20.x.flac succeeded\n",
      "Download of pifsc/audio/pipan/saipan/pipan_saipan_04/audio/Saipan_A_04_130914_055215.df20.x.flac succeeded\n",
      "Download of pifsc/audio/pipan/saipan/pipan_saipan_04/audio/Saipan_A_04_130925_233130.df20.x.flac succeeded\n",
      "Download of pifsc/audio/pipan/saipan/pipan_saipan_04/audio/Saipan_A_04_131005_023615.df20.x.flac succeeded\n",
      "Download of pifsc/audio/pipan/saipan/pipan_saipan_04/audio/Saipan_A_04_131006_225844.df20.x.flac succeeded\n",
      "Download of pifsc/audio/pipan/saipan/pipan_saipan_04/audio/Saipan_A_04_131019_235715.df20.x.flac succeeded\n",
      "Download of pifsc/audio/pipan/saipan/pipan_saipan_04/audio/Saipan_A_04_131021_071430.df20.x.flac succeeded\n",
      "Download of pifsc/audio/pipan/saipan/pipan_saipan_04/audio/Saipan_A_04_131022_143145.df20.x.flac succeeded\n",
      "Download of pifsc/audio/pipan/saipan/pipan_saipan_04/audio/Saipan_A_04_131023_215100.df20.x.flac succeeded\n",
      "Download of pifsc/audio/pipan/saipan/pipan_saipan_04/audio/Saipan_A_04_131025_050815.df20.x.flac succeeded\n",
      "Download of pifsc/audio/pipan/saipan/pipan_saipan_04/audio/Saipan_A_04_131026_122530.df20.x.flac succeeded\n",
      "Download of pifsc/audio/pipan/saipan/pipan_saipan_04/audio/Saipan_A_04_131031_173630.df20.x.flac succeeded\n",
      "Download of pifsc/audio/pipan/saipan/pipan_saipan_04/audio/Saipan_A_04_131110_094400.df20.x.flac succeeded\n",
      "Download of pifsc/audio/pipan/saipan/pipan_saipan_04/audio/Saipan_A_04_131126_142215.df20.x.flac succeeded\n",
      "Download of pifsc/audio/pipan/saipan/pipan_saipan_04/audio/Saipan_A_04_131127_213930.df20.x.flac succeeded\n",
      "Download of pifsc/audio/pipan/saipan/pipan_saipan_04/audio/Saipan_A_04_131129_045645.df20.x.flac succeeded\n",
      "Download of pifsc/audio/pipan/saipan/pipan_saipan_04/audio/Saipan_A_04_131130_121600.df20.x.flac succeeded\n",
      "Download of pifsc/audio/pipan/saipan/pipan_saipan_04/audio/Saipan_A_04_131201_193315.df20.x.flac succeeded\n",
      "Download of pifsc/audio/pipan/saipan/pipan_saipan_04/audio/Saipan_A_04_131203_025030.df20.x.flac succeeded\n",
      "Download of pifsc/audio/pipan/saipan/pipan_saipan_04/audio/Saipan_A_04_131204_100745.df20.x.flac succeeded\n",
      "Download of pifsc/audio/pipan/saipan/pipan_saipan_04/audio/Saipan_A_04_131205_172700.df20.x.flac succeeded\n",
      "Download of pifsc/audio/pipan/saipan/pipan_saipan_04/audio/Saipan_A_04_131207_004415.df20.x.flac succeeded\n",
      "Download of pifsc/audio/pipan/saipan/pipan_saipan_04/audio/Saipan_A_04_131208_080130.df20.x.flac succeeded\n",
      "Download of pifsc/audio/pipan/saipan/pipan_saipan_04/audio/Saipan_A_04_131209_151845.df20.x.flac succeeded\n",
      "Download of pifsc/audio/pipan/saipan/pipan_saipan_04/audio/Saipan_A_04_131210_223800.df20.x.flac succeeded\n",
      "Download of pifsc/audio/pipan/saipan/pipan_saipan_04/audio/Saipan_A_04_131214_202945.df20.x.flac succeeded\n",
      "Download of pifsc/audio/pipan/saipan/pipan_saipan_04/audio/Saipan_A_04_131216_034900.df20.x.flac succeeded\n",
      "Download of pifsc/audio/pipan/saipan/pipan_saipan_04/audio/Saipan_A_04_131217_110615.df20.x.flac succeeded\n",
      "Download of pifsc/audio/pipan/saipan/pipan_saipan_04/audio/Saipan_A_04_131218_182330.df20.x.flac succeeded\n",
      "Download of pifsc/audio/pipan/saipan/pipan_saipan_04/audio/Saipan_A_04_131220_014045.df20.x.flac succeeded\n",
      "Download of pifsc/audio/pipan/saipan/pipan_saipan_04/audio/Saipan_A_04_131221_090000.df20.x.flac succeeded\n",
      "Download of pifsc/audio/pipan/saipan/pipan_saipan_04/audio/Saipan_A_04_140105_061400.df20.x.flac succeeded\n",
      "Download of pifsc/audio/pipan/saipan/pipan_saipan_04/audio/Saipan_A_04_140109_040545.df20.x.flac succeeded\n",
      "Download of pifsc/audio/pipan/saipan/pipan_saipan_04/audio/Saipan_A_04_140115_163600.df20.x.flac succeeded\n",
      "Download of pifsc/audio/pipan/saipan/pipan_saipan_04/audio/Saipan_A_04_140116_054000.df20.x.flac succeeded\n",
      "Download of pifsc/audio/pipan/saipan/pipan_saipan_04/audio/Saipan_A_04_140117_125715.df20.x.flac succeeded\n",
      "Download of pifsc/audio/pipan/saipan/pipan_saipan_05/audio/Saipan_A_05_140619_071245.df20.x.flac succeeded\n",
      "Download of pifsc/audio/pipan/saipan/pipan_saipan_05/audio/Saipan_A_05_140621_214915.df20.x.flac succeeded\n",
      "Download of pifsc/audio/pipan/saipan/pipan_saipan_05/audio/Saipan_A_05_140625_194300.df20.x.flac succeeded\n",
      "Download of pifsc/audio/pipan/saipan/pipan_saipan_05/audio/Saipan_A_05_140629_173445.df20.x.flac succeeded\n",
      "Download of pifsc/audio/pipan/saipan/pipan_saipan_05/audio/Saipan_A_05_140703_153530.df20.x.flac succeeded\n",
      "Download of pifsc/audio/pipan/saipan/pipan_saipan_05/audio/Saipan_A_05_140707_132915.df20.x.flac succeeded\n",
      "Download of pifsc/audio/pipan/saipan/pipan_saipan_05/audio/Saipan_A_05_140710_040345.df20.x.flac succeeded\n",
      "Download of pifsc/audio/pipan/saipan/pipan_saipan_05/audio/Saipan_A_05_140712_184015.df20.x.flac succeeded\n",
      "Download of pifsc/audio/pipan/saipan/pipan_saipan_05/audio/Saipan_A_05_140714_150245.df20.x.flac succeeded\n",
      "Download of pifsc/audio/pipan/saipan/pipan_saipan_05/audio/Saipan_A_05_140715_222200.df20.x.flac succeeded\n",
      "Download of pifsc/audio/pipan/saipan/pipan_saipan_05/audio/Saipan_A_05_140717_053915.df20.x.flac succeeded\n",
      "Download of pifsc/audio/pipan/saipan/pipan_saipan_05/audio/Saipan_A_05_140718_125630.df20.x.flac succeeded\n",
      "Download of pifsc/audio/pipan/saipan/pipan_saipan_05/audio/Saipan_A_05_140719_201345.df20.x.flac succeeded\n",
      "Download of pifsc/audio/pipan/saipan/pipan_saipan_05/audio/Saipan_A_05_140723_180730.df20.x.flac succeeded\n",
      "Download of pifsc/audio/pipan/saipan/pipan_saipan_05/audio/Saipan_A_05_140725_012445.df20.x.flac succeeded\n",
      "Download of pifsc/audio/pipan/saipan/pipan_saipan_05/audio/Saipan_A_05_140726_084400.df20.x.flac succeeded\n",
      "Download of pifsc/audio/pipan/saipan/pipan_saipan_05/audio/Saipan_A_05_140727_160115.df20.x.flac succeeded\n",
      "Download of pifsc/audio/pipan/saipan/pipan_saipan_05/audio/Saipan_A_05_140728_231830.df20.x.flac succeeded\n",
      "Download of pifsc/audio/pipan/saipan/pipan_saipan_05/audio/Saipan_A_05_140730_063545.df20.x.flac succeeded\n",
      "Download of pifsc/audio/pipan/saipan/pipan_saipan_05/audio/Saipan_A_05_140731_135500.df20.x.flac succeeded\n",
      "Download of pifsc/audio/pipan/saipan/pipan_saipan_05/audio/Saipan_A_05_140801_211215.df20.x.flac succeeded\n",
      "Download of pifsc/audio/pipan/saipan/pipan_saipan_05/audio/Saipan_A_05_140803_042930.df20.x.flac succeeded\n",
      "Download of pifsc/audio/pipan/saipan/pipan_saipan_05/audio/Saipan_A_05_140804_114645.df20.x.flac succeeded\n",
      "Download of pifsc/audio/pipan/saipan/pipan_saipan_05/audio/Saipan_A_05_140805_190600.df20.x.flac succeeded\n",
      "Download of pifsc/audio/pipan/saipan/pipan_saipan_05/audio/Saipan_A_05_140807_022315.df20.x.flac succeeded\n",
      "Download of pifsc/audio/pipan/saipan/pipan_saipan_05/audio/Saipan_A_05_140807_151545.df20.x.flac succeeded\n",
      "Download of pifsc/audio/pipan/saipan/pipan_saipan_05/audio/Saipan_A_05_140812_202645.df20.x.flac succeeded\n",
      "Download of pifsc/audio/pipan/saipan/pipan_saipan_05/audio/Saipan_A_05_140814_034600.df20.x.flac succeeded\n",
      "Download of pifsc/audio/pipan/saipan/pipan_saipan_05/audio/Saipan_A_05_140818_013745.df20.x.flac succeeded\n",
      "Download of pifsc/audio/pipan/saipan/pipan_saipan_05/audio/Saipan_A_05_140823_064845.df20.x.flac succeeded\n",
      "Download of pifsc/audio/pipan/saipan/pipan_saipan_05/audio/Saipan_A_05_140825_212515.df20.x.flac succeeded\n",
      "Download of pifsc/audio/pipan/saipan/pipan_saipan_05/audio/Saipan_A_05_140827_044230.df20.x.flac succeeded\n",
      "Download of pifsc/audio/pipan/saipan/pipan_saipan_05/audio/Saipan_A_05_140829_191900.df20.x.flac succeeded\n",
      "Download of pifsc/audio/pipan/saipan/pipan_saipan_05/audio/Saipan_A_05_140831_023615.df20.x.flac succeeded\n",
      "Download of pifsc/audio/pipan/saipan/pipan_saipan_05/audio/Saipan_A_05_140905_205115.df20.x.flac succeeded\n",
      "Download of pifsc/audio/pipan/saipan/pipan_saipan_05/audio/Saipan_A_05_140907_040830.df20.x.flac succeeded\n",
      "Download of pifsc/audio/pipan/saipan/pipan_saipan_05/audio/Saipan_A_05_140908_112545.df20.x.flac succeeded\n",
      "Download of pifsc/audio/pipan/saipan/pipan_saipan_05/audio/Saipan_A_05_140917_143030.df20.x.flac succeeded\n",
      "Download of pifsc/audio/pipan/saipan/pipan_saipan_05/audio/Saipan_A_05_140926_173515.df20.x.flac succeeded\n",
      "Download of pifsc/audio/pipan/saipan/pipan_saipan_05/audio/Saipan_A_05_140928_135630.df20.x.flac succeeded\n",
      "Download of pifsc/audio/pipan/saipan/pipan_saipan_05/audio/Saipan_A_05_141003_190730.df20.x.flac succeeded\n",
      "Download of pifsc/audio/pipan/saipan/pipan_saipan_05/audio/Saipan_A_05_141009_001830.df20.x.flac succeeded\n",
      "Download of pifsc/audio/pipan/saipan/pipan_saipan_05/audio/Saipan_A_05_141010_073545.df20.x.flac succeeded\n",
      "Download of pifsc/audio/pipan/saipan/pipan_saipan_05/audio/Saipan_A_05_141012_221215.df20.x.flac succeeded\n",
      "Download of pifsc/audio/pipan/saipan/pipan_saipan_05/audio/Saipan_A_05_141015_124645.df20.x.flac succeeded\n",
      "Download of pifsc/audio/pipan/saipan/pipan_saipan_05/audio/Saipan_A_05_141016_200600.df20.x.flac succeeded\n",
      "Download of pifsc/audio/pipan/saipan/pipan_saipan_05/audio/Saipan_A_05_141019_104030.df20.x.flac succeeded\n",
      "Download of pifsc/audio/pipan/saipan/pipan_saipan_05/audio/Saipan_A_05_141023_213345.df20.x.flac succeeded\n",
      "Download of pifsc/audio/pipan/saipan/pipan_saipan_05/audio/Saipan_A_05_141025_045300.df20.x.flac succeeded\n",
      "Download of pifsc/audio/pipan/saipan/pipan_saipan_05/audio/Saipan_A_05_141026_121015.df20.x.flac succeeded\n",
      "Download of pifsc/audio/pipan/saipan/pipan_saipan_05/audio/Saipan_A_05_141027_192730.df20.x.flac succeeded\n",
      "Download of pifsc/audio/pipan/saipan/pipan_saipan_05/audio/Saipan_A_05_141116_215815.df20.x.flac succeeded\n",
      "Download of pifsc/audio/pipan/saipan/pipan_saipan_05/audio/Saipan_A_05_141129_225445.df20.x.flac succeeded\n",
      "Download of pifsc/audio/pipan/saipan/pipan_saipan_05/audio/Saipan_A_05_141210_091645.df20.x.flac succeeded\n",
      "Download of pifsc/audio/pipan/saipan/pipan_saipan_05/audio/Saipan_A_05_150104_165830.df20.x.flac succeeded\n",
      "Download of pifsc/audio/pipan/saipan/pipan_saipan_05/audio/Saipan_A_05_150107_204015.df20.x.flac succeeded\n",
      "Download of pifsc/audio/pipan/saipan/pipan_saipan_05/audio/Saipan_A_05_150109_035730.df20.x.flac succeeded\n",
      "Download of pifsc/audio/pipan/saipan/pipan_saipan_05/audio/Saipan_A_05_150110_111445.df20.x.flac succeeded\n",
      "Download of pifsc/audio/pipan/saipan/pipan_saipan_05/audio/Saipan_A_05_150115_162545.df20.x.flac succeeded\n",
      "Download of pifsc/audio/pipan/saipan/pipan_saipan_05/audio/Saipan_A_05_150119_141930.df20.x.flac succeeded\n",
      "Download of pifsc/audio/pipan/saipan/pipan_saipan_05/audio/Saipan_A_05_150120_213645.df20.x.flac succeeded\n",
      "Download of pifsc/audio/pipan/saipan/pipan_saipan_05/audio/Saipan_A_05_150123_121315.df20.x.flac succeeded\n",
      "Download of pifsc/audio/pipan/saipan/pipan_saipan_05/audio/Saipan_A_05_150124_193030.df20.x.flac succeeded\n",
      "Download of pifsc/audio/pipan/saipan/pipan_saipan_05/audio/Saipan_A_05_150126_024745.df20.x.flac succeeded\n",
      "Download of pifsc/audio/pipan/saipan/pipan_saipan_05/audio/Saipan_A_05_150127_100700.df20.x.flac succeeded\n",
      "Download of pifsc/audio/pipan/saipan/pipan_saipan_05/audio/Saipan_A_05_150128_172415.df20.x.flac succeeded\n",
      "Download of pifsc/audio/pipan/saipan/pipan_saipan_05/audio/Saipan_A_05_150130_004130.df20.x.flac succeeded\n",
      "Download of pifsc/audio/pipan/saipan/pipan_saipan_05/audio/Saipan_A_05_150131_075845.df20.x.flac succeeded\n",
      "Download of pifsc/audio/pipan/saipan/pipan_saipan_05/audio/Saipan_A_05_150131_210245.df20.x.flac succeeded\n",
      "Download of pifsc/audio/pipan/saipan/pipan_saipan_05/audio/Saipan_A_05_150202_042200.df20.x.flac succeeded\n",
      "Download of pifsc/audio/pipan/saipan/pipan_saipan_05/audio/Saipan_A_05_150203_113915.df20.x.flac succeeded\n",
      "Download of pifsc/audio/pipan/saipan/pipan_saipan_05/audio/Saipan_A_05_150204_185630.df20.x.flac succeeded\n",
      "Download of pifsc/audio/pipan/saipan/pipan_saipan_05/audio/Saipan_A_05_150208_165015.df20.x.flac succeeded\n",
      "Download of pifsc/audio/pipan/saipan/pipan_saipan_05/audio/Saipan_A_05_150210_000730.df20.x.flac succeeded\n",
      "Download of pifsc/audio/pipan/saipan/pipan_saipan_05/audio/Saipan_A_05_150211_072445.df20.x.flac succeeded\n",
      "Download of pifsc/audio/pipan/saipan/pipan_saipan_05/audio/Saipan_A_05_150212_144400.df20.x.flac succeeded\n",
      "Download of pifsc/audio/pipan/saipan/pipan_saipan_05/audio/Saipan_A_05_150216_123545.df20.x.flac succeeded\n",
      "Download of pifsc/audio/pipan/saipan/pipan_saipan_05/audio/Saipan_A_05_150217_195500.df20.x.flac succeeded\n",
      "Download of pifsc/audio/pipan/saipan/pipan_saipan_05/audio/Saipan_A_05_150219_031215.df20.x.flac succeeded\n",
      "Download of pifsc/audio/pipan/saipan/pipan_saipan_05/audio/Saipan_A_05_150220_102930.df20.x.flac succeeded\n",
      "Download of pifsc/audio/pipan/saipan/pipan_saipan_05/audio/Saipan_A_05_150226_044430.df20.x.flac succeeded\n",
      "Download of pifsc/audio/pipan/saipan/pipan_saipan_05/audio/Saipan_A_05_150227_120145.df20.x.flac succeeded\n",
      "Download of pifsc/audio/pipan/saipan/pipan_saipan_05/audio/Saipan_A_05_150228_192100.df20.x.flac succeeded\n",
      "Download of pifsc/audio/pipan/saipan/pipan_saipan_05/audio/Saipan_A_05_150302_023815.df20.x.flac succeeded\n",
      "Download of pifsc/audio/pipan/saipan/pipan_saipan_05/audio/Saipan_A_05_150304_171245.df20.x.flac succeeded\n",
      "Download of pifsc/audio/pipan/saipan/pipan_saipan_05/audio/Saipan_A_05_150306_003200.df20.x.flac succeeded\n",
      "Download of pifsc/audio/pipan/saipan/pipan_saipan_05/audio/Saipan_A_05_150307_074915.df20.x.flac succeeded\n",
      "Download of pifsc/audio/pipan/saipan/pipan_saipan_05/audio/Saipan_A_05_150308_150630.df20.x.flac succeeded\n",
      "Download of pifsc/audio/pipan/saipan/pipan_saipan_05/audio/Saipan_A_05_150309_222345.df20.x.flac succeeded\n",
      "Download of pifsc/audio/pipan/saipan/pipan_saipan_05/audio/Saipan_A_05_150311_054300.df20.x.flac succeeded\n",
      "Download of pifsc/audio/pipan/saipan/pipan_saipan_05/audio/Saipan_A_05_150316_105400.df20.x.flac succeeded\n",
      "Download of pifsc/audio/pipan/saipan/pipan_saipan_05/audio/Saipan_A_05_150317_181115.df20.x.flac succeeded\n",
      "Download of pifsc/audio/pipan/saipan/pipan_saipan_05/audio/Saipan_A_05_150319_012830.df20.x.flac succeeded\n",
      "Download of pifsc/audio/pipan/saipan/pipan_saipan_05/audio/Saipan_A_05_150321_160500.df20.x.flac succeeded\n",
      "Download of pifsc/audio/pipan/saipan/pipan_saipan_05/audio/Saipan_A_05_150322_232215.df20.x.flac succeeded\n",
      "Download of pifsc/audio/pipan/saipan/pipan_saipan_05/audio/Saipan_A_05_150331_081145.df20.x.flac succeeded\n",
      "Download of pifsc/audio/pipan/saipan/pipan_saipan_05/audio/Saipan_A_05_150401_153100.df20.x.flac succeeded\n",
      "Download of pifsc/audio/pipan/saipan/pipan_saipan_05/audio/Saipan_A_05_150402_224815.df20.x.flac succeeded\n",
      "Download of pifsc/audio/pipan/saipan/pipan_saipan_05/audio/Saipan_A_05_150404_060530.df20.x.flac succeeded\n",
      "Download of pifsc/audio/pipan/saipan/pipan_saipan_05/audio/Saipan_A_05_150410_183345.df20.x.flac succeeded\n",
      "Download of pifsc/audio/pipan/saipan/pipan_saipan_05/audio/Saipan_A_05_150415_234445.df20.x.flac succeeded\n",
      "Download of pifsc/audio/pipan/saipan/pipan_saipan_06/audio/Saipan_A_06_150509_051240.df20.x.flac succeeded\n",
      "Download of pifsc/audio/pipan/saipan/pipan_saipan_06/audio/Saipan_A_06_150519_123745.df20.x.flac succeeded\n",
      "Download of pifsc/audio/pipan/saipan/pipan_saipan_06/audio/Saipan_A_06_150522_031645.df20.x.flac succeeded\n",
      "Download of pifsc/audio/pipan/saipan/pipan_saipan_06/audio/Saipan_A_06_150601_141000.df20.x.flac succeeded\n",
      "Download of pifsc/audio/pipan/saipan/pipan_saipan_06/audio/Saipan_A_06_150612_141215.df20.x.flac succeeded\n",
      "Download of pifsc/audio/pipan/saipan/pipan_saipan_06/audio/Saipan_A_06_150613_213630.df20.x.flac succeeded\n",
      "Download of pifsc/audio/pipan/saipan/pipan_saipan_06/audio/Saipan_A_06_150615_050045.df20.x.flac succeeded\n",
      "Download of pifsc/audio/pipan/saipan/pipan_saipan_06/audio/Saipan_A_06_150616_122230.df20.x.flac succeeded\n",
      "Download of pifsc/audio/pipan/saipan/pipan_saipan_06/audio/Saipan_A_06_150617_193945.df20.x.flac succeeded\n",
      "Download of pifsc/audio/pipan/saipan/pipan_saipan_06/audio/Saipan_A_06_150619_030830.df20.x.flac succeeded\n",
      "Download of pifsc/audio/pipan/saipan/pipan_saipan_06/audio/Saipan_A_06_150621_175200.df20.x.flac succeeded\n",
      "Download of pifsc/audio/pipan/saipan/pipan_saipan_06/audio/Saipan_A_06_150704_010900.df20.x.flac succeeded\n",
      "Download of pifsc/audio/pipan/saipan/pipan_saipan_06/audio/Saipan_A_06_150706_154330.df20.x.flac succeeded\n",
      "Download of pifsc/audio/pipan/saipan/pipan_saipan_06/audio/Saipan_A_06_150715_184815.df20.x.flac succeeded\n",
      "Download of pifsc/audio/pipan/saipan/pipan_saipan_06/audio/Saipan_A_06_150721_002945.df20.x.flac succeeded\n",
      "Download of pifsc/audio/pipan/saipan/pipan_saipan_06/audio/Saipan_A_06_150724_223030.df20.x.flac succeeded\n",
      "Download of pifsc/audio/pipan/saipan/pipan_saipan_06/audio/Saipan_A_06_150727_131400.df20.x.flac succeeded\n",
      "Download of pifsc/audio/pipan/saipan/pipan_saipan_06/audio/Saipan_A_06_150804_220330.df20.x.flac succeeded\n",
      "Download of pifsc/audio/pipan/saipan/pipan_saipan_06/audio/Saipan_A_06_150806_052745.df20.x.flac succeeded\n",
      "Download of pifsc/audio/pipan/saipan/pipan_saipan_06/audio/Saipan_A_06_150808_201115.df20.x.flac succeeded\n",
      "Download of pifsc/audio/pipan/saipan/pipan_saipan_06/audio/Saipan_A_06_150810_032830.df20.x.flac succeeded\n",
      "Download of pifsc/audio/pipan/saipan/pipan_saipan_06/audio/Saipan_A_06_150816_160345.df20.x.flac succeeded\n",
      "Download of pifsc/audio/pipan/saipan/pipan_saipan_06/audio/Saipan_A_06_150817_233000.df20.x.flac succeeded\n",
      "Download of pifsc/audio/pipan/saipan/pipan_saipan_06/audio/Saipan_A_06_150830_064115.df20.x.flac succeeded\n",
      "Download of pifsc/audio/pipan/saipan/pipan_saipan_06/audio/Saipan_A_06_150905_190930.df20.x.flac succeeded\n",
      "Download of pifsc/audio/pipan/saipan/pipan_saipan_06/audio/Saipan_A_06_150916_190215.df20.x.flac succeeded\n",
      "Download of pifsc/audio/pipan/saipan/pipan_saipan_06/audio/Saipan_A_06_150920_171000.df20.x.flac succeeded\n",
      "Download of pifsc/audio/pipan/saipan/pipan_saipan_06/audio/Saipan_A_06_150924_150845.df20.x.flac succeeded\n",
      "Download of pifsc/audio/pipan/saipan/pipan_saipan_06/audio/Saipan_A_06_151005_015500.df20.x.flac succeeded\n",
      "Download of pifsc/audio/pipan/saipan/pipan_saipan_06/audio/Saipan_A_06_151007_163630.df20.x.flac succeeded\n",
      "Download of pifsc/audio/pipan/saipan/pipan_saipan_06/audio/Saipan_A_06_151011_143830.df20.x.flac succeeded\n",
      "Download of pifsc/audio/pipan/saipan/pipan_saipan_06/audio/Saipan_A_06_151013_111000.df20.x.flac succeeded\n",
      "Download of pifsc/audio/pipan/saipan/pipan_saipan_06/audio/Saipan_A_06_151016_014430.df20.x.flac succeeded\n",
      "Download of pifsc/audio/pipan/saipan/pipan_saipan_06/audio/Saipan_A_06_151022_143115.df20.x.flac succeeded\n",
      "Download of pifsc/audio/pipan/saipan/pipan_saipan_06/audio/Saipan_A_06_151025_050545.df20.x.flac succeeded\n",
      "Download of pifsc/audio/pipan/saipan/pipan_saipan_06/audio/Saipan_A_06_151102_011415.df20.x.flac succeeded\n",
      "Download of pifsc/audio/pipan/saipan/pipan_saipan_06/audio/Saipan_A_06_151104_155545.df20.x.flac succeeded\n",
      "Download of pifsc/audio/pipan/saipan/pipan_saipan_06/audio/Saipan_A_06_151122_041300.df20.x.flac succeeded\n",
      "Download of pifsc/audio/pipan/saipan/pipan_saipan_06/audio/Saipan_A_06_151123_114300.df20.x.flac succeeded\n",
      "Download of pifsc/audio/pipan/saipan/pipan_saipan_06/audio/Saipan_A_06_151124_191415.df20.x.flac succeeded\n",
      "Download of pifsc/audio/pipan/saipan/pipan_saipan_06/audio/Saipan_A_06_151205_190230.df20.x.flac succeeded\n",
      "Download of pifsc/audio/pipan/saipan/pipan_saipan_06/audio/Saipan_A_06_151209_171245.df20.x.flac succeeded\n",
      "Download of pifsc/audio/pipan/saipan/pipan_saipan_06/audio/Saipan_A_06_151212_075615.df20.x.flac succeeded\n",
      "Download of pifsc/audio/pipan/saipan/pipan_saipan_06/audio/Saipan_A_06_151216_060045.df20.x.flac succeeded\n",
      "Download of pifsc/audio/pipan/saipan/pipan_saipan_06/audio/Saipan_A_06_151220_040130.df20.x.flac succeeded\n",
      "Download of pifsc/audio/pipan/saipan/pipan_saipan_06/audio/Saipan_A_06_151222_184615.df20.x.flac succeeded\n",
      "Download of pifsc/audio/pipan/saipan/pipan_saipan_06/audio/Saipan_A_06_151224_020915.df20.x.flac succeeded\n",
      "Download of pifsc/audio/pipan/saipan/pipan_saipan_06/audio/Saipan_A_06_151225_094500.df20.x.flac succeeded\n",
      "Download of pifsc/audio/pipan/saipan/pipan_saipan_06/audio/Saipan_A_06_151227_061315.df20.x.flac succeeded\n",
      "Download of pifsc/audio/pipan/saipan/pipan_saipan_06/audio/Saipan_A_06_151229_205215.df20.x.flac succeeded\n",
      "Download of pifsc/audio/pipan/saipan/pipan_saipan_06/audio/Saipan_A_06_151231_040930.df20.x.flac succeeded\n",
      "Download of pifsc/audio/pipan/saipan/pipan_saipan_06/audio/Saipan_A_06_160101_112645.df20.x.flac succeeded\n",
      "Download of pifsc/audio/pipan/saipan/pipan_saipan_06/audio/Saipan_A_06_160102_184600.df20.x.flac succeeded\n",
      "Download of pifsc/audio/pipan/saipan/pipan_saipan_06/audio/Saipan_A_06_160104_020315.df20.x.flac succeeded\n",
      "Download of pifsc/audio/pipan/saipan/pipan_saipan_06/audio/Saipan_A_06_160106_164445.df20.x.flac succeeded\n",
      "Download of pifsc/audio/pipan/saipan/pipan_saipan_06/audio/Saipan_A_06_160108_000400.df20.x.flac succeeded\n",
      "Download of pifsc/audio/pipan/saipan/pipan_saipan_06/audio/Saipan_A_06_160109_072115.df20.x.flac succeeded\n",
      "Download of pifsc/audio/pipan/saipan/pipan_saipan_06/audio/Saipan_A_06_160111_215545.df20.x.flac succeeded\n",
      "Download of pifsc/audio/pipan/saipan/pipan_saipan_06/audio/Saipan_A_06_160114_123915.df20.x.flac succeeded\n",
      "Download of pifsc/audio/pipan/saipan/pipan_saipan_06/audio/Saipan_A_06_160117_031345.df20.x.flac succeeded\n",
      "Download of pifsc/audio/pipan/saipan/pipan_saipan_06/audio/Saipan_A_06_160118_103300.df20.x.flac succeeded\n",
      "Download of pifsc/audio/pipan/saipan/pipan_saipan_06/audio/Saipan_A_06_160119_175245.df20.x.flac succeeded\n",
      "Download of pifsc/audio/pipan/saipan/pipan_saipan_06/audio/Saipan_A_06_160121_173430.df20.x.flac succeeded\n",
      "Download of pifsc/audio/pipan/saipan/pipan_saipan_06/audio/Saipan_A_06_160123_005145.df20.x.flac succeeded\n",
      "Download of pifsc/audio/pipan/saipan/pipan_saipan_06/audio/Saipan_A_06_160124_081800.df20.x.flac succeeded\n",
      "Download of pifsc/audio/pipan/saipan/pipan_saipan_06/audio/Saipan_A_06_160125_153515.df20.x.flac succeeded\n",
      "Download of pifsc/audio/pipan/saipan/pipan_saipan_06/audio/Saipan_A_06_160126_225230.df20.x.flac succeeded\n",
      "Download of pifsc/audio/pipan/saipan/pipan_saipan_06/audio/Saipan_A_06_160128_060945.df20.x.flac succeeded\n",
      "Download of pifsc/audio/pipan/saipan/pipan_saipan_06/audio/Saipan_A_06_160129_132900.df20.x.flac succeeded\n",
      "Download of pifsc/audio/pipan/saipan/pipan_saipan_06/audio/Saipan_A_06_160202_112045.df20.x.flac succeeded\n",
      "Download of pifsc/audio/pipan/saipan/pipan_saipan_06/audio/Saipan_A_06_160203_184700.df20.x.flac succeeded\n",
      "Download of pifsc/audio/pipan/saipan/pipan_saipan_06/audio/Saipan_A_06_160205_021815.df20.x.flac succeeded\n",
      "Download of pifsc/audio/pipan/saipan/pipan_saipan_06/audio/Saipan_A_06_160206_093530.df20.x.flac succeeded\n",
      "Download of pifsc/audio/pipan/saipan/pipan_saipan_06/audio/Saipan_A_06_160207_165245.df20.x.flac succeeded\n",
      "Download of pifsc/audio/pipan/saipan/pipan_saipan_06/audio/Saipan_A_06_160209_001200.df20.x.flac succeeded\n",
      "Download of pifsc/audio/pipan/saipan/pipan_saipan_06/audio/Saipan_A_06_160210_073615.df20.x.flac succeeded\n",
      "Download of pifsc/audio/pipan/saipan/pipan_saipan_06/audio/Saipan_A_06_160214_055800.df20.x.flac succeeded\n",
      "Download of pifsc/audio/pipan/saipan/pipan_saipan_06/audio/Saipan_A_06_160215_131515.df20.x.flac succeeded\n",
      "Download of pifsc/audio/pipan/saipan/pipan_saipan_06/audio/Saipan_A_06_160216_022030.df20.x.flac succeeded\n",
      "Download of pifsc/audio/pipan/saipan/pipan_saipan_06/audio/Saipan_A_06_160217_093745.df20.x.flac succeeded\n",
      "Download of pifsc/audio/pipan/saipan/pipan_saipan_06/audio/Saipan_A_06_160218_165700.df20.x.flac succeeded\n",
      "Download of pifsc/audio/pipan/saipan/pipan_saipan_06/audio/Saipan_A_06_160220_001415.df20.x.flac succeeded\n",
      "Download of pifsc/audio/pipan/saipan/pipan_saipan_06/audio/Saipan_A_06_160221_073945.df20.x.flac succeeded\n",
      "Download of pifsc/audio/pipan/saipan/pipan_saipan_06/audio/Saipan_A_06_160222_145900.df20.x.flac succeeded\n",
      "Download of pifsc/audio/pipan/saipan/pipan_saipan_06/audio/Saipan_A_06_160223_221615.df20.x.flac succeeded\n"
     ]
    }
   ],
   "source": [
    "bad_results = download_many_blobs_with_transfer_manager(\"noaa-passive-bioacoustic\", \n",
    "                                                        to_download[:500],\n",
    "                                                        destination_directory=\"D:/SonarData/downloads\",\n",
    "                                                        workers=8)"
   ]
  },
  {
   "cell_type": "code",
   "execution_count": 17,
   "id": "5832729c-1344-436f-ab3e-bec057d57c88",
   "metadata": {},
   "outputs": [
    {
     "data": {
      "text/plain": [
       "0"
      ]
     },
     "execution_count": 17,
     "metadata": {},
     "output_type": "execute_result"
    }
   ],
   "source": [
    "len(bad_results)"
   ]
  },
  {
   "cell_type": "code",
   "execution_count": 11,
   "id": "34bdce32-e787-4e3e-b58c-0876cf2e1197",
   "metadata": {},
   "outputs": [],
   "source": [
    "with open(\"bad_results.pkl\", 'wb') as f:\n",
    "    pickle.dump(bad_results, f)"
   ]
  },
  {
   "cell_type": "code",
   "execution_count": 78,
   "id": "5424ab1759cad68a",
   "metadata": {
    "ExecuteTime": {
     "end_time": "2024-04-01T00:57:39.440730200Z",
     "start_time": "2024-04-01T00:57:39.413792600Z"
    },
    "collapsed": false,
    "jupyter": {
     "outputs_hidden": false
    }
   },
   "outputs": [
    {
     "data": {
      "text/plain": [
       "['Hawaii_K_16_140207_060115.df20.x.flac',\n",
       " 'Hawaii_K_16_140105_233000.df20.x.flac',\n",
       " 'Hawaii_K_11_110924_072800.df20.x.flac',\n",
       " 'Hawaii_K_14_121222_090345.df20.x.flac',\n",
       " 'Hawaii_K_14_121228_162345.df20.x.flac']"
      ]
     },
     "execution_count": 78,
     "metadata": {},
     "output_type": "execute_result"
    }
   ],
   "source": [
    "with open(\"bad_results.pkl\", 'rb') as f:\n",
    "    bad_results = pickle.load(f)\n",
    "bad_files = [f[0] for f in bad_results]\n",
    "bad_file_names = {f.split(\"/\")[-1] for f in bad_files}\n",
    "list(bad_file_names)[:5]"
   ]
  },
  {
   "cell_type": "code",
   "execution_count": 79,
   "id": "3c7d15236f933cef",
   "metadata": {
    "ExecuteTime": {
     "end_time": "2024-04-01T00:57:50.239707900Z",
     "start_time": "2024-04-01T00:57:50.132467900Z"
    },
    "collapsed": false,
    "jupyter": {
     "outputs_hidden": false
    }
   },
   "outputs": [],
   "source": [
    "for dirpath, dirnames, filenames in os.walk(\"D:/SonarData/downloads\"):\n",
    "    for filename in filenames:\n",
    "        if filename in bad_file_names:\n",
    "            os.remove(os.path.join(dirpath, filename))"
   ]
  },
  {
   "cell_type": "code",
   "execution_count": 10,
   "id": "af45a6ae5d78f573",
   "metadata": {
    "collapsed": false,
    "jupyter": {
     "outputs_hidden": false
    }
   },
   "outputs": [
    {
     "data": {
      "text/plain": [
       "['Kingman_A_01_120204_054115.df20.x.flac',\n",
       " 'Kingman_A_01_120206_022345.df20.x.flac',\n",
       " 'Kingman_A_01_120207_004500.df20.x.flac',\n",
       " 'Kingman_A_01_120207_230615.df20.x.flac',\n",
       " 'Kingman_A_01_120208_080729.df20.x.flac',\n",
       " 'Kingman_A_01_120209_062845.df20.x.flac',\n",
       " 'Kingman_A_01_120211_031115.df20.x.flac',\n",
       " 'Kingman_A_01_120212_013230.df20.x.flac',\n",
       " 'Kingman_A_01_120212_235345.df20.x.flac',\n",
       " 'Kingman_A_01_120213_221500.df20.x.flac']"
      ]
     },
     "execution_count": 10,
     "metadata": {},
     "output_type": "execute_result"
    }
   ],
   "source": [
    "files = os.listdir(\"D:/SonarData/flat\")\n",
    "files[:10]"
   ]
  },
  {
   "cell_type": "code",
   "execution_count": null,
   "id": "9d638127-f2aa-4e50-b5f4-9214f16a078c",
   "metadata": {},
   "outputs": [],
   "source": [
    "def uncompress(files_to_decompress):\n",
    "    for i, file in enumerate(files_to_decompress):\n",
    "        print(file)\n",
    "        subprocess.run(f\"C:/Windows/flac.exe -df --delete-input-file --preserve-modtime --keep-foreign-metadata D:/SonarData/messing/{file}\", shell=True, capture_output=True)\n",
    "    return True\n",
    "\n",
    "pool = multiprocessing.Pool(6)\n",
    "messing_files = os.listdir(\"D:/SonarData/messing\")\n",
    "step = int(len(messing_files)/6)\n",
    "hold = [messing_files[j: j + step] for j in [i for i in range(0, len(messing_files), step)]]\n",
    "\n",
    "r = pool.map_async(uncompress, hold)\n",
    "r.wait()"
   ]
  },
  {
   "cell_type": "code",
   "execution_count": 21,
   "id": "2ccfe593-ca02-41fc-ad76-32c01c11c846",
   "metadata": {},
   "outputs": [
    {
     "data": {
      "text/plain": [
       "[['Kingman_A_01_120204_054115.df20.x.flac',\n",
       "  'Kingman_A_01_120206_022345.df20.x.flac',\n",
       "  'Kingman_A_01_120207_004500.df20.x.flac'],\n",
       " ['Kingman_A_01_120207_230615.df20.x.flac',\n",
       "  'Kingman_A_01_120208_080729.df20.x.flac',\n",
       "  'Kingman_A_01_120209_062845.df20.x.flac'],\n",
       " ['Kingman_A_01_120211_031115.df20.x.flac',\n",
       "  'Kingman_A_01_120212_013230.df20.x.flac',\n",
       "  'Kingman_A_01_120212_235345.df20.x.flac'],\n",
       " ['Kingman_A_01_120213_221500.df20.x.flac',\n",
       "  'Kingman_A_01_120214_203615.df20.x.flac',\n",
       "  'Kingman_A_01_120215_185730.df20.x.flac'],\n",
       " ['Kingman_A_01_120218_140115.df20.x.flac',\n",
       "  'Kingman_A_01_120219_122230.df20.x.flac',\n",
       "  'Kingman_A_01_120220_104345.df20.x.flac'],\n",
       " ['Kingman_A_01_120221_090500.df20.x.flac',\n",
       "  'Kingman_A_01_120222_072615.df20.x.flac',\n",
       "  'Kingman_A_01_120223_054730.df20.x.flac'],\n",
       " ['Kingman_A_01_120224_040845.df20.x.flac',\n",
       "  'Kingman_A_01_120225_023000.df20.x.flac']]"
      ]
     },
     "execution_count": 21,
     "metadata": {},
     "output_type": "execute_result"
    }
   ],
   "source": [
    "hold"
   ]
  },
  {
   "cell_type": "code",
   "execution_count": 4,
   "id": "d26ec201e2602dc4",
   "metadata": {
    "ExecuteTime": {
     "end_time": "2024-04-01T04:56:45.221005300Z",
     "start_time": "2024-04-01T03:01:29.661797600Z"
    },
    "collapsed": false,
    "jupyter": {
     "outputs_hidden": false
    }
   },
   "outputs": [
    {
     "name": "stdout",
     "output_type": "stream",
     "text": [
      "Processing file 0\n",
      "Processing file 50\n",
      "Processing file 100\n",
      "Processing file 150\n",
      "Processing file 200\n",
      "Processing file 250\n",
      "Processing file 300\n",
      "Processing file 350\n",
      "Processing file 400\n",
      "Processing file 450\n"
     ]
    }
   ],
   "source": [
    "# Uncompress data\n",
    "files = os.listdir(\"D:/SonarData/flat\")\n",
    "new_files = [i for i in files if i.endswith(\".flac\")]\n",
    "for i, file in enumerate(new_files):\n",
    "    if i % 50 == 0:\n",
    "        print(f\"Processing file {i}\")\n",
    "    subprocess.run(f\"C:/Windows/flac.exe -df --delete-input-file --preserve-modtime --keep-foreign-metadata D:/SonarData/flat/{file}\", shell=True, capture_output=True)"
   ]
  },
  {
   "cell_type": "code",
   "execution_count": 12,
   "id": "18c53f3d1b29a1ec",
   "metadata": {
    "ExecuteTime": {
     "end_time": "2024-04-01T02:58:33.794370400Z",
     "start_time": "2024-04-01T02:58:33.760792200Z"
    },
    "collapsed": false,
    "jupyter": {
     "outputs_hidden": false
    }
   },
   "outputs": [
    {
     "data": {
      "text/plain": [
       "['Cross_A_01_050514_014345.d20.x.flac',\n",
       " 'Cross_A_01_050518_040230.d20.x.flac',\n",
       " 'Cross_A_01_050520_183000.d20.x.flac',\n",
       " 'Cross_A_01_050520_212731.d20.x.flac',\n",
       " 'Cross_A_01_050521_004500.d20.x.flac',\n",
       " 'Cross_A_01_050527_003345.d20.x.flac',\n",
       " 'Cross_A_01_050606_123845.d20.x.flac',\n",
       " 'Cross_A_01_050612_151845.d20.x.flac',\n",
       " 'Cross_A_01_050613_232350.d20.x.flac',\n",
       " 'Cross_A_01_050630_004730.d20.x.flac',\n",
       " 'Cross_A_01_050630_222845.d20.x.flac',\n",
       " 'Cross_A_01_050701_112115.d20.x.flac',\n",
       " 'Cross_A_01_050702_031345.d20.x.flac',\n",
       " 'Cross_A_01_050703_170730.d20.x.flac',\n",
       " 'Cross_A_01_050717_151615.d20.x.flac',\n",
       " 'Cross_A_01_050722_115500.d20.x.flac',\n",
       " 'Cross_A_01_050801_074615.d20.x.flac',\n",
       " 'Cross_A_01_050801_110500.d20.x.flac',\n",
       " 'Cross_A_01_050908_025000.d20.x.flac',\n",
       " 'Cross_A_02_051120_000000.d20.x.flac']"
      ]
     },
     "execution_count": 12,
     "metadata": {},
     "output_type": "execute_result"
    }
   ],
   "source": [
    "new_files"
   ]
  },
  {
   "cell_type": "code",
   "execution_count": 8,
   "id": "bbb6403b75263f2e",
   "metadata": {
    "ExecuteTime": {
     "end_time": "2024-04-01T02:56:55.007798200Z",
     "start_time": "2024-04-01T02:56:54.978875600Z"
    },
    "collapsed": false,
    "jupyter": {
     "outputs_hidden": false
    }
   },
   "outputs": [
    {
     "data": {
      "text/plain": [
       "1012"
      ]
     },
     "execution_count": 8,
     "metadata": {},
     "output_type": "execute_result"
    }
   ],
   "source": [
    "len(files)"
   ]
  },
  {
   "cell_type": "code",
   "execution_count": 15,
   "id": "27f04cf5a5747af",
   "metadata": {
    "ExecuteTime": {
     "end_time": "2024-04-01T02:59:56.128533500Z",
     "start_time": "2024-04-01T02:59:56.117107900Z"
    },
    "collapsed": false,
    "jupyter": {
     "outputs_hidden": false
    }
   },
   "outputs": [
    {
     "data": {
      "text/plain": [
       "992"
      ]
     },
     "execution_count": 15,
     "metadata": {},
     "output_type": "execute_result"
    }
   ],
   "source": [
    "files = os.listdir(\"D:/SonarData/flat\")\n",
    "len([i for i in files if i.endswith(\".flac\")])"
   ]
  },
  {
   "cell_type": "code",
   "execution_count": null,
   "id": "1c064fd3ca77735",
   "metadata": {
    "collapsed": false,
    "jupyter": {
     "outputs_hidden": false
    }
   },
   "outputs": [],
   "source": []
  }
 ],
 "metadata": {
  "kernelspec": {
   "display_name": "Python 3 (ipykernel)",
   "language": "python",
   "name": "python3"
  },
  "language_info": {
   "codemirror_mode": {
    "name": "ipython",
    "version": 3
   },
   "file_extension": ".py",
   "mimetype": "text/x-python",
   "name": "python",
   "nbconvert_exporter": "python",
   "pygments_lexer": "ipython3",
   "version": "3.10.13"
  }
 },
 "nbformat": 4,
 "nbformat_minor": 5
}
