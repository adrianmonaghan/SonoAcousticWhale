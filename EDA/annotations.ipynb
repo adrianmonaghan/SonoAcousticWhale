{
 "cells": [
  {
   "cell_type": "code",
   "execution_count": 1,
   "id": "initial_id",
   "metadata": {
    "collapsed": true,
    "ExecuteTime": {
     "end_time": "2024-03-21T00:42:26.825502Z",
     "start_time": "2024-03-21T00:42:25.686566500Z"
    }
   },
   "outputs": [],
   "source": [
    "import pandas as pd\n",
    "from google.cloud import storage\n",
    "from google.oauth2 import service_account\n",
    "import requests\n",
    "from pathlib import WindowsPath\n",
    "import subprocess\n",
    "import os"
   ]
  },
  {
   "cell_type": "code",
   "outputs": [],
   "source": [
    "cloud_token = {\n",
    "  \"access_token\": \"ya29.a0Ad52N380j0ZKqAyX93CjoNuQ6oE3RgoeJWcASBAR2guKpRisiQGn8Ai2OL7Ha_S82Rsm3OYuvU9DVLexi-eZo7nRQyH243Rw_Ek6nC7z4T9TatV_e4T83nfQ6Yh_hKflNm3S_HS02uH-g4bPhCI28AFGG6mTRKWQhwuDaCgYKAbISARISFQHGX2Mim-yYzlThX6Aouji_xbQ1qQ0171\", \n",
    "  \"scope\": \"https://www.googleapis.com/auth/devstorage.full_control https://www.googleapis.com/auth/devstorage.read_only https://www.googleapis.com/auth/devstorage.read_write\", \n",
    "  \"token_type\": \"Bearer\", \n",
    "  \"expires_in\": 3599, \n",
    "  \"refresh_token\": \"1//04UrF7OBQa-ZOCgYIARAAGAQSNwF-L9IrO90-7YzoyHnjNTLWx_r9GSuyhJKioF58TInnYdWgDQDaZZMzV6uqV_TuCyHR8whVbkQ\"\n",
    "}"
   ],
   "metadata": {
    "collapsed": false,
    "ExecuteTime": {
     "end_time": "2024-03-17T02:55:17.998747300Z",
     "start_time": "2024-03-17T02:55:17.977798Z"
    }
   },
   "id": "46b7d891249b5fb0",
   "execution_count": 19
  },
  {
   "cell_type": "code",
   "outputs": [
    {
     "data": {
      "text/plain": "       audit_name                        flac_compressed_xwav_object  \\\n0         initial  gs://noaa-passive-bioacoustic/pifsc/audio/pipa...   \n1         initial  gs://noaa-passive-bioacoustic/pifsc/audio/pipa...   \n2         initial  gs://noaa-passive-bioacoustic/pifsc/audio/pipa...   \n3         initial  gs://noaa-passive-bioacoustic/pifsc/audio/pipa...   \n4         initial  gs://noaa-passive-bioacoustic/pifsc/audio/pipa...   \n...           ...                                                ...   \n38852  validation  gs://noaa-passive-bioacoustic/pifsc/audio/pipa...   \n38853  validation  gs://noaa-passive-bioacoustic/pifsc/audio/pipa...   \n38854  validation  gs://noaa-passive-bioacoustic/pifsc/audio/pipa...   \n38855  validation  gs://noaa-passive-bioacoustic/pifsc/audio/pipa...   \n38856  validation  gs://noaa-passive-bioacoustic/pifsc/audio/pipa...   \n\n       subchunk_index  label_is_strong  implicit_negatives       label  \\\n0                   1             True                True       Other   \n1                  13             True                True       Other   \n2                   5             True                True       Other   \n3                  17             True                True       Other   \n4                  22             True                True       Other   \n...               ...              ...                 ...         ...   \n38852             910            False                True  Background   \n38853            1018            False                True  Background   \n38854             137            False                True  Background   \n38855             430            False                True  Background   \n38856            1022            False                True  Background   \n\n       begin_rel_subchunk  end_rel_subchunk                         begin_utc  \\\n0                   0.213             0.213  2005-06-06 13:00:00.213000+00:00   \n1                   0.108             0.108  2005-06-06 14:15:00.108000+00:00   \n2                   0.143             0.143  2005-07-02 04:00:00.143000+00:00   \n3                   0.213             0.213  2005-07-02 05:15:00.213000+00:00   \n4                   0.213             0.213  2005-08-01 10:15:00.213000+00:00   \n...                   ...               ...                               ...   \n38852               0.000            75.000         2016-04-27 10:00:00+00:00   \n38853               0.000            75.000         2016-05-03 13:31:15+00:00   \n38854               0.000            75.000         2016-05-04 13:31:15+00:00   \n38855               0.000            75.000         2016-05-13 01:30:00+00:00   \n38856               0.000            75.000         2016-05-21 17:31:15+00:00   \n\n                                end_utc  \n0      2005-06-06 13:00:00.213000+00:00  \n1      2005-06-06 14:15:00.108000+00:00  \n2      2005-07-02 04:00:00.143000+00:00  \n3      2005-07-02 05:15:00.213000+00:00  \n4      2005-08-01 10:15:00.213000+00:00  \n...                                 ...  \n38852         2016-04-27 10:01:15+00:00  \n38853         2016-05-03 13:32:30+00:00  \n38854         2016-05-04 13:32:30+00:00  \n38855         2016-05-13 01:31:15+00:00  \n38856         2016-05-21 17:32:30+00:00  \n\n[38857 rows x 10 columns]",
      "text/html": "<div>\n<style scoped>\n    .dataframe tbody tr th:only-of-type {\n        vertical-align: middle;\n    }\n\n    .dataframe tbody tr th {\n        vertical-align: top;\n    }\n\n    .dataframe thead th {\n        text-align: right;\n    }\n</style>\n<table border=\"1\" class=\"dataframe\">\n  <thead>\n    <tr style=\"text-align: right;\">\n      <th></th>\n      <th>audit_name</th>\n      <th>flac_compressed_xwav_object</th>\n      <th>subchunk_index</th>\n      <th>label_is_strong</th>\n      <th>implicit_negatives</th>\n      <th>label</th>\n      <th>begin_rel_subchunk</th>\n      <th>end_rel_subchunk</th>\n      <th>begin_utc</th>\n      <th>end_utc</th>\n    </tr>\n  </thead>\n  <tbody>\n    <tr>\n      <th>0</th>\n      <td>initial</td>\n      <td>gs://noaa-passive-bioacoustic/pifsc/audio/pipa...</td>\n      <td>1</td>\n      <td>True</td>\n      <td>True</td>\n      <td>Other</td>\n      <td>0.213</td>\n      <td>0.213</td>\n      <td>2005-06-06 13:00:00.213000+00:00</td>\n      <td>2005-06-06 13:00:00.213000+00:00</td>\n    </tr>\n    <tr>\n      <th>1</th>\n      <td>initial</td>\n      <td>gs://noaa-passive-bioacoustic/pifsc/audio/pipa...</td>\n      <td>13</td>\n      <td>True</td>\n      <td>True</td>\n      <td>Other</td>\n      <td>0.108</td>\n      <td>0.108</td>\n      <td>2005-06-06 14:15:00.108000+00:00</td>\n      <td>2005-06-06 14:15:00.108000+00:00</td>\n    </tr>\n    <tr>\n      <th>2</th>\n      <td>initial</td>\n      <td>gs://noaa-passive-bioacoustic/pifsc/audio/pipa...</td>\n      <td>5</td>\n      <td>True</td>\n      <td>True</td>\n      <td>Other</td>\n      <td>0.143</td>\n      <td>0.143</td>\n      <td>2005-07-02 04:00:00.143000+00:00</td>\n      <td>2005-07-02 04:00:00.143000+00:00</td>\n    </tr>\n    <tr>\n      <th>3</th>\n      <td>initial</td>\n      <td>gs://noaa-passive-bioacoustic/pifsc/audio/pipa...</td>\n      <td>17</td>\n      <td>True</td>\n      <td>True</td>\n      <td>Other</td>\n      <td>0.213</td>\n      <td>0.213</td>\n      <td>2005-07-02 05:15:00.213000+00:00</td>\n      <td>2005-07-02 05:15:00.213000+00:00</td>\n    </tr>\n    <tr>\n      <th>4</th>\n      <td>initial</td>\n      <td>gs://noaa-passive-bioacoustic/pifsc/audio/pipa...</td>\n      <td>22</td>\n      <td>True</td>\n      <td>True</td>\n      <td>Other</td>\n      <td>0.213</td>\n      <td>0.213</td>\n      <td>2005-08-01 10:15:00.213000+00:00</td>\n      <td>2005-08-01 10:15:00.213000+00:00</td>\n    </tr>\n    <tr>\n      <th>...</th>\n      <td>...</td>\n      <td>...</td>\n      <td>...</td>\n      <td>...</td>\n      <td>...</td>\n      <td>...</td>\n      <td>...</td>\n      <td>...</td>\n      <td>...</td>\n      <td>...</td>\n    </tr>\n    <tr>\n      <th>38852</th>\n      <td>validation</td>\n      <td>gs://noaa-passive-bioacoustic/pifsc/audio/pipa...</td>\n      <td>910</td>\n      <td>False</td>\n      <td>True</td>\n      <td>Background</td>\n      <td>0.000</td>\n      <td>75.000</td>\n      <td>2016-04-27 10:00:00+00:00</td>\n      <td>2016-04-27 10:01:15+00:00</td>\n    </tr>\n    <tr>\n      <th>38853</th>\n      <td>validation</td>\n      <td>gs://noaa-passive-bioacoustic/pifsc/audio/pipa...</td>\n      <td>1018</td>\n      <td>False</td>\n      <td>True</td>\n      <td>Background</td>\n      <td>0.000</td>\n      <td>75.000</td>\n      <td>2016-05-03 13:31:15+00:00</td>\n      <td>2016-05-03 13:32:30+00:00</td>\n    </tr>\n    <tr>\n      <th>38854</th>\n      <td>validation</td>\n      <td>gs://noaa-passive-bioacoustic/pifsc/audio/pipa...</td>\n      <td>137</td>\n      <td>False</td>\n      <td>True</td>\n      <td>Background</td>\n      <td>0.000</td>\n      <td>75.000</td>\n      <td>2016-05-04 13:31:15+00:00</td>\n      <td>2016-05-04 13:32:30+00:00</td>\n    </tr>\n    <tr>\n      <th>38855</th>\n      <td>validation</td>\n      <td>gs://noaa-passive-bioacoustic/pifsc/audio/pipa...</td>\n      <td>430</td>\n      <td>False</td>\n      <td>True</td>\n      <td>Background</td>\n      <td>0.000</td>\n      <td>75.000</td>\n      <td>2016-05-13 01:30:00+00:00</td>\n      <td>2016-05-13 01:31:15+00:00</td>\n    </tr>\n    <tr>\n      <th>38856</th>\n      <td>validation</td>\n      <td>gs://noaa-passive-bioacoustic/pifsc/audio/pipa...</td>\n      <td>1022</td>\n      <td>False</td>\n      <td>True</td>\n      <td>Background</td>\n      <td>0.000</td>\n      <td>75.000</td>\n      <td>2016-05-21 17:31:15+00:00</td>\n      <td>2016-05-21 17:32:30+00:00</td>\n    </tr>\n  </tbody>\n</table>\n<p>38857 rows × 10 columns</p>\n</div>"
     },
     "execution_count": 4,
     "metadata": {},
     "output_type": "execute_result"
    }
   ],
   "source": [
    "df = pd.read_csv(\"data/pifsc_products_detections_annotations.csv\")\n",
    "df"
   ],
   "metadata": {
    "collapsed": false,
    "ExecuteTime": {
     "end_time": "2024-03-21T00:46:53.422770Z",
     "start_time": "2024-03-21T00:46:53.220316200Z"
    }
   },
   "id": "9590f4547f96b433",
   "execution_count": 4
  },
  {
   "cell_type": "code",
   "outputs": [
    {
     "data": {
      "text/plain": "label\nMn            32189\nBackground     5928\nOther           306\nVessel          242\nFish             98\nDevice           94\nName: count, dtype: int64"
     },
     "execution_count": 9,
     "metadata": {},
     "output_type": "execute_result"
    }
   ],
   "source": [
    "df['label'].value_counts()"
   ],
   "metadata": {
    "collapsed": false,
    "ExecuteTime": {
     "end_time": "2024-03-21T01:01:48.405928Z",
     "start_time": "2024-03-21T01:01:48.356061100Z"
    }
   },
   "id": "1cdc8aa5392b3b91",
   "execution_count": 9
  },
  {
   "cell_type": "code",
   "outputs": [
    {
     "data": {
      "text/plain": "  audit_name                        flac_compressed_xwav_object  \\\n0    initial  gs://noaa-passive-bioacoustic/pifsc/audio/pipa...   \n1    initial  gs://noaa-passive-bioacoustic/pifsc/audio/pipa...   \n\n   subchunk_index  label_is_strong  implicit_negatives  label  \\\n0               1             True                True  Other   \n1              13             True                True  Other   \n\n   begin_rel_subchunk  end_rel_subchunk                         begin_utc  \\\n0               0.213             0.213  2005-06-06 13:00:00.213000+00:00   \n1               0.108             0.108  2005-06-06 14:15:00.108000+00:00   \n\n                            end_utc  \n0  2005-06-06 13:00:00.213000+00:00  \n1  2005-06-06 14:15:00.108000+00:00  ",
      "text/html": "<div>\n<style scoped>\n    .dataframe tbody tr th:only-of-type {\n        vertical-align: middle;\n    }\n\n    .dataframe tbody tr th {\n        vertical-align: top;\n    }\n\n    .dataframe thead th {\n        text-align: right;\n    }\n</style>\n<table border=\"1\" class=\"dataframe\">\n  <thead>\n    <tr style=\"text-align: right;\">\n      <th></th>\n      <th>audit_name</th>\n      <th>flac_compressed_xwav_object</th>\n      <th>subchunk_index</th>\n      <th>label_is_strong</th>\n      <th>implicit_negatives</th>\n      <th>label</th>\n      <th>begin_rel_subchunk</th>\n      <th>end_rel_subchunk</th>\n      <th>begin_utc</th>\n      <th>end_utc</th>\n    </tr>\n  </thead>\n  <tbody>\n    <tr>\n      <th>0</th>\n      <td>initial</td>\n      <td>gs://noaa-passive-bioacoustic/pifsc/audio/pipa...</td>\n      <td>1</td>\n      <td>True</td>\n      <td>True</td>\n      <td>Other</td>\n      <td>0.213</td>\n      <td>0.213</td>\n      <td>2005-06-06 13:00:00.213000+00:00</td>\n      <td>2005-06-06 13:00:00.213000+00:00</td>\n    </tr>\n    <tr>\n      <th>1</th>\n      <td>initial</td>\n      <td>gs://noaa-passive-bioacoustic/pifsc/audio/pipa...</td>\n      <td>13</td>\n      <td>True</td>\n      <td>True</td>\n      <td>Other</td>\n      <td>0.108</td>\n      <td>0.108</td>\n      <td>2005-06-06 14:15:00.108000+00:00</td>\n      <td>2005-06-06 14:15:00.108000+00:00</td>\n    </tr>\n  </tbody>\n</table>\n</div>"
     },
     "execution_count": 30,
     "metadata": {},
     "output_type": "execute_result"
    }
   ],
   "source": [
    "df[df['flac_compressed_xwav_object'] == \"gs://noaa-passive-bioacoustic/pifsc/audio/pipan/crosssm/pipan_crosssm_01/audio/Cross_A_01_050606_123845.d20.x.flac\"]"
   ],
   "metadata": {
    "collapsed": false,
    "ExecuteTime": {
     "end_time": "2024-03-17T03:18:48.790328800Z",
     "start_time": "2024-03-17T03:18:48.775366400Z"
    }
   },
   "id": "78dd4161af186d7d",
   "execution_count": 30
  },
  {
   "cell_type": "code",
   "outputs": [],
   "source": [],
   "metadata": {
    "collapsed": false
   },
   "id": "54f118ad629f1b22"
  },
  {
   "cell_type": "code",
   "outputs": [
    {
     "data": {
      "text/plain": "array(['initial', 'model1', 'model2', 'model3', 'model4', 'postpub',\n       'segments', 'testexpand', 'validation'], dtype=object)"
     },
     "execution_count": 4,
     "metadata": {},
     "output_type": "execute_result"
    }
   ],
   "source": [
    "df['audit_name'].unique()"
   ],
   "metadata": {
    "collapsed": false,
    "ExecuteTime": {
     "end_time": "2024-03-17T02:32:24.748859600Z",
     "start_time": "2024-03-17T02:32:24.714949400Z"
    }
   },
   "id": "8454b562d55128d8",
   "execution_count": 4
  },
  {
   "cell_type": "code",
   "outputs": [
    {
     "data": {
      "text/plain": "label\nMn       29979\nOther      280\nName: count, dtype: int64"
     },
     "execution_count": 12,
     "metadata": {},
     "output_type": "execute_result"
    }
   ],
   "source": [
    "df[df['label_is_strong'] == True].drop_duplicates()['label'].value_counts()"
   ],
   "metadata": {
    "collapsed": false,
    "ExecuteTime": {
     "end_time": "2024-03-17T02:33:47.146996700Z",
     "start_time": "2024-03-17T02:33:47.101119200Z"
    }
   },
   "id": "ed9e6ebf408462c7",
   "execution_count": 12
  },
  {
   "cell_type": "code",
   "outputs": [
    {
     "data": {
      "text/plain": "label\nBackground    5700\nMn            1194\nVessel         230\nFish            97\nDevice          94\nName: count, dtype: int64"
     },
     "execution_count": 13,
     "metadata": {},
     "output_type": "execute_result"
    }
   ],
   "source": [
    "df[df['label_is_strong'] == False].drop_duplicates()['label'].value_counts()"
   ],
   "metadata": {
    "collapsed": false,
    "ExecuteTime": {
     "end_time": "2024-03-17T02:34:14.572366700Z",
     "start_time": "2024-03-17T02:34:14.554415Z"
    }
   },
   "id": "dd12c19da4b0123a",
   "execution_count": 13
  },
  {
   "cell_type": "code",
   "outputs": [],
   "source": [
    "df[df['label_is_strong']]"
   ],
   "metadata": {
    "collapsed": false
   },
   "id": "9e0349abb9de201"
  },
  {
   "cell_type": "code",
   "outputs": [
    {
     "data": {
      "text/plain": "5489"
     },
     "execution_count": 32,
     "metadata": {},
     "output_type": "execute_result"
    }
   ],
   "source": [
    "df['flac_compressed_xwav_object'].nunique()"
   ],
   "metadata": {
    "collapsed": false,
    "ExecuteTime": {
     "end_time": "2024-03-17T03:23:55.884475700Z",
     "start_time": "2024-03-17T03:23:55.861535800Z"
    }
   },
   "id": "8939652c7a194db8",
   "execution_count": 32
  },
  {
   "cell_type": "code",
   "outputs": [],
   "source": [
    "gcf = \"gs://noaa-passive-bioacoustic/pifsc/audio/pipan/crosssm/pipan_crosssm_01/audio/Cross_A_01_050606_123845.d20.x.flac\""
   ],
   "metadata": {
    "collapsed": false,
    "ExecuteTime": {
     "end_time": "2024-03-17T02:45:27.350741800Z",
     "start_time": "2024-03-17T02:45:27.334783600Z"
    }
   },
   "id": "d02572c4c051b8b0",
   "execution_count": 17
  },
  {
   "cell_type": "code",
   "outputs": [
    {
     "ename": "MalformedError",
     "evalue": "Service account info was not in the expected format, missing fields token_uri, client_email.",
     "output_type": "error",
     "traceback": [
      "\u001B[1;31m---------------------------------------------------------------------------\u001B[0m",
      "\u001B[1;31mMalformedError\u001B[0m                            Traceback (most recent call last)",
      "Cell \u001B[1;32mIn[23], line 1\u001B[0m\n\u001B[1;32m----> 1\u001B[0m storage_credentials \u001B[38;5;241m=\u001B[39m \u001B[43mservice_account\u001B[49m\u001B[38;5;241;43m.\u001B[39;49m\u001B[43mCredentials\u001B[49m\u001B[38;5;241;43m.\u001B[39;49m\u001B[43mfrom_service_account_info\u001B[49m\u001B[43m(\u001B[49m\u001B[43mcloud_token\u001B[49m\u001B[43m)\u001B[49m\n",
      "File \u001B[1;32m~\\anaconda3\\envs\\tf\\lib\\site-packages\\google\\oauth2\\service_account.py:241\u001B[0m, in \u001B[0;36mCredentials.from_service_account_info\u001B[1;34m(cls, info, **kwargs)\u001B[0m\n\u001B[0;32m    225\u001B[0m \u001B[38;5;129m@classmethod\u001B[39m\n\u001B[0;32m    226\u001B[0m \u001B[38;5;28;01mdef\u001B[39;00m \u001B[38;5;21mfrom_service_account_info\u001B[39m(\u001B[38;5;28mcls\u001B[39m, info, \u001B[38;5;241m*\u001B[39m\u001B[38;5;241m*\u001B[39mkwargs):\n\u001B[0;32m    227\u001B[0m \u001B[38;5;250m    \u001B[39m\u001B[38;5;124;03m\"\"\"Creates a Credentials instance from parsed service account info.\u001B[39;00m\n\u001B[0;32m    228\u001B[0m \n\u001B[0;32m    229\u001B[0m \u001B[38;5;124;03m    Args:\u001B[39;00m\n\u001B[1;32m   (...)\u001B[0m\n\u001B[0;32m    239\u001B[0m \u001B[38;5;124;03m        ValueError: If the info is not in the expected format.\u001B[39;00m\n\u001B[0;32m    240\u001B[0m \u001B[38;5;124;03m    \"\"\"\u001B[39;00m\n\u001B[1;32m--> 241\u001B[0m     signer \u001B[38;5;241m=\u001B[39m \u001B[43m_service_account_info\u001B[49m\u001B[38;5;241;43m.\u001B[39;49m\u001B[43mfrom_dict\u001B[49m\u001B[43m(\u001B[49m\n\u001B[0;32m    242\u001B[0m \u001B[43m        \u001B[49m\u001B[43minfo\u001B[49m\u001B[43m,\u001B[49m\u001B[43m \u001B[49m\u001B[43mrequire\u001B[49m\u001B[38;5;241;43m=\u001B[39;49m\u001B[43m[\u001B[49m\u001B[38;5;124;43m\"\u001B[39;49m\u001B[38;5;124;43mclient_email\u001B[39;49m\u001B[38;5;124;43m\"\u001B[39;49m\u001B[43m,\u001B[49m\u001B[43m \u001B[49m\u001B[38;5;124;43m\"\u001B[39;49m\u001B[38;5;124;43mtoken_uri\u001B[39;49m\u001B[38;5;124;43m\"\u001B[39;49m\u001B[43m]\u001B[49m\n\u001B[0;32m    243\u001B[0m \u001B[43m    \u001B[49m\u001B[43m)\u001B[49m\n\u001B[0;32m    244\u001B[0m     \u001B[38;5;28;01mreturn\u001B[39;00m \u001B[38;5;28mcls\u001B[39m\u001B[38;5;241m.\u001B[39m_from_signer_and_info(signer, info, \u001B[38;5;241m*\u001B[39m\u001B[38;5;241m*\u001B[39mkwargs)\n",
      "File \u001B[1;32m~\\anaconda3\\envs\\tf\\lib\\site-packages\\google\\auth\\_service_account_info.py:50\u001B[0m, in \u001B[0;36mfrom_dict\u001B[1;34m(data, require, use_rsa_signer)\u001B[0m\n\u001B[0;32m     47\u001B[0m missing \u001B[38;5;241m=\u001B[39m keys_needed\u001B[38;5;241m.\u001B[39mdifference(data\u001B[38;5;241m.\u001B[39mkeys())\n\u001B[0;32m     49\u001B[0m \u001B[38;5;28;01mif\u001B[39;00m missing:\n\u001B[1;32m---> 50\u001B[0m     \u001B[38;5;28;01mraise\u001B[39;00m exceptions\u001B[38;5;241m.\u001B[39mMalformedError(\n\u001B[0;32m     51\u001B[0m         \u001B[38;5;124m\"\u001B[39m\u001B[38;5;124mService account info was not in the expected format, missing \u001B[39m\u001B[38;5;124m\"\u001B[39m\n\u001B[0;32m     52\u001B[0m         \u001B[38;5;124m\"\u001B[39m\u001B[38;5;124mfields \u001B[39m\u001B[38;5;132;01m{}\u001B[39;00m\u001B[38;5;124m.\u001B[39m\u001B[38;5;124m\"\u001B[39m\u001B[38;5;241m.\u001B[39mformat(\u001B[38;5;124m\"\u001B[39m\u001B[38;5;124m, \u001B[39m\u001B[38;5;124m\"\u001B[39m\u001B[38;5;241m.\u001B[39mjoin(missing))\n\u001B[0;32m     53\u001B[0m     )\n\u001B[0;32m     55\u001B[0m \u001B[38;5;66;03m# Create a signer.\u001B[39;00m\n\u001B[0;32m     56\u001B[0m \u001B[38;5;28;01mif\u001B[39;00m use_rsa_signer:\n",
      "\u001B[1;31mMalformedError\u001B[0m: Service account info was not in the expected format, missing fields token_uri, client_email."
     ]
    }
   ],
   "source": [
    "storage_credentials = service_account.Credentials.from_service_account_info(cloud_token)\n",
    "# storage_clint = storage.Client()"
   ],
   "metadata": {
    "collapsed": false,
    "ExecuteTime": {
     "end_time": "2024-03-17T03:03:30.164347500Z",
     "start_time": "2024-03-17T03:03:30.064613600Z"
    }
   },
   "id": "3d3ac734e368eb09",
   "execution_count": 23
  },
  {
   "cell_type": "code",
   "outputs": [],
   "source": [
    "bucket_name = \"noaa-passive-bioacoustic\"\n",
    "blob_name = \"pifsc/audio/pipan/crosssm/pipan_crosssm_01/audio/Cross_A_01_050606_123845.d20.x.flac\"\n",
    "url = f\"https://storage.googleapis.com/storage/v1/b/{bucket_name}/o/{blob_name}?alt=media\"\n",
    "\n",
    "headers = {\"Authorization\": f\"Bearer {cloud_token['access_token']}\"}\n",
    "\n",
    "r = requests.get(\"https://storage.googleapis.com/noaa-passive-bioacoustic/pifsc/audio/pipan/crosssm/pipan_crosssm_01/audio/Cross_A_01_050606_123845.d20.x.flac\",headers=headers)"
   ],
   "metadata": {
    "collapsed": false,
    "ExecuteTime": {
     "end_time": "2024-03-17T03:25:09.528214400Z",
     "start_time": "2024-03-17T03:25:09.371619Z"
    }
   },
   "id": "4c82ee46c7b73118",
   "execution_count": 33
  },
  {
   "cell_type": "code",
   "outputs": [],
   "source": [
    "with open(\"data/audio_data/test_flac.flac\", \"wb\") as f:\n",
    "    f.write(r.content)"
   ],
   "metadata": {
    "collapsed": false,
    "ExecuteTime": {
     "end_time": "2024-03-17T03:14:49.925150600Z",
     "start_time": "2024-03-17T03:14:49.907197200Z"
    }
   },
   "id": "75e736f88f5c5fd7",
   "execution_count": 29
  },
  {
   "cell_type": "code",
   "outputs": [
    {
     "data": {
      "text/plain": "   audit_name                        flac_compressed_xwav_object  \\\n36    initial  gs://noaa-passive-bioacoustic/pifsc/audio/pipa...   \n37    initial  gs://noaa-passive-bioacoustic/pifsc/audio/pipa...   \n38    initial  gs://noaa-passive-bioacoustic/pifsc/audio/pipa...   \n39    initial  gs://noaa-passive-bioacoustic/pifsc/audio/pipa...   \n40    initial  gs://noaa-passive-bioacoustic/pifsc/audio/pipa...   \n41    initial  gs://noaa-passive-bioacoustic/pifsc/audio/pipa...   \n42    initial  gs://noaa-passive-bioacoustic/pifsc/audio/pipa...   \n43    initial  gs://noaa-passive-bioacoustic/pifsc/audio/pipa...   \n44    initial  gs://noaa-passive-bioacoustic/pifsc/audio/pipa...   \n45    initial  gs://noaa-passive-bioacoustic/pifsc/audio/pipa...   \n46    initial  gs://noaa-passive-bioacoustic/pifsc/audio/pipa...   \n47    initial  gs://noaa-passive-bioacoustic/pifsc/audio/pipa...   \n48    initial  gs://noaa-passive-bioacoustic/pifsc/audio/pipa...   \n49    initial  gs://noaa-passive-bioacoustic/pifsc/audio/pipa...   \n50    initial  gs://noaa-passive-bioacoustic/pifsc/audio/pipa...   \n51    initial  gs://noaa-passive-bioacoustic/pifsc/audio/pipa...   \n52    initial  gs://noaa-passive-bioacoustic/pifsc/audio/pipa...   \n53    initial  gs://noaa-passive-bioacoustic/pifsc/audio/pipa...   \n54    initial  gs://noaa-passive-bioacoustic/pifsc/audio/pipa...   \n55    initial  gs://noaa-passive-bioacoustic/pifsc/audio/pipa...   \n56    initial  gs://noaa-passive-bioacoustic/pifsc/audio/pipa...   \n57    initial  gs://noaa-passive-bioacoustic/pifsc/audio/pipa...   \n58    initial  gs://noaa-passive-bioacoustic/pifsc/audio/pipa...   \n59    initial  gs://noaa-passive-bioacoustic/pifsc/audio/pipa...   \n60    initial  gs://noaa-passive-bioacoustic/pifsc/audio/pipa...   \n61    initial  gs://noaa-passive-bioacoustic/pifsc/audio/pipa...   \n62    initial  gs://noaa-passive-bioacoustic/pifsc/audio/pipa...   \n63    initial  gs://noaa-passive-bioacoustic/pifsc/audio/pipa...   \n\n    subchunk_index  label_is_strong  implicit_negatives  label  \\\n36               0             True                True     Mn   \n37               0             True                True     Mn   \n38               0             True                True     Mn   \n39               4             True                True     Mn   \n40               4             True                True     Mn   \n41               4             True                True     Mn   \n42               5             True                True     Mn   \n43               5             True                True     Mn   \n44               5             True                True     Mn   \n45               5             True                True     Mn   \n46               5             True                True     Mn   \n47               5             True                True     Mn   \n48               5             True                True     Mn   \n49               5             True                True     Mn   \n50               6             True                True     Mn   \n51               6             True                True     Mn   \n52               6             True                True     Mn   \n53               6             True                True     Mn   \n54               6             True                True     Mn   \n55               6             True                True     Mn   \n56               6             True                True     Mn   \n57               8             True                True     Mn   \n58               8             True                True     Mn   \n59               8             True                True     Mn   \n60               8             True                True     Mn   \n61               8             True                True     Mn   \n62               9             True                True     Mn   \n63              12             True                True  Other   \n\n    begin_rel_subchunk  end_rel_subchunk                         begin_utc  \\\n36              49.093            50.126  2008-05-06 18:36:34.093000+00:00   \n37              52.789            53.350  2008-05-06 18:36:37.789000+00:00   \n38              55.521            56.078  2008-05-06 18:36:40.521000+00:00   \n39              10.539            11.205  2008-05-06 18:43:55.539000+00:00   \n40              15.344            15.852  2008-05-06 18:44:00.344000+00:00   \n41              54.471            54.856  2008-05-06 18:44:39.471000+00:00   \n42               1.290             2.902  2008-05-06 18:48:01.290000+00:00   \n43              17.341            18.637  2008-05-06 18:48:17.341000+00:00   \n44              22.018            23.104  2008-05-06 18:48:22.018000+00:00   \n45              38.209            39.225  2008-05-06 18:48:38.209000+00:00   \n46              42.764            43.745  2008-05-06 18:48:42.764000+00:00   \n47              58.622            59.796  2008-05-06 18:48:58.622000+00:00   \n48              63.445            64.566  2008-05-06 18:49:03.445000+00:00   \n49              67.456            68.472  2008-05-06 18:49:07.456000+00:00   \n50               5.284             5.757  2008-05-06 18:49:20.284000+00:00   \n51               9.331            10.259  2008-05-06 18:49:24.331000+00:00   \n52              30.134            30.729  2008-05-06 18:49:45.134000+00:00   \n53              33.585            34.461  2008-05-06 18:49:48.585000+00:00   \n54              38.174            38.875  2008-05-06 18:49:53.174000+00:00   \n55              45.887            46.798  2008-05-06 18:50:00.887000+00:00   \n56              54.278            54.874  2008-05-06 18:50:09.278000+00:00   \n57               9.120             9.593  2008-05-06 18:51:54.120000+00:00   \n58              13.149            13.517  2008-05-06 18:51:58.149000+00:00   \n59              23.647            24.348  2008-05-06 18:52:08.647000+00:00   \n60              64.198            64.741  2008-05-06 18:52:49.198000+00:00   \n61              68.367            68.753  2008-05-06 18:52:53.367000+00:00   \n62              21.633            21.983  2008-05-06 18:56:21.633000+00:00   \n63              62.500            62.500  2008-05-06 19:00:47.500000+00:00   \n\n                             end_utc  \n36  2008-05-06 18:36:35.126000+00:00  \n37  2008-05-06 18:36:38.350000+00:00  \n38  2008-05-06 18:36:41.078000+00:00  \n39  2008-05-06 18:43:56.205000+00:00  \n40  2008-05-06 18:44:00.852000+00:00  \n41  2008-05-06 18:44:39.856000+00:00  \n42  2008-05-06 18:48:02.902000+00:00  \n43  2008-05-06 18:48:18.637000+00:00  \n44  2008-05-06 18:48:23.104000+00:00  \n45  2008-05-06 18:48:39.225000+00:00  \n46  2008-05-06 18:48:43.745000+00:00  \n47  2008-05-06 18:48:59.796000+00:00  \n48  2008-05-06 18:49:04.566000+00:00  \n49  2008-05-06 18:49:08.472000+00:00  \n50  2008-05-06 18:49:20.757000+00:00  \n51  2008-05-06 18:49:25.259000+00:00  \n52  2008-05-06 18:49:45.729000+00:00  \n53  2008-05-06 18:49:49.461000+00:00  \n54  2008-05-06 18:49:53.875000+00:00  \n55  2008-05-06 18:50:01.798000+00:00  \n56  2008-05-06 18:50:09.874000+00:00  \n57  2008-05-06 18:51:54.593000+00:00  \n58  2008-05-06 18:51:58.517000+00:00  \n59  2008-05-06 18:52:09.348000+00:00  \n60  2008-05-06 18:52:49.741000+00:00  \n61  2008-05-06 18:52:53.753000+00:00  \n62  2008-05-06 18:56:21.983000+00:00  \n63  2008-05-06 19:00:47.500000+00:00  ",
      "text/html": "<div>\n<style scoped>\n    .dataframe tbody tr th:only-of-type {\n        vertical-align: middle;\n    }\n\n    .dataframe tbody tr th {\n        vertical-align: top;\n    }\n\n    .dataframe thead th {\n        text-align: right;\n    }\n</style>\n<table border=\"1\" class=\"dataframe\">\n  <thead>\n    <tr style=\"text-align: right;\">\n      <th></th>\n      <th>audit_name</th>\n      <th>flac_compressed_xwav_object</th>\n      <th>subchunk_index</th>\n      <th>label_is_strong</th>\n      <th>implicit_negatives</th>\n      <th>label</th>\n      <th>begin_rel_subchunk</th>\n      <th>end_rel_subchunk</th>\n      <th>begin_utc</th>\n      <th>end_utc</th>\n    </tr>\n  </thead>\n  <tbody>\n    <tr>\n      <th>36</th>\n      <td>initial</td>\n      <td>gs://noaa-passive-bioacoustic/pifsc/audio/pipa...</td>\n      <td>0</td>\n      <td>True</td>\n      <td>True</td>\n      <td>Mn</td>\n      <td>49.093</td>\n      <td>50.126</td>\n      <td>2008-05-06 18:36:34.093000+00:00</td>\n      <td>2008-05-06 18:36:35.126000+00:00</td>\n    </tr>\n    <tr>\n      <th>37</th>\n      <td>initial</td>\n      <td>gs://noaa-passive-bioacoustic/pifsc/audio/pipa...</td>\n      <td>0</td>\n      <td>True</td>\n      <td>True</td>\n      <td>Mn</td>\n      <td>52.789</td>\n      <td>53.350</td>\n      <td>2008-05-06 18:36:37.789000+00:00</td>\n      <td>2008-05-06 18:36:38.350000+00:00</td>\n    </tr>\n    <tr>\n      <th>38</th>\n      <td>initial</td>\n      <td>gs://noaa-passive-bioacoustic/pifsc/audio/pipa...</td>\n      <td>0</td>\n      <td>True</td>\n      <td>True</td>\n      <td>Mn</td>\n      <td>55.521</td>\n      <td>56.078</td>\n      <td>2008-05-06 18:36:40.521000+00:00</td>\n      <td>2008-05-06 18:36:41.078000+00:00</td>\n    </tr>\n    <tr>\n      <th>39</th>\n      <td>initial</td>\n      <td>gs://noaa-passive-bioacoustic/pifsc/audio/pipa...</td>\n      <td>4</td>\n      <td>True</td>\n      <td>True</td>\n      <td>Mn</td>\n      <td>10.539</td>\n      <td>11.205</td>\n      <td>2008-05-06 18:43:55.539000+00:00</td>\n      <td>2008-05-06 18:43:56.205000+00:00</td>\n    </tr>\n    <tr>\n      <th>40</th>\n      <td>initial</td>\n      <td>gs://noaa-passive-bioacoustic/pifsc/audio/pipa...</td>\n      <td>4</td>\n      <td>True</td>\n      <td>True</td>\n      <td>Mn</td>\n      <td>15.344</td>\n      <td>15.852</td>\n      <td>2008-05-06 18:44:00.344000+00:00</td>\n      <td>2008-05-06 18:44:00.852000+00:00</td>\n    </tr>\n    <tr>\n      <th>41</th>\n      <td>initial</td>\n      <td>gs://noaa-passive-bioacoustic/pifsc/audio/pipa...</td>\n      <td>4</td>\n      <td>True</td>\n      <td>True</td>\n      <td>Mn</td>\n      <td>54.471</td>\n      <td>54.856</td>\n      <td>2008-05-06 18:44:39.471000+00:00</td>\n      <td>2008-05-06 18:44:39.856000+00:00</td>\n    </tr>\n    <tr>\n      <th>42</th>\n      <td>initial</td>\n      <td>gs://noaa-passive-bioacoustic/pifsc/audio/pipa...</td>\n      <td>5</td>\n      <td>True</td>\n      <td>True</td>\n      <td>Mn</td>\n      <td>1.290</td>\n      <td>2.902</td>\n      <td>2008-05-06 18:48:01.290000+00:00</td>\n      <td>2008-05-06 18:48:02.902000+00:00</td>\n    </tr>\n    <tr>\n      <th>43</th>\n      <td>initial</td>\n      <td>gs://noaa-passive-bioacoustic/pifsc/audio/pipa...</td>\n      <td>5</td>\n      <td>True</td>\n      <td>True</td>\n      <td>Mn</td>\n      <td>17.341</td>\n      <td>18.637</td>\n      <td>2008-05-06 18:48:17.341000+00:00</td>\n      <td>2008-05-06 18:48:18.637000+00:00</td>\n    </tr>\n    <tr>\n      <th>44</th>\n      <td>initial</td>\n      <td>gs://noaa-passive-bioacoustic/pifsc/audio/pipa...</td>\n      <td>5</td>\n      <td>True</td>\n      <td>True</td>\n      <td>Mn</td>\n      <td>22.018</td>\n      <td>23.104</td>\n      <td>2008-05-06 18:48:22.018000+00:00</td>\n      <td>2008-05-06 18:48:23.104000+00:00</td>\n    </tr>\n    <tr>\n      <th>45</th>\n      <td>initial</td>\n      <td>gs://noaa-passive-bioacoustic/pifsc/audio/pipa...</td>\n      <td>5</td>\n      <td>True</td>\n      <td>True</td>\n      <td>Mn</td>\n      <td>38.209</td>\n      <td>39.225</td>\n      <td>2008-05-06 18:48:38.209000+00:00</td>\n      <td>2008-05-06 18:48:39.225000+00:00</td>\n    </tr>\n    <tr>\n      <th>46</th>\n      <td>initial</td>\n      <td>gs://noaa-passive-bioacoustic/pifsc/audio/pipa...</td>\n      <td>5</td>\n      <td>True</td>\n      <td>True</td>\n      <td>Mn</td>\n      <td>42.764</td>\n      <td>43.745</td>\n      <td>2008-05-06 18:48:42.764000+00:00</td>\n      <td>2008-05-06 18:48:43.745000+00:00</td>\n    </tr>\n    <tr>\n      <th>47</th>\n      <td>initial</td>\n      <td>gs://noaa-passive-bioacoustic/pifsc/audio/pipa...</td>\n      <td>5</td>\n      <td>True</td>\n      <td>True</td>\n      <td>Mn</td>\n      <td>58.622</td>\n      <td>59.796</td>\n      <td>2008-05-06 18:48:58.622000+00:00</td>\n      <td>2008-05-06 18:48:59.796000+00:00</td>\n    </tr>\n    <tr>\n      <th>48</th>\n      <td>initial</td>\n      <td>gs://noaa-passive-bioacoustic/pifsc/audio/pipa...</td>\n      <td>5</td>\n      <td>True</td>\n      <td>True</td>\n      <td>Mn</td>\n      <td>63.445</td>\n      <td>64.566</td>\n      <td>2008-05-06 18:49:03.445000+00:00</td>\n      <td>2008-05-06 18:49:04.566000+00:00</td>\n    </tr>\n    <tr>\n      <th>49</th>\n      <td>initial</td>\n      <td>gs://noaa-passive-bioacoustic/pifsc/audio/pipa...</td>\n      <td>5</td>\n      <td>True</td>\n      <td>True</td>\n      <td>Mn</td>\n      <td>67.456</td>\n      <td>68.472</td>\n      <td>2008-05-06 18:49:07.456000+00:00</td>\n      <td>2008-05-06 18:49:08.472000+00:00</td>\n    </tr>\n    <tr>\n      <th>50</th>\n      <td>initial</td>\n      <td>gs://noaa-passive-bioacoustic/pifsc/audio/pipa...</td>\n      <td>6</td>\n      <td>True</td>\n      <td>True</td>\n      <td>Mn</td>\n      <td>5.284</td>\n      <td>5.757</td>\n      <td>2008-05-06 18:49:20.284000+00:00</td>\n      <td>2008-05-06 18:49:20.757000+00:00</td>\n    </tr>\n    <tr>\n      <th>51</th>\n      <td>initial</td>\n      <td>gs://noaa-passive-bioacoustic/pifsc/audio/pipa...</td>\n      <td>6</td>\n      <td>True</td>\n      <td>True</td>\n      <td>Mn</td>\n      <td>9.331</td>\n      <td>10.259</td>\n      <td>2008-05-06 18:49:24.331000+00:00</td>\n      <td>2008-05-06 18:49:25.259000+00:00</td>\n    </tr>\n    <tr>\n      <th>52</th>\n      <td>initial</td>\n      <td>gs://noaa-passive-bioacoustic/pifsc/audio/pipa...</td>\n      <td>6</td>\n      <td>True</td>\n      <td>True</td>\n      <td>Mn</td>\n      <td>30.134</td>\n      <td>30.729</td>\n      <td>2008-05-06 18:49:45.134000+00:00</td>\n      <td>2008-05-06 18:49:45.729000+00:00</td>\n    </tr>\n    <tr>\n      <th>53</th>\n      <td>initial</td>\n      <td>gs://noaa-passive-bioacoustic/pifsc/audio/pipa...</td>\n      <td>6</td>\n      <td>True</td>\n      <td>True</td>\n      <td>Mn</td>\n      <td>33.585</td>\n      <td>34.461</td>\n      <td>2008-05-06 18:49:48.585000+00:00</td>\n      <td>2008-05-06 18:49:49.461000+00:00</td>\n    </tr>\n    <tr>\n      <th>54</th>\n      <td>initial</td>\n      <td>gs://noaa-passive-bioacoustic/pifsc/audio/pipa...</td>\n      <td>6</td>\n      <td>True</td>\n      <td>True</td>\n      <td>Mn</td>\n      <td>38.174</td>\n      <td>38.875</td>\n      <td>2008-05-06 18:49:53.174000+00:00</td>\n      <td>2008-05-06 18:49:53.875000+00:00</td>\n    </tr>\n    <tr>\n      <th>55</th>\n      <td>initial</td>\n      <td>gs://noaa-passive-bioacoustic/pifsc/audio/pipa...</td>\n      <td>6</td>\n      <td>True</td>\n      <td>True</td>\n      <td>Mn</td>\n      <td>45.887</td>\n      <td>46.798</td>\n      <td>2008-05-06 18:50:00.887000+00:00</td>\n      <td>2008-05-06 18:50:01.798000+00:00</td>\n    </tr>\n    <tr>\n      <th>56</th>\n      <td>initial</td>\n      <td>gs://noaa-passive-bioacoustic/pifsc/audio/pipa...</td>\n      <td>6</td>\n      <td>True</td>\n      <td>True</td>\n      <td>Mn</td>\n      <td>54.278</td>\n      <td>54.874</td>\n      <td>2008-05-06 18:50:09.278000+00:00</td>\n      <td>2008-05-06 18:50:09.874000+00:00</td>\n    </tr>\n    <tr>\n      <th>57</th>\n      <td>initial</td>\n      <td>gs://noaa-passive-bioacoustic/pifsc/audio/pipa...</td>\n      <td>8</td>\n      <td>True</td>\n      <td>True</td>\n      <td>Mn</td>\n      <td>9.120</td>\n      <td>9.593</td>\n      <td>2008-05-06 18:51:54.120000+00:00</td>\n      <td>2008-05-06 18:51:54.593000+00:00</td>\n    </tr>\n    <tr>\n      <th>58</th>\n      <td>initial</td>\n      <td>gs://noaa-passive-bioacoustic/pifsc/audio/pipa...</td>\n      <td>8</td>\n      <td>True</td>\n      <td>True</td>\n      <td>Mn</td>\n      <td>13.149</td>\n      <td>13.517</td>\n      <td>2008-05-06 18:51:58.149000+00:00</td>\n      <td>2008-05-06 18:51:58.517000+00:00</td>\n    </tr>\n    <tr>\n      <th>59</th>\n      <td>initial</td>\n      <td>gs://noaa-passive-bioacoustic/pifsc/audio/pipa...</td>\n      <td>8</td>\n      <td>True</td>\n      <td>True</td>\n      <td>Mn</td>\n      <td>23.647</td>\n      <td>24.348</td>\n      <td>2008-05-06 18:52:08.647000+00:00</td>\n      <td>2008-05-06 18:52:09.348000+00:00</td>\n    </tr>\n    <tr>\n      <th>60</th>\n      <td>initial</td>\n      <td>gs://noaa-passive-bioacoustic/pifsc/audio/pipa...</td>\n      <td>8</td>\n      <td>True</td>\n      <td>True</td>\n      <td>Mn</td>\n      <td>64.198</td>\n      <td>64.741</td>\n      <td>2008-05-06 18:52:49.198000+00:00</td>\n      <td>2008-05-06 18:52:49.741000+00:00</td>\n    </tr>\n    <tr>\n      <th>61</th>\n      <td>initial</td>\n      <td>gs://noaa-passive-bioacoustic/pifsc/audio/pipa...</td>\n      <td>8</td>\n      <td>True</td>\n      <td>True</td>\n      <td>Mn</td>\n      <td>68.367</td>\n      <td>68.753</td>\n      <td>2008-05-06 18:52:53.367000+00:00</td>\n      <td>2008-05-06 18:52:53.753000+00:00</td>\n    </tr>\n    <tr>\n      <th>62</th>\n      <td>initial</td>\n      <td>gs://noaa-passive-bioacoustic/pifsc/audio/pipa...</td>\n      <td>9</td>\n      <td>True</td>\n      <td>True</td>\n      <td>Mn</td>\n      <td>21.633</td>\n      <td>21.983</td>\n      <td>2008-05-06 18:56:21.633000+00:00</td>\n      <td>2008-05-06 18:56:21.983000+00:00</td>\n    </tr>\n    <tr>\n      <th>63</th>\n      <td>initial</td>\n      <td>gs://noaa-passive-bioacoustic/pifsc/audio/pipa...</td>\n      <td>12</td>\n      <td>True</td>\n      <td>True</td>\n      <td>Other</td>\n      <td>62.500</td>\n      <td>62.500</td>\n      <td>2008-05-06 19:00:47.500000+00:00</td>\n      <td>2008-05-06 19:00:47.500000+00:00</td>\n    </tr>\n  </tbody>\n</table>\n</div>"
     },
     "execution_count": 73,
     "metadata": {},
     "output_type": "execute_result"
    }
   ],
   "source": [
    "df[df['flac_compressed_xwav_object'] == \"gs://noaa-passive-bioacoustic/pifsc/audio/pipan/hawaii/pipan_hawaii_02/audio/Hawaii_K_02_080506_183545.d20.x.flac\"]"
   ],
   "metadata": {
    "collapsed": false,
    "ExecuteTime": {
     "end_time": "2024-03-17T03:51:59.446382600Z",
     "start_time": "2024-03-17T03:51:59.407481200Z"
    }
   },
   "id": "a2d4c060d276f314",
   "execution_count": 73
  },
  {
   "cell_type": "code",
   "outputs": [
    {
     "data": {
      "text/plain": "   audit_name                        flac_compressed_xwav_object  \\\n0     initial  gs://noaa-passive-bioacoustic/pifsc/audio/pipa...   \n1     initial  gs://noaa-passive-bioacoustic/pifsc/audio/pipa...   \n2     initial  gs://noaa-passive-bioacoustic/pifsc/audio/pipa...   \n3     initial  gs://noaa-passive-bioacoustic/pifsc/audio/pipa...   \n4     initial  gs://noaa-passive-bioacoustic/pifsc/audio/pipa...   \n..        ...                                                ...   \n95    initial  gs://noaa-passive-bioacoustic/pifsc/audio/pipa...   \n96    initial  gs://noaa-passive-bioacoustic/pifsc/audio/pipa...   \n97    initial  gs://noaa-passive-bioacoustic/pifsc/audio/pipa...   \n98    initial  gs://noaa-passive-bioacoustic/pifsc/audio/pipa...   \n99    initial  gs://noaa-passive-bioacoustic/pifsc/audio/pipa...   \n\n    subchunk_index  label_is_strong  implicit_negatives  label  \\\n0                1             True                True  Other   \n1               13             True                True  Other   \n2                5             True                True  Other   \n3               17             True                True  Other   \n4               22             True                True  Other   \n..             ...              ...                 ...    ...   \n95              18             True                True     Mn   \n96              18             True                True     Mn   \n97              18             True                True     Mn   \n98              18             True                True     Mn   \n99              18             True                True     Mn   \n\n    begin_rel_subchunk  end_rel_subchunk                         begin_utc  \\\n0                0.213             0.213  2005-06-06 13:00:00.213000+00:00   \n1                0.108             0.108  2005-06-06 14:15:00.108000+00:00   \n2                0.143             0.143  2005-07-02 04:00:00.143000+00:00   \n3                0.213             0.213  2005-07-02 05:15:00.213000+00:00   \n4                0.213             0.213  2005-08-01 10:15:00.213000+00:00   \n..                 ...               ...                               ...   \n95              57.142            57.774  2009-05-05 17:48:27.142000+00:00   \n96              60.996            61.839  2009-05-05 17:48:30.996000+00:00   \n97              65.178            66.302  2009-05-05 17:48:35.178000+00:00   \n98              68.481            69.606  2009-05-05 17:48:38.481000+00:00   \n99              70.590            71.398  2009-05-05 17:48:40.590000+00:00   \n\n                             end_utc  \n0   2005-06-06 13:00:00.213000+00:00  \n1   2005-06-06 14:15:00.108000+00:00  \n2   2005-07-02 04:00:00.143000+00:00  \n3   2005-07-02 05:15:00.213000+00:00  \n4   2005-08-01 10:15:00.213000+00:00  \n..                               ...  \n95  2009-05-05 17:48:27.774000+00:00  \n96  2009-05-05 17:48:31.839000+00:00  \n97  2009-05-05 17:48:36.302000+00:00  \n98  2009-05-05 17:48:39.606000+00:00  \n99  2009-05-05 17:48:41.398000+00:00  \n\n[100 rows x 10 columns]",
      "text/html": "<div>\n<style scoped>\n    .dataframe tbody tr th:only-of-type {\n        vertical-align: middle;\n    }\n\n    .dataframe tbody tr th {\n        vertical-align: top;\n    }\n\n    .dataframe thead th {\n        text-align: right;\n    }\n</style>\n<table border=\"1\" class=\"dataframe\">\n  <thead>\n    <tr style=\"text-align: right;\">\n      <th></th>\n      <th>audit_name</th>\n      <th>flac_compressed_xwav_object</th>\n      <th>subchunk_index</th>\n      <th>label_is_strong</th>\n      <th>implicit_negatives</th>\n      <th>label</th>\n      <th>begin_rel_subchunk</th>\n      <th>end_rel_subchunk</th>\n      <th>begin_utc</th>\n      <th>end_utc</th>\n    </tr>\n  </thead>\n  <tbody>\n    <tr>\n      <th>0</th>\n      <td>initial</td>\n      <td>gs://noaa-passive-bioacoustic/pifsc/audio/pipa...</td>\n      <td>1</td>\n      <td>True</td>\n      <td>True</td>\n      <td>Other</td>\n      <td>0.213</td>\n      <td>0.213</td>\n      <td>2005-06-06 13:00:00.213000+00:00</td>\n      <td>2005-06-06 13:00:00.213000+00:00</td>\n    </tr>\n    <tr>\n      <th>1</th>\n      <td>initial</td>\n      <td>gs://noaa-passive-bioacoustic/pifsc/audio/pipa...</td>\n      <td>13</td>\n      <td>True</td>\n      <td>True</td>\n      <td>Other</td>\n      <td>0.108</td>\n      <td>0.108</td>\n      <td>2005-06-06 14:15:00.108000+00:00</td>\n      <td>2005-06-06 14:15:00.108000+00:00</td>\n    </tr>\n    <tr>\n      <th>2</th>\n      <td>initial</td>\n      <td>gs://noaa-passive-bioacoustic/pifsc/audio/pipa...</td>\n      <td>5</td>\n      <td>True</td>\n      <td>True</td>\n      <td>Other</td>\n      <td>0.143</td>\n      <td>0.143</td>\n      <td>2005-07-02 04:00:00.143000+00:00</td>\n      <td>2005-07-02 04:00:00.143000+00:00</td>\n    </tr>\n    <tr>\n      <th>3</th>\n      <td>initial</td>\n      <td>gs://noaa-passive-bioacoustic/pifsc/audio/pipa...</td>\n      <td>17</td>\n      <td>True</td>\n      <td>True</td>\n      <td>Other</td>\n      <td>0.213</td>\n      <td>0.213</td>\n      <td>2005-07-02 05:15:00.213000+00:00</td>\n      <td>2005-07-02 05:15:00.213000+00:00</td>\n    </tr>\n    <tr>\n      <th>4</th>\n      <td>initial</td>\n      <td>gs://noaa-passive-bioacoustic/pifsc/audio/pipa...</td>\n      <td>22</td>\n      <td>True</td>\n      <td>True</td>\n      <td>Other</td>\n      <td>0.213</td>\n      <td>0.213</td>\n      <td>2005-08-01 10:15:00.213000+00:00</td>\n      <td>2005-08-01 10:15:00.213000+00:00</td>\n    </tr>\n    <tr>\n      <th>...</th>\n      <td>...</td>\n      <td>...</td>\n      <td>...</td>\n      <td>...</td>\n      <td>...</td>\n      <td>...</td>\n      <td>...</td>\n      <td>...</td>\n      <td>...</td>\n      <td>...</td>\n    </tr>\n    <tr>\n      <th>95</th>\n      <td>initial</td>\n      <td>gs://noaa-passive-bioacoustic/pifsc/audio/pipa...</td>\n      <td>18</td>\n      <td>True</td>\n      <td>True</td>\n      <td>Mn</td>\n      <td>57.142</td>\n      <td>57.774</td>\n      <td>2009-05-05 17:48:27.142000+00:00</td>\n      <td>2009-05-05 17:48:27.774000+00:00</td>\n    </tr>\n    <tr>\n      <th>96</th>\n      <td>initial</td>\n      <td>gs://noaa-passive-bioacoustic/pifsc/audio/pipa...</td>\n      <td>18</td>\n      <td>True</td>\n      <td>True</td>\n      <td>Mn</td>\n      <td>60.996</td>\n      <td>61.839</td>\n      <td>2009-05-05 17:48:30.996000+00:00</td>\n      <td>2009-05-05 17:48:31.839000+00:00</td>\n    </tr>\n    <tr>\n      <th>97</th>\n      <td>initial</td>\n      <td>gs://noaa-passive-bioacoustic/pifsc/audio/pipa...</td>\n      <td>18</td>\n      <td>True</td>\n      <td>True</td>\n      <td>Mn</td>\n      <td>65.178</td>\n      <td>66.302</td>\n      <td>2009-05-05 17:48:35.178000+00:00</td>\n      <td>2009-05-05 17:48:36.302000+00:00</td>\n    </tr>\n    <tr>\n      <th>98</th>\n      <td>initial</td>\n      <td>gs://noaa-passive-bioacoustic/pifsc/audio/pipa...</td>\n      <td>18</td>\n      <td>True</td>\n      <td>True</td>\n      <td>Mn</td>\n      <td>68.481</td>\n      <td>69.606</td>\n      <td>2009-05-05 17:48:38.481000+00:00</td>\n      <td>2009-05-05 17:48:39.606000+00:00</td>\n    </tr>\n    <tr>\n      <th>99</th>\n      <td>initial</td>\n      <td>gs://noaa-passive-bioacoustic/pifsc/audio/pipa...</td>\n      <td>18</td>\n      <td>True</td>\n      <td>True</td>\n      <td>Mn</td>\n      <td>70.590</td>\n      <td>71.398</td>\n      <td>2009-05-05 17:48:40.590000+00:00</td>\n      <td>2009-05-05 17:48:41.398000+00:00</td>\n    </tr>\n  </tbody>\n</table>\n<p>100 rows × 10 columns</p>\n</div>"
     },
     "execution_count": 72,
     "metadata": {},
     "output_type": "execute_result"
    }
   ],
   "source": [
    "df[df['label_is_strong']==True][:100]"
   ],
   "metadata": {
    "collapsed": false,
    "ExecuteTime": {
     "end_time": "2024-03-17T03:46:39.616704500Z",
     "start_time": "2024-03-17T03:46:39.578488400Z"
    }
   },
   "id": "bf43eff88addfc64",
   "execution_count": 72
  },
  {
   "cell_type": "code",
   "outputs": [
    {
     "data": {
      "text/plain": "['noaa-passive-bioacoustic/pifsc/audio/pipan/crosssm/pipan_crosssm_01/audio/Cross_A_01_050606_123845.d20.x.flac',\n 'noaa-passive-bioacoustic/pifsc/audio/pipan/crosssm/pipan_crosssm_01/audio/Cross_A_01_050702_031345.d20.x.flac',\n 'noaa-passive-bioacoustic/pifsc/audio/pipan/crosssm/pipan_crosssm_01/audio/Cross_A_01_050801_074615.d20.x.flac',\n 'noaa-passive-bioacoustic/pifsc/audio/pipan/crosssm/pipan_crosssm_01/audio/Cross_A_01_050801_110500.d20.x.flac',\n 'noaa-passive-bioacoustic/pifsc/audio/pipan/crosssm/pipan_crosssm_01/audio/Cross_A_01_050908_025000.d20.x.flac',\n 'noaa-passive-bioacoustic/pifsc/audio/pipan/equator/pipan_equator_01/audio/Equator_A_01_120313_165615.df20.x.flac',\n 'noaa-passive-bioacoustic/pifsc/audio/pipan/equator/pipan_equator_01/audio/Equator_A_01_120419_012845.df20.x.flac',\n 'noaa-passive-bioacoustic/pifsc/audio/pipan/hawaii/pipan_hawaii_01/audio/Hawaii_K_01_070813_065730.d20.x.flac',\n 'noaa-passive-bioacoustic/pifsc/audio/pipan/hawaii/pipan_hawaii_01/audio/Hawaii_K_01_070813_073500.d20.x.flac',\n 'noaa-passive-bioacoustic/pifsc/audio/pipan/hawaii/pipan_hawaii_01/audio/Hawaii_K_01_070915_204730.d20.x.flac',\n 'noaa-passive-bioacoustic/pifsc/audio/pipan/hawaii/pipan_hawaii_01/audio/Hawaii_K_01_070915_212500.d20.x.flac',\n 'noaa-passive-bioacoustic/pifsc/audio/pipan/hawaii/pipan_hawaii_02/audio/Hawaii_K_02_080506_173715.d20.x.flac',\n 'noaa-passive-bioacoustic/pifsc/audio/pipan/hawaii/pipan_hawaii_02/audio/Hawaii_K_02_080506_183545.d20.x.flac',\n 'noaa-passive-bioacoustic/pifsc/audio/pipan/hawaii/pipan_hawaii_02/audio/Hawaii_K_02_080609_205945.d20.x.flac',\n 'noaa-passive-bioacoustic/pifsc/audio/pipan/hawaii/pipan_hawaii_02/audio/Hawaii_K_02_080702_115545.d20.x.flac',\n 'noaa-passive-bioacoustic/pifsc/audio/pipan/hawaii/pipan_hawaii_02/audio/Hawaii_K_02_080702_125715.d20.x.flac',\n 'noaa-passive-bioacoustic/pifsc/audio/pipan/hawaii/pipan_hawaii_03/audio/Hawaii_K_03_080807_141730.d20.x.flac',\n 'noaa-passive-bioacoustic/pifsc/audio/pipan/hawaii/pipan_hawaii_03/audio/Hawaii_K_03_080807_161500.d20.x.flac',\n 'noaa-passive-bioacoustic/pifsc/audio/pipan/hawaii/pipan_hawaii_03/audio/Hawaii_K_03_080815_114500.d20.x.flac',\n 'noaa-passive-bioacoustic/pifsc/audio/pipan/hawaii/pipan_hawaii_03/audio/Hawaii_K_03_080921_234730.d20.x.flac',\n 'noaa-passive-bioacoustic/pifsc/audio/pipan/hawaii/pipan_hawaii_03/audio/Hawaii_K_03_080922_014500.d20.x.flac',\n 'noaa-passive-bioacoustic/pifsc/audio/pipan/hawaii/pipan_hawaii_03/audio/Hawaii_K_03_081010_164730.d20.x.flac',\n 'noaa-passive-bioacoustic/pifsc/audio/pipan/hawaii/pipan_hawaii_06/audio/Hawaii_K_06_090505_164500.d20.x.flac']"
     },
     "execution_count": 45,
     "metadata": {},
     "output_type": "execute_result"
    }
   ],
   "source": [
    "files = list(df[df['label_is_strong']==True][:100]['flac_compressed_xwav_object'].unique())\n",
    "files = [file[5:] for file in files]\n",
    "files"
   ],
   "metadata": {
    "collapsed": false,
    "ExecuteTime": {
     "end_time": "2024-03-17T03:27:19.743641100Z",
     "start_time": "2024-03-17T03:27:19.720701800Z"
    }
   },
   "id": "520c72968515f5eb",
   "execution_count": 45
  },
  {
   "cell_type": "code",
   "outputs": [],
   "source": [
    "# Download data\n",
    "for file in files:\n",
    "    url = f\"https://storage.googleapis.com/{file}\"\n",
    "    r = requests.get(url,headers=headers)\n",
    "    if r.status_code != 200:\n",
    "        print(f\"Failed to download {file}\")\n",
    "        break\n",
    "    with open(f\"data/audio_data/downloads/{file.split('/')[-1]}\", \"wb\") as f:\n",
    "        f.write(r.content)"
   ],
   "metadata": {
    "collapsed": false,
    "ExecuteTime": {
     "end_time": "2024-03-17T03:39:15.208925600Z",
     "start_time": "2024-03-17T03:38:22.814081800Z"
    }
   },
   "id": "2a88d2b960f4313d",
   "execution_count": 48
  },
  {
   "cell_type": "code",
   "outputs": [
    {
     "data": {
      "text/plain": "['Cross_A_01_050606_123845.d20.x.flac',\n 'Cross_A_01_050702_031345.d20.x.flac',\n 'Cross_A_01_050801_074615.d20.x.flac',\n 'Cross_A_01_050801_110500.d20.x.flac',\n 'Cross_A_01_050908_025000.d20.x.flac',\n 'Equator_A_01_120313_165615.df20.x.flac',\n 'Equator_A_01_120419_012845.df20.x.flac',\n 'Hawaii_K_01_070813_065730.d20.x.flac',\n 'Hawaii_K_01_070813_073500.d20.x.flac',\n 'Hawaii_K_01_070915_204730.d20.x.flac',\n 'Hawaii_K_01_070915_212500.d20.x.flac',\n 'Hawaii_K_02_080506_173715.d20.x.flac',\n 'Hawaii_K_02_080506_183545.d20.x.flac',\n 'Hawaii_K_02_080609_205945.d20.x.flac',\n 'Hawaii_K_02_080702_115545.d20.x.flac',\n 'Hawaii_K_02_080702_125715.d20.x.flac',\n 'Hawaii_K_03_080807_141730.d20.x.flac',\n 'Hawaii_K_03_080807_161500.d20.x.flac',\n 'Hawaii_K_03_080815_114500.d20.x.flac',\n 'Hawaii_K_03_080921_234730.d20.x.flac',\n 'Hawaii_K_03_080922_014500.d20.x.flac',\n 'Hawaii_K_03_081010_164730.d20.x.flac',\n 'Hawaii_K_06_090505_164500.d20.x.flac']"
     },
     "execution_count": 52,
     "metadata": {},
     "output_type": "execute_result"
    }
   ],
   "source": [],
   "metadata": {
    "collapsed": false,
    "ExecuteTime": {
     "end_time": "2024-03-17T03:40:15.327056900Z",
     "start_time": "2024-03-17T03:40:15.290299500Z"
    }
   },
   "id": "7f69a4aa18c7fbd5",
   "execution_count": 52
  },
  {
   "cell_type": "code",
   "outputs": [],
   "source": [
    "# Uncompress data\n",
    "files = os.listdir(\"data/audio_data/downloads\")\n",
    "for file in files:\n",
    "    subprocess.run(f\"C:/Windows/flac.exe -df --delete-input-file --preserve-modtime --keep-foreign-metadata ./data/audio_data/uncompressed/{file}\", shell=True, capture_output=True)"
   ],
   "metadata": {
    "collapsed": false,
    "ExecuteTime": {
     "end_time": "2024-03-17T04:25:32.015093700Z",
     "start_time": "2024-03-17T04:25:00.408845700Z"
    }
   },
   "id": "d26ec201e2602dc4",
   "execution_count": 108
  },
  {
   "cell_type": "code",
   "outputs": [],
   "source": [],
   "metadata": {
    "collapsed": false
   },
   "id": "bbb6403b75263f2e"
  }
 ],
 "metadata": {
  "kernelspec": {
   "display_name": "Python 3",
   "language": "python",
   "name": "python3"
  },
  "language_info": {
   "codemirror_mode": {
    "name": "ipython",
    "version": 2
   },
   "file_extension": ".py",
   "mimetype": "text/x-python",
   "name": "python",
   "nbconvert_exporter": "python",
   "pygments_lexer": "ipython2",
   "version": "2.7.6"
  }
 },
 "nbformat": 4,
 "nbformat_minor": 5
}
