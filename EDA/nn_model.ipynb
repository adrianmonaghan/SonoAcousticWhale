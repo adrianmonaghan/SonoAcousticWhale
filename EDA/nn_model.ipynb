{
 "cells": [
  {
   "cell_type": "code",
   "execution_count": 1,
   "metadata": {
    "ExecuteTime": {
     "end_time": "2024-04-02T19:04:14.942345Z",
     "start_time": "2024-04-02T19:04:11.693844Z"
    },
    "colab": {
     "base_uri": "https://localhost:8080/"
    },
    "id": "kcsHiWcPZ8A1",
    "outputId": "034c86ce-5e8d-4a9e-c122-351466f50a92",
    "scrolled": true
   },
   "outputs": [],
   "source": [
    "import numpy as np\n",
    "import torch\n",
    "import torchvision\n",
    "from torchvision.datasets import ImageFolder\n",
    "from torchvision.transforms import ToTensor\n",
    "import time\n",
    "# ! pip install git+https://github.com/davidbau/baukit\n",
    "# ! pip install torchinfo tqdm matplotlib\n",
    "# ! unzip -q flat_spectrograms.zip\n",
    "# ! unzip -q train_val_test.zip"
   ]
  },
  {
   "cell_type": "code",
   "execution_count": 2,
   "metadata": {
    "ExecuteTime": {
     "end_time": "2024-04-02T19:04:20.083090Z",
     "start_time": "2024-04-02T19:04:19.204812Z"
    },
    "colab": {
     "base_uri": "https://localhost:8080/",
     "height": 400
    },
    "id": "9yc5BDZiZ8A3",
    "outputId": "345c33ae-2895-4845-8a9b-addbb8b96761"
   },
   "outputs": [
    {
     "name": "stdout",
     "output_type": "stream",
     "text": [
      "cuda\n"
     ]
    }
   ],
   "source": [
    "from baukit import show\n",
    "device = torch.device(\"cuda\" if torch.cuda.is_available() else \"cpu\")\n",
    "print(device)\n",
    "train_path = \"/scratch/monaghan.ad/data/train_val_test1/train\" # \"data/spectrograms/train\"\n",
    "val_path = \"/scratch/monaghan.ad/data/train_val_test1/val\"\n",
    "# test_path = \"mnist_4440/test\"\n",
    "# train_set = ImageFolder(train_path)\n",
    "# print(\"Number of images in the training set =\", len(train_set))"
   ]
  },
  {
   "cell_type": "code",
   "execution_count": 3,
   "metadata": {
    "colab": {
     "base_uri": "https://localhost:8080/",
     "height": 845
    },
    "id": "YB4Ee8UQZ8A5",
    "outputId": "2e7b7a05-dfdd-4cf6-dd3d-30310d2f955a"
   },
   "outputs": [],
   "source": [
    "# idx = 4440\n",
    "# item = train_set[idx]\n",
    "# print(f\"{idx}th item is a pair\", item)\n",
    "\n",
    "# img, label = train_set[idx]\n",
    "# show(img)\n",
    "# print(f\"{label=} ({train_set.classes[label]})\")"
   ]
  },
  {
   "cell_type": "code",
   "execution_count": null,
   "metadata": {},
   "outputs": [],
   "source": []
  },
  {
   "cell_type": "code",
   "execution_count": 4,
   "metadata": {
    "ExecuteTime": {
     "end_time": "2024-04-02T19:04:21.735775Z",
     "start_time": "2024-04-02T19:04:21.538733Z"
    },
    "id": "zkAQ6UWnZ8A5"
   },
   "outputs": [],
   "source": [
    "from torchvision import transforms\n",
    "\n",
    "class mapping_transform(object):\n",
    "  def __init__(self, num_labels):\n",
    "    self.num_labels = num_labels\n",
    "\n",
    "  def __call__(self, labels):    \n",
    "    # generate new random label\n",
    "    # new_label = np.array([mapping[l] for l in labels])\n",
    "    return mapping[labels]#new_label\n",
    "\n",
    "mapping = {0: 0, 1: 0, 2: 1, 3: 3, 4: 0, 5: 2}\n",
    "\n",
    "img_size = 256\n",
    "train_set = torchvision.datasets.ImageFolder(\n",
    "    train_path, \n",
    "    transform=transforms.Compose([\n",
    "        transforms.Grayscale(num_output_channels=1), ToTensor(), transforms.Resize((img_size, img_size))\n",
    "    ]),\n",
    "    target_transform=mapping_transform(num_labels=4)#transforms.Lambda(lambda y: mapping_transform(y)),\n",
    ")\n",
    "\n",
    "val_set = torchvision.datasets.ImageFolder(\n",
    "    val_path, \n",
    "    transform=transforms.Compose([\n",
    "        transforms.Grayscale(num_output_channels=1), ToTensor(), transforms.Resize((img_size, img_size))\n",
    "    ]),\n",
    "    target_transform=mapping_transform(num_labels=4)#transforms.Lambda(lambda y: mapping_transform(y)),\n",
    ")\n",
    "\n",
    "train_set.targets = [mapping[t] for t in train_set.targets]\n",
    "val_set.targets = [mapping[t] for t in val_set.targets]\n",
    "train_set.classes = [\"Background\", \"Fish\", \"Mn\", \"Vessel\"]\n",
    "val_set.classes = [\"Background\", \"Fish\", \"Mn\", \"Vessel\"]"
   ]
  },
  {
   "cell_type": "code",
   "execution_count": 5,
   "metadata": {},
   "outputs": [
    {
     "data": {
      "text/plain": [
       "['Background', 'Fish', 'Mn', 'Vessel']"
      ]
     },
     "execution_count": 5,
     "metadata": {},
     "output_type": "execute_result"
    }
   ],
   "source": [
    "train_set.classes"
   ]
  },
  {
   "cell_type": "code",
   "execution_count": 6,
   "metadata": {},
   "outputs": [
    {
     "data": {
      "text/plain": [
       "['Background', 'Fish', 'Mn', 'Vessel']"
      ]
     },
     "execution_count": 6,
     "metadata": {},
     "output_type": "execute_result"
    }
   ],
   "source": [
    "val_set.classes"
   ]
  },
  {
   "cell_type": "code",
   "execution_count": 7,
   "metadata": {},
   "outputs": [
    {
     "data": {
      "text/plain": [
       "{0, 1, 2, 3}"
      ]
     },
     "execution_count": 7,
     "metadata": {},
     "output_type": "execute_result"
    }
   ],
   "source": [
    "set(train_set.targets)"
   ]
  },
  {
   "cell_type": "code",
   "execution_count": null,
   "metadata": {},
   "outputs": [],
   "source": []
  },
  {
   "cell_type": "code",
   "execution_count": 8,
   "metadata": {
    "ExecuteTime": {
     "end_time": "2024-04-02T19:07:49.617948Z",
     "start_time": "2024-04-02T19:07:49.538924Z"
    },
    "id": "VN5Y8S5IZ8A5"
   },
   "outputs": [
    {
     "data": {
      "text/plain": [
       "(56954, 8136)"
      ]
     },
     "execution_count": 8,
     "metadata": {},
     "output_type": "execute_result"
    }
   ],
   "source": [
    "img, label = train_set[1189]\n",
    "len(train_set), len(val_set)\n",
    "# now the image is a tensor\n",
    "# img.resize((3, 256, 256))\n",
    "# img#.shape\n",
    "# torchvision.transforms.Resize((256, 256))(img)"
   ]
  },
  {
   "cell_type": "code",
   "execution_count": 9,
   "metadata": {},
   "outputs": [],
   "source": [
    "# # m = torch.hub.load('pytorch/vision:v0.10.0', 'resnet18', pretrained=True)\n",
    "# summary(m, (1, 3, 256, 256))"
   ]
  },
  {
   "cell_type": "code",
   "execution_count": 10,
   "metadata": {
    "id": "oPYBeNEqZ8A6"
   },
   "outputs": [],
   "source": [
    "train_loader = torch.utils.data.DataLoader(\n",
    "    train_set,\n",
    "    batch_size=400,\n",
    "    shuffle=True,\n",
    "    num_workers=24,\n",
    "    pin_memory=True,\n",
    ")\n",
    "\n",
    "val_loader = torch.utils.data.DataLoader(\n",
    "    val_set,\n",
    "    batch_size=400,\n",
    "    shuffle=True,\n",
    "    num_workers=24,\n",
    "    pin_memory=True,\n",
    ")"
   ]
  },
  {
   "cell_type": "code",
   "execution_count": 11,
   "metadata": {
    "ExecuteTime": {
     "end_time": "2024-04-02T18:57:08.404109Z",
     "start_time": "2024-04-02T18:57:08.396847Z"
    },
    "colab": {
     "base_uri": "https://localhost:8080/"
    },
    "id": "jlNmDJEXZ8A6",
    "outputId": "9821ca71-7c8c-4ab6-bd9c-510a56ff02ac"
   },
   "outputs": [
    {
     "name": "stdout",
     "output_type": "stream",
     "text": [
      "images.shape=torch.Size([400, 1, 256, 256]), labels.shape=torch.Size([400])\n"
     ]
    }
   ],
   "source": [
    "images, labels = next(train_loader.__iter__())\n",
    "print(f\"{images.shape=}, {labels.shape=}\")"
   ]
  },
  {
   "cell_type": "code",
   "execution_count": 12,
   "metadata": {
    "id": "giX3497UZ8A6"
   },
   "outputs": [],
   "source": [
    "# ## Some helper functions to view network parameters\n",
    "from torchinfo import summary\n",
    "\n",
    "def view_network_shapes(model, input_shape):\n",
    "    print(summary(model, input_size=input_shape))\n",
    "\n",
    "def view_network_parameters(model):\n",
    "    # Visualise the number of parameters\n",
    "    tensor_list = list(model.state_dict().items())\n",
    "    total_parameters = 0\n",
    "    print(\"Model Summary\\n\")\n",
    "    for layer_tensor_name, tensor in tensor_list:\n",
    "        total_parameters += int(torch.numel(tensor))\n",
    "        print(\"{}: {} elements\".format(layer_tensor_name, torch.numel(tensor)))\n",
    "    print(f\"\\nTotal Trainable Parameters: {total_parameters}!\")"
   ]
  },
  {
   "cell_type": "code",
   "execution_count": 13,
   "metadata": {
    "colab": {
     "base_uri": "https://localhost:8080/"
    },
    "id": "5P_gGhjFZ8A6",
    "outputId": "aea4b91f-315f-4358-d866-24af2a4b2c40"
   },
   "outputs": [
    {
     "name": "stdout",
     "output_type": "stream",
     "text": [
      "==========================================================================================\n",
      "Layer (type:depth-idx)                   Output Shape              Param #\n",
      "==========================================================================================\n",
      "Sequential                               [1, 4]                    --\n",
      "├─Conv2d: 1-1                            [1, 4, 86, 86]            200\n",
      "├─Dropout: 1-2                           [1, 4, 86, 86]            --\n",
      "├─ReLU: 1-3                              [1, 4, 86, 86]            --\n",
      "├─BatchNorm2d: 1-4                       [1, 4, 86, 86]            8\n",
      "├─Conv2d: 1-5                            [1, 8, 28, 28]            1,576\n",
      "├─Dropout: 1-6                           [1, 8, 28, 28]            --\n",
      "├─ReLU: 1-7                              [1, 8, 28, 28]            --\n",
      "├─BatchNorm2d: 1-8                       [1, 8, 28, 28]            16\n",
      "├─Conv2d: 1-9                            [1, 12, 12, 12]           2,412\n",
      "├─Dropout: 1-10                          [1, 12, 12, 12]           --\n",
      "├─ReLU: 1-11                             [1, 12, 12, 12]           --\n",
      "├─BatchNorm2d: 1-12                      [1, 12, 12, 12]           24\n",
      "├─Conv2d: 1-13                           [1, 16, 4, 4]             4,816\n",
      "├─Dropout: 1-14                          [1, 16, 4, 4]             --\n",
      "├─ReLU: 1-15                             [1, 16, 4, 4]             --\n",
      "├─BatchNorm2d: 1-16                      [1, 16, 4, 4]             32\n",
      "├─AvgPool2d: 1-17                        [1, 16, 1, 1]             --\n",
      "├─Flatten: 1-18                          [1, 16]                   --\n",
      "├─Linear: 1-19                           [1, 4]                    68\n",
      "├─Softmax: 1-20                          [1, 4]                    --\n",
      "==========================================================================================\n",
      "Total params: 9,152\n",
      "Trainable params: 9,152\n",
      "Non-trainable params: 0\n",
      "Total mult-adds (Units.MEGABYTES): 3.14\n",
      "==========================================================================================\n",
      "Input size (MB): 0.26\n",
      "Forward/backward pass size (MB): 0.61\n",
      "Params size (MB): 0.04\n",
      "Estimated Total Size (MB): 0.90\n",
      "==========================================================================================\n"
     ]
    },
    {
     "name": "stderr",
     "output_type": "stream",
     "text": [
      "/home/monaghan.ad/ml/lib/python3.11/site-packages/torch/nn/modules/module.py:1511: UserWarning: Implicit dimension choice for softmax has been deprecated. Change the call to include dim=X as an argument.\n",
      "  return self._call_impl(*args, **kwargs)\n"
     ]
    }
   ],
   "source": [
    "from torch import nn\n",
    "\n",
    "def cnn_classifier():\n",
    "    torch.manual_seed(4440)  # for reproducibility\n",
    "    ##########################################################################\n",
    "    # **Exercise 4.2.2.1**\n",
    "    # TODO: Make a CNN classifier for the task wrapped in an nn.Sequential module.\n",
    "    # You can vary your architecture choices (# layers, # convs, activation functions, regularization, etc.)\n",
    "    # However, your parameter size should not be more than 0.5 MB. Use the `view_network_shapes` function to get the `Params size`\n",
    "    model = nn.Sequential(\n",
    "        nn.Conv2d(1, 4, kernel_size=7, padding=3, stride=3),\n",
    "        nn.Dropout(p=0.2),\n",
    "        nn.ReLU(),\n",
    "        nn.BatchNorm2d(4),\n",
    "        nn.Conv2d(4, 8, kernel_size=7, padding=2, stride=3),\n",
    "        nn.Dropout(p=0.2),\n",
    "        nn.ReLU(),\n",
    "        nn.BatchNorm2d(8),\n",
    "        nn.Conv2d(8, 12, kernel_size=5, padding=0, stride=2),\n",
    "        nn.Dropout(p=0.2),\n",
    "        nn.ReLU(),\n",
    "        nn.BatchNorm2d(12),\n",
    "        nn.Conv2d(12, 16, kernel_size=5, padding=0, stride=2),\n",
    "        nn.Dropout(p=0.2),\n",
    "        nn.ReLU(),\n",
    "        nn.BatchNorm2d(16),\n",
    "        nn.AvgPool2d(4),\n",
    "        # nn.Conv2d(16, 32, kernel_size=3, padding=0, stride=2),\n",
    "        # nn.Dropout(p=0.2),\n",
    "        # nn.ReLU(),\n",
    "        # nn.BatchNorm2d(32),\n",
    "        nn.Flatten(),\n",
    "        nn.Linear(16, 4),\n",
    "        # nn.Linear(32, 6),\n",
    "        nn.Softmax()\n",
    "    )\n",
    "    ##########################################################################\n",
    "    return model\n",
    "\n",
    "\n",
    "model = cnn_classifier().to(device)\n",
    "view_network_shapes(model, img[None].shape)"
   ]
  },
  {
   "cell_type": "code",
   "execution_count": 14,
   "metadata": {},
   "outputs": [
    {
     "data": {
      "text/plain": [
       "device(type='cuda')"
      ]
     },
     "execution_count": 14,
     "metadata": {},
     "output_type": "execute_result"
    }
   ],
   "source": [
    "device"
   ]
  },
  {
   "cell_type": "code",
   "execution_count": 15,
   "metadata": {
    "id": "xlSWSi7wZ8A7"
   },
   "outputs": [],
   "source": [
    "# training the model\n",
    "def train_model(model, train_loader, loss_fn, optimizer):\n",
    "    model.train()\n",
    "    # Initiate a loss monitor\n",
    "    train_loss = []\n",
    "    correct_predictions = 0\n",
    "    for images, labels in train_loader:\n",
    "        images = images.to(device)\n",
    "        labels = labels.to(device)\n",
    "        # predict the class\n",
    "        predicted = model(images)\n",
    "        loss = loss_fn(predicted, labels)\n",
    "        correct_predictions += (predicted.argmax(dim=1) == labels).sum().item()\n",
    "\n",
    "        # Backward pass (back propagation)\n",
    "        optimizer.zero_grad()\n",
    "        loss.backward()\n",
    "        optimizer.step()\n",
    "\n",
    "        train_loss.append(loss.item())\n",
    "\n",
    "    return np.mean(train_loss), correct_predictions / len(train_loader.dataset)\n",
    "\n",
    "\n",
    "# evaluating the model\n",
    "@torch.inference_mode()  # understand what torch.inference_mode() or torch.no_grad() does\n",
    "def evaluate_model(model, val_loader, loss_fn, return_confusion_matrix=False):\n",
    "    model.eval()\n",
    "    # Initiate a loss monitor\n",
    "    val_loss = []\n",
    "    correct_predictions = 0\n",
    "\n",
    "    if return_confusion_matrix:\n",
    "        confusion_matrix = torch.zeros(\n",
    "            len(val_loader.dataset.classes), len(val_loader.dataset.classes)\n",
    "        )\n",
    "\n",
    "    for images, labels in val_loader:\n",
    "        images = images.to(device)\n",
    "        labels = labels.to(device)\n",
    "        # predict the class\n",
    "        predicted = model(images)\n",
    "        loss = loss_fn(predicted, labels)\n",
    "        correct_predictions += (predicted.argmax(dim=1) == labels).sum().item()\n",
    "\n",
    "        if return_confusion_matrix:\n",
    "            for t, p in zip(labels.view(-1), predicted.argmax(dim=1).view(-1)):\n",
    "                confusion_matrix[t.long(), p.long()] += 1\n",
    "\n",
    "        val_loss.append(loss.item())\n",
    "\n",
    "    val_loss = np.mean(val_loss)\n",
    "    val_acc = correct_predictions / len(val_loader.dataset)\n",
    "\n",
    "    if return_confusion_matrix:\n",
    "        return val_loss, val_acc, confusion_matrix\n",
    "    else:\n",
    "        return val_loss, val_acc"
   ]
  },
  {
   "cell_type": "code",
   "execution_count": 16,
   "metadata": {},
   "outputs": [
    {
     "data": {
      "text/plain": [
       "['Background', 'Fish', 'Mn', 'Vessel']"
      ]
     },
     "execution_count": 16,
     "metadata": {},
     "output_type": "execute_result"
    }
   ],
   "source": [
    "train_set.classes"
   ]
  },
  {
   "cell_type": "code",
   "execution_count": 17,
   "metadata": {
    "colab": {
     "base_uri": "https://localhost:8080/",
     "height": 488
    },
    "id": "jR2MS1qDHSHo",
    "outputId": "571f071f-c8f4-40f6-fc9e-0f40104d6313"
   },
   "outputs": [
    {
     "name": "stderr",
     "output_type": "stream",
     "text": [
      "100%|██████████| 143/143 [00:13<00:00, 10.28it/s]\n"
     ]
    },
    {
     "data": {
      "text/plain": [
       "Text(0.5, 1.0, 'Distribution of Classes in Training Set')"
      ]
     },
     "execution_count": 17,
     "metadata": {},
     "output_type": "execute_result"
    },
    {
     "data": {
      "image/png": "[encoded data removed]",
      "text/plain": [
       "<Figure size 640x480 with 1 Axes>"
      ]
     },
     "metadata": {},
     "output_type": "display_data"
    }
   ],
   "source": [
    "# plot the data distribution in the training set\n",
    "\n",
    "from tqdm import tqdm\n",
    "from matplotlib import pyplot as plt\n",
    "\n",
    "counter = torch.zeros(len(train_set.classes))\n",
    "for images, labels in tqdm(train_loader):\n",
    "    for label in labels:\n",
    "        counter[label] += 1\n",
    "\n",
    "##########################################################\n",
    "# **Exercise 4.2.1.2**\n",
    "# TODO: Plot the distribution of classes in the training set as a bar plot\n",
    "# https://matplotlib.org/stable/api/_as_gen/matplotlib.pyplot.bar.html\n",
    "plt.bar(list(range(len(counter))), counter)\n",
    "plt.xticks(range(4))\n",
    "plt.ylabel(\"Frequency\")\n",
    "plt.title(\"Distribution of Classes in Training Set\")\n",
    "\n",
    "# raise NotImplementedError\n",
    "\n",
    "##########################################################"
   ]
  },
  {
   "cell_type": "code",
   "execution_count": 18,
   "metadata": {},
   "outputs": [
    {
     "data": {
      "text/plain": [
       "tensor([0.4384, 0.0108, 0.0239, 0.5270])"
      ]
     },
     "execution_count": 18,
     "metadata": {},
     "output_type": "execute_result"
    }
   ],
   "source": [
    "counter / sum(counter)\n",
    "# ([0.2925, 0.0037, 0.0035, 0.6709, 0.0051, 0.0242])"
   ]
  },
  {
   "cell_type": "code",
   "execution_count": 19,
   "metadata": {
    "colab": {
     "base_uri": "https://localhost:8080/"
    },
    "id": "9b7CewRHKG0g",
    "outputId": "ddc41fe5-fad7-4c4e-f298-439223096483"
   },
   "outputs": [
    {
     "data": {
      "text/plain": [
       "tensor([ 1.2021, 48.8811, 22.0846,  1.0000])"
      ]
     },
     "execution_count": 19,
     "metadata": {},
     "output_type": "execute_result"
    }
   ],
   "source": [
    "weight = max(counter) / counter\n",
    "weight\n",
    "# weight + torch.ones(weight.shape)\n",
    "# 2.7960e+00, 2.0886e+03, 1.4919e+02, 1.0000e+00, 7.7643e+01, 3.8678e+01"
   ]
  },
  {
   "cell_type": "code",
   "execution_count": 20,
   "metadata": {},
   "outputs": [
    {
     "data": {
      "text/plain": [
       "tensor([1.0964, 6.9915, 4.6994, 1.0000])"
      ]
     },
     "execution_count": 20,
     "metadata": {},
     "output_type": "execute_result"
    }
   ],
   "source": [
    "(max(counter) / counter) ** .5"
   ]
  },
  {
   "cell_type": "code",
   "execution_count": 21,
   "metadata": {},
   "outputs": [
    {
     "data": {
      "text/plain": [
       "tensor([1.0471, 2.6441, 2.1678, 1.0000])"
      ]
     },
     "execution_count": 21,
     "metadata": {},
     "output_type": "execute_result"
    }
   ],
   "source": [
    "(max(counter) / counter) ** .25"
   ]
  },
  {
   "cell_type": "code",
   "execution_count": null,
   "metadata": {},
   "outputs": [],
   "source": []
  },
  {
   "cell_type": "code",
   "execution_count": 22,
   "metadata": {
    "colab": {
     "base_uri": "https://localhost:8080/"
    },
    "id": "la3baCVPZ8A7",
    "outputId": "8db2b624-dc41-4054-ac11-60d43689053a"
   },
   "outputs": [
    {
     "name": "stderr",
     "output_type": "stream",
     "text": [
      "/home/monaghan.ad/ml/lib/python3.11/site-packages/torch/nn/modules/module.py:1511: UserWarning: Implicit dimension choice for softmax has been deprecated. Change the call to include dim=X as an argument.\n",
      "  return self._call_impl(*args, **kwargs)\n"
     ]
    },
    {
     "name": "stdout",
     "output_type": "stream",
     "text": [
      "epoch: 1/40 | train loss=1.1500, train_acc=0.6830 | val loss: 1.1439, val_acc=0.6833 | time: 17.5538\n",
      "epoch: 2/40 | train loss=1.0561, train_acc=0.7834 | val loss: 1.0661, val_acc=0.7681 | time: 16.0927\n",
      "epoch: 3/40 | train loss=1.0057, train_acc=0.8407 | val loss: 0.9987, val_acc=0.8575 | time: 16.0701\n",
      "epoch: 4/40 | train loss=0.9928, train_acc=0.8561 | val loss: 1.0176, val_acc=0.8335 | time: 16.0045\n",
      "epoch: 5/40 | train loss=0.9911, train_acc=0.8577 | val loss: 0.9905, val_acc=0.8676 | time: 16.3116\n",
      "epoch: 6/40 | train loss=0.9892, train_acc=0.8597 | val loss: 0.9918, val_acc=0.8628 | time: 15.6631\n",
      "epoch: 7/40 | train loss=0.9829, train_acc=0.8541 | val loss: 0.9826, val_acc=0.8610 | time: 15.9089\n",
      "epoch: 8/40 | train loss=0.9758, train_acc=0.8494 | val loss: 1.0821, val_acc=0.7290 | time: 16.4415\n",
      "epoch: 9/40 | train loss=0.9686, train_acc=0.8496 | val loss: 0.9769, val_acc=0.8578 | time: 17.1312\n",
      "epoch: 10/40 | train loss=0.9607, train_acc=0.8555 | val loss: 1.0681, val_acc=0.6995 | time: 16.4360\n",
      "epoch: 11/40 | train loss=0.9629, train_acc=0.8543 | val loss: 1.0015, val_acc=0.8311 | time: 16.4304\n",
      "epoch: 12/40 | train loss=0.9606, train_acc=0.8518 | val loss: 0.9703, val_acc=0.8653 | time: 16.0590\n",
      "epoch: 13/40 | train loss=0.9616, train_acc=0.8533 | val loss: 0.9703, val_acc=0.8633 | time: 15.9371\n",
      "epoch: 14/40 | train loss=0.9581, train_acc=0.8559 | val loss: 0.9590, val_acc=0.8751 | time: 16.5104\n",
      "epoch: 15/40 | train loss=0.9591, train_acc=0.8536 | val loss: 0.9691, val_acc=0.8595 | time: 16.3462\n",
      "epoch: 16/40 | train loss=0.9573, train_acc=0.8545 | val loss: 1.0283, val_acc=0.8022 | time: 16.4428\n",
      "epoch: 17/40 | train loss=0.9574, train_acc=0.8569 | val loss: 0.9737, val_acc=0.8403 | time: 16.8976\n",
      "epoch: 18/40 | train loss=0.9560, train_acc=0.8566 | val loss: 0.9591, val_acc=0.8611 | time: 16.4164\n",
      "epoch: 19/40 | train loss=0.9560, train_acc=0.8552 | val loss: 0.9787, val_acc=0.8029 | time: 15.2075\n",
      "epoch: 20/40 | train loss=0.9545, train_acc=0.8567 | val loss: 0.9549, val_acc=0.8748 | time: 16.5596\n",
      "epoch: 21/40 | train loss=0.9549, train_acc=0.8560 | val loss: 0.9820, val_acc=0.8579 | time: 16.5797\n",
      "epoch: 22/40 | train loss=0.9526, train_acc=0.8590 | val loss: 0.9813, val_acc=0.8532 | time: 16.0180\n",
      "epoch: 23/40 | train loss=0.9534, train_acc=0.8588 | val loss: 0.9638, val_acc=0.8654 | time: 16.0553\n",
      "epoch: 24/40 | train loss=0.9566, train_acc=0.8545 | val loss: 1.0127, val_acc=0.8241 | time: 17.1805\n",
      "epoch: 25/40 | train loss=0.9525, train_acc=0.8562 | val loss: 0.9676, val_acc=0.8630 | time: 17.1378\n",
      "epoch: 26/40 | train loss=0.9525, train_acc=0.8569 | val loss: 0.9792, val_acc=0.8357 | time: 16.3564\n",
      "epoch: 27/40 | train loss=0.9559, train_acc=0.8547 | val loss: 0.9567, val_acc=0.8595 | time: 16.5442\n",
      "epoch: 28/40 | train loss=0.9553, train_acc=0.8544 | val loss: 0.9521, val_acc=0.8577 | time: 16.6723\n",
      "epoch: 29/40 | train loss=0.9542, train_acc=0.8558 | val loss: 0.9656, val_acc=0.8573 | time: 16.5283\n",
      "epoch: 30/40 | train loss=0.9528, train_acc=0.8569 | val loss: 0.9467, val_acc=0.8696 | time: 16.3666\n",
      "epoch: 31/40 | train loss=0.9537, train_acc=0.8560 | val loss: 0.9457, val_acc=0.8589 | time: 16.9926\n",
      "epoch: 32/40 | train loss=0.9524, train_acc=0.8593 | val loss: 0.9539, val_acc=0.8673 | time: 16.8089\n"
     ]
    },
    {
     "ename": "KeyboardInterrupt",
     "evalue": "",
     "output_type": "error",
     "traceback": [
      "\u001b[0;31m---------------------------------------------------------------------------\u001b[0m",
      "\u001b[0;31mKeyboardInterrupt\u001b[0m                         Traceback (most recent call last)",
      "Cell \u001b[0;32mIn[22], line 21\u001b[0m\n\u001b[1;32m     19\u001b[0m \u001b[38;5;28;01mfor\u001b[39;00m epoch \u001b[38;5;129;01min\u001b[39;00m \u001b[38;5;28mrange\u001b[39m(epochs):\n\u001b[1;32m     20\u001b[0m     start_time \u001b[38;5;241m=\u001b[39m time\u001b[38;5;241m.\u001b[39mperf_counter()\n\u001b[0;32m---> 21\u001b[0m     train_loss, train_acc \u001b[38;5;241m=\u001b[39m train_model(model, train_loader, loss_fn, optimizer)\n\u001b[1;32m     22\u001b[0m     training_losses\u001b[38;5;241m.\u001b[39mappend(train_loss)\n\u001b[1;32m     23\u001b[0m     val_loss, val_acc \u001b[38;5;241m=\u001b[39m evaluate_model(model, val_loader, loss_fn)\n",
      "Cell \u001b[0;32mIn[15], line 20\u001b[0m, in \u001b[0;36mtrain_model\u001b[0;34m(model, train_loader, loss_fn, optimizer)\u001b[0m\n\u001b[1;32m     17\u001b[0m     loss\u001b[38;5;241m.\u001b[39mbackward()\n\u001b[1;32m     18\u001b[0m     optimizer\u001b[38;5;241m.\u001b[39mstep()\n\u001b[0;32m---> 20\u001b[0m     train_loss\u001b[38;5;241m.\u001b[39mappend(loss\u001b[38;5;241m.\u001b[39mitem())\n\u001b[1;32m     22\u001b[0m \u001b[38;5;28;01mreturn\u001b[39;00m np\u001b[38;5;241m.\u001b[39mmean(train_loss), correct_predictions \u001b[38;5;241m/\u001b[39m \u001b[38;5;28mlen\u001b[39m(train_loader\u001b[38;5;241m.\u001b[39mdataset)\n",
      "\u001b[0;31mKeyboardInterrupt\u001b[0m: "
     ]
    }
   ],
   "source": [
    "torch.manual_seed(4440)\n",
    "\n",
    "model = cnn_classifier().to(device)\n",
    "epochs = 40  # your model should be able to get > 98% validation accuracy on the first 10 epochs\n",
    "####################################################################\n",
    "# **Exercise 4.2.2.2**\n",
    "# TODO: choose values for your hyperparameters\n",
    "learning_rate = 0.01 #0.005 # None\n",
    "weight_decay = 0.0001 # None\n",
    "# TODO: choose a loss function and optimizer\n",
    "loss_fn = torch.nn.CrossEntropyLoss(weight = ((max(counter) / counter) ** .5).to(device)) #None\n",
    "# loss_fn = torch.nn.CrossEntropyLoss() #None\n",
    "optimizer = torch.optim.Adam(model.parameters(), lr=learning_rate, weight_decay=weight_decay) # None\n",
    "####################################################################\n",
    "\n",
    "training_losses = []\n",
    "validation_losses = []\n",
    "\n",
    "for epoch in range(epochs):\n",
    "    start_time = time.perf_counter()\n",
    "    train_loss, train_acc = train_model(model, train_loader, loss_fn, optimizer)\n",
    "    training_losses.append(train_loss)\n",
    "    val_loss, val_acc = evaluate_model(model, val_loader, loss_fn)\n",
    "    validation_losses.append(val_loss)\n",
    "    end_time = time.perf_counter()\n",
    "    print(\n",
    "        f\"epoch: {epoch+1}/{epochs} | train loss={np.mean(train_loss):.4f}, {train_acc=:.4f} | val loss: {np.mean(val_loss):.4f}, {val_acc=:.4f} | time: {end_time-start_time:.4f}\"\n",
    "    )\n",
    "    "
   ]
  },
  {
   "cell_type": "code",
   "execution_count": 44,
   "metadata": {
    "id": "T911ylfkDaQb"
   },
   "outputs": [],
   "source": [
    "# for name, param in model.named_parameters():\n",
    "#     print(name, param.shape, param)"
   ]
  },
  {
   "cell_type": "code",
   "execution_count": 43,
   "metadata": {},
   "outputs": [],
   "source": [
    "torch.save(model.state_dict(), \"weights\")"
   ]
  },
  {
   "cell_type": "code",
   "execution_count": 44,
   "metadata": {},
   "outputs": [],
   "source": [
    "# model1 = model()\n",
    "# model1.load_state_dict(torch.load(\"weights\"))"
   ]
  },
  {
   "cell_type": "code",
   "execution_count": 22,
   "metadata": {},
   "outputs": [
    {
     "data": {
      "text/plain": [
       "<matplotlib.legend.Legend at 0x2ba38ad4d850>"
      ]
     },
     "execution_count": 22,
     "metadata": {},
     "output_type": "execute_result"
    },
    {
     "data": {
      "image/png": "[encoded data removed]",
      "text/plain": [
       "<Figure size 640x480 with 1 Axes>"
      ]
     },
     "metadata": {},
     "output_type": "display_data"
    }
   ],
   "source": [
    "####################################################################\n",
    "# **Exercise 4.2.2.3**\n",
    "# TODO: Plot the training and validation losses vs. training epochs on the same plot\n",
    "# https://matplotlib.org/stable/api/_as_gen/matplotlib.pyplot.plot.html\n",
    "\n",
    "plt.plot(range(epoch), training_losses, label=\"training_loss\")\n",
    "plt.plot(range(epoch), validation_losses, label=\"validation_loss\")\n",
    "plt.xlabel(\"Epoch\")\n",
    "plt.ylabel(\"Loss\")\n",
    "plt.title(\"Traning and Validation Losses\")\n",
    "plt.legend()\n",
    "\n",
    "#raise NotImplementedError\n",
    "####################################################################"
   ]
  },
  {
   "cell_type": "code",
   "execution_count": 23,
   "metadata": {
    "id": "Gi1wz3_muRPV"
   },
   "outputs": [],
   "source": [
    "def draw_confusion_matrix(confusion_matrix, labels, cmap=\"Blues\"):\n",
    "    confusion_matrix = np.array(confusion_matrix)\n",
    "    assert confusion_matrix.shape[0] == confusion_matrix.shape[1]\n",
    "    assert confusion_matrix.shape[0] == len(labels)\n",
    "\n",
    "    fig, ax = plt.subplots(figsize=(7, 7))\n",
    "    plt.imshow(confusion_matrix, cmap=cmap)\n",
    "\n",
    "    ax.set_xticks(np.arange(len(train_set.classes)), labels)\n",
    "    ax.set_yticks(np.arange(len(train_set.classes)), labels)\n",
    "    plt.setp(ax.get_xticklabels(), rotation=90, ha=\"right\")\n",
    "\n",
    "    for true_label in range(len(train_set.classes)):\n",
    "        for pred_label in range(len(train_set.classes)):\n",
    "            ax.text(\n",
    "                pred_label,\n",
    "                true_label,\n",
    "                int(confusion_matrix[true_label, pred_label]),\n",
    "                ha=\"center\",\n",
    "                va=\"center\",\n",
    "                color=\"black\",\n",
    "            )\n",
    "\n",
    "    fig.tight_layout()\n",
    "    plt.show()"
   ]
  },
  {
   "cell_type": "code",
   "execution_count": 24,
   "metadata": {},
   "outputs": [
    {
     "name": "stdout",
     "output_type": "stream",
     "text": [
      "val_loss=0.9985190260977972, val_acc=0.8306293018682399\n"
     ]
    },
    {
     "data": {
      "image/png": "[encoded data removed]",
      "text/plain": [
       "<Figure size 700x700 with 1 Axes>"
      ]
     },
     "metadata": {},
     "output_type": "display_data"
    }
   ],
   "source": [
    "val_loss, val_acc, confusion_matrix = evaluate_model(\n",
    "    model, val_loader, loss_fn, return_confusion_matrix=True\n",
    ")\n",
    "print(f\"{val_loss=}, {val_acc=}\")\n",
    "draw_confusion_matrix(confusion_matrix, train_set.classes)"
   ]
  },
  {
   "cell_type": "code",
   "execution_count": 25,
   "metadata": {
    "colab": {
     "base_uri": "https://localhost:8080/",
     "height": 725
    },
    "id": "mQQ1YTld9lXi",
    "outputId": "06252232-38c8-40b7-9496-f2fe1fdefa15"
   },
   "outputs": [
    {
     "name": "stderr",
     "output_type": "stream",
     "text": [
      "/home/monaghan.ad/ml/lib/python3.11/site-packages/torch/nn/modules/module.py:1511: UserWarning: Implicit dimension choice for softmax has been deprecated. Change the call to include dim=X as an argument.\n",
      "  return self._call_impl(*args, **kwargs)\n"
     ]
    },
    {
     "name": "stdout",
     "output_type": "stream",
     "text": [
      "train_loss=0.9863369419024541, train_acc=0.8318643115496717\n"
     ]
    },
    {
     "data": {
      "image/png": "[encoded data removed]",
      "text/plain": [
       "<Figure size 700x700 with 1 Axes>"
      ]
     },
     "metadata": {},
     "output_type": "display_data"
    }
   ],
   "source": [
    "train_loss, train_acc, confusion_matrix = evaluate_model(\n",
    "    model, train_loader, loss_fn, return_confusion_matrix=True\n",
    ")\n",
    "print(f\"{train_loss=}, {train_acc=}\")\n",
    "draw_confusion_matrix(confusion_matrix, train_set.classes)"
   ]
  },
  {
   "cell_type": "code",
   "execution_count": 26,
   "metadata": {},
   "outputs": [
    {
     "name": "stderr",
     "output_type": "stream",
     "text": [
      "/home/monaghan.ad/ml/lib/python3.11/site-packages/torch/nn/modules/module.py:1511: UserWarning: Implicit dimension choice for softmax has been deprecated. Change the call to include dim=X as an argument.\n",
      "  return self._call_impl(*args, **kwargs)\n"
     ]
    },
    {
     "name": "stdout",
     "output_type": "stream",
     "text": [
      "train_loss=0.9861947602325386, train_acc=0.8318643115496717\n"
     ]
    },
    {
     "data": {
      "image/png": "[encoded data removed]",
      "text/plain": [
       "<Figure size 700x700 with 1 Axes>"
      ]
     },
     "metadata": {},
     "output_type": "display_data"
    }
   ],
   "source": [
    "train_loss, train_acc, confusion_matrix = evaluate_model(\n",
    "    model, train_loader, loss_fn, return_confusion_matrix=True\n",
    ")\n",
    "print(f\"{train_loss=}, {train_acc=}\")\n",
    "draw_confusion_matrix(confusion_matrix, train_set.classes)"
   ]
  },
  {
   "cell_type": "code",
   "execution_count": null,
   "metadata": {},
   "outputs": [],
   "source": []
  },
  {
   "cell_type": "code",
   "execution_count": null,
   "metadata": {},
   "outputs": [],
   "source": []
  }
 ],
 "metadata": {
  "colab": {
   "provenance": []
  },
  "kernelspec": {
   "display_name": "Python 3 (ipykernel)",
   "language": "python",
   "name": "python3"
  },
  "language_info": {
   "codemirror_mode": {
    "name": "ipython",
    "version": 3
   },
   "file_extension": ".py",
   "mimetype": "text/x-python",
   "name": "python",
   "nbconvert_exporter": "python",
   "pygments_lexer": "ipython3",
   "version": "3.11.8"
  }
 },
 "nbformat": 4,
 "nbformat_minor": 4
}
