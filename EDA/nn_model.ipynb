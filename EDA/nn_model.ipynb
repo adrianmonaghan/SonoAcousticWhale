{
  "cells": [
    {
      "cell_type": "code",
      "execution_count": null,
      "metadata": {
        "ExecuteTime": {
          "end_time": "2024-04-02T19:04:14.942345Z",
          "start_time": "2024-04-02T19:04:11.693844Z"
        },
        "collapsed": true,
        "id": "kcsHiWcPZ8A1",
        "colab": {
          "base_uri": "https://localhost:8080/"
        },
        "outputId": "034c86ce-5e8d-4a9e-c122-351466f50a92"
      },
      "outputs": [
        {
          "output_type": "stream",
          "name": "stdout",
          "text": [
            "Collecting git+https://github.com/davidbau/baukit\n",
            "  Cloning https://github.com/davidbau/baukit to /tmp/pip-req-build-y6p6hi4l\n",
            "  Running command git clone --filter=blob:none --quiet https://github.com/davidbau/baukit /tmp/pip-req-build-y6p6hi4l\n",
            "  Resolved https://github.com/davidbau/baukit to commit 9d51abd51ebf29769aecc38c4cbef459b731a36e\n",
            "  Installing build dependencies ... \u001b[?25l\u001b[?25hdone\n",
            "  Getting requirements to build wheel ... \u001b[?25l\u001b[?25hdone\n",
            "  Installing backend dependencies ... \u001b[?25l\u001b[?25hdone\n",
            "  Preparing metadata (pyproject.toml) ... \u001b[?25l\u001b[?25hdone\n",
            "Requirement already satisfied: numpy in /usr/local/lib/python3.10/dist-packages (from baukit==0.0.1) (1.25.2)\n",
            "Requirement already satisfied: torch in /usr/local/lib/python3.10/dist-packages (from baukit==0.0.1) (2.2.1+cu121)\n",
            "Requirement already satisfied: torchvision in /usr/local/lib/python3.10/dist-packages (from baukit==0.0.1) (0.17.1+cu121)\n",
            "Requirement already satisfied: filelock in /usr/local/lib/python3.10/dist-packages (from torch->baukit==0.0.1) (3.13.3)\n",
            "Requirement already satisfied: typing-extensions>=4.8.0 in /usr/local/lib/python3.10/dist-packages (from torch->baukit==0.0.1) (4.10.0)\n",
            "Requirement already satisfied: sympy in /usr/local/lib/python3.10/dist-packages (from torch->baukit==0.0.1) (1.12)\n",
            "Requirement already satisfied: networkx in /usr/local/lib/python3.10/dist-packages (from torch->baukit==0.0.1) (3.2.1)\n",
            "Requirement already satisfied: jinja2 in /usr/local/lib/python3.10/dist-packages (from torch->baukit==0.0.1) (3.1.3)\n",
            "Requirement already satisfied: fsspec in /usr/local/lib/python3.10/dist-packages (from torch->baukit==0.0.1) (2023.6.0)\n",
            "Requirement already satisfied: nvidia-cuda-nvrtc-cu12==12.1.105 in /usr/local/lib/python3.10/dist-packages (from torch->baukit==0.0.1) (12.1.105)\n",
            "Requirement already satisfied: nvidia-cuda-runtime-cu12==12.1.105 in /usr/local/lib/python3.10/dist-packages (from torch->baukit==0.0.1) (12.1.105)\n",
            "Requirement already satisfied: nvidia-cuda-cupti-cu12==12.1.105 in /usr/local/lib/python3.10/dist-packages (from torch->baukit==0.0.1) (12.1.105)\n",
            "Requirement already satisfied: nvidia-cudnn-cu12==8.9.2.26 in /usr/local/lib/python3.10/dist-packages (from torch->baukit==0.0.1) (8.9.2.26)\n",
            "Requirement already satisfied: nvidia-cublas-cu12==12.1.3.1 in /usr/local/lib/python3.10/dist-packages (from torch->baukit==0.0.1) (12.1.3.1)\n",
            "Requirement already satisfied: nvidia-cufft-cu12==11.0.2.54 in /usr/local/lib/python3.10/dist-packages (from torch->baukit==0.0.1) (11.0.2.54)\n",
            "Requirement already satisfied: nvidia-curand-cu12==10.3.2.106 in /usr/local/lib/python3.10/dist-packages (from torch->baukit==0.0.1) (10.3.2.106)\n",
            "Requirement already satisfied: nvidia-cusolver-cu12==11.4.5.107 in /usr/local/lib/python3.10/dist-packages (from torch->baukit==0.0.1) (11.4.5.107)\n",
            "Requirement already satisfied: nvidia-cusparse-cu12==12.1.0.106 in /usr/local/lib/python3.10/dist-packages (from torch->baukit==0.0.1) (12.1.0.106)\n",
            "Requirement already satisfied: nvidia-nccl-cu12==2.19.3 in /usr/local/lib/python3.10/dist-packages (from torch->baukit==0.0.1) (2.19.3)\n",
            "Requirement already satisfied: nvidia-nvtx-cu12==12.1.105 in /usr/local/lib/python3.10/dist-packages (from torch->baukit==0.0.1) (12.1.105)\n",
            "Requirement already satisfied: triton==2.2.0 in /usr/local/lib/python3.10/dist-packages (from torch->baukit==0.0.1) (2.2.0)\n",
            "Requirement already satisfied: nvidia-nvjitlink-cu12 in /usr/local/lib/python3.10/dist-packages (from nvidia-cusolver-cu12==11.4.5.107->torch->baukit==0.0.1) (12.4.127)\n",
            "Requirement already satisfied: pillow!=8.3.*,>=5.3.0 in /usr/local/lib/python3.10/dist-packages (from torchvision->baukit==0.0.1) (9.4.0)\n",
            "Requirement already satisfied: MarkupSafe>=2.0 in /usr/local/lib/python3.10/dist-packages (from jinja2->torch->baukit==0.0.1) (2.1.5)\n",
            "Requirement already satisfied: mpmath>=0.19 in /usr/local/lib/python3.10/dist-packages (from sympy->torch->baukit==0.0.1) (1.3.0)\n",
            "Requirement already satisfied: torchinfo in /usr/local/lib/python3.10/dist-packages (1.8.0)\n",
            "replace flat_spectrograms/Background/Cross_A_01_050520_212731_30056_2470.png? [y]es, [n]o, [A]ll, [N]one, [r]ename: "
          ]
        }
      ],
      "source": [
        "import numpy as np\n",
        "import torch\n",
        "import torchvision\n",
        "from torchvision.datasets import ImageFolder\n",
        "from torchvision.transforms import ToTensor\n",
        "! pip install git+https://github.com/davidbau/baukit\n",
        "! pip install torchinfo\n",
        "! unzip -q flat_spectrograms.zip"
      ]
    },
    {
      "cell_type": "code",
      "execution_count": null,
      "metadata": {
        "ExecuteTime": {
          "end_time": "2024-04-02T19:04:20.083090Z",
          "start_time": "2024-04-02T19:04:19.204812Z"
        },
        "id": "9yc5BDZiZ8A3",
        "colab": {
          "base_uri": "https://localhost:8080/",
          "height": 400
        },
        "outputId": "345c33ae-2895-4845-8a9b-addbb8b96761"
      },
      "outputs": [
        {
          "output_type": "error",
          "ename": "FileNotFoundError",
          "evalue": "Found no valid file for the classes .ipynb_checkpoints. Supported extensions are: .jpg, .jpeg, .png, .ppm, .bmp, .pgm, .tif, .tiff, .webp",
          "traceback": [
            "\u001b[0;31m---------------------------------------------------------------------------\u001b[0m",
            "\u001b[0;31mFileNotFoundError\u001b[0m                         Traceback (most recent call last)",
            "\u001b[0;32m<ipython-input-72-eab020601261>\u001b[0m in \u001b[0;36m<cell line: 5>\u001b[0;34m()\u001b[0m\n\u001b[1;32m      3\u001b[0m \u001b[0mtrain_path\u001b[0m \u001b[0;34m=\u001b[0m \u001b[0;34m\"flat_spectrograms\"\u001b[0m \u001b[0;31m# \"data/spectrograms/train\"\u001b[0m\u001b[0;34m\u001b[0m\u001b[0;34m\u001b[0m\u001b[0m\n\u001b[1;32m      4\u001b[0m \u001b[0;31m# test_path = \"mnist_4440/test\"\u001b[0m\u001b[0;34m\u001b[0m\u001b[0;34m\u001b[0m\u001b[0m\n\u001b[0;32m----> 5\u001b[0;31m \u001b[0mtrain_set\u001b[0m \u001b[0;34m=\u001b[0m \u001b[0mImageFolder\u001b[0m\u001b[0;34m(\u001b[0m\u001b[0mtrain_path\u001b[0m\u001b[0;34m)\u001b[0m\u001b[0;34m\u001b[0m\u001b[0;34m\u001b[0m\u001b[0m\n\u001b[0m\u001b[1;32m      6\u001b[0m \u001b[0mprint\u001b[0m\u001b[0;34m(\u001b[0m\u001b[0;34m\"Number of images in the training set =\"\u001b[0m\u001b[0;34m,\u001b[0m \u001b[0mlen\u001b[0m\u001b[0;34m(\u001b[0m\u001b[0mtrain_set\u001b[0m\u001b[0;34m)\u001b[0m\u001b[0;34m)\u001b[0m\u001b[0;34m\u001b[0m\u001b[0;34m\u001b[0m\u001b[0m\n",
            "\u001b[0;32m/usr/local/lib/python3.10/dist-packages/torchvision/datasets/folder.py\u001b[0m in \u001b[0;36m__init__\u001b[0;34m(self, root, transform, target_transform, loader, is_valid_file)\u001b[0m\n\u001b[1;32m    307\u001b[0m         \u001b[0mis_valid_file\u001b[0m\u001b[0;34m:\u001b[0m \u001b[0mOptional\u001b[0m\u001b[0;34m[\u001b[0m\u001b[0mCallable\u001b[0m\u001b[0;34m[\u001b[0m\u001b[0;34m[\u001b[0m\u001b[0mstr\u001b[0m\u001b[0;34m]\u001b[0m\u001b[0;34m,\u001b[0m \u001b[0mbool\u001b[0m\u001b[0;34m]\u001b[0m\u001b[0;34m]\u001b[0m \u001b[0;34m=\u001b[0m \u001b[0;32mNone\u001b[0m\u001b[0;34m,\u001b[0m\u001b[0;34m\u001b[0m\u001b[0;34m\u001b[0m\u001b[0m\n\u001b[1;32m    308\u001b[0m     ):\n\u001b[0;32m--> 309\u001b[0;31m         super().__init__(\n\u001b[0m\u001b[1;32m    310\u001b[0m             \u001b[0mroot\u001b[0m\u001b[0;34m,\u001b[0m\u001b[0;34m\u001b[0m\u001b[0;34m\u001b[0m\u001b[0m\n\u001b[1;32m    311\u001b[0m             \u001b[0mloader\u001b[0m\u001b[0;34m,\u001b[0m\u001b[0;34m\u001b[0m\u001b[0;34m\u001b[0m\u001b[0m\n",
            "\u001b[0;32m/usr/local/lib/python3.10/dist-packages/torchvision/datasets/folder.py\u001b[0m in \u001b[0;36m__init__\u001b[0;34m(self, root, loader, extensions, transform, target_transform, is_valid_file)\u001b[0m\n\u001b[1;32m    143\u001b[0m         \u001b[0msuper\u001b[0m\u001b[0;34m(\u001b[0m\u001b[0;34m)\u001b[0m\u001b[0;34m.\u001b[0m\u001b[0m__init__\u001b[0m\u001b[0;34m(\u001b[0m\u001b[0mroot\u001b[0m\u001b[0;34m,\u001b[0m \u001b[0mtransform\u001b[0m\u001b[0;34m=\u001b[0m\u001b[0mtransform\u001b[0m\u001b[0;34m,\u001b[0m \u001b[0mtarget_transform\u001b[0m\u001b[0;34m=\u001b[0m\u001b[0mtarget_transform\u001b[0m\u001b[0;34m)\u001b[0m\u001b[0;34m\u001b[0m\u001b[0;34m\u001b[0m\u001b[0m\n\u001b[1;32m    144\u001b[0m         \u001b[0mclasses\u001b[0m\u001b[0;34m,\u001b[0m \u001b[0mclass_to_idx\u001b[0m \u001b[0;34m=\u001b[0m \u001b[0mself\u001b[0m\u001b[0;34m.\u001b[0m\u001b[0mfind_classes\u001b[0m\u001b[0;34m(\u001b[0m\u001b[0mself\u001b[0m\u001b[0;34m.\u001b[0m\u001b[0mroot\u001b[0m\u001b[0;34m)\u001b[0m\u001b[0;34m\u001b[0m\u001b[0;34m\u001b[0m\u001b[0m\n\u001b[0;32m--> 145\u001b[0;31m         \u001b[0msamples\u001b[0m \u001b[0;34m=\u001b[0m \u001b[0mself\u001b[0m\u001b[0;34m.\u001b[0m\u001b[0mmake_dataset\u001b[0m\u001b[0;34m(\u001b[0m\u001b[0mself\u001b[0m\u001b[0;34m.\u001b[0m\u001b[0mroot\u001b[0m\u001b[0;34m,\u001b[0m \u001b[0mclass_to_idx\u001b[0m\u001b[0;34m,\u001b[0m \u001b[0mextensions\u001b[0m\u001b[0;34m,\u001b[0m \u001b[0mis_valid_file\u001b[0m\u001b[0;34m)\u001b[0m\u001b[0;34m\u001b[0m\u001b[0;34m\u001b[0m\u001b[0m\n\u001b[0m\u001b[1;32m    146\u001b[0m \u001b[0;34m\u001b[0m\u001b[0m\n\u001b[1;32m    147\u001b[0m         \u001b[0mself\u001b[0m\u001b[0;34m.\u001b[0m\u001b[0mloader\u001b[0m \u001b[0;34m=\u001b[0m \u001b[0mloader\u001b[0m\u001b[0;34m\u001b[0m\u001b[0;34m\u001b[0m\u001b[0m\n",
            "\u001b[0;32m/usr/local/lib/python3.10/dist-packages/torchvision/datasets/folder.py\u001b[0m in \u001b[0;36mmake_dataset\u001b[0;34m(directory, class_to_idx, extensions, is_valid_file)\u001b[0m\n\u001b[1;32m    187\u001b[0m             \u001b[0;31m# is potentially overridden and thus could have a different logic.\u001b[0m\u001b[0;34m\u001b[0m\u001b[0;34m\u001b[0m\u001b[0m\n\u001b[1;32m    188\u001b[0m             \u001b[0;32mraise\u001b[0m \u001b[0mValueError\u001b[0m\u001b[0;34m(\u001b[0m\u001b[0;34m\"The class_to_idx parameter cannot be None.\"\u001b[0m\u001b[0;34m)\u001b[0m\u001b[0;34m\u001b[0m\u001b[0;34m\u001b[0m\u001b[0m\n\u001b[0;32m--> 189\u001b[0;31m         \u001b[0;32mreturn\u001b[0m \u001b[0mmake_dataset\u001b[0m\u001b[0;34m(\u001b[0m\u001b[0mdirectory\u001b[0m\u001b[0;34m,\u001b[0m \u001b[0mclass_to_idx\u001b[0m\u001b[0;34m,\u001b[0m \u001b[0mextensions\u001b[0m\u001b[0;34m=\u001b[0m\u001b[0mextensions\u001b[0m\u001b[0;34m,\u001b[0m \u001b[0mis_valid_file\u001b[0m\u001b[0;34m=\u001b[0m\u001b[0mis_valid_file\u001b[0m\u001b[0;34m)\u001b[0m\u001b[0;34m\u001b[0m\u001b[0;34m\u001b[0m\u001b[0m\n\u001b[0m\u001b[1;32m    190\u001b[0m \u001b[0;34m\u001b[0m\u001b[0m\n\u001b[1;32m    191\u001b[0m     \u001b[0;32mdef\u001b[0m \u001b[0mfind_classes\u001b[0m\u001b[0;34m(\u001b[0m\u001b[0mself\u001b[0m\u001b[0;34m,\u001b[0m \u001b[0mdirectory\u001b[0m\u001b[0;34m:\u001b[0m \u001b[0mstr\u001b[0m\u001b[0;34m)\u001b[0m \u001b[0;34m->\u001b[0m \u001b[0mTuple\u001b[0m\u001b[0;34m[\u001b[0m\u001b[0mList\u001b[0m\u001b[0;34m[\u001b[0m\u001b[0mstr\u001b[0m\u001b[0;34m]\u001b[0m\u001b[0;34m,\u001b[0m \u001b[0mDict\u001b[0m\u001b[0;34m[\u001b[0m\u001b[0mstr\u001b[0m\u001b[0;34m,\u001b[0m \u001b[0mint\u001b[0m\u001b[0;34m]\u001b[0m\u001b[0;34m]\u001b[0m\u001b[0;34m:\u001b[0m\u001b[0;34m\u001b[0m\u001b[0;34m\u001b[0m\u001b[0m\n",
            "\u001b[0;32m/usr/local/lib/python3.10/dist-packages/torchvision/datasets/folder.py\u001b[0m in \u001b[0;36mmake_dataset\u001b[0;34m(directory, class_to_idx, extensions, is_valid_file)\u001b[0m\n\u001b[1;32m    100\u001b[0m         \u001b[0;32mif\u001b[0m \u001b[0mextensions\u001b[0m \u001b[0;32mis\u001b[0m \u001b[0;32mnot\u001b[0m \u001b[0;32mNone\u001b[0m\u001b[0;34m:\u001b[0m\u001b[0;34m\u001b[0m\u001b[0;34m\u001b[0m\u001b[0m\n\u001b[1;32m    101\u001b[0m             \u001b[0mmsg\u001b[0m \u001b[0;34m+=\u001b[0m \u001b[0;34mf\"Supported extensions are: {extensions if isinstance(extensions, str) else ', '.join(extensions)}\"\u001b[0m\u001b[0;34m\u001b[0m\u001b[0;34m\u001b[0m\u001b[0m\n\u001b[0;32m--> 102\u001b[0;31m         \u001b[0;32mraise\u001b[0m \u001b[0mFileNotFoundError\u001b[0m\u001b[0;34m(\u001b[0m\u001b[0mmsg\u001b[0m\u001b[0;34m)\u001b[0m\u001b[0;34m\u001b[0m\u001b[0;34m\u001b[0m\u001b[0m\n\u001b[0m\u001b[1;32m    103\u001b[0m \u001b[0;34m\u001b[0m\u001b[0m\n\u001b[1;32m    104\u001b[0m     \u001b[0;32mreturn\u001b[0m \u001b[0minstances\u001b[0m\u001b[0;34m\u001b[0m\u001b[0;34m\u001b[0m\u001b[0m\n",
            "\u001b[0;31mFileNotFoundError\u001b[0m: Found no valid file for the classes .ipynb_checkpoints. Supported extensions are: .jpg, .jpeg, .png, .ppm, .bmp, .pgm, .tif, .tiff, .webp"
          ]
        }
      ],
      "source": [
        "from baukit import show\n",
        "device = torch.device(\"cuda\" if torch.cuda.is_available() else \"cpu\")\n",
        "train_path = \"flat_spectrograms\" # \"data/spectrograms/train\"\n",
        "# test_path = \"mnist_4440/test\"\n",
        "train_set = ImageFolder(train_path)\n",
        "print(\"Number of images in the training set =\", len(train_set))"
      ]
    },
    {
      "cell_type": "code",
      "execution_count": null,
      "metadata": {
        "id": "YB4Ee8UQZ8A5",
        "colab": {
          "base_uri": "https://localhost:8080/",
          "height": 845
        },
        "outputId": "2e7b7a05-dfdd-4cf6-dd3d-30310d2f955a"
      },
      "outputs": [
        {
          "output_type": "stream",
          "name": "stdout",
          "text": [
            "4440th item is a pair (tensor([[[0.0667, 0.1373, 0.1137,  ..., 0.0667, 0.0667, 0.0706],\n",
            "         [0.0706, 0.1176, 0.1137,  ..., 0.0667, 0.0627, 0.0667],\n",
            "         [0.0863, 0.0941, 0.1059,  ..., 0.0667, 0.0588, 0.0667],\n",
            "         ...,\n",
            "         [0.0745, 0.0745, 0.0667,  ..., 0.0627, 0.0745, 0.0510],\n",
            "         [0.0588, 0.0627, 0.0667,  ..., 0.0667, 0.0745, 0.0588],\n",
            "         [0.0431, 0.0510, 0.0667,  ..., 0.0667, 0.0784, 0.0667]],\n",
            "\n",
            "        [[0.0667, 0.1373, 0.1137,  ..., 0.0667, 0.0667, 0.0706],\n",
            "         [0.0706, 0.1176, 0.1137,  ..., 0.0667, 0.0627, 0.0667],\n",
            "         [0.0863, 0.0941, 0.1059,  ..., 0.0667, 0.0588, 0.0667],\n",
            "         ...,\n",
            "         [0.0745, 0.0745, 0.0667,  ..., 0.0627, 0.0745, 0.0510],\n",
            "         [0.0588, 0.0627, 0.0667,  ..., 0.0667, 0.0745, 0.0588],\n",
            "         [0.0431, 0.0510, 0.0667,  ..., 0.0667, 0.0784, 0.0667]],\n",
            "\n",
            "        [[0.0667, 0.1373, 0.1137,  ..., 0.0667, 0.0667, 0.0706],\n",
            "         [0.0706, 0.1176, 0.1137,  ..., 0.0667, 0.0627, 0.0667],\n",
            "         [0.0863, 0.0941, 0.1059,  ..., 0.0667, 0.0588, 0.0667],\n",
            "         ...,\n",
            "         [0.0745, 0.0745, 0.0667,  ..., 0.0627, 0.0745, 0.0510],\n",
            "         [0.0588, 0.0627, 0.0667,  ..., 0.0667, 0.0745, 0.0588],\n",
            "         [0.0431, 0.0510, 0.0667,  ..., 0.0667, 0.0784, 0.0667]]]), 0)\n"
          ]
        },
        {
          "output_type": "display_data",
          "data": {
            "text/plain": [
              "<baukit.show.HtmlRepr at 0x79a8a6a82dd0>"
            ],
            "text/html": [
              "<pre style=\"display:flex;flex:1;flex-flow:column;gap:3px\">tensor([[[0.0667, 0.1373, 0.1137,  ..., 0.0667, 0.0667, 0.0706],\n",
              "         [0.0706, 0.1176, 0.1137,  ..., 0.0667, 0.0627, 0.0667],\n",
              "         [0.0863, 0.0941, 0.1059,  ..., 0.0667, 0.0588, 0.0667],\n",
              "         ...,\n",
              "         [0.0745, 0.0745, 0.0667,  ..., 0.0627, 0.0745, 0.0510],\n",
              "         [0.0588, 0.0627, 0.0667,  ..., 0.0667, 0.0745, 0.0588],\n",
              "         [0.0431, 0.0510, 0.0667,  ..., 0.0667, 0.0784, 0.0667]],\n",
              "\n",
              "        [[0.0667, 0.1373, 0.1137,  ..., 0.0667, 0.0667, 0.0706],\n",
              "         [0.0706, 0.1176, 0.1137,  ..., 0.0667, 0.0627, 0.0667],\n",
              "         [0.0863, 0.0941, 0.1059,  ..., 0.0667, 0.0588, 0.0667],\n",
              "         ...,\n",
              "         [0.0745, 0.0745, 0.0667,  ..., 0.0627, 0.0745, 0.0510],\n",
              "         [0.0588, 0.0627, 0.0667,  ..., 0.0667, 0.0745, 0.0588],\n",
              "         [0.0431, 0.0510, 0.0667,  ..., 0.0667, 0.0784, 0.0667]],\n",
              "\n",
              "        [[0.0667, 0.1373, 0.1137,  ..., 0.0667, 0.0667, 0.0706],\n",
              "         [0.0706, 0.1176, 0.1137,  ..., 0.0667, 0.0627, 0.0667],\n",
              "         [0.0863, 0.0941, 0.1059,  ..., 0.0667, 0.0588, 0.0667],\n",
              "         ...,\n",
              "         [0.0745, 0.0745, 0.0667,  ..., 0.0627, 0.0745, 0.0510],\n",
              "         [0.0588, 0.0627, 0.0667,  ..., 0.0667, 0.0745, 0.0588],\n",
              "         [0.0431, 0.0510, 0.0667,  ..., 0.0667, 0.0784, 0.0667]]])</pre>"
            ]
          },
          "metadata": {}
        },
        {
          "output_type": "stream",
          "name": "stdout",
          "text": [
            "label=0 (Background)\n"
          ]
        }
      ],
      "source": [
        "idx = 4440\n",
        "item = train_set[idx]\n",
        "print(f\"{idx}th item is a pair\", item)\n",
        "\n",
        "img, label = train_set[idx]\n",
        "show(img)\n",
        "print(f\"{label=} ({train_set.classes[label]})\")"
      ]
    },
    {
      "cell_type": "code",
      "execution_count": null,
      "metadata": {
        "ExecuteTime": {
          "end_time": "2024-04-02T19:04:21.735775Z",
          "start_time": "2024-04-02T19:04:21.538733Z"
        },
        "id": "zkAQ6UWnZ8A5"
      },
      "outputs": [],
      "source": [
        "from torchvision import transforms\n",
        "img_size = 256\n",
        "train_set = torchvision.datasets.ImageFolder(train_path, transform=transforms.Compose([ToTensor(), transforms.Resize((img_size, img_size))]))"
      ]
    },
    {
      "cell_type": "code",
      "execution_count": null,
      "metadata": {
        "ExecuteTime": {
          "end_time": "2024-04-02T19:07:49.617948Z",
          "start_time": "2024-04-02T19:07:49.538924Z"
        },
        "id": "VN5Y8S5IZ8A5"
      },
      "outputs": [],
      "source": [
        "img, label = train_set[1189]\n",
        "\n",
        "# now the image is a tensor\n",
        "# img.resize((3, 256, 256))\n",
        "# img#.shape\n",
        "# torchvision.transforms.Resize((256, 256))(img)"
      ]
    },
    {
      "cell_type": "code",
      "execution_count": null,
      "metadata": {
        "id": "oPYBeNEqZ8A6"
      },
      "outputs": [],
      "source": [
        "train_loader = torch.utils.data.DataLoader(\n",
        "    train_set,\n",
        "    batch_size=128,\n",
        "    shuffle=True,\n",
        "    # num_workers=16,\n",
        "    pin_memory=True,\n",
        ")"
      ]
    },
    {
      "cell_type": "code",
      "execution_count": null,
      "metadata": {
        "ExecuteTime": {
          "end_time": "2024-04-02T18:57:08.404109Z",
          "start_time": "2024-04-02T18:57:08.396847Z"
        },
        "id": "jlNmDJEXZ8A6",
        "colab": {
          "base_uri": "https://localhost:8080/"
        },
        "outputId": "9821ca71-7c8c-4ab6-bd9c-510a56ff02ac"
      },
      "outputs": [
        {
          "output_type": "stream",
          "name": "stdout",
          "text": [
            "images.shape=torch.Size([128, 3, 256, 256]), labels.shape=torch.Size([128])\n"
          ]
        }
      ],
      "source": [
        "images, labels = next(train_loader.__iter__())\n",
        "print(f\"{images.shape=}, {labels.shape=}\")"
      ]
    },
    {
      "cell_type": "code",
      "execution_count": null,
      "metadata": {
        "id": "giX3497UZ8A6"
      },
      "outputs": [],
      "source": [
        "# ## Some helper functions to view network parameters\n",
        "from torchinfo import summary\n",
        "\n",
        "def view_network_shapes(model, input_shape):\n",
        "    print(summary(model, input_size=input_shape))\n",
        "\n",
        "def view_network_parameters(model):\n",
        "    # Visualise the number of parameters\n",
        "    tensor_list = list(model.state_dict().items())\n",
        "    total_parameters = 0\n",
        "    print(\"Model Summary\\n\")\n",
        "    for layer_tensor_name, tensor in tensor_list:\n",
        "        total_parameters += int(torch.numel(tensor))\n",
        "        print(\"{}: {} elements\".format(layer_tensor_name, torch.numel(tensor)))\n",
        "    print(f\"\\nTotal Trainable Parameters: {total_parameters}!\")"
      ]
    },
    {
      "cell_type": "code",
      "execution_count": null,
      "metadata": {
        "id": "5P_gGhjFZ8A6",
        "colab": {
          "base_uri": "https://localhost:8080/"
        },
        "outputId": "aea4b91f-315f-4358-d866-24af2a4b2c40"
      },
      "outputs": [
        {
          "output_type": "stream",
          "name": "stdout",
          "text": [
            "==========================================================================================\n",
            "Layer (type:depth-idx)                   Output Shape              Param #\n",
            "==========================================================================================\n",
            "Sequential                               [1, 6]                    --\n",
            "├─Conv2d: 1-1                            [1, 3, 130, 130]          84\n",
            "├─Dropout: 1-2                           [1, 3, 130, 130]          --\n",
            "├─ReLU: 1-3                              [1, 3, 130, 130]          --\n",
            "├─BatchNorm2d: 1-4                       [1, 3, 130, 130]          6\n",
            "├─Conv2d: 1-5                            [1, 4, 66, 66]            112\n",
            "├─Dropout: 1-6                           [1, 4, 66, 66]            --\n",
            "├─ReLU: 1-7                              [1, 4, 66, 66]            --\n",
            "├─BatchNorm2d: 1-8                       [1, 4, 66, 66]            8\n",
            "├─Conv2d: 1-9                            [1, 6, 33, 33]            102\n",
            "├─Dropout: 1-10                          [1, 6, 33, 33]            --\n",
            "├─ReLU: 1-11                             [1, 6, 33, 33]            --\n",
            "├─BatchNorm2d: 1-12                      [1, 6, 33, 33]            12\n",
            "├─Conv2d: 1-13                           [1, 8, 16, 16]            200\n",
            "├─Dropout: 1-14                          [1, 8, 16, 16]            --\n",
            "├─ReLU: 1-15                             [1, 8, 16, 16]            --\n",
            "├─BatchNorm2d: 1-16                      [1, 8, 16, 16]            16\n",
            "├─Conv2d: 1-17                           [1, 10, 8, 8]             330\n",
            "├─Dropout: 1-18                          [1, 10, 8, 8]             --\n",
            "├─ReLU: 1-19                             [1, 10, 8, 8]             --\n",
            "├─BatchNorm2d: 1-20                      [1, 10, 8, 8]             20\n",
            "├─Flatten: 1-21                          [1, 640]                  --\n",
            "├─Linear: 1-22                           [1, 24]                   15,384\n",
            "├─ReLU: 1-23                             [1, 24]                   --\n",
            "├─Linear: 1-24                           [1, 6]                    150\n",
            "├─Softmax: 1-25                          [1, 6]                    --\n",
            "==========================================================================================\n",
            "Total params: 16,424\n",
            "Trainable params: 16,424\n",
            "Non-trainable params: 0\n",
            "Total mult-adds (M): 2.11\n",
            "==========================================================================================\n",
            "Input size (MB): 0.79\n",
            "Forward/backward pass size (MB): 1.24\n",
            "Params size (MB): 0.07\n",
            "Estimated Total Size (MB): 2.09\n",
            "==========================================================================================\n"
          ]
        }
      ],
      "source": [
        "from torch import nn\n",
        "\n",
        "def cnn_classifier():\n",
        "    torch.manual_seed(4440)  # for reproducibility\n",
        "    ##########################################################################\n",
        "    # **Exercise 4.2.2.1**\n",
        "    # TODO: Make a CNN classifier for the task wrapped in an nn.Sequential module.\n",
        "    # You can vary your architecture choices (# layers, # convs, activation functions, regularization, etc.)\n",
        "    # However, your parameter size should not be more than 0.5 MB. Use the `view_network_shapes` function to get the `Params size`\n",
        "    model = nn.Sequential(\n",
        "        nn.Conv2d(3, 3, kernel_size=3, padding=3, stride=2),\n",
        "        nn.Dropout(p=0.1),\n",
        "        nn.ReLU(),\n",
        "        nn.BatchNorm2d(3),\n",
        "        nn.Conv2d(3, 4, kernel_size=3, padding=2, stride=2),\n",
        "        nn.Dropout(p=0.1),\n",
        "        nn.ReLU(),\n",
        "        nn.BatchNorm2d(4),\n",
        "        nn.Conv2d(4, 6, kernel_size=2, padding=0, stride=2),\n",
        "        nn.Dropout(p=0.1),\n",
        "        nn.ReLU(),\n",
        "        nn.BatchNorm2d(6),\n",
        "        nn.Conv2d(6, 8, kernel_size=2, padding=0, stride=2),\n",
        "        nn.Dropout(p=0.1),\n",
        "        nn.ReLU(),\n",
        "        nn.BatchNorm2d(8),\n",
        "        nn.Conv2d(8, 10, kernel_size=2, padding=0, stride=2),\n",
        "        nn.Dropout(p=0.1),\n",
        "        nn.ReLU(),\n",
        "        nn.BatchNorm2d(10),\n",
        "        nn.Flatten(),\n",
        "        nn.Linear(640, 24),\n",
        "        nn.ReLU(),\n",
        "        nn.Linear(24,6),\n",
        "        nn.Softmax()\n",
        "        # nn.Conv2d(3,8,kernel_size=4, padding=3, stride=2),\n",
        "        # nn.Dropout(p=0.2),\n",
        "        # nn.ReLU(),\n",
        "        # nn.BatchNorm2d(8),\n",
        "        # nn.Conv2d(8, 12, kernel_size=4, padding=1, stride=2),\n",
        "        # nn.Dropout(p=0.2),\n",
        "        # nn.ReLU(),\n",
        "        # nn.BatchNorm2d(12),\n",
        "        # nn.Conv2d(12, 16, kernel_size=3, padding=0),\n",
        "        # nn.Dropout(p=0.2),\n",
        "        # nn.ReLU(),\n",
        "        # nn.BatchNorm2d(16),\n",
        "        # nn.Flatten(),\n",
        "        # nn.Linear(576, 64),\n",
        "        # nn.ReLU(),\n",
        "        # nn.Linear(64,10),\n",
        "        # nn.Softmax()\n",
        "    )\n",
        "    ##########################################################################\n",
        "    return model\n",
        "\n",
        "\n",
        "model = cnn_classifier().to(device)\n",
        "view_network_shapes(model, img[None].shape)"
      ]
    },
    {
      "cell_type": "code",
      "execution_count": null,
      "metadata": {
        "id": "xlSWSi7wZ8A7"
      },
      "outputs": [],
      "source": [
        "# training the model\n",
        "def train_model(model, train_loader, loss_fn, optimizer):\n",
        "    model.train()\n",
        "    # Initiate a loss monitor\n",
        "    train_loss = []\n",
        "    correct_predictions = 0\n",
        "    for images, labels in train_loader:\n",
        "        images = images.to(device)\n",
        "        labels = labels.to(device)\n",
        "        # predict the class\n",
        "        predicted = model(images)\n",
        "        loss = loss_fn(predicted, labels)\n",
        "        correct_predictions += (predicted.argmax(dim=1) == labels).sum().item()\n",
        "\n",
        "        # Backward pass (back propagation)\n",
        "        optimizer.zero_grad()\n",
        "        loss.backward()\n",
        "        optimizer.step()\n",
        "\n",
        "        train_loss.append(loss.item())\n",
        "\n",
        "    return np.mean(train_loss), correct_predictions / len(train_loader.dataset)\n",
        "\n",
        "\n",
        "# evaluating the model\n",
        "@torch.inference_mode()  # understand what torch.inference_mode() or torch.no_grad() does\n",
        "def evaluate_model(model, val_loader, loss_fn, return_confusion_matrix=False):\n",
        "    model.eval()\n",
        "    # Initiate a loss monitor\n",
        "    val_loss = []\n",
        "    correct_predictions = 0\n",
        "\n",
        "    if return_confusion_matrix:\n",
        "        confusion_matrix = torch.zeros(\n",
        "            len(val_loader.dataset.classes), len(val_loader.dataset.classes)\n",
        "        )\n",
        "\n",
        "    for images, labels in val_loader:\n",
        "        images = images.to(device)\n",
        "        labels = labels.to(device)\n",
        "        # predict the class\n",
        "        predicted = model(images)\n",
        "        loss = loss_fn(predicted, labels)\n",
        "        correct_predictions += (predicted.argmax(dim=1) == labels).sum().item()\n",
        "\n",
        "        if return_confusion_matrix:\n",
        "            for t, p in zip(labels.view(-1), predicted.argmax(dim=1).view(-1)):\n",
        "                confusion_matrix[t.long(), p.long()] += 1\n",
        "\n",
        "        val_loss.append(loss.item())\n",
        "\n",
        "    val_loss = np.mean(val_loss)\n",
        "    val_acc = correct_predictions / len(val_loader.dataset)\n",
        "\n",
        "    if return_confusion_matrix:\n",
        "        return val_loss, val_acc, confusion_matrix\n",
        "    else:\n",
        "        return val_loss, val_acc"
      ]
    },
    {
      "cell_type": "code",
      "source": [
        "# plot the data distribution in the training set\n",
        "\n",
        "from tqdm import tqdm\n",
        "from matplotlib import pyplot as plt\n",
        "\n",
        "counter = torch.zeros(len(train_set.classes))\n",
        "for images, labels in tqdm(train_loader):\n",
        "    for label in labels:\n",
        "        counter[label] += 1\n",
        "\n",
        "##########################################################\n",
        "# **Exercise 4.2.1.2**\n",
        "# TODO: Plot the distribution of classes in the training set as a bar plot\n",
        "# https://matplotlib.org/stable/api/_as_gen/matplotlib.pyplot.bar.html\n",
        "plt.bar(list(range(len(counter))), counter)\n",
        "plt.xticks(range(10))\n",
        "plt.ylabel(\"Frequency\")\n",
        "plt.title(\"Distribution of Classes in Training Set\")\n",
        "\n",
        "# raise NotImplementedError\n",
        "\n",
        "##########################################################"
      ],
      "metadata": {
        "id": "jR2MS1qDHSHo",
        "colab": {
          "base_uri": "https://localhost:8080/",
          "height": 488
        },
        "outputId": "571f071f-c8f4-40f6-fc9e-0f40104d6313"
      },
      "execution_count": null,
      "outputs": [
        {
          "output_type": "stream",
          "name": "stderr",
          "text": [
            "100%|██████████| 230/230 [01:39<00:00,  2.32it/s]\n"
          ]
        },
        {
          "output_type": "execute_result",
          "data": {
            "text/plain": [
              "Text(0.5, 1.0, 'Distribution of Classes in Training Set')"
            ]
          },
          "metadata": {},
          "execution_count": 60
        },
        {
          "output_type": "display_data",
          "data": {
            "text/plain": [
              "<Figure size 640x480 with 1 Axes>"
            ],
            "image/png": "[encoded data removed]"
          },
          "metadata": {}
        }
      ]
    },
    {
      "cell_type": "code",
      "source": [
        "weight = max(counter) / counter\n",
        "weight\n",
        "# weight + torch.ones(weight.shape)\n",
        "2.7960e+00, 2.0886e+03, 1.4919e+02, 1.0000e+00, 7.7643e+01, 3.8678e+01"
      ],
      "metadata": {
        "colab": {
          "base_uri": "https://localhost:8080/"
        },
        "id": "9b7CewRHKG0g",
        "outputId": "ddc41fe5-fad7-4c4e-f298-439223096483"
      },
      "execution_count": null,
      "outputs": [
        {
          "output_type": "execute_result",
          "data": {
            "text/plain": [
              "(2.796, 2088.6, 149.19, 1.0, 77.643, 38.678)"
            ]
          },
          "metadata": {},
          "execution_count": 61
        }
      ]
    },
    {
      "cell_type": "code",
      "source": [
        "w2 = weight + torch.ones(weight.shape)# * sum(weight)\n",
        "w2 / sum(w2)\n",
        "# 3.7960e+00, 2.0896e+03, 1.5019e+02, 2.0000e+00, 7.8643e+01, 3.9678e+01\n",
        "# [1.6058e-03, 8.8396e-01, 6.3533e-02, 8.4606e-04, 3.3268e-02, 1.6785e-02]"
      ],
      "metadata": {
        "colab": {
          "base_uri": "https://localhost:8080/"
        },
        "id": "Cg16Iw7SKmaJ",
        "outputId": "5889481e-d171-40d1-d262-24043d1b9d94"
      },
      "execution_count": null,
      "outputs": [
        {
          "output_type": "execute_result",
          "data": {
            "text/plain": [
              "tensor([1.6058e-03, 8.8396e-01, 6.3533e-02, 8.4606e-04, 3.3268e-02, 1.6785e-02])"
            ]
          },
          "metadata": {},
          "execution_count": 62
        }
      ]
    },
    {
      "cell_type": "code",
      "execution_count": null,
      "metadata": {
        "id": "la3baCVPZ8A7",
        "outputId": "8db2b624-dc41-4054-ac11-60d43689053a",
        "colab": {
          "base_uri": "https://localhost:8080/"
        }
      },
      "outputs": [
        {
          "output_type": "stream",
          "name": "stdout",
          "text": [
            "epoch: 1/4 | train loss=1.2685, train_acc=0.7787\n",
            "epoch: 2/4 | train loss=1.2311, train_acc=0.8127\n",
            "epoch: 3/4 | train loss=1.1979, train_acc=0.8444\n",
            "epoch: 4/4 | train loss=1.1823, train_acc=0.8621\n"
          ]
        }
      ],
      "source": [
        "torch.manual_seed(4440)\n",
        "\n",
        "model = cnn_classifier().to(device)\n",
        "epochs = 4 #10  # your model should be able to get > 98% validation accuracy on the first 10 epochs\n",
        "####################################################################\n",
        "# **Exercise 4.2.2.2**\n",
        "# TODO: choose values for your hyperparameters\n",
        "learning_rate = 0.01 #0.005 # None\n",
        "weight_decay = 0.001 # None\n",
        "# TODO: choose a loss function and optimizer\n",
        "loss_fn = torch.nn.CrossEntropyLoss(weight = w2 / sum(w2)) #None\n",
        "loss_fn = torch.nn.CrossEntropyLoss() #None\n",
        "optimizer = torch.optim.Adam(model.parameters(), lr=learning_rate, weight_decay=weight_decay) # None\n",
        "####################################################################\n",
        "\n",
        "training_losses = []\n",
        "validation_losses = []\n",
        "\n",
        "for epoch in range(epochs):\n",
        "    train_loss, train_acc = train_model(model, train_loader, loss_fn, optimizer)\n",
        "    training_losses.append(train_loss)\n",
        "    # val_loss, val_acc = evaluate_model(model, val_loader, loss_fn)\n",
        "    # validation_losses.append(val_loss)\n",
        "    print(\n",
        "        f\"epoch: {epoch+1}/{epochs} | train loss={np.mean(train_loss):.4f}, {train_acc=:.4f}\"# | val loss: {np.mean(val_loss):.4f}, {val_acc=:.4f}\"\n",
        "    )"
      ]
    },
    {
      "cell_type": "code",
      "source": [
        "# for name, param in model.named_parameters():\n",
        "#     print(name, param.shape, param)"
      ],
      "metadata": {
        "id": "T911ylfkDaQb"
      },
      "execution_count": null,
      "outputs": []
    },
    {
      "cell_type": "code",
      "source": [
        "def draw_confusion_matrix(confusion_matrix, labels, cmap=\"Blues\"):\n",
        "    confusion_matrix = np.array(confusion_matrix)\n",
        "    assert confusion_matrix.shape[0] == confusion_matrix.shape[1]\n",
        "    assert confusion_matrix.shape[0] == len(labels)\n",
        "\n",
        "    fig, ax = plt.subplots(figsize=(7, 7))\n",
        "    plt.imshow(confusion_matrix, cmap=cmap)\n",
        "\n",
        "    ax.set_xticks(np.arange(len(train_set.classes)), labels)\n",
        "    ax.set_yticks(np.arange(len(train_set.classes)), labels)\n",
        "    plt.setp(ax.get_xticklabels(), rotation=90, ha=\"right\")\n",
        "\n",
        "    for true_label in range(len(train_set.classes)):\n",
        "        for pred_label in range(len(train_set.classes)):\n",
        "            ax.text(\n",
        "                pred_label,\n",
        "                true_label,\n",
        "                int(confusion_matrix[true_label, pred_label]),\n",
        "                ha=\"center\",\n",
        "                va=\"center\",\n",
        "                color=\"black\",\n",
        "            )\n",
        "\n",
        "    fig.tight_layout()\n",
        "    plt.show()"
      ],
      "metadata": {
        "id": "Gi1wz3_muRPV"
      },
      "execution_count": null,
      "outputs": []
    },
    {
      "cell_type": "code",
      "source": [
        "train_loss, train_acc, confusion_matrix = evaluate_model(\n",
        "    model, train_loader, loss_fn, return_confusion_matrix=True\n",
        ")\n",
        "print(f\"{train_loss=}, {train_acc=}\")\n",
        "draw_confusion_matrix(confusion_matrix, train_set.classes)"
      ],
      "metadata": {
        "colab": {
          "base_uri": "https://localhost:8080/",
          "height": 725
        },
        "id": "mQQ1YTld9lXi",
        "outputId": "06252232-38c8-40b7-9496-f2fe1fdefa15"
      },
      "execution_count": null,
      "outputs": [
        {
          "output_type": "stream",
          "name": "stdout",
          "text": [
            "train_loss=1.1620352491088535, train_acc=0.8832679515606345\n"
          ]
        },
        {
          "output_type": "display_data",
          "data": {
            "text/plain": [
              "<Figure size 700x700 with 1 Axes>"
            ],
            "image/png": "[encoded data removed]"
          },
          "metadata": {}
        }
      ]
    },
    {
      "cell_type": "code",
      "source": [
        "# train_loss, train_acc, confusion_matrix = evaluate_model(\n",
        "#     model, train_loader, loss_fn, return_confusion_matrix=True\n",
        "# )\n",
        "print(f\"{train_loss=}, {train_acc=}\")\n",
        "draw_confusion_matrix(confusion_matrix, train_set.classes)"
      ],
      "metadata": {
        "colab": {
          "base_uri": "https://localhost:8080/",
          "height": 725
        },
        "id": "b27_gSlOzRoN",
        "outputId": "171cd5d3-95b5-4e12-d240-74eaf94e9d60"
      },
      "execution_count": null,
      "outputs": [
        {
          "output_type": "stream",
          "name": "stdout",
          "text": [
            "train_loss=1.6932462780371955, train_acc=0.7699130138154529\n"
          ]
        },
        {
          "output_type": "display_data",
          "data": {
            "text/plain": [
              "<Figure size 700x700 with 1 Axes>"
            ],
            "image/png": "[encoded data removed]"
          },
          "metadata": {}
        }
      ]
    },
    {
      "cell_type": "code",
      "source": [
        "import matplotlib.pyplot as plt"
      ],
      "metadata": {
        "id": "lPbHvnfYzxdj"
      },
      "execution_count": null,
      "outputs": []
    }
  ],
  "metadata": {
    "kernelspec": {
      "display_name": "Python 3",
      "language": "python",
      "name": "python3"
    },
    "language_info": {
      "codemirror_mode": {
        "name": "ipython",
        "version": 3
      },
      "file_extension": ".py",
      "mimetype": "text/x-python",
      "name": "python",
      "nbconvert_exporter": "python",
      "pygments_lexer": "ipython3",
      "version": "3.8.3"
    },
    "colab": {
      "provenance": []
    }
  },
  "nbformat": 4,
  "nbformat_minor": 0
}